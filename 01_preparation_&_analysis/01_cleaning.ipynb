{
 "cells": [
  {
   "cell_type": "code",
   "execution_count": 1,
   "id": "faf397a6-f315-481d-9237-6ac35f145865",
   "metadata": {},
   "outputs": [],
   "source": [
    "import pandas as pd\n",
    "import numpy as np"
   ]
  },
  {
   "cell_type": "markdown",
   "id": "1a2f0ef5-c684-44d6-b477-3fa2cf2b3ad9",
   "metadata": {},
   "source": [
    "These notebook cleans data from the 'raw' subfolder and produces 20 csv files (13 dyad level and 7 node level)\n",
    "Data cleaning steps:\n",
    "   > - a. Renaming the exporter and importer columns\n",
    "   > - b. Removing self loops\n",
    "   > - c. Removing duplicate rows and keeping the first instance only\n",
    "   > - d. Keeping only the necessary columns\n",
    "   > - e. Keeping only the countries common in all datassets\n",
    "   > - f. Sorting values by country pair and time period\n",
    "   > - g. Reseting index\n",
    "   > - h. Saving the data in the cleanind folder"
   ]
  },
  {
   "cell_type": "markdown",
   "id": "cf4b7ffa-183b-42cf-ba1f-094d3567dc6a",
   "metadata": {},
   "source": [
    "### GHGFP: Emissions embodied in bilateral trade"
   ]
  },
  {
   "cell_type": "code",
   "execution_count": 2,
   "id": "f2562c4d-1d7a-4bf2-9a9d-144e629395dd",
   "metadata": {},
   "outputs": [],
   "source": [
    "co2 = pd.read_csv('../data/raw/DF_TRADE.csv')"
   ]
  },
  {
   "cell_type": "code",
   "execution_count": 3,
   "id": "dda60c9c-afa7-44b5-a3ac-d03d75510dca",
   "metadata": {},
   "outputs": [
    {
     "data": {
      "text/html": [
       "<div>\n",
       "<style scoped>\n",
       "    .dataframe tbody tr th:only-of-type {\n",
       "        vertical-align: middle;\n",
       "    }\n",
       "\n",
       "    .dataframe tbody tr th {\n",
       "        vertical-align: top;\n",
       "    }\n",
       "\n",
       "    .dataframe thead th {\n",
       "        text-align: right;\n",
       "    }\n",
       "</style>\n",
       "<table border=\"1\" class=\"dataframe\">\n",
       "  <thead>\n",
       "    <tr style=\"text-align: right;\">\n",
       "      <th></th>\n",
       "      <th>STRUCTURE</th>\n",
       "      <th>STRUCTURE_ID</th>\n",
       "      <th>ACTION</th>\n",
       "      <th>FREQ</th>\n",
       "      <th>TIME_PERIOD</th>\n",
       "      <th>MEASURE</th>\n",
       "      <th>EXPORTER</th>\n",
       "      <th>IMPORTER</th>\n",
       "      <th>ACTIVITY</th>\n",
       "      <th>PRODUCT_CATEGORY</th>\n",
       "      <th>UNIT_MEASURE</th>\n",
       "      <th>UNIT_MULT</th>\n",
       "      <th>OBS_VALUE</th>\n",
       "    </tr>\n",
       "  </thead>\n",
       "  <tbody>\n",
       "    <tr>\n",
       "      <th>0</th>\n",
       "      <td>DATAFLOW</td>\n",
       "      <td>OECD.STI.PIE:DSD_ICIO_GHG_TRADE@DF_ICIO_GHG_TR...</td>\n",
       "      <td>R</td>\n",
       "      <td>A</td>\n",
       "      <td>1995</td>\n",
       "      <td>TRADE_GHG</td>\n",
       "      <td>ARG</td>\n",
       "      <td>ARG</td>\n",
       "      <td>A01_02</td>\n",
       "      <td>FNL</td>\n",
       "      <td>T_CO2E</td>\n",
       "      <td>6</td>\n",
       "      <td>0.0</td>\n",
       "    </tr>\n",
       "    <tr>\n",
       "      <th>1</th>\n",
       "      <td>DATAFLOW</td>\n",
       "      <td>OECD.STI.PIE:DSD_ICIO_GHG_TRADE@DF_ICIO_GHG_TR...</td>\n",
       "      <td>R</td>\n",
       "      <td>A</td>\n",
       "      <td>1996</td>\n",
       "      <td>TRADE_GHG</td>\n",
       "      <td>ARG</td>\n",
       "      <td>ARG</td>\n",
       "      <td>A01_02</td>\n",
       "      <td>FNL</td>\n",
       "      <td>T_CO2E</td>\n",
       "      <td>6</td>\n",
       "      <td>0.0</td>\n",
       "    </tr>\n",
       "    <tr>\n",
       "      <th>2</th>\n",
       "      <td>DATAFLOW</td>\n",
       "      <td>OECD.STI.PIE:DSD_ICIO_GHG_TRADE@DF_ICIO_GHG_TR...</td>\n",
       "      <td>R</td>\n",
       "      <td>A</td>\n",
       "      <td>1997</td>\n",
       "      <td>TRADE_GHG</td>\n",
       "      <td>ARG</td>\n",
       "      <td>ARG</td>\n",
       "      <td>A01_02</td>\n",
       "      <td>FNL</td>\n",
       "      <td>T_CO2E</td>\n",
       "      <td>6</td>\n",
       "      <td>0.0</td>\n",
       "    </tr>\n",
       "    <tr>\n",
       "      <th>3</th>\n",
       "      <td>DATAFLOW</td>\n",
       "      <td>OECD.STI.PIE:DSD_ICIO_GHG_TRADE@DF_ICIO_GHG_TR...</td>\n",
       "      <td>R</td>\n",
       "      <td>A</td>\n",
       "      <td>1998</td>\n",
       "      <td>TRADE_GHG</td>\n",
       "      <td>ARG</td>\n",
       "      <td>ARG</td>\n",
       "      <td>A01_02</td>\n",
       "      <td>FNL</td>\n",
       "      <td>T_CO2E</td>\n",
       "      <td>6</td>\n",
       "      <td>0.0</td>\n",
       "    </tr>\n",
       "    <tr>\n",
       "      <th>4</th>\n",
       "      <td>DATAFLOW</td>\n",
       "      <td>OECD.STI.PIE:DSD_ICIO_GHG_TRADE@DF_ICIO_GHG_TR...</td>\n",
       "      <td>R</td>\n",
       "      <td>A</td>\n",
       "      <td>1999</td>\n",
       "      <td>TRADE_GHG</td>\n",
       "      <td>ARG</td>\n",
       "      <td>ARG</td>\n",
       "      <td>A01_02</td>\n",
       "      <td>FNL</td>\n",
       "      <td>T_CO2E</td>\n",
       "      <td>6</td>\n",
       "      <td>0.0</td>\n",
       "    </tr>\n",
       "  </tbody>\n",
       "</table>\n",
       "</div>"
      ],
      "text/plain": [
       "  STRUCTURE                                       STRUCTURE_ID ACTION FREQ  \\\n",
       "0  DATAFLOW  OECD.STI.PIE:DSD_ICIO_GHG_TRADE@DF_ICIO_GHG_TR...      R    A   \n",
       "1  DATAFLOW  OECD.STI.PIE:DSD_ICIO_GHG_TRADE@DF_ICIO_GHG_TR...      R    A   \n",
       "2  DATAFLOW  OECD.STI.PIE:DSD_ICIO_GHG_TRADE@DF_ICIO_GHG_TR...      R    A   \n",
       "3  DATAFLOW  OECD.STI.PIE:DSD_ICIO_GHG_TRADE@DF_ICIO_GHG_TR...      R    A   \n",
       "4  DATAFLOW  OECD.STI.PIE:DSD_ICIO_GHG_TRADE@DF_ICIO_GHG_TR...      R    A   \n",
       "\n",
       "   TIME_PERIOD    MEASURE EXPORTER IMPORTER ACTIVITY PRODUCT_CATEGORY  \\\n",
       "0         1995  TRADE_GHG      ARG      ARG   A01_02              FNL   \n",
       "1         1996  TRADE_GHG      ARG      ARG   A01_02              FNL   \n",
       "2         1997  TRADE_GHG      ARG      ARG   A01_02              FNL   \n",
       "3         1998  TRADE_GHG      ARG      ARG   A01_02              FNL   \n",
       "4         1999  TRADE_GHG      ARG      ARG   A01_02              FNL   \n",
       "\n",
       "  UNIT_MEASURE  UNIT_MULT  OBS_VALUE  \n",
       "0       T_CO2E          6        0.0  \n",
       "1       T_CO2E          6        0.0  \n",
       "2       T_CO2E          6        0.0  \n",
       "3       T_CO2E          6        0.0  \n",
       "4       T_CO2E          6        0.0  "
      ]
     },
     "execution_count": 3,
     "metadata": {},
     "output_type": "execute_result"
    }
   ],
   "source": [
    "co2.head()"
   ]
  },
  {
   "cell_type": "code",
   "execution_count": 4,
   "id": "d915158a-d4c2-42ef-b555-5e372bbda161",
   "metadata": {},
   "outputs": [
    {
     "data": {
      "text/plain": [
       "array([1995, 1996, 1997, 1998, 1999, 2000, 2001, 2002, 2003, 2004, 2005,\n",
       "       2006, 2007, 2008, 2009, 2010, 2011, 2012, 2013, 2014, 2015, 2016,\n",
       "       2017, 2018, 2019, 2020], dtype=int64)"
      ]
     },
     "execution_count": 4,
     "metadata": {},
     "output_type": "execute_result"
    }
   ],
   "source": [
    "co2['TIME_PERIOD'].unique()"
   ]
  },
  {
   "cell_type": "code",
   "execution_count": 5,
   "id": "46d62000-525b-4de1-876b-041972dc626f",
   "metadata": {},
   "outputs": [
    {
     "data": {
      "text/plain": [
       "(22145760, 13)"
      ]
     },
     "execution_count": 5,
     "metadata": {},
     "output_type": "execute_result"
    }
   ],
   "source": [
    "co2.shape"
   ]
  },
  {
   "cell_type": "code",
   "execution_count": 6,
   "id": "27dbfc29-4101-4d69-9c07-3f26ae9e8a37",
   "metadata": {},
   "outputs": [],
   "source": [
    "co2 = co2[co2['EXPORTER'] != co2['IMPORTER']]"
   ]
  },
  {
   "cell_type": "code",
   "execution_count": 7,
   "id": "4fb52102-fe34-424b-9f2f-e8cff596e28c",
   "metadata": {},
   "outputs": [],
   "source": [
    "co2 = co2.rename(columns = {'EXPORTER': 'iso_o'})\n",
    "co2 = co2.rename(columns = {'IMPORTER': 'iso_d'})"
   ]
  },
  {
   "cell_type": "code",
   "execution_count": 8,
   "id": "b824cac0-6215-4d00-9371-9aa6faca6d0f",
   "metadata": {},
   "outputs": [
    {
     "data": {
      "text/plain": [
       "array(['A01_02', 'A03', 'B05_06', 'B07_08', 'B09', 'C10T12', 'C13T15',\n",
       "       'C16', 'C17_18', 'C19', 'C20', 'C21', 'C22', 'C23', 'C24', 'C25',\n",
       "       'C26', 'C27', 'C28', 'C29', 'C30', 'C31T33', 'D', 'E', 'F', 'G',\n",
       "       'H49', 'H50', 'H51', 'H52', 'H53', 'I', 'J58T60', 'J61', 'J62_63',\n",
       "       'K', 'L', 'M', 'N', 'O', 'P', 'Q', 'R', 'S', 'T', '_T', 'A', 'B',\n",
       "       'C', 'C16T18', 'C19T23', 'C20_21', 'C24_25', 'C26_27', 'C29_30',\n",
       "       'D_E', 'GTN', 'GTI', 'H', 'J', 'M_N', 'OTT', 'OTQ', 'RTT', 'R_S',\n",
       "       'BTE', 'GTT', 'JTN', 'FTT', 'INFO'], dtype=object)"
      ]
     },
     "execution_count": 8,
     "metadata": {},
     "output_type": "execute_result"
    }
   ],
   "source": [
    "co2['ACTIVITY'].unique()"
   ]
  },
  {
   "cell_type": "code",
   "execution_count": 9,
   "id": "0572b18c-e81e-4cdb-9f18-cb71ea8c3fdf",
   "metadata": {},
   "outputs": [
    {
     "data": {
      "text/plain": [
       "70"
      ]
     },
     "execution_count": 9,
     "metadata": {},
     "output_type": "execute_result"
    }
   ],
   "source": [
    "co2['ACTIVITY'].nunique()"
   ]
  },
  {
   "cell_type": "code",
   "execution_count": 10,
   "id": "84f4cde8-aaaa-4692-b405-165e993b80a2",
   "metadata": {},
   "outputs": [
    {
     "data": {
      "text/plain": [
       "array(['FNL', 'TTL'], dtype=object)"
      ]
     },
     "execution_count": 10,
     "metadata": {},
     "output_type": "execute_result"
    }
   ],
   "source": [
    "co2['PRODUCT_CATEGORY'].unique()"
   ]
  },
  {
   "cell_type": "code",
   "execution_count": 11,
   "id": "698b49c2-794d-45be-98b5-cb619a307191",
   "metadata": {},
   "outputs": [
    {
     "data": {
      "text/html": [
       "<div>\n",
       "<style scoped>\n",
       "    .dataframe tbody tr th:only-of-type {\n",
       "        vertical-align: middle;\n",
       "    }\n",
       "\n",
       "    .dataframe tbody tr th {\n",
       "        vertical-align: top;\n",
       "    }\n",
       "\n",
       "    .dataframe thead th {\n",
       "        text-align: right;\n",
       "    }\n",
       "</style>\n",
       "<table border=\"1\" class=\"dataframe\">\n",
       "  <thead>\n",
       "    <tr style=\"text-align: right;\">\n",
       "      <th></th>\n",
       "      <th>STRUCTURE</th>\n",
       "      <th>STRUCTURE_ID</th>\n",
       "      <th>ACTION</th>\n",
       "      <th>FREQ</th>\n",
       "      <th>TIME_PERIOD</th>\n",
       "      <th>MEASURE</th>\n",
       "      <th>iso_o</th>\n",
       "      <th>iso_d</th>\n",
       "      <th>ACTIVITY</th>\n",
       "      <th>PRODUCT_CATEGORY</th>\n",
       "      <th>UNIT_MEASURE</th>\n",
       "      <th>UNIT_MULT</th>\n",
       "      <th>OBS_VALUE</th>\n",
       "    </tr>\n",
       "  </thead>\n",
       "  <tbody>\n",
       "    <tr>\n",
       "      <th>18256165</th>\n",
       "      <td>DATAFLOW</td>\n",
       "      <td>OECD.STI.PIE:DSD_ICIO_GHG_TRADE@DF_ICIO_GHG_TR...</td>\n",
       "      <td>R</td>\n",
       "      <td>A</td>\n",
       "      <td>2000</td>\n",
       "      <td>TRADE_GHG</td>\n",
       "      <td>BGD</td>\n",
       "      <td>IND</td>\n",
       "      <td>_T</td>\n",
       "      <td>TTL</td>\n",
       "      <td>T_CO2E</td>\n",
       "      <td>6</td>\n",
       "      <td>0.123</td>\n",
       "    </tr>\n",
       "  </tbody>\n",
       "</table>\n",
       "</div>"
      ],
      "text/plain": [
       "         STRUCTURE                                       STRUCTURE_ID ACTION  \\\n",
       "18256165  DATAFLOW  OECD.STI.PIE:DSD_ICIO_GHG_TRADE@DF_ICIO_GHG_TR...      R   \n",
       "\n",
       "         FREQ  TIME_PERIOD    MEASURE iso_o iso_d ACTIVITY PRODUCT_CATEGORY  \\\n",
       "18256165    A         2000  TRADE_GHG   BGD   IND       _T              TTL   \n",
       "\n",
       "         UNIT_MEASURE  UNIT_MULT  OBS_VALUE  \n",
       "18256165       T_CO2E          6      0.123  "
      ]
     },
     "execution_count": 11,
     "metadata": {},
     "output_type": "execute_result"
    }
   ],
   "source": [
    "co2[(co2['iso_o'] == 'BGD') & (co2['iso_d'] == 'IND') & (co2['TIME_PERIOD'] == 2000) & (co2['ACTIVITY'] == '_T') & (co2['PRODUCT_CATEGORY'] == 'TTL')]"
   ]
  },
  {
   "cell_type": "markdown",
   "id": "66444a01-bef0-46c6-8c57-1817402ce1fd",
   "metadata": {},
   "source": [
    "Product category `TTL` contains both intermediate and final products. \n",
    "Activity `_T` is the sum of non-overlapping industry demand. I am keeping these two only."
   ]
  },
  {
   "cell_type": "code",
   "execution_count": 12,
   "id": "373f2f8e-9481-4f26-933e-4f4915a43377",
   "metadata": {},
   "outputs": [],
   "source": [
    "co2_T = co2[(co2['TIME_PERIOD'] >= 2000) & (co2['ACTIVITY'] == '_T') & (co2['PRODUCT_CATEGORY'] == 'TTL')]"
   ]
  },
  {
   "cell_type": "code",
   "execution_count": 13,
   "id": "b01a92ea-f873-4d70-a79f-77c4fea25d88",
   "metadata": {},
   "outputs": [
    {
     "data": {
      "text/plain": [
       "(21861840, 13)"
      ]
     },
     "execution_count": 13,
     "metadata": {},
     "output_type": "execute_result"
    }
   ],
   "source": [
    "co2.shape"
   ]
  },
  {
   "cell_type": "code",
   "execution_count": 14,
   "id": "6ac664f7-16e8-4308-8279-83ed9f9e3700",
   "metadata": {},
   "outputs": [
    {
     "data": {
      "text/plain": [
       "(126126, 13)"
      ]
     },
     "execution_count": 14,
     "metadata": {},
     "output_type": "execute_result"
    }
   ],
   "source": [
    "co2_T.shape"
   ]
  },
  {
   "cell_type": "code",
   "execution_count": 15,
   "id": "e7f91243-59e7-4775-aaaa-21a819dff006",
   "metadata": {},
   "outputs": [
    {
     "name": "stdout",
     "output_type": "stream",
     "text": [
      "78\n",
      "78\n",
      "1\n",
      "1\n",
      "21\n",
      "6006\n"
     ]
    }
   ],
   "source": [
    "print(co2_T['iso_o'].nunique())\n",
    "print(co2_T['iso_d'].nunique())\n",
    "print(co2_T['ACTIVITY'].nunique())\n",
    "print(co2_T['PRODUCT_CATEGORY'].nunique())\n",
    "print(co2_T['TIME_PERIOD'].nunique())\n",
    "print(co2_T.groupby(['iso_o', 'iso_d']).ngroups)"
   ]
  },
  {
   "cell_type": "code",
   "execution_count": 16,
   "id": "3f93807e-62ba-4e73-a369-9d9272ed9918",
   "metadata": {},
   "outputs": [
    {
     "data": {
      "text/plain": [
       "array([2000, 2001, 2002, 2003, 2004, 2005, 2006, 2007, 2008, 2009, 2010,\n",
       "       2011, 2012, 2013, 2014, 2015, 2016, 2017, 2018, 2019, 2020],\n",
       "      dtype=int64)"
      ]
     },
     "execution_count": 16,
     "metadata": {},
     "output_type": "execute_result"
    }
   ],
   "source": [
    "co2_T['TIME_PERIOD'].unique()"
   ]
  },
  {
   "cell_type": "code",
   "execution_count": 17,
   "id": "67e0c4bb-f058-43f1-a97f-f2e9e18aee73",
   "metadata": {},
   "outputs": [],
   "source": [
    "column = ['iso_o', 'iso_d', 'TIME_PERIOD']\n",
    "dupli = co2_T.duplicated(subset = column, keep = 'last')"
   ]
  },
  {
   "cell_type": "code",
   "execution_count": 18,
   "id": "a13d7502-361c-4bc7-8283-33799178bcb7",
   "metadata": {},
   "outputs": [],
   "source": [
    "co2_uni = co2_T[~dupli]"
   ]
  },
  {
   "cell_type": "code",
   "execution_count": 19,
   "id": "3a4871de-247b-4700-961b-a2ee1d76c08a",
   "metadata": {},
   "outputs": [
    {
     "data": {
      "text/plain": [
       "(126126, 13)"
      ]
     },
     "execution_count": 19,
     "metadata": {},
     "output_type": "execute_result"
    }
   ],
   "source": [
    "co2_uni.shape #There is no duplicate."
   ]
  },
  {
   "cell_type": "code",
   "execution_count": 20,
   "id": "68ce54ba-7a6b-4b72-8e65-530732cc79d4",
   "metadata": {},
   "outputs": [],
   "source": [
    "co2_uni = co2_uni[['iso_o', 'iso_d', 'TIME_PERIOD', 'OBS_VALUE']]"
   ]
  },
  {
   "cell_type": "code",
   "execution_count": 21,
   "id": "9d137c28-9ef4-4a52-9a08-199752f48ec0",
   "metadata": {},
   "outputs": [],
   "source": [
    "co2_uni = co2_uni.reset_index(drop = True)"
   ]
  },
  {
   "cell_type": "code",
   "execution_count": 22,
   "id": "c2c7610b-d7c1-4b86-970b-89b4b6900f7f",
   "metadata": {},
   "outputs": [],
   "source": [
    "co2_uni = co2_uni[co2_uni['iso_o'] != 'W']\n",
    "co2_uni = co2_uni[co2_uni['iso_d'] != 'W']"
   ]
  },
  {
   "cell_type": "code",
   "execution_count": 23,
   "id": "0ac01255-c5ca-4d88-a3b6-9adb8d78c9fd",
   "metadata": {},
   "outputs": [
    {
     "data": {
      "text/plain": [
       "(122892, 4)"
      ]
     },
     "execution_count": 23,
     "metadata": {},
     "output_type": "execute_result"
    }
   ],
   "source": [
    "co2_uni.shape"
   ]
  },
  {
   "cell_type": "code",
   "execution_count": 24,
   "id": "62725008-8ab4-4ced-970e-47eaa9359468",
   "metadata": {},
   "outputs": [
    {
     "name": "stdout",
     "output_type": "stream",
     "text": [
      "77\n",
      "77\n",
      "21\n",
      "5852\n"
     ]
    }
   ],
   "source": [
    "print(co2_uni['iso_o'].nunique())\n",
    "print(co2_uni['iso_d'].nunique())\n",
    "print(co2_uni['TIME_PERIOD'].nunique())\n",
    "print(co2_uni.groupby(['iso_o', 'iso_d']).ngroups)"
   ]
  },
  {
   "cell_type": "code",
   "execution_count": 25,
   "id": "4e160beb-8b79-4a21-8090-318e25324bd0",
   "metadata": {},
   "outputs": [],
   "source": [
    "assert set(co2_uni['iso_o'].unique()) == set(co2_uni['iso_d'].unique()) #Exporters and importers have same set of countries."
   ]
  },
  {
   "cell_type": "code",
   "execution_count": 26,
   "id": "59980694-74f9-4ed2-8bfa-c44a5ee91201",
   "metadata": {},
   "outputs": [],
   "source": [
    "countries = set(co2_uni['iso_o'].unique())"
   ]
  },
  {
   "cell_type": "code",
   "execution_count": 27,
   "id": "a337baee-fde0-4d27-9f5c-7281408ab889",
   "metadata": {},
   "outputs": [
    {
     "data": {
      "text/plain": [
       "77"
      ]
     },
     "execution_count": 27,
     "metadata": {},
     "output_type": "execute_result"
    }
   ],
   "source": [
    "len(countries)"
   ]
  },
  {
   "cell_type": "markdown",
   "id": "623305d3-978e-494b-b989-7cef5b06be83",
   "metadata": {},
   "source": [
    "### Calculating Net Import of CO2 "
   ]
  },
  {
   "cell_type": "code",
   "execution_count": 28,
   "id": "fe0baa11-62c3-43af-8bd7-c23b2e03438f",
   "metadata": {},
   "outputs": [
    {
     "data": {
      "text/html": [
       "<div>\n",
       "<style scoped>\n",
       "    .dataframe tbody tr th:only-of-type {\n",
       "        vertical-align: middle;\n",
       "    }\n",
       "\n",
       "    .dataframe tbody tr th {\n",
       "        vertical-align: top;\n",
       "    }\n",
       "\n",
       "    .dataframe thead th {\n",
       "        text-align: right;\n",
       "    }\n",
       "</style>\n",
       "<table border=\"1\" class=\"dataframe\">\n",
       "  <thead>\n",
       "    <tr style=\"text-align: right;\">\n",
       "      <th></th>\n",
       "      <th>iso_o</th>\n",
       "      <th>iso_d</th>\n",
       "      <th>TIME_PERIOD</th>\n",
       "      <th>OBS_VALUE</th>\n",
       "    </tr>\n",
       "  </thead>\n",
       "  <tbody>\n",
       "    <tr>\n",
       "      <th>0</th>\n",
       "      <td>AUS</td>\n",
       "      <td>ARG</td>\n",
       "      <td>2000</td>\n",
       "      <td>0.393</td>\n",
       "    </tr>\n",
       "    <tr>\n",
       "      <th>1</th>\n",
       "      <td>AUS</td>\n",
       "      <td>ARG</td>\n",
       "      <td>2001</td>\n",
       "      <td>0.474</td>\n",
       "    </tr>\n",
       "  </tbody>\n",
       "</table>\n",
       "</div>"
      ],
      "text/plain": [
       "  iso_o iso_d  TIME_PERIOD  OBS_VALUE\n",
       "0   AUS   ARG         2000      0.393\n",
       "1   AUS   ARG         2001      0.474"
      ]
     },
     "execution_count": 28,
     "metadata": {},
     "output_type": "execute_result"
    }
   ],
   "source": [
    "co2_uni.head(2)"
   ]
  },
  {
   "cell_type": "code",
   "execution_count": 29,
   "id": "6aae60ad-3364-4e79-a030-9c89f01e1a04",
   "metadata": {},
   "outputs": [],
   "source": [
    "co2_export = co2_uni.groupby(['iso_o', 'TIME_PERIOD'])['OBS_VALUE'].sum().reset_index()"
   ]
  },
  {
   "cell_type": "code",
   "execution_count": 30,
   "id": "a55646f3-fa22-4b64-beec-0c77c678e942",
   "metadata": {},
   "outputs": [],
   "source": [
    "# sanity check\n",
    "#co2_export[co2_export['iso_o'] == 'BGD']"
   ]
  },
  {
   "cell_type": "code",
   "execution_count": 31,
   "id": "2bdd3076-fc1e-4309-9bab-40fb72f2b56d",
   "metadata": {},
   "outputs": [
    {
     "name": "stdout",
     "output_type": "stream",
     "text": [
      "(122892, 4)\n",
      "(1617, 3)\n",
      "77\n",
      "77\n"
     ]
    }
   ],
   "source": [
    "print(co2_uni.shape)\n",
    "print(co2_export.shape)\n",
    "print(co2_uni['iso_o'].nunique())\n",
    "print(co2_export['iso_o'].nunique())"
   ]
  },
  {
   "cell_type": "code",
   "execution_count": 32,
   "id": "d316be95-edbc-436c-a69e-d8db730dda25",
   "metadata": {},
   "outputs": [],
   "source": [
    "co2_import = co2_uni.copy()"
   ]
  },
  {
   "cell_type": "code",
   "execution_count": 33,
   "id": "40894ca8-71d1-4dc8-be1c-87c62c2d3b04",
   "metadata": {},
   "outputs": [],
   "source": [
    "co2_import = co2_import.groupby(['iso_d', 'TIME_PERIOD'])['OBS_VALUE'].sum().reset_index()"
   ]
  },
  {
   "cell_type": "code",
   "execution_count": 34,
   "id": "da21912c-f17d-4078-ba2e-183d40d3b93f",
   "metadata": {},
   "outputs": [
    {
     "data": {
      "text/html": [
       "<div>\n",
       "<style scoped>\n",
       "    .dataframe tbody tr th:only-of-type {\n",
       "        vertical-align: middle;\n",
       "    }\n",
       "\n",
       "    .dataframe tbody tr th {\n",
       "        vertical-align: top;\n",
       "    }\n",
       "\n",
       "    .dataframe thead th {\n",
       "        text-align: right;\n",
       "    }\n",
       "</style>\n",
       "<table border=\"1\" class=\"dataframe\">\n",
       "  <thead>\n",
       "    <tr style=\"text-align: right;\">\n",
       "      <th></th>\n",
       "      <th>iso_d</th>\n",
       "      <th>TIME_PERIOD</th>\n",
       "      <th>OBS_VALUE</th>\n",
       "    </tr>\n",
       "  </thead>\n",
       "  <tbody>\n",
       "    <tr>\n",
       "      <th>0</th>\n",
       "      <td>ARG</td>\n",
       "      <td>2000</td>\n",
       "      <td>44.666</td>\n",
       "    </tr>\n",
       "    <tr>\n",
       "      <th>1</th>\n",
       "      <td>ARG</td>\n",
       "      <td>2001</td>\n",
       "      <td>38.006</td>\n",
       "    </tr>\n",
       "    <tr>\n",
       "      <th>2</th>\n",
       "      <td>ARG</td>\n",
       "      <td>2002</td>\n",
       "      <td>17.889</td>\n",
       "    </tr>\n",
       "  </tbody>\n",
       "</table>\n",
       "</div>"
      ],
      "text/plain": [
       "  iso_d  TIME_PERIOD  OBS_VALUE\n",
       "0   ARG         2000     44.666\n",
       "1   ARG         2001     38.006\n",
       "2   ARG         2002     17.889"
      ]
     },
     "execution_count": 34,
     "metadata": {},
     "output_type": "execute_result"
    }
   ],
   "source": [
    "co2_import.head(3)"
   ]
  },
  {
   "cell_type": "code",
   "execution_count": 35,
   "id": "d4f08978-eb37-493a-b02f-42d18a8852a6",
   "metadata": {},
   "outputs": [
    {
     "data": {
      "text/html": [
       "<div>\n",
       "<style scoped>\n",
       "    .dataframe tbody tr th:only-of-type {\n",
       "        vertical-align: middle;\n",
       "    }\n",
       "\n",
       "    .dataframe tbody tr th {\n",
       "        vertical-align: top;\n",
       "    }\n",
       "\n",
       "    .dataframe thead th {\n",
       "        text-align: right;\n",
       "    }\n",
       "</style>\n",
       "<table border=\"1\" class=\"dataframe\">\n",
       "  <thead>\n",
       "    <tr style=\"text-align: right;\">\n",
       "      <th></th>\n",
       "      <th>iso_o</th>\n",
       "      <th>TIME_PERIOD</th>\n",
       "      <th>OBS_VALUE</th>\n",
       "    </tr>\n",
       "  </thead>\n",
       "  <tbody>\n",
       "    <tr>\n",
       "      <th>0</th>\n",
       "      <td>ARG</td>\n",
       "      <td>2000</td>\n",
       "      <td>48.636</td>\n",
       "    </tr>\n",
       "    <tr>\n",
       "      <th>1</th>\n",
       "      <td>ARG</td>\n",
       "      <td>2001</td>\n",
       "      <td>50.728</td>\n",
       "    </tr>\n",
       "    <tr>\n",
       "      <th>2</th>\n",
       "      <td>ARG</td>\n",
       "      <td>2002</td>\n",
       "      <td>87.260</td>\n",
       "    </tr>\n",
       "  </tbody>\n",
       "</table>\n",
       "</div>"
      ],
      "text/plain": [
       "  iso_o  TIME_PERIOD  OBS_VALUE\n",
       "0   ARG         2000     48.636\n",
       "1   ARG         2001     50.728\n",
       "2   ARG         2002     87.260"
      ]
     },
     "execution_count": 35,
     "metadata": {},
     "output_type": "execute_result"
    }
   ],
   "source": [
    "co2_export.head(3)"
   ]
  },
  {
   "cell_type": "code",
   "execution_count": 39,
   "id": "627057d4-7c85-4e4e-b116-8a98376fa349",
   "metadata": {},
   "outputs": [
    {
     "data": {
      "text/html": [
       "<div>\n",
       "<style scoped>\n",
       "    .dataframe tbody tr th:only-of-type {\n",
       "        vertical-align: middle;\n",
       "    }\n",
       "\n",
       "    .dataframe tbody tr th {\n",
       "        vertical-align: top;\n",
       "    }\n",
       "\n",
       "    .dataframe thead th {\n",
       "        text-align: right;\n",
       "    }\n",
       "</style>\n",
       "<table border=\"1\" class=\"dataframe\">\n",
       "  <thead>\n",
       "    <tr style=\"text-align: right;\">\n",
       "      <th></th>\n",
       "      <th>iso_o</th>\n",
       "      <th>TIME_PERIOD</th>\n",
       "      <th>OBS_VALUE</th>\n",
       "    </tr>\n",
       "  </thead>\n",
       "  <tbody>\n",
       "    <tr>\n",
       "      <th>0</th>\n",
       "      <td>ARG</td>\n",
       "      <td>2000</td>\n",
       "      <td>48.636</td>\n",
       "    </tr>\n",
       "  </tbody>\n",
       "</table>\n",
       "</div>"
      ],
      "text/plain": [
       "  iso_o  TIME_PERIOD  OBS_VALUE\n",
       "0   ARG         2000     48.636"
      ]
     },
     "execution_count": 39,
     "metadata": {},
     "output_type": "execute_result"
    }
   ],
   "source": [
    "co2_export[(co2_export['iso_o'] == 'ARG') & (co2_export['TIME_PERIOD'] == 2000)]"
   ]
  },
  {
   "cell_type": "code",
   "execution_count": 41,
   "id": "63a2d670-0c09-47cd-a76e-e6a21b71dd1a",
   "metadata": {},
   "outputs": [
    {
     "data": {
      "text/html": [
       "<div>\n",
       "<style scoped>\n",
       "    .dataframe tbody tr th:only-of-type {\n",
       "        vertical-align: middle;\n",
       "    }\n",
       "\n",
       "    .dataframe tbody tr th {\n",
       "        vertical-align: top;\n",
       "    }\n",
       "\n",
       "    .dataframe thead th {\n",
       "        text-align: right;\n",
       "    }\n",
       "</style>\n",
       "<table border=\"1\" class=\"dataframe\">\n",
       "  <thead>\n",
       "    <tr style=\"text-align: right;\">\n",
       "      <th></th>\n",
       "      <th>iso_d</th>\n",
       "      <th>TIME_PERIOD</th>\n",
       "      <th>OBS_VALUE</th>\n",
       "    </tr>\n",
       "  </thead>\n",
       "  <tbody>\n",
       "    <tr>\n",
       "      <th>0</th>\n",
       "      <td>ARG</td>\n",
       "      <td>2000</td>\n",
       "      <td>44.666</td>\n",
       "    </tr>\n",
       "  </tbody>\n",
       "</table>\n",
       "</div>"
      ],
      "text/plain": [
       "  iso_d  TIME_PERIOD  OBS_VALUE\n",
       "0   ARG         2000     44.666"
      ]
     },
     "execution_count": 41,
     "metadata": {},
     "output_type": "execute_result"
    }
   ],
   "source": [
    "co2_import[(co2_import['iso_d'] == 'ARG') & (co2_import['TIME_PERIOD'] == 2000)]"
   ]
  },
  {
   "cell_type": "code",
   "execution_count": 609,
   "id": "5c804bf4-335a-4b04-990d-fea83d367155",
   "metadata": {},
   "outputs": [],
   "source": [
    "#co2_import[(co2_import['iso_d'] == 'AUS') & (co2_import['TIME_PERIOD'] == 2008)]"
   ]
  },
  {
   "cell_type": "code",
   "execution_count": 42,
   "id": "090698b0-031e-4f76-bc4e-4f2f953b2133",
   "metadata": {},
   "outputs": [],
   "source": [
    "co2_import = co2_import.rename(columns = {'iso_d': 'iso_o'})\n",
    "co2_import = co2_import.rename(columns = {'OBS_VALUE': 'import'})\n",
    "co2_export = co2_export.rename(columns = {'OBS_VALUE': 'export'})\n",
    "nx = co2_export.merge(co2_import, on = ['iso_o', 'TIME_PERIOD'], how = 'left')\n",
    "nx['net_imp'] = nx['import'] - nx['export'] "
   ]
  },
  {
   "cell_type": "code",
   "execution_count": 43,
   "id": "2b0e5a16-2038-4aab-a0ad-6b336bccfdef",
   "metadata": {},
   "outputs": [
    {
     "data": {
      "text/html": [
       "<div>\n",
       "<style scoped>\n",
       "    .dataframe tbody tr th:only-of-type {\n",
       "        vertical-align: middle;\n",
       "    }\n",
       "\n",
       "    .dataframe tbody tr th {\n",
       "        vertical-align: top;\n",
       "    }\n",
       "\n",
       "    .dataframe thead th {\n",
       "        text-align: right;\n",
       "    }\n",
       "</style>\n",
       "<table border=\"1\" class=\"dataframe\">\n",
       "  <thead>\n",
       "    <tr style=\"text-align: right;\">\n",
       "      <th></th>\n",
       "      <th>iso_o</th>\n",
       "      <th>TIME_PERIOD</th>\n",
       "      <th>export</th>\n",
       "      <th>import</th>\n",
       "      <th>net_imp</th>\n",
       "    </tr>\n",
       "  </thead>\n",
       "  <tbody>\n",
       "    <tr>\n",
       "      <th>0</th>\n",
       "      <td>ARG</td>\n",
       "      <td>2000</td>\n",
       "      <td>48.636</td>\n",
       "      <td>44.666</td>\n",
       "      <td>-3.970</td>\n",
       "    </tr>\n",
       "    <tr>\n",
       "      <th>1</th>\n",
       "      <td>ARG</td>\n",
       "      <td>2001</td>\n",
       "      <td>50.728</td>\n",
       "      <td>38.006</td>\n",
       "      <td>-12.722</td>\n",
       "    </tr>\n",
       "    <tr>\n",
       "      <th>2</th>\n",
       "      <td>ARG</td>\n",
       "      <td>2002</td>\n",
       "      <td>87.260</td>\n",
       "      <td>17.889</td>\n",
       "      <td>-69.371</td>\n",
       "    </tr>\n",
       "    <tr>\n",
       "      <th>3</th>\n",
       "      <td>ARG</td>\n",
       "      <td>2003</td>\n",
       "      <td>81.623</td>\n",
       "      <td>23.903</td>\n",
       "      <td>-57.720</td>\n",
       "    </tr>\n",
       "    <tr>\n",
       "      <th>4</th>\n",
       "      <td>ARG</td>\n",
       "      <td>2004</td>\n",
       "      <td>83.397</td>\n",
       "      <td>33.429</td>\n",
       "      <td>-49.968</td>\n",
       "    </tr>\n",
       "  </tbody>\n",
       "</table>\n",
       "</div>"
      ],
      "text/plain": [
       "  iso_o  TIME_PERIOD  export  import  net_imp\n",
       "0   ARG         2000  48.636  44.666   -3.970\n",
       "1   ARG         2001  50.728  38.006  -12.722\n",
       "2   ARG         2002  87.260  17.889  -69.371\n",
       "3   ARG         2003  81.623  23.903  -57.720\n",
       "4   ARG         2004  83.397  33.429  -49.968"
      ]
     },
     "execution_count": 43,
     "metadata": {},
     "output_type": "execute_result"
    }
   ],
   "source": [
    "nx.head()"
   ]
  },
  {
   "cell_type": "code",
   "execution_count": 44,
   "id": "a80458f6-0b43-46df-8dff-ca60c4e3f842",
   "metadata": {},
   "outputs": [],
   "source": [
    "# sanity check\n",
    "#nx[nx['iso_o'] == 'USA']"
   ]
  },
  {
   "cell_type": "markdown",
   "id": "51261a67-ba7e-4bf4-ab86-38c1275209f0",
   "metadata": {},
   "source": [
    "### CO2 edgelist for SNA"
   ]
  },
  {
   "cell_type": "code",
   "execution_count": 45,
   "id": "a186ecbf-bf39-41f5-8533-81d5bce20890",
   "metadata": {},
   "outputs": [],
   "source": [
    "edgelist_co2 = co2_uni.pivot_table(index = ['iso_o', 'iso_d'], columns = 'TIME_PERIOD', values = 'OBS_VALUE', fill_value = 0).reset_index()"
   ]
  },
  {
   "cell_type": "code",
   "execution_count": 46,
   "id": "da1cf7a9-4c87-4d6a-9a10-06cc3192e470",
   "metadata": {},
   "outputs": [],
   "source": [
    "assert co2_uni.groupby(['iso_o', 'iso_d']).ngroups == edgelist_co2 .shape[0] "
   ]
  },
  {
   "cell_type": "markdown",
   "id": "0a3a0d03-67cd-47b9-9dbf-0a4eea04ecf3",
   "metadata": {},
   "source": [
    "### Dragging continent from CEPII country level data"
   ]
  },
  {
   "cell_type": "code",
   "execution_count": 47,
   "id": "149663da-a86c-49ea-8ee4-cb393b6e571a",
   "metadata": {},
   "outputs": [],
   "source": [
    "node = pd.read_csv('../data/raw/geo_cepii.csv', encoding='latin1')"
   ]
  },
  {
   "cell_type": "code",
   "execution_count": 48,
   "id": "c2a03ad5-29c5-4a93-a6a1-a5b613c51c32",
   "metadata": {},
   "outputs": [
    {
     "data": {
      "text/plain": [
       "(238, 34)"
      ]
     },
     "execution_count": 48,
     "metadata": {},
     "output_type": "execute_result"
    }
   ],
   "source": [
    "node.shape"
   ]
  },
  {
   "cell_type": "code",
   "execution_count": 49,
   "id": "bcdaa1e2-6e3f-499f-a207-2c68e09e8b03",
   "metadata": {},
   "outputs": [],
   "source": [
    "# renaming the exporter column name to match it with the dyad level fixed variable data\n",
    "node = node.rename(columns = {'iso3': 'iso_o'})"
   ]
  },
  {
   "cell_type": "code",
   "execution_count": 50,
   "id": "193284de-e772-4360-89aa-398e41e6de23",
   "metadata": {},
   "outputs": [],
   "source": [
    "node = node[['iso_o', 'country', 'continent']]"
   ]
  },
  {
   "cell_type": "code",
   "execution_count": 51,
   "id": "4a0b3951-a2a6-42bf-944b-c567631f9074",
   "metadata": {},
   "outputs": [
    {
     "name": "stdout",
     "output_type": "stream",
     "text": [
      "(13, 3)\n"
     ]
    }
   ],
   "source": [
    "# removing duplicates\n",
    "equivalent_columns = ['iso_o', 'country', 'continent']\n",
    "duplicates = node.duplicated(subset = equivalent_columns, keep = 'last')\n",
    "print(node[duplicates].shape)\n",
    "#print(node[duplicates])"
   ]
  },
  {
   "cell_type": "code",
   "execution_count": 52,
   "id": "c4709ee7-720c-4cac-aceb-e34ff2cbd19b",
   "metadata": {},
   "outputs": [
    {
     "data": {
      "text/html": [
       "<div>\n",
       "<style scoped>\n",
       "    .dataframe tbody tr th:only-of-type {\n",
       "        vertical-align: middle;\n",
       "    }\n",
       "\n",
       "    .dataframe tbody tr th {\n",
       "        vertical-align: top;\n",
       "    }\n",
       "\n",
       "    .dataframe thead th {\n",
       "        text-align: right;\n",
       "    }\n",
       "</style>\n",
       "<table border=\"1\" class=\"dataframe\">\n",
       "  <thead>\n",
       "    <tr style=\"text-align: right;\">\n",
       "      <th></th>\n",
       "      <th>iso_o</th>\n",
       "      <th>country</th>\n",
       "      <th>continent</th>\n",
       "    </tr>\n",
       "  </thead>\n",
       "  <tbody>\n",
       "    <tr>\n",
       "      <th>11</th>\n",
       "      <td>AUS</td>\n",
       "      <td>Australia</td>\n",
       "      <td>Pacific</td>\n",
       "    </tr>\n",
       "    <tr>\n",
       "      <th>23</th>\n",
       "      <td>BEN</td>\n",
       "      <td>Benin</td>\n",
       "      <td>Africa</td>\n",
       "    </tr>\n",
       "    <tr>\n",
       "      <th>27</th>\n",
       "      <td>BOL</td>\n",
       "      <td>Bolivia</td>\n",
       "      <td>America</td>\n",
       "    </tr>\n",
       "    <tr>\n",
       "      <th>29</th>\n",
       "      <td>BRA</td>\n",
       "      <td>Brazil</td>\n",
       "      <td>America</td>\n",
       "    </tr>\n",
       "    <tr>\n",
       "      <th>36</th>\n",
       "      <td>CAN</td>\n",
       "      <td>Canada</td>\n",
       "      <td>America</td>\n",
       "    </tr>\n",
       "    <tr>\n",
       "      <th>42</th>\n",
       "      <td>CIV</td>\n",
       "      <td>Côte d'Ivoire</td>\n",
       "      <td>Africa</td>\n",
       "    </tr>\n",
       "    <tr>\n",
       "      <th>55</th>\n",
       "      <td>DEU</td>\n",
       "      <td>Germany</td>\n",
       "      <td>Europe</td>\n",
       "    </tr>\n",
       "    <tr>\n",
       "      <th>117</th>\n",
       "      <td>KAZ</td>\n",
       "      <td>Kazakstan</td>\n",
       "      <td>Asia</td>\n",
       "    </tr>\n",
       "    <tr>\n",
       "      <th>153</th>\n",
       "      <td>NGA</td>\n",
       "      <td>Nigeria</td>\n",
       "      <td>Africa</td>\n",
       "    </tr>\n",
       "    <tr>\n",
       "      <th>211</th>\n",
       "      <td>TUR</td>\n",
       "      <td>Turkey</td>\n",
       "      <td>Europe</td>\n",
       "    </tr>\n",
       "    <tr>\n",
       "      <th>216</th>\n",
       "      <td>TZA</td>\n",
       "      <td>Tanzania, United Rep. of</td>\n",
       "      <td>Africa</td>\n",
       "    </tr>\n",
       "    <tr>\n",
       "      <th>220</th>\n",
       "      <td>USA</td>\n",
       "      <td>United States of America</td>\n",
       "      <td>America</td>\n",
       "    </tr>\n",
       "    <tr>\n",
       "      <th>233</th>\n",
       "      <td>ZAF</td>\n",
       "      <td>South Africa</td>\n",
       "      <td>Africa</td>\n",
       "    </tr>\n",
       "  </tbody>\n",
       "</table>\n",
       "</div>"
      ],
      "text/plain": [
       "    iso_o                    country continent\n",
       "11    AUS                  Australia   Pacific\n",
       "23    BEN                      Benin    Africa\n",
       "27    BOL                    Bolivia   America\n",
       "29    BRA                     Brazil   America\n",
       "36    CAN                     Canada   America\n",
       "42    CIV              Côte d'Ivoire    Africa\n",
       "55    DEU                    Germany    Europe\n",
       "117   KAZ                  Kazakstan      Asia\n",
       "153   NGA                    Nigeria    Africa\n",
       "211   TUR                     Turkey    Europe\n",
       "216   TZA  Tanzania, United Rep. of     Africa\n",
       "220   USA   United States of America   America\n",
       "233   ZAF               South Africa    Africa"
      ]
     },
     "execution_count": 52,
     "metadata": {},
     "output_type": "execute_result"
    }
   ],
   "source": [
    "node[duplicates]"
   ]
  },
  {
   "cell_type": "code",
   "execution_count": 53,
   "id": "ef4dc724-0a38-42d9-bb58-89b8740999c7",
   "metadata": {},
   "outputs": [
    {
     "data": {
      "text/plain": [
       "(225, 3)"
      ]
     },
     "execution_count": 53,
     "metadata": {},
     "output_type": "execute_result"
    }
   ],
   "source": [
    "node_unique = node[~duplicates]\n",
    "node_unique.shape"
   ]
  },
  {
   "cell_type": "code",
   "execution_count": 54,
   "id": "cebcc997-40aa-4133-9253-db885ba8f405",
   "metadata": {},
   "outputs": [
    {
     "data": {
      "text/html": [
       "<div>\n",
       "<style scoped>\n",
       "    .dataframe tbody tr th:only-of-type {\n",
       "        vertical-align: middle;\n",
       "    }\n",
       "\n",
       "    .dataframe tbody tr th {\n",
       "        vertical-align: top;\n",
       "    }\n",
       "\n",
       "    .dataframe thead th {\n",
       "        text-align: right;\n",
       "    }\n",
       "</style>\n",
       "<table border=\"1\" class=\"dataframe\">\n",
       "  <thead>\n",
       "    <tr style=\"text-align: right;\">\n",
       "      <th></th>\n",
       "      <th>iso_o</th>\n",
       "      <th>country</th>\n",
       "      <th>continent</th>\n",
       "    </tr>\n",
       "  </thead>\n",
       "  <tbody>\n",
       "    <tr>\n",
       "      <th>234</th>\n",
       "      <td>ZAF</td>\n",
       "      <td>South Africa</td>\n",
       "      <td>Africa</td>\n",
       "    </tr>\n",
       "  </tbody>\n",
       "</table>\n",
       "</div>"
      ],
      "text/plain": [
       "    iso_o       country continent\n",
       "234   ZAF  South Africa    Africa"
      ]
     },
     "execution_count": 54,
     "metadata": {},
     "output_type": "execute_result"
    }
   ],
   "source": [
    "node_unique[node_unique['iso_o'] == 'ZAF']"
   ]
  },
  {
   "cell_type": "code",
   "execution_count": 55,
   "id": "4f474e28-910c-4338-82a3-c57a4c514d0c",
   "metadata": {},
   "outputs": [
    {
     "data": {
      "text/plain": [
       "225"
      ]
     },
     "execution_count": 55,
     "metadata": {},
     "output_type": "execute_result"
    }
   ],
   "source": [
    "node_unique['iso_o'].nunique()"
   ]
  },
  {
   "cell_type": "markdown",
   "id": "7e446e79-5e0b-469c-80d5-66f517140e3c",
   "metadata": {},
   "source": [
    "### IMF"
   ]
  },
  {
   "cell_type": "code",
   "execution_count": 56,
   "id": "32e51b67-5d60-4d20-a603-14cf883bc8ca",
   "metadata": {},
   "outputs": [],
   "source": [
    "imf = pd.read_excel(\"../data/raw/IMF_classification.xlsx\")"
   ]
  },
  {
   "cell_type": "code",
   "execution_count": 57,
   "id": "80655a9b-1530-44d1-963d-aa8cb0c55452",
   "metadata": {},
   "outputs": [],
   "source": [
    "imf[\"development\"] = 0"
   ]
  },
  {
   "cell_type": "code",
   "execution_count": 58,
   "id": "a4ccc291-ce42-4fb7-948f-2190909800d3",
   "metadata": {},
   "outputs": [],
   "source": [
    "imf.loc[imf['category'] == 'Advanced Economies', 'development'] = 1"
   ]
  },
  {
   "cell_type": "code",
   "execution_count": 59,
   "id": "f1ada3c9-fddb-41a3-867a-3227fa904641",
   "metadata": {},
   "outputs": [
    {
     "name": "stdout",
     "output_type": "stream",
     "text": [
      "category\n",
      "Emerging and Developing Economies    155\n",
      "Advanced Economies                    41\n",
      "Name: count, dtype: int64\n",
      "development\n",
      "0    155\n",
      "1     41\n",
      "Name: count, dtype: int64\n"
     ]
    }
   ],
   "source": [
    "print(imf['category'].value_counts())\n",
    "print(imf['development'].value_counts())"
   ]
  },
  {
   "cell_type": "code",
   "execution_count": 60,
   "id": "4d7ece4c-8cb4-4efa-a868-b246dc1256ce",
   "metadata": {},
   "outputs": [
    {
     "data": {
      "text/html": [
       "<div>\n",
       "<style scoped>\n",
       "    .dataframe tbody tr th:only-of-type {\n",
       "        vertical-align: middle;\n",
       "    }\n",
       "\n",
       "    .dataframe tbody tr th {\n",
       "        vertical-align: top;\n",
       "    }\n",
       "\n",
       "    .dataframe thead th {\n",
       "        text-align: right;\n",
       "    }\n",
       "</style>\n",
       "<table border=\"1\" class=\"dataframe\">\n",
       "  <thead>\n",
       "    <tr style=\"text-align: right;\">\n",
       "      <th></th>\n",
       "      <th>country</th>\n",
       "      <th>category</th>\n",
       "      <th>development</th>\n",
       "    </tr>\n",
       "  </thead>\n",
       "  <tbody>\n",
       "    <tr>\n",
       "      <th>0</th>\n",
       "      <td>Andorra</td>\n",
       "      <td>Advanced Economies</td>\n",
       "      <td>1</td>\n",
       "    </tr>\n",
       "    <tr>\n",
       "      <th>1</th>\n",
       "      <td>Australia</td>\n",
       "      <td>Advanced Economies</td>\n",
       "      <td>1</td>\n",
       "    </tr>\n",
       "    <tr>\n",
       "      <th>2</th>\n",
       "      <td>Austria</td>\n",
       "      <td>Advanced Economies</td>\n",
       "      <td>1</td>\n",
       "    </tr>\n",
       "    <tr>\n",
       "      <th>3</th>\n",
       "      <td>Belgium</td>\n",
       "      <td>Advanced Economies</td>\n",
       "      <td>1</td>\n",
       "    </tr>\n",
       "    <tr>\n",
       "      <th>4</th>\n",
       "      <td>Canada</td>\n",
       "      <td>Advanced Economies</td>\n",
       "      <td>1</td>\n",
       "    </tr>\n",
       "    <tr>\n",
       "      <th>...</th>\n",
       "      <td>...</td>\n",
       "      <td>...</td>\n",
       "      <td>...</td>\n",
       "    </tr>\n",
       "    <tr>\n",
       "      <th>191</th>\n",
       "      <td>Vietnam</td>\n",
       "      <td>Emerging and Developing Economies</td>\n",
       "      <td>0</td>\n",
       "    </tr>\n",
       "    <tr>\n",
       "      <th>192</th>\n",
       "      <td>West Bank and Gaza</td>\n",
       "      <td>Emerging and Developing Economies</td>\n",
       "      <td>0</td>\n",
       "    </tr>\n",
       "    <tr>\n",
       "      <th>193</th>\n",
       "      <td>Yemen</td>\n",
       "      <td>Emerging and Developing Economies</td>\n",
       "      <td>0</td>\n",
       "    </tr>\n",
       "    <tr>\n",
       "      <th>194</th>\n",
       "      <td>Zambia</td>\n",
       "      <td>Emerging and Developing Economies</td>\n",
       "      <td>0</td>\n",
       "    </tr>\n",
       "    <tr>\n",
       "      <th>195</th>\n",
       "      <td>Zimbabwe</td>\n",
       "      <td>Emerging and Developing Economies</td>\n",
       "      <td>0</td>\n",
       "    </tr>\n",
       "  </tbody>\n",
       "</table>\n",
       "<p>196 rows × 3 columns</p>\n",
       "</div>"
      ],
      "text/plain": [
       "                country                           category  development\n",
       "0               Andorra                 Advanced Economies            1\n",
       "1             Australia                 Advanced Economies            1\n",
       "2               Austria                 Advanced Economies            1\n",
       "3               Belgium                 Advanced Economies            1\n",
       "4                Canada                 Advanced Economies            1\n",
       "..                  ...                                ...          ...\n",
       "191             Vietnam  Emerging and Developing Economies            0\n",
       "192  West Bank and Gaza  Emerging and Developing Economies            0\n",
       "193               Yemen  Emerging and Developing Economies            0\n",
       "194              Zambia  Emerging and Developing Economies            0\n",
       "195            Zimbabwe  Emerging and Developing Economies            0\n",
       "\n",
       "[196 rows x 3 columns]"
      ]
     },
     "execution_count": 60,
     "metadata": {},
     "output_type": "execute_result"
    }
   ],
   "source": [
    "imf"
   ]
  },
  {
   "cell_type": "code",
   "execution_count": 61,
   "id": "874463c2-b9b0-4fa6-9e21-80699479bf58",
   "metadata": {},
   "outputs": [],
   "source": [
    "q = set(imf['country'].unique()) - set(node_unique['country'].unique())"
   ]
  },
  {
   "cell_type": "code",
   "execution_count": 62,
   "id": "08d03760-4507-4f35-b3be-57972eaedc02",
   "metadata": {},
   "outputs": [
    {
     "data": {
      "text/plain": [
       "36"
      ]
     },
     "execution_count": 62,
     "metadata": {},
     "output_type": "execute_result"
    }
   ],
   "source": [
    "len(q)"
   ]
  },
  {
   "cell_type": "code",
   "execution_count": 63,
   "id": "55d1162f-7d53-40b6-bd39-51ffd7ac0381",
   "metadata": {},
   "outputs": [
    {
     "data": {
      "text/plain": [
       "{'Belgium',\n",
       " 'Cabo Verde',\n",
       " 'Democratic Republic of the Congo',\n",
       " 'Eswatini',\n",
       " 'Hong Kong SAR',\n",
       " 'Kazakhstan',\n",
       " 'Kosovo',\n",
       " 'Kyrgyz Republic',\n",
       " 'Lao P.D.R.',\n",
       " 'Libya',\n",
       " 'Macao SAR',\n",
       " 'Micronesia',\n",
       " 'Moldova',\n",
       " 'Montenegro',\n",
       " 'Myanmar',\n",
       " 'North Macedonia',\n",
       " 'Republic of Congo',\n",
       " 'Russia',\n",
       " 'Serbia',\n",
       " 'Slovak Republic',\n",
       " 'South Sudan',\n",
       " 'St. Kitts and Nevis',\n",
       " 'St. Lucia',\n",
       " 'St. Vincent and the Grenadines',\n",
       " 'Syria',\n",
       " 'São Tomé and Príncipe',\n",
       " 'Taiwan Province of China',\n",
       " 'Tanzania',\n",
       " 'The Bahamas',\n",
       " 'The Gambia',\n",
       " 'The Netherlands',\n",
       " 'Timor-Leste',\n",
       " 'Türkiye',\n",
       " 'United States',\n",
       " 'Vietnam',\n",
       " 'West Bank and Gaza'}"
      ]
     },
     "execution_count": 63,
     "metadata": {},
     "output_type": "execute_result"
    }
   ],
   "source": [
    "q"
   ]
  },
  {
   "cell_type": "code",
   "execution_count": 64,
   "id": "285b2599-5102-4d06-bac9-f7a310bd74da",
   "metadata": {},
   "outputs": [
    {
     "name": "stderr",
     "output_type": "stream",
     "text": [
      "C:\\Users\\Lenovo\\AppData\\Local\\Temp\\ipykernel_18360\\3250930496.py:1: SettingWithCopyWarning: \n",
      "A value is trying to be set on a copy of a slice from a DataFrame\n",
      "\n",
      "See the caveats in the documentation: https://pandas.pydata.org/pandas-docs/stable/user_guide/indexing.html#returning-a-view-versus-a-copy\n",
      "  node_unique.loc[node_unique['country'] == 'Bahamas', 'country'] = 'The Bahamas'\n",
      "C:\\Users\\Lenovo\\AppData\\Local\\Temp\\ipykernel_18360\\3250930496.py:2: SettingWithCopyWarning: \n",
      "A value is trying to be set on a copy of a slice from a DataFrame\n",
      "\n",
      "See the caveats in the documentation: https://pandas.pydata.org/pandas-docs/stable/user_guide/indexing.html#returning-a-view-versus-a-copy\n",
      "  node_unique.loc[node_unique['country'] == 'Belgium and Luxembourg', 'country'] = 'Belgium'\n",
      "C:\\Users\\Lenovo\\AppData\\Local\\Temp\\ipykernel_18360\\3250930496.py:3: SettingWithCopyWarning: \n",
      "A value is trying to be set on a copy of a slice from a DataFrame\n",
      "\n",
      "See the caveats in the documentation: https://pandas.pydata.org/pandas-docs/stable/user_guide/indexing.html#returning-a-view-versus-a-copy\n",
      "  node_unique.loc[node_unique['country'] ==  'Burma', 'country'] = 'Myanmar'\n",
      "C:\\Users\\Lenovo\\AppData\\Local\\Temp\\ipykernel_18360\\3250930496.py:4: SettingWithCopyWarning: \n",
      "A value is trying to be set on a copy of a slice from a DataFrame\n",
      "\n",
      "See the caveats in the documentation: https://pandas.pydata.org/pandas-docs/stable/user_guide/indexing.html#returning-a-view-versus-a-copy\n",
      "  node_unique.loc[node_unique['country'] ==  'Cape Verde', 'country'] = 'Cabo Verde'\n",
      "C:\\Users\\Lenovo\\AppData\\Local\\Temp\\ipykernel_18360\\3250930496.py:5: SettingWithCopyWarning: \n",
      "A value is trying to be set on a copy of a slice from a DataFrame\n",
      "\n",
      "See the caveats in the documentation: https://pandas.pydata.org/pandas-docs/stable/user_guide/indexing.html#returning-a-view-versus-a-copy\n",
      "  node_unique.loc[node_unique['country'] ==  'East Timor', 'country'] =  'Timor-Leste'\n",
      "C:\\Users\\Lenovo\\AppData\\Local\\Temp\\ipykernel_18360\\3250930496.py:6: SettingWithCopyWarning: \n",
      "A value is trying to be set on a copy of a slice from a DataFrame\n",
      "\n",
      "See the caveats in the documentation: https://pandas.pydata.org/pandas-docs/stable/user_guide/indexing.html#returning-a-view-versus-a-copy\n",
      "  node_unique.loc[node_unique['country'] ==  'Gambia', 'country'] =  'The Gambia'\n",
      "C:\\Users\\Lenovo\\AppData\\Local\\Temp\\ipykernel_18360\\3250930496.py:7: SettingWithCopyWarning: \n",
      "A value is trying to be set on a copy of a slice from a DataFrame\n",
      "\n",
      "See the caveats in the documentation: https://pandas.pydata.org/pandas-docs/stable/user_guide/indexing.html#returning-a-view-versus-a-copy\n",
      "  node_unique.loc[node_unique['country'] == 'Hong Kong', 'country'] = 'Hong Kong SAR'\n",
      "C:\\Users\\Lenovo\\AppData\\Local\\Temp\\ipykernel_18360\\3250930496.py:8: SettingWithCopyWarning: \n",
      "A value is trying to be set on a copy of a slice from a DataFrame\n",
      "\n",
      "See the caveats in the documentation: https://pandas.pydata.org/pandas-docs/stable/user_guide/indexing.html#returning-a-view-versus-a-copy\n",
      "  node_unique.loc[node_unique['country'] == 'Kazakstan', 'country'] = 'Kazakhstan'\n",
      "C:\\Users\\Lenovo\\AppData\\Local\\Temp\\ipykernel_18360\\3250930496.py:9: SettingWithCopyWarning: \n",
      "A value is trying to be set on a copy of a slice from a DataFrame\n",
      "\n",
      "See the caveats in the documentation: https://pandas.pydata.org/pandas-docs/stable/user_guide/indexing.html#returning-a-view-versus-a-copy\n",
      "  node_unique.loc[node_unique['country'] == \"Korea, Dem. People's Rep. of\", 'country'] = \"Korea\"\n",
      "C:\\Users\\Lenovo\\AppData\\Local\\Temp\\ipykernel_18360\\3250930496.py:10: SettingWithCopyWarning: \n",
      "A value is trying to be set on a copy of a slice from a DataFrame\n",
      "\n",
      "See the caveats in the documentation: https://pandas.pydata.org/pandas-docs/stable/user_guide/indexing.html#returning-a-view-versus-a-copy\n",
      "  node_unique.loc[node_unique['country'] =='Kyrgyzstan', 'country'] = 'Kyrgyz Republic'\n",
      "C:\\Users\\Lenovo\\AppData\\Local\\Temp\\ipykernel_18360\\3250930496.py:11: SettingWithCopyWarning: \n",
      "A value is trying to be set on a copy of a slice from a DataFrame\n",
      "\n",
      "See the caveats in the documentation: https://pandas.pydata.org/pandas-docs/stable/user_guide/indexing.html#returning-a-view-versus-a-copy\n",
      "  node_unique.loc[node_unique['country'] == \"Lao People's Democratic Republic\", 'country'] =  'Lao P.D.R.'\n",
      "C:\\Users\\Lenovo\\AppData\\Local\\Temp\\ipykernel_18360\\3250930496.py:12: SettingWithCopyWarning: \n",
      "A value is trying to be set on a copy of a slice from a DataFrame\n",
      "\n",
      "See the caveats in the documentation: https://pandas.pydata.org/pandas-docs/stable/user_guide/indexing.html#returning-a-view-versus-a-copy\n",
      "  node_unique.loc[node_unique['country'] == 'Libyan Arab Jamahiriya', 'country'] = 'Libya'\n",
      "C:\\Users\\Lenovo\\AppData\\Local\\Temp\\ipykernel_18360\\3250930496.py:13: SettingWithCopyWarning: \n",
      "A value is trying to be set on a copy of a slice from a DataFrame\n",
      "\n",
      "See the caveats in the documentation: https://pandas.pydata.org/pandas-docs/stable/user_guide/indexing.html#returning-a-view-versus-a-copy\n",
      "  node_unique.loc[node_unique['country'] == 'Macau (Aomen)', 'country'] = 'Macao SAR'\n",
      "C:\\Users\\Lenovo\\AppData\\Local\\Temp\\ipykernel_18360\\3250930496.py:14: SettingWithCopyWarning: \n",
      "A value is trying to be set on a copy of a slice from a DataFrame\n",
      "\n",
      "See the caveats in the documentation: https://pandas.pydata.org/pandas-docs/stable/user_guide/indexing.html#returning-a-view-versus-a-copy\n",
      "  node_unique.loc[node_unique['country'] == 'Macedonia (the former Yugoslav Rep. of)', 'country'] = 'North Macedonia'\n",
      "C:\\Users\\Lenovo\\AppData\\Local\\Temp\\ipykernel_18360\\3250930496.py:15: SettingWithCopyWarning: \n",
      "A value is trying to be set on a copy of a slice from a DataFrame\n",
      "\n",
      "See the caveats in the documentation: https://pandas.pydata.org/pandas-docs/stable/user_guide/indexing.html#returning-a-view-versus-a-copy\n",
      "  node_unique.loc[node_unique['country'] == 'Micronesia (Federated States of)', 'country'] = 'Micronesia'\n",
      "C:\\Users\\Lenovo\\AppData\\Local\\Temp\\ipykernel_18360\\3250930496.py:16: SettingWithCopyWarning: \n",
      "A value is trying to be set on a copy of a slice from a DataFrame\n",
      "\n",
      "See the caveats in the documentation: https://pandas.pydata.org/pandas-docs/stable/user_guide/indexing.html#returning-a-view-versus-a-copy\n",
      "  node_unique.loc[node_unique['country'] == 'Moldova, Rep.of', 'country'] = 'Moldova'\n",
      "C:\\Users\\Lenovo\\AppData\\Local\\Temp\\ipykernel_18360\\3250930496.py:17: SettingWithCopyWarning: \n",
      "A value is trying to be set on a copy of a slice from a DataFrame\n",
      "\n",
      "See the caveats in the documentation: https://pandas.pydata.org/pandas-docs/stable/user_guide/indexing.html#returning-a-view-versus-a-copy\n",
      "  node_unique.loc[node_unique['country'] == 'Netherlands', 'country'] = 'The Netherlands'\n",
      "C:\\Users\\Lenovo\\AppData\\Local\\Temp\\ipykernel_18360\\3250930496.py:18: SettingWithCopyWarning: \n",
      "A value is trying to be set on a copy of a slice from a DataFrame\n",
      "\n",
      "See the caveats in the documentation: https://pandas.pydata.org/pandas-docs/stable/user_guide/indexing.html#returning-a-view-versus-a-copy\n",
      "  node_unique.loc[node_unique['country'] == 'Palestine', 'country'] = 'West Bank and Gaza'\n",
      "C:\\Users\\Lenovo\\AppData\\Local\\Temp\\ipykernel_18360\\3250930496.py:19: SettingWithCopyWarning: \n",
      "A value is trying to be set on a copy of a slice from a DataFrame\n",
      "\n",
      "See the caveats in the documentation: https://pandas.pydata.org/pandas-docs/stable/user_guide/indexing.html#returning-a-view-versus-a-copy\n",
      "  node_unique.loc[node_unique['country'] == 'Russian Federation', 'country'] = 'Russia'\n",
      "C:\\Users\\Lenovo\\AppData\\Local\\Temp\\ipykernel_18360\\3250930496.py:20: SettingWithCopyWarning: \n",
      "A value is trying to be set on a copy of a slice from a DataFrame\n",
      "\n",
      "See the caveats in the documentation: https://pandas.pydata.org/pandas-docs/stable/user_guide/indexing.html#returning-a-view-versus-a-copy\n",
      "  node_unique.loc[node_unique['country'] == 'Saint Kitts and Nevis', 'country'] = 'St. Kitts and Nevis'\n",
      "C:\\Users\\Lenovo\\AppData\\Local\\Temp\\ipykernel_18360\\3250930496.py:21: SettingWithCopyWarning: \n",
      "A value is trying to be set on a copy of a slice from a DataFrame\n",
      "\n",
      "See the caveats in the documentation: https://pandas.pydata.org/pandas-docs/stable/user_guide/indexing.html#returning-a-view-versus-a-copy\n",
      "  node_unique.loc[node_unique['country'] == 'Saint Lucia', 'country'] = 'St. Lucia'\n",
      "C:\\Users\\Lenovo\\AppData\\Local\\Temp\\ipykernel_18360\\3250930496.py:22: SettingWithCopyWarning: \n",
      "A value is trying to be set on a copy of a slice from a DataFrame\n",
      "\n",
      "See the caveats in the documentation: https://pandas.pydata.org/pandas-docs/stable/user_guide/indexing.html#returning-a-view-versus-a-copy\n",
      "  node_unique.loc[node_unique['country'] == 'Saint Vincent and the Grenadines', 'country'] = 'St. Vincent and the Grenadines'\n",
      "C:\\Users\\Lenovo\\AppData\\Local\\Temp\\ipykernel_18360\\3250930496.py:23: SettingWithCopyWarning: \n",
      "A value is trying to be set on a copy of a slice from a DataFrame\n",
      "\n",
      "See the caveats in the documentation: https://pandas.pydata.org/pandas-docs/stable/user_guide/indexing.html#returning-a-view-versus-a-copy\n",
      "  node_unique.loc[node_unique['country'] == 'Sao Tome and Principe', 'country'] = 'São Tomé and Príncipe'\n",
      "C:\\Users\\Lenovo\\AppData\\Local\\Temp\\ipykernel_18360\\3250930496.py:24: SettingWithCopyWarning: \n",
      "A value is trying to be set on a copy of a slice from a DataFrame\n",
      "\n",
      "See the caveats in the documentation: https://pandas.pydata.org/pandas-docs/stable/user_guide/indexing.html#returning-a-view-versus-a-copy\n",
      "  node_unique.loc[node_unique['country'] == 'Serbia and Montenegro', 'country'] = 'Serbia'\n",
      "C:\\Users\\Lenovo\\AppData\\Local\\Temp\\ipykernel_18360\\3250930496.py:25: SettingWithCopyWarning: \n",
      "A value is trying to be set on a copy of a slice from a DataFrame\n",
      "\n",
      "See the caveats in the documentation: https://pandas.pydata.org/pandas-docs/stable/user_guide/indexing.html#returning-a-view-versus-a-copy\n",
      "  node_unique.loc[node_unique['country'] == 'Slovakia', 'country'] = 'Slovak Republic'\n",
      "C:\\Users\\Lenovo\\AppData\\Local\\Temp\\ipykernel_18360\\3250930496.py:26: SettingWithCopyWarning: \n",
      "A value is trying to be set on a copy of a slice from a DataFrame\n",
      "\n",
      "See the caveats in the documentation: https://pandas.pydata.org/pandas-docs/stable/user_guide/indexing.html#returning-a-view-versus-a-copy\n",
      "  node_unique.loc[node_unique['country'] == 'Swaziland', 'country'] = 'Eswatini'\n",
      "C:\\Users\\Lenovo\\AppData\\Local\\Temp\\ipykernel_18360\\3250930496.py:27: SettingWithCopyWarning: \n",
      "A value is trying to be set on a copy of a slice from a DataFrame\n",
      "\n",
      "See the caveats in the documentation: https://pandas.pydata.org/pandas-docs/stable/user_guide/indexing.html#returning-a-view-versus-a-copy\n",
      "  node_unique.loc[node_unique['country'] == 'Syrian Arab Republic', 'country'] =  'Syria'\n",
      "C:\\Users\\Lenovo\\AppData\\Local\\Temp\\ipykernel_18360\\3250930496.py:28: SettingWithCopyWarning: \n",
      "A value is trying to be set on a copy of a slice from a DataFrame\n",
      "\n",
      "See the caveats in the documentation: https://pandas.pydata.org/pandas-docs/stable/user_guide/indexing.html#returning-a-view-versus-a-copy\n",
      "  node_unique.loc[node_unique['country'] ==  'Taiwan', 'country'] =   'Taiwan Province of China'\n",
      "C:\\Users\\Lenovo\\AppData\\Local\\Temp\\ipykernel_18360\\3250930496.py:29: SettingWithCopyWarning: \n",
      "A value is trying to be set on a copy of a slice from a DataFrame\n",
      "\n",
      "See the caveats in the documentation: https://pandas.pydata.org/pandas-docs/stable/user_guide/indexing.html#returning-a-view-versus-a-copy\n",
      "  node_unique.loc[node_unique['country'] ==  'Tanzania, United Rep. of ', 'country'] =  'Tanzania'\n",
      "C:\\Users\\Lenovo\\AppData\\Local\\Temp\\ipykernel_18360\\3250930496.py:30: SettingWithCopyWarning: \n",
      "A value is trying to be set on a copy of a slice from a DataFrame\n",
      "\n",
      "See the caveats in the documentation: https://pandas.pydata.org/pandas-docs/stable/user_guide/indexing.html#returning-a-view-versus-a-copy\n",
      "  node_unique.loc[node_unique['country'] ==  'Turkey', 'country'] =  'Türkiye'\n",
      "C:\\Users\\Lenovo\\AppData\\Local\\Temp\\ipykernel_18360\\3250930496.py:31: SettingWithCopyWarning: \n",
      "A value is trying to be set on a copy of a slice from a DataFrame\n",
      "\n",
      "See the caveats in the documentation: https://pandas.pydata.org/pandas-docs/stable/user_guide/indexing.html#returning-a-view-versus-a-copy\n",
      "  node_unique.loc[node_unique['country'] ==  'United States of America', 'country'] =  'United States'\n",
      "C:\\Users\\Lenovo\\AppData\\Local\\Temp\\ipykernel_18360\\3250930496.py:32: SettingWithCopyWarning: \n",
      "A value is trying to be set on a copy of a slice from a DataFrame\n",
      "\n",
      "See the caveats in the documentation: https://pandas.pydata.org/pandas-docs/stable/user_guide/indexing.html#returning-a-view-versus-a-copy\n",
      "  node_unique.loc[node_unique['country'] ==  'Viet Nam', 'country'] =  'Vietnam'\n",
      "C:\\Users\\Lenovo\\AppData\\Local\\Temp\\ipykernel_18360\\3250930496.py:33: SettingWithCopyWarning: \n",
      "A value is trying to be set on a copy of a slice from a DataFrame\n",
      "\n",
      "See the caveats in the documentation: https://pandas.pydata.org/pandas-docs/stable/user_guide/indexing.html#returning-a-view-versus-a-copy\n",
      "  node_unique.loc[node_unique['country'] ==  'Congo', 'country'] =  'Republic of Congo'\n",
      "C:\\Users\\Lenovo\\AppData\\Local\\Temp\\ipykernel_18360\\3250930496.py:34: SettingWithCopyWarning: \n",
      "A value is trying to be set on a copy of a slice from a DataFrame\n",
      "\n",
      "See the caveats in the documentation: https://pandas.pydata.org/pandas-docs/stable/user_guide/indexing.html#returning-a-view-versus-a-copy\n",
      "  node_unique.loc[node_unique['country'] ==  'Congo (Democratic Republic of the)', 'country'] =  'Democratic Republic of the Congo'\n"
     ]
    }
   ],
   "source": [
    "node_unique.loc[node_unique['country'] == 'Bahamas', 'country'] = 'The Bahamas'\n",
    "node_unique.loc[node_unique['country'] == 'Belgium and Luxembourg', 'country'] = 'Belgium'\n",
    "node_unique.loc[node_unique['country'] ==  'Burma', 'country'] = 'Myanmar'\n",
    "node_unique.loc[node_unique['country'] ==  'Cape Verde', 'country'] = 'Cabo Verde'\n",
    "node_unique.loc[node_unique['country'] ==  'East Timor', 'country'] =  'Timor-Leste'\n",
    "node_unique.loc[node_unique['country'] ==  'Gambia', 'country'] =  'The Gambia'\n",
    "node_unique.loc[node_unique['country'] == 'Hong Kong', 'country'] = 'Hong Kong SAR'\n",
    "node_unique.loc[node_unique['country'] == 'Kazakstan', 'country'] = 'Kazakhstan'\n",
    "node_unique.loc[node_unique['country'] == \"Korea, Dem. People's Rep. of\", 'country'] = \"Korea\"\n",
    "node_unique.loc[node_unique['country'] =='Kyrgyzstan', 'country'] = 'Kyrgyz Republic'\n",
    "node_unique.loc[node_unique['country'] == \"Lao People's Democratic Republic\", 'country'] =  'Lao P.D.R.'\n",
    "node_unique.loc[node_unique['country'] == 'Libyan Arab Jamahiriya', 'country'] = 'Libya'\n",
    "node_unique.loc[node_unique['country'] == 'Macau (Aomen)', 'country'] = 'Macao SAR'\n",
    "node_unique.loc[node_unique['country'] == 'Macedonia (the former Yugoslav Rep. of)', 'country'] = 'North Macedonia'\n",
    "node_unique.loc[node_unique['country'] == 'Micronesia (Federated States of)', 'country'] = 'Micronesia'\n",
    "node_unique.loc[node_unique['country'] == 'Moldova, Rep.of', 'country'] = 'Moldova'\n",
    "node_unique.loc[node_unique['country'] == 'Netherlands', 'country'] = 'The Netherlands'\n",
    "node_unique.loc[node_unique['country'] == 'Palestine', 'country'] = 'West Bank and Gaza'\n",
    "node_unique.loc[node_unique['country'] == 'Russian Federation', 'country'] = 'Russia'\n",
    "node_unique.loc[node_unique['country'] == 'Saint Kitts and Nevis', 'country'] = 'St. Kitts and Nevis'\n",
    "node_unique.loc[node_unique['country'] == 'Saint Lucia', 'country'] = 'St. Lucia'\n",
    "node_unique.loc[node_unique['country'] == 'Saint Vincent and the Grenadines', 'country'] = 'St. Vincent and the Grenadines'\n",
    "node_unique.loc[node_unique['country'] == 'Sao Tome and Principe', 'country'] = 'São Tomé and Príncipe'\n",
    "node_unique.loc[node_unique['country'] == 'Serbia and Montenegro', 'country'] = 'Serbia'\n",
    "node_unique.loc[node_unique['country'] == 'Slovakia', 'country'] = 'Slovak Republic'\n",
    "node_unique.loc[node_unique['country'] == 'Swaziland', 'country'] = 'Eswatini'\n",
    "node_unique.loc[node_unique['country'] == 'Syrian Arab Republic', 'country'] =  'Syria'\n",
    "node_unique.loc[node_unique['country'] ==  'Taiwan', 'country'] =   'Taiwan Province of China'\n",
    "node_unique.loc[node_unique['country'] ==  'Tanzania, United Rep. of ', 'country'] =  'Tanzania'\n",
    "node_unique.loc[node_unique['country'] ==  'Turkey', 'country'] =  'Türkiye'\n",
    "node_unique.loc[node_unique['country'] ==  'United States of America', 'country'] =  'United States'\n",
    "node_unique.loc[node_unique['country'] ==  'Viet Nam', 'country'] =  'Vietnam'\n",
    "node_unique.loc[node_unique['country'] ==  'Congo', 'country'] =  'Republic of Congo'\n",
    "node_unique.loc[node_unique['country'] ==  'Congo (Democratic Republic of the)', 'country'] =  'Democratic Republic of the Congo'"
   ]
  },
  {
   "cell_type": "code",
   "execution_count": 65,
   "id": "de2bcf63-d803-4353-b6e3-1fe286b7831b",
   "metadata": {},
   "outputs": [],
   "source": [
    "nodeUnique_imf = node_unique.merge(imf, on = 'country', how='left')"
   ]
  },
  {
   "cell_type": "code",
   "execution_count": 66,
   "id": "507bfb6f-3a9f-46be-9251-2a8b1607f08e",
   "metadata": {},
   "outputs": [],
   "source": [
    "nodeUnique_imf = nodeUnique_imf[nodeUnique_imf['iso_o'].isin(countries)]"
   ]
  },
  {
   "cell_type": "code",
   "execution_count": 67,
   "id": "6d9a76ce-54fa-4775-bb9c-9cbfd2d1f2ea",
   "metadata": {},
   "outputs": [
    {
     "name": "stdout",
     "output_type": "stream",
     "text": [
      "196\n",
      "224\n",
      "75\n"
     ]
    }
   ],
   "source": [
    "print(imf['country'].nunique())\n",
    "print(node_unique['country'].nunique())\n",
    "print(nodeUnique_imf['country'].nunique())"
   ]
  },
  {
   "cell_type": "code",
   "execution_count": 68,
   "id": "fd51f714-babc-4055-90bd-e2408c0f7c64",
   "metadata": {},
   "outputs": [
    {
     "data": {
      "text/plain": [
       "category\n",
       "Emerging and Developing Economies    38\n",
       "Advanced Economies                   37\n",
       "Name: count, dtype: int64"
      ]
     },
     "execution_count": 68,
     "metadata": {},
     "output_type": "execute_result"
    }
   ],
   "source": [
    "nodeUnique_imf['category'].value_counts()"
   ]
  },
  {
   "cell_type": "code",
   "execution_count": 69,
   "id": "daead1be-58ae-45ec-a735-b865006eb747",
   "metadata": {},
   "outputs": [
    {
     "data": {
      "text/plain": [
       "0"
      ]
     },
     "execution_count": 69,
     "metadata": {},
     "output_type": "execute_result"
    }
   ],
   "source": [
    "nodeUnique_imf['category'].isna().sum()"
   ]
  },
  {
   "cell_type": "code",
   "execution_count": 70,
   "id": "3b5cbae0-10b8-41bf-9689-461a29eb9948",
   "metadata": {},
   "outputs": [
    {
     "data": {
      "text/html": [
       "<div>\n",
       "<style scoped>\n",
       "    .dataframe tbody tr th:only-of-type {\n",
       "        vertical-align: middle;\n",
       "    }\n",
       "\n",
       "    .dataframe tbody tr th {\n",
       "        vertical-align: top;\n",
       "    }\n",
       "\n",
       "    .dataframe thead th {\n",
       "        text-align: right;\n",
       "    }\n",
       "</style>\n",
       "<table border=\"1\" class=\"dataframe\">\n",
       "  <thead>\n",
       "    <tr style=\"text-align: right;\">\n",
       "      <th></th>\n",
       "      <th>iso_o</th>\n",
       "      <th>country</th>\n",
       "      <th>continent</th>\n",
       "      <th>category</th>\n",
       "      <th>development</th>\n",
       "    </tr>\n",
       "  </thead>\n",
       "  <tbody>\n",
       "  </tbody>\n",
       "</table>\n",
       "</div>"
      ],
      "text/plain": [
       "Empty DataFrame\n",
       "Columns: [iso_o, country, continent, category, development]\n",
       "Index: []"
      ]
     },
     "execution_count": 70,
     "metadata": {},
     "output_type": "execute_result"
    }
   ],
   "source": [
    "nodeUnique_imf[nodeUnique_imf['category'].isna()]"
   ]
  },
  {
   "cell_type": "code",
   "execution_count": 71,
   "id": "4088c561-211e-471d-b3e9-f8c06b8b8928",
   "metadata": {},
   "outputs": [
    {
     "name": "stdout",
     "output_type": "stream",
     "text": [
      "75\n"
     ]
    }
   ],
   "source": [
    "print(nodeUnique_imf['country'].nunique())"
   ]
  },
  {
   "cell_type": "code",
   "execution_count": 72,
   "id": "88897361-d4e7-423f-9b79-d4ad0e841ba2",
   "metadata": {},
   "outputs": [
    {
     "name": "stdout",
     "output_type": "stream",
     "text": [
      "77\n",
      "77\n",
      "77\n",
      "77\n"
     ]
    }
   ],
   "source": [
    "print(co2_uni['iso_o'].nunique())\n",
    "print(co2_uni['iso_d'].nunique())\n",
    "print(edgelist_co2['iso_o'].nunique())\n",
    "print(edgelist_co2['iso_d'].nunique())"
   ]
  },
  {
   "cell_type": "code",
   "execution_count": 73,
   "id": "ebc161bf-96ea-445a-9da9-d068df63fb7d",
   "metadata": {},
   "outputs": [
    {
     "data": {
      "text/plain": [
       "{'ROU', 'WXD'}"
      ]
     },
     "execution_count": 73,
     "metadata": {},
     "output_type": "execute_result"
    }
   ],
   "source": [
    "set(co2_uni['iso_o'].unique()) - set(nodeUnique_imf['iso_o'].unique())"
   ]
  },
  {
   "cell_type": "code",
   "execution_count": 74,
   "id": "bf7ef19a-80a9-4f1b-a351-a064dc4c7a9c",
   "metadata": {},
   "outputs": [
    {
     "data": {
      "text/html": [
       "<div>\n",
       "<style scoped>\n",
       "    .dataframe tbody tr th:only-of-type {\n",
       "        vertical-align: middle;\n",
       "    }\n",
       "\n",
       "    .dataframe tbody tr th {\n",
       "        vertical-align: top;\n",
       "    }\n",
       "\n",
       "    .dataframe thead th {\n",
       "        text-align: right;\n",
       "    }\n",
       "</style>\n",
       "<table border=\"1\" class=\"dataframe\">\n",
       "  <thead>\n",
       "    <tr style=\"text-align: right;\">\n",
       "      <th></th>\n",
       "      <th>iso_o</th>\n",
       "      <th>iso_d</th>\n",
       "      <th>TIME_PERIOD</th>\n",
       "      <th>OBS_VALUE</th>\n",
       "    </tr>\n",
       "  </thead>\n",
       "  <tbody>\n",
       "    <tr>\n",
       "      <th>1575</th>\n",
       "      <td>WXD</td>\n",
       "      <td>ARG</td>\n",
       "      <td>2000</td>\n",
       "      <td>5.996</td>\n",
       "    </tr>\n",
       "    <tr>\n",
       "      <th>1576</th>\n",
       "      <td>WXD</td>\n",
       "      <td>ARG</td>\n",
       "      <td>2001</td>\n",
       "      <td>4.401</td>\n",
       "    </tr>\n",
       "    <tr>\n",
       "      <th>1577</th>\n",
       "      <td>WXD</td>\n",
       "      <td>ARG</td>\n",
       "      <td>2002</td>\n",
       "      <td>2.361</td>\n",
       "    </tr>\n",
       "    <tr>\n",
       "      <th>1578</th>\n",
       "      <td>WXD</td>\n",
       "      <td>ARG</td>\n",
       "      <td>2003</td>\n",
       "      <td>2.936</td>\n",
       "    </tr>\n",
       "    <tr>\n",
       "      <th>1579</th>\n",
       "      <td>WXD</td>\n",
       "      <td>ARG</td>\n",
       "      <td>2004</td>\n",
       "      <td>4.421</td>\n",
       "    </tr>\n",
       "    <tr>\n",
       "      <th>...</th>\n",
       "      <td>...</td>\n",
       "      <td>...</td>\n",
       "      <td>...</td>\n",
       "      <td>...</td>\n",
       "    </tr>\n",
       "    <tr>\n",
       "      <th>122866</th>\n",
       "      <td>WXD</td>\n",
       "      <td>ZAF</td>\n",
       "      <td>2016</td>\n",
       "      <td>11.112</td>\n",
       "    </tr>\n",
       "    <tr>\n",
       "      <th>122867</th>\n",
       "      <td>WXD</td>\n",
       "      <td>ZAF</td>\n",
       "      <td>2017</td>\n",
       "      <td>10.813</td>\n",
       "    </tr>\n",
       "    <tr>\n",
       "      <th>122868</th>\n",
       "      <td>WXD</td>\n",
       "      <td>ZAF</td>\n",
       "      <td>2018</td>\n",
       "      <td>13.556</td>\n",
       "    </tr>\n",
       "    <tr>\n",
       "      <th>122869</th>\n",
       "      <td>WXD</td>\n",
       "      <td>ZAF</td>\n",
       "      <td>2019</td>\n",
       "      <td>14.237</td>\n",
       "    </tr>\n",
       "    <tr>\n",
       "      <th>122870</th>\n",
       "      <td>WXD</td>\n",
       "      <td>ZAF</td>\n",
       "      <td>2020</td>\n",
       "      <td>8.245</td>\n",
       "    </tr>\n",
       "  </tbody>\n",
       "</table>\n",
       "<p>1596 rows × 4 columns</p>\n",
       "</div>"
      ],
      "text/plain": [
       "       iso_o iso_d  TIME_PERIOD  OBS_VALUE\n",
       "1575     WXD   ARG         2000      5.996\n",
       "1576     WXD   ARG         2001      4.401\n",
       "1577     WXD   ARG         2002      2.361\n",
       "1578     WXD   ARG         2003      2.936\n",
       "1579     WXD   ARG         2004      4.421\n",
       "...      ...   ...          ...        ...\n",
       "122866   WXD   ZAF         2016     11.112\n",
       "122867   WXD   ZAF         2017     10.813\n",
       "122868   WXD   ZAF         2018     13.556\n",
       "122869   WXD   ZAF         2019     14.237\n",
       "122870   WXD   ZAF         2020      8.245\n",
       "\n",
       "[1596 rows x 4 columns]"
      ]
     },
     "execution_count": 74,
     "metadata": {},
     "output_type": "execute_result"
    }
   ],
   "source": [
    "co2_uni[co2_uni['iso_o'] == 'WXD']"
   ]
  },
  {
   "cell_type": "code",
   "execution_count": 75,
   "id": "413bf95d-55e9-48cc-9330-41c7c2319cee",
   "metadata": {},
   "outputs": [
    {
     "data": {
      "text/html": [
       "<div>\n",
       "<style scoped>\n",
       "    .dataframe tbody tr th:only-of-type {\n",
       "        vertical-align: middle;\n",
       "    }\n",
       "\n",
       "    .dataframe tbody tr th {\n",
       "        vertical-align: top;\n",
       "    }\n",
       "\n",
       "    .dataframe thead th {\n",
       "        text-align: right;\n",
       "    }\n",
       "</style>\n",
       "<table border=\"1\" class=\"dataframe\">\n",
       "  <thead>\n",
       "    <tr style=\"text-align: right;\">\n",
       "      <th></th>\n",
       "      <th>iso_o</th>\n",
       "      <th>country</th>\n",
       "      <th>continent</th>\n",
       "      <th>category</th>\n",
       "      <th>development</th>\n",
       "    </tr>\n",
       "  </thead>\n",
       "  <tbody>\n",
       "  </tbody>\n",
       "</table>\n",
       "</div>"
      ],
      "text/plain": [
       "Empty DataFrame\n",
       "Columns: [iso_o, country, continent, category, development]\n",
       "Index: []"
      ]
     },
     "execution_count": 75,
     "metadata": {},
     "output_type": "execute_result"
    }
   ],
   "source": [
    "nodeUnique_imf[nodeUnique_imf['iso_o'] == 'ROU']"
   ]
  },
  {
   "cell_type": "code",
   "execution_count": 76,
   "id": "c169323c-a332-4bc4-bfe2-7bd8c96c4dee",
   "metadata": {},
   "outputs": [],
   "source": [
    "Romania = ['ROU', 'Romania', 'Europe', 'Emerging and Developing Economies', 0]\n",
    "nodeUnique_imf.loc[len(nodeUnique_imf)] = Romania"
   ]
  },
  {
   "cell_type": "code",
   "execution_count": 77,
   "id": "4a511f0d-f48a-407f-9386-e091d97e16c7",
   "metadata": {},
   "outputs": [
    {
     "data": {
      "text/plain": [
       "continent\n",
       "Europe     34\n",
       "Asia       23\n",
       "America     9\n",
       "Africa      8\n",
       "Pacific     2\n",
       "Name: count, dtype: int64"
      ]
     },
     "execution_count": 77,
     "metadata": {},
     "output_type": "execute_result"
    }
   ],
   "source": [
    "nodeUnique_imf['continent'].value_counts()"
   ]
  },
  {
   "cell_type": "code",
   "execution_count": 78,
   "id": "425895d0-4e44-48e6-b707-706f94e559ef",
   "metadata": {},
   "outputs": [
    {
     "data": {
      "text/plain": [
       "76"
      ]
     },
     "execution_count": 78,
     "metadata": {},
     "output_type": "execute_result"
    }
   ],
   "source": [
    "nodeUnique_imf['iso_o'].nunique()"
   ]
  },
  {
   "cell_type": "code",
   "execution_count": 79,
   "id": "2c8ecbc2-a44e-4b79-ab4f-c21135087588",
   "metadata": {},
   "outputs": [
    {
     "data": {
      "text/html": [
       "<div>\n",
       "<style scoped>\n",
       "    .dataframe tbody tr th:only-of-type {\n",
       "        vertical-align: middle;\n",
       "    }\n",
       "\n",
       "    .dataframe tbody tr th {\n",
       "        vertical-align: top;\n",
       "    }\n",
       "\n",
       "    .dataframe thead th {\n",
       "        text-align: right;\n",
       "    }\n",
       "</style>\n",
       "<table border=\"1\" class=\"dataframe\">\n",
       "  <thead>\n",
       "    <tr style=\"text-align: right;\">\n",
       "      <th></th>\n",
       "      <th>iso_o</th>\n",
       "      <th>country</th>\n",
       "      <th>continent</th>\n",
       "      <th>category</th>\n",
       "      <th>development</th>\n",
       "    </tr>\n",
       "  </thead>\n",
       "  <tbody>\n",
       "    <tr>\n",
       "      <th>9</th>\n",
       "      <td>ARG</td>\n",
       "      <td>Argentina</td>\n",
       "      <td>America</td>\n",
       "      <td>Emerging and Developing Economies</td>\n",
       "      <td>0.0</td>\n",
       "    </tr>\n",
       "    <tr>\n",
       "      <th>10</th>\n",
       "      <td>AUT</td>\n",
       "      <td>Austria</td>\n",
       "      <td>Europe</td>\n",
       "      <td>Advanced Economies</td>\n",
       "      <td>1.0</td>\n",
       "    </tr>\n",
       "    <tr>\n",
       "      <th>11</th>\n",
       "      <td>AUS</td>\n",
       "      <td>Australia</td>\n",
       "      <td>Pacific</td>\n",
       "      <td>Advanced Economies</td>\n",
       "      <td>1.0</td>\n",
       "    </tr>\n",
       "    <tr>\n",
       "      <th>16</th>\n",
       "      <td>BGD</td>\n",
       "      <td>Bangladesh</td>\n",
       "      <td>Asia</td>\n",
       "      <td>Emerging and Developing Economies</td>\n",
       "      <td>0.0</td>\n",
       "    </tr>\n",
       "    <tr>\n",
       "      <th>17</th>\n",
       "      <td>BEL</td>\n",
       "      <td>Belgium</td>\n",
       "      <td>Europe</td>\n",
       "      <td>Advanced Economies</td>\n",
       "      <td>1.0</td>\n",
       "    </tr>\n",
       "  </tbody>\n",
       "</table>\n",
       "</div>"
      ],
      "text/plain": [
       "   iso_o     country continent                           category  development\n",
       "9    ARG   Argentina   America  Emerging and Developing Economies          0.0\n",
       "10   AUT     Austria    Europe                 Advanced Economies          1.0\n",
       "11   AUS   Australia   Pacific                 Advanced Economies          1.0\n",
       "16   BGD  Bangladesh      Asia  Emerging and Developing Economies          0.0\n",
       "17   BEL     Belgium    Europe                 Advanced Economies          1.0"
      ]
     },
     "execution_count": 79,
     "metadata": {},
     "output_type": "execute_result"
    }
   ],
   "source": [
    "nodeUnique_imf.head()"
   ]
  },
  {
   "cell_type": "markdown",
   "id": "c6fa0364-f91f-4ef3-8670-4091d97149ee",
   "metadata": {},
   "source": [
    "# Time Varying Data"
   ]
  },
  {
   "cell_type": "markdown",
   "id": "37e49a8f-19a9-466f-b016-da71c3190380",
   "metadata": {},
   "source": [
    "### Internet Penetration"
   ]
  },
  {
   "cell_type": "code",
   "execution_count": 80,
   "id": "55bf3ac7-25c5-4abc-8fe9-972e3c0ef551",
   "metadata": {},
   "outputs": [],
   "source": [
    "internet = pd.read_csv('../data/raw/702e5907-a97c-4e0a-9f8f-511ea9b80ab0_Data.csv')"
   ]
  },
  {
   "cell_type": "code",
   "execution_count": 84,
   "id": "0e4af4e0-0c36-4ceb-80c4-5595cdc78b2c",
   "metadata": {},
   "outputs": [
    {
     "data": {
      "text/plain": [
       "iso_o    0\n",
       "1999     0\n",
       "2000     0\n",
       "2001     0\n",
       "2002     0\n",
       "2003     0\n",
       "2004     0\n",
       "2005     0\n",
       "2006     0\n",
       "2007     0\n",
       "2008     0\n",
       "2009     0\n",
       "2010     0\n",
       "2011     0\n",
       "2012     0\n",
       "2013     0\n",
       "2014     0\n",
       "2015     0\n",
       "2016     0\n",
       "2017     0\n",
       "2018     0\n",
       "2019     0\n",
       "2020     0\n",
       "dtype: int64"
      ]
     },
     "execution_count": 84,
     "metadata": {},
     "output_type": "execute_result"
    }
   ],
   "source": [
    "internet.isna().sum()"
   ]
  },
  {
   "cell_type": "code",
   "execution_count": 83,
   "id": "26b48930-7a38-47f7-bd95-ee337407f78a",
   "metadata": {},
   "outputs": [],
   "source": [
    "internet = internet.iloc[:265, :]\n",
    "internet = internet.rename(columns = {'Country Code': 'iso_o'})\n",
    "internet.columns = internet.columns.str.replace(r' \\[YR\\d+\\]', '', regex=True)\n",
    "internet.columns.values[4:] = pd.to_numeric(internet.columns[4:], errors='coerce').astype('Int64')\n",
    "internet = internet.drop(columns= ['Country Name', 'Series Name', 'Series Code'])"
   ]
  },
  {
   "cell_type": "code",
   "execution_count": 85,
   "id": "ab2e6aa6-42cf-4af7-a499-05c75250d46a",
   "metadata": {},
   "outputs": [
    {
     "data": {
      "text/plain": [
       "Index(['iso_o',    1999,    2000,    2001,    2002,    2003,    2004,    2005,\n",
       "          2006,    2007,    2008,    2009,    2010,    2011,    2012,    2013,\n",
       "          2014,    2015,    2016,    2017,    2018,    2019,    2020],\n",
       "      dtype='object')"
      ]
     },
     "execution_count": 85,
     "metadata": {},
     "output_type": "execute_result"
    }
   ],
   "source": [
    "internet.columns"
   ]
  },
  {
   "cell_type": "code",
   "execution_count": 86,
   "id": "ff50a6a5-8772-44cb-ae53-e6c61f459fd7",
   "metadata": {},
   "outputs": [],
   "source": [
    "year = list(range(1999, 2021))\n",
    "internet[year] = internet[year].replace('..', np.nan)\n",
    "internet[year] = internet[year].apply(lambda x: pd.to_numeric(x, errors='coerce')).round(2)\n",
    "internet = internet[internet['iso_o'].isin(countries)]\n",
    "internet = internet.reset_index(drop = True)"
   ]
  },
  {
   "cell_type": "code",
   "execution_count": 89,
   "id": "5442b981-bf17-43c4-8536-1ef8f6902da7",
   "metadata": {},
   "outputs": [
    {
     "data": {
      "text/plain": [
       "iso_o    0\n",
       "1999     0\n",
       "2000     0\n",
       "2001     0\n",
       "2002     0\n",
       "2003     0\n",
       "2004     0\n",
       "2005     0\n",
       "2006     0\n",
       "2007     0\n",
       "2008     0\n",
       "2009     0\n",
       "2010     0\n",
       "2011     0\n",
       "2012     0\n",
       "2013     0\n",
       "2014     0\n",
       "2015     0\n",
       "2016     0\n",
       "2017     0\n",
       "2018     0\n",
       "2019     0\n",
       "2020     0\n",
       "dtype: int64"
      ]
     },
     "execution_count": 89,
     "metadata": {},
     "output_type": "execute_result"
    }
   ],
   "source": [
    "internet.isna().sum()"
   ]
  },
  {
   "cell_type": "code",
   "execution_count": 88,
   "id": "f1ecee13-dc06-4e00-a88e-545d4f7bc4c5",
   "metadata": {},
   "outputs": [],
   "source": [
    "internet[year] = internet[year].fillna(internet[year].mean())"
   ]
  },
  {
   "cell_type": "code",
   "execution_count": 90,
   "id": "f5534634-c27d-47cf-8ee7-e7d6b7073cb8",
   "metadata": {},
   "outputs": [],
   "source": [
    "internet_long = internet.set_index('iso_o').stack().reset_index()"
   ]
  },
  {
   "cell_type": "code",
   "execution_count": 91,
   "id": "3934acc6-2566-4e6a-9f97-aacf0f4a521c",
   "metadata": {},
   "outputs": [
    {
     "data": {
      "text/html": [
       "<div>\n",
       "<style scoped>\n",
       "    .dataframe tbody tr th:only-of-type {\n",
       "        vertical-align: middle;\n",
       "    }\n",
       "\n",
       "    .dataframe tbody tr th {\n",
       "        vertical-align: top;\n",
       "    }\n",
       "\n",
       "    .dataframe thead th {\n",
       "        text-align: right;\n",
       "    }\n",
       "</style>\n",
       "<table border=\"1\" class=\"dataframe\">\n",
       "  <thead>\n",
       "    <tr style=\"text-align: right;\">\n",
       "      <th></th>\n",
       "      <th>iso_o</th>\n",
       "      <th>level_1</th>\n",
       "      <th>0</th>\n",
       "    </tr>\n",
       "  </thead>\n",
       "  <tbody>\n",
       "    <tr>\n",
       "      <th>0</th>\n",
       "      <td>ARG</td>\n",
       "      <td>1999</td>\n",
       "      <td>3.28</td>\n",
       "    </tr>\n",
       "    <tr>\n",
       "      <th>1</th>\n",
       "      <td>ARG</td>\n",
       "      <td>2000</td>\n",
       "      <td>7.04</td>\n",
       "    </tr>\n",
       "  </tbody>\n",
       "</table>\n",
       "</div>"
      ],
      "text/plain": [
       "  iso_o  level_1     0\n",
       "0   ARG     1999  3.28\n",
       "1   ARG     2000  7.04"
      ]
     },
     "execution_count": 91,
     "metadata": {},
     "output_type": "execute_result"
    }
   ],
   "source": [
    "internet_long.head(2)"
   ]
  },
  {
   "cell_type": "code",
   "execution_count": 92,
   "id": "9ad8d8c7-f7b6-4a2c-88ea-43e10e8fd32c",
   "metadata": {},
   "outputs": [],
   "source": [
    "internet_long = internet_long.rename(columns= {'level_1': 'TIME_PERIOD'})\n",
    "internet_long = internet_long.rename(columns= {0: 'internet'})"
   ]
  },
  {
   "cell_type": "code",
   "execution_count": 93,
   "id": "bfb923fb-57c4-480b-9d1b-b3c81a3edc64",
   "metadata": {},
   "outputs": [],
   "source": [
    "assert internet_long['iso_o'].nunique() == internet['iso_o'].nunique()"
   ]
  },
  {
   "cell_type": "markdown",
   "id": "e9e4a46a-ced4-4d6f-9c12-62d2a1851922",
   "metadata": {},
   "source": [
    "### GDP per capita"
   ]
  },
  {
   "cell_type": "code",
   "execution_count": 94,
   "id": "41688138-bbaf-4954-a22e-7deb3141c2a0",
   "metadata": {},
   "outputs": [],
   "source": [
    "gdp_pct = pd.read_csv('../data/raw/ad57150c-c77e-4bee-bb87-4174bb32e6a0_Data.csv')"
   ]
  },
  {
   "cell_type": "code",
   "execution_count": 95,
   "id": "e6b9c325-7b6f-446f-a089-e6da97e66578",
   "metadata": {},
   "outputs": [],
   "source": [
    "gdp_pct = gdp_pct.iloc[:265, :]\n",
    "gdp_pct = gdp_pct.rename(columns = {'Country Code': 'iso_o'})\n",
    "gdp_pct.columns = gdp_pct.columns.str.replace(r' \\[YR\\d+\\]', '', regex=True)\n",
    "gdp_pct.columns.values[4:] = pd.to_numeric(gdp_pct.columns[4:], errors='coerce').astype('Int64')\n",
    "gdp_pct = gdp_pct.drop(columns= ['Country Name', 'Series Name', 'Series Code'])"
   ]
  },
  {
   "cell_type": "code",
   "execution_count": 96,
   "id": "0ea03db4-117c-4510-8966-41ef922771c0",
   "metadata": {},
   "outputs": [],
   "source": [
    "gdp_pct = gdp_pct[gdp_pct['iso_o'].isin(countries)]\n",
    "gdp_pct = gdp_pct.reset_index(drop = True)"
   ]
  },
  {
   "cell_type": "code",
   "execution_count": 97,
   "id": "bc3104de-6845-40aa-a553-89d2e83c0dee",
   "metadata": {},
   "outputs": [],
   "source": [
    "gdp_pct[year] = gdp_pct[year].replace('..', np.nan)\n",
    "gdp_pct[year] = gdp_pct[year].apply(lambda x: pd.to_numeric(x, errors='coerce')).round(2)"
   ]
  },
  {
   "cell_type": "code",
   "execution_count": 98,
   "id": "31415eba-3499-4873-a6ff-5d36f2d13771",
   "metadata": {},
   "outputs": [
    {
     "data": {
      "text/plain": [
       "iso_o    0\n",
       "1999     0\n",
       "2000     0\n",
       "2001     0\n",
       "2002     0\n",
       "2003     0\n",
       "2004     0\n",
       "2005     0\n",
       "2006     0\n",
       "2007     0\n",
       "2008     0\n",
       "2009     0\n",
       "2010     0\n",
       "2011     0\n",
       "2012     0\n",
       "2013     0\n",
       "2014     0\n",
       "2015     0\n",
       "2016     0\n",
       "2017     0\n",
       "2018     0\n",
       "2019     0\n",
       "2020     0\n",
       "dtype: int64"
      ]
     },
     "execution_count": 98,
     "metadata": {},
     "output_type": "execute_result"
    }
   ],
   "source": [
    "gdp_pct.isna().sum()"
   ]
  },
  {
   "cell_type": "code",
   "execution_count": 99,
   "id": "927dbf7e-ec34-41f9-aeb8-278fbfb690e6",
   "metadata": {},
   "outputs": [],
   "source": [
    "gdp_pct_long = gdp_pct.set_index('iso_o').stack().reset_index()"
   ]
  },
  {
   "cell_type": "code",
   "execution_count": 100,
   "id": "6f5635c0-bb40-4354-8278-bbfca65ab456",
   "metadata": {},
   "outputs": [
    {
     "data": {
      "text/html": [
       "<div>\n",
       "<style scoped>\n",
       "    .dataframe tbody tr th:only-of-type {\n",
       "        vertical-align: middle;\n",
       "    }\n",
       "\n",
       "    .dataframe tbody tr th {\n",
       "        vertical-align: top;\n",
       "    }\n",
       "\n",
       "    .dataframe thead th {\n",
       "        text-align: right;\n",
       "    }\n",
       "</style>\n",
       "<table border=\"1\" class=\"dataframe\">\n",
       "  <thead>\n",
       "    <tr style=\"text-align: right;\">\n",
       "      <th></th>\n",
       "      <th>iso_o</th>\n",
       "      <th>level_1</th>\n",
       "      <th>0</th>\n",
       "    </tr>\n",
       "  </thead>\n",
       "  <tbody>\n",
       "    <tr>\n",
       "      <th>0</th>\n",
       "      <td>ARG</td>\n",
       "      <td>1999</td>\n",
       "      <td>10838.32</td>\n",
       "    </tr>\n",
       "    <tr>\n",
       "      <th>1</th>\n",
       "      <td>ARG</td>\n",
       "      <td>2000</td>\n",
       "      <td>10631.65</td>\n",
       "    </tr>\n",
       "    <tr>\n",
       "      <th>2</th>\n",
       "      <td>ARG</td>\n",
       "      <td>2001</td>\n",
       "      <td>10051.94</td>\n",
       "    </tr>\n",
       "  </tbody>\n",
       "</table>\n",
       "</div>"
      ],
      "text/plain": [
       "  iso_o  level_1         0\n",
       "0   ARG     1999  10838.32\n",
       "1   ARG     2000  10631.65\n",
       "2   ARG     2001  10051.94"
      ]
     },
     "execution_count": 100,
     "metadata": {},
     "output_type": "execute_result"
    }
   ],
   "source": [
    "gdp_pct_long.head(3)"
   ]
  },
  {
   "cell_type": "code",
   "execution_count": 101,
   "id": "e05bc10f-5714-4076-855c-da2230f8757f",
   "metadata": {},
   "outputs": [],
   "source": [
    "gdp_pct_long = gdp_pct_long.rename(columns= {'level_1': 'TIME_PERIOD'})\n",
    "gdp_pct_long = gdp_pct_long.rename(columns= {0: 'gdp_pct'})"
   ]
  },
  {
   "cell_type": "code",
   "execution_count": 102,
   "id": "bf434b07-4532-4679-b5ca-fbbd5697520d",
   "metadata": {},
   "outputs": [],
   "source": [
    "assert gdp_pct_long['iso_o'].nunique() == gdp_pct_long['iso_o'].nunique()"
   ]
  },
  {
   "cell_type": "code",
   "execution_count": 103,
   "id": "064cb175-a037-4d42-8570-2433da757822",
   "metadata": {},
   "outputs": [],
   "source": [
    "assert gdp_pct_long['iso_o'].nunique() == gdp_pct_long['iso_o'].nunique() == internet['iso_o'].nunique() == internet_long['iso_o'].nunique()"
   ]
  },
  {
   "cell_type": "markdown",
   "id": "031ecc46-3ddd-4314-a54f-dfffd8059c9d",
   "metadata": {},
   "source": [
    "### Population density "
   ]
  },
  {
   "cell_type": "code",
   "execution_count": 104,
   "id": "a6ee844a-4e08-4cf5-9eef-e2fa53ffac0d",
   "metadata": {},
   "outputs": [],
   "source": [
    "pop_den = pd.read_csv('../data/raw/d92eb14e-b603-4183-ac5b-acfd4c423b78_Data.csv')"
   ]
  },
  {
   "cell_type": "code",
   "execution_count": 105,
   "id": "1da9cb1a-4930-49a5-b16f-593d67a9b1df",
   "metadata": {},
   "outputs": [],
   "source": [
    "pop_den = pop_den.iloc[:265, :]\n",
    "pop_den = pop_den.rename(columns = {'Country Code': 'iso_o'})\n",
    "pop_den.columns = pop_den.columns.str.replace(r' \\[YR\\d+\\]', '', regex=True)\n",
    "pop_den.columns.values[4:] = pd.to_numeric(pop_den.columns[4:], errors='coerce').astype('Int64')\n",
    "pop_den = pop_den.drop(columns= ['Country Name', 'Series Name', 'Series Code'])\n",
    "pop_den = pop_den[pop_den['iso_o'].isin(countries)]\n",
    "pop_den = pop_den.reset_index(drop = True)\n",
    "pop_den[year] = pop_den[year].replace('..', np.nan)\n",
    "pop_den[year] = pop_den[year].apply(lambda x: pd.to_numeric(x, errors='coerce')).round(2)"
   ]
  },
  {
   "cell_type": "code",
   "execution_count": 106,
   "id": "a8bec935-4bca-423d-b3b3-f5a04ad6e778",
   "metadata": {},
   "outputs": [
    {
     "data": {
      "text/plain": [
       "iso_o    0\n",
       "1999     2\n",
       "2000     0\n",
       "2001     0\n",
       "2002     0\n",
       "2003     0\n",
       "2004     0\n",
       "2005     0\n",
       "2006     0\n",
       "2007     0\n",
       "2008     0\n",
       "2009     0\n",
       "2010     0\n",
       "2011     0\n",
       "2012     0\n",
       "2013     0\n",
       "2014     0\n",
       "2015     0\n",
       "2016     0\n",
       "2017     0\n",
       "2018     0\n",
       "2019     0\n",
       "2020     0\n",
       "dtype: int64"
      ]
     },
     "execution_count": 106,
     "metadata": {},
     "output_type": "execute_result"
    }
   ],
   "source": [
    "pop_den.isna().sum()"
   ]
  },
  {
   "cell_type": "code",
   "execution_count": 107,
   "id": "30950baf-7160-4643-94f1-1c22bdfd0065",
   "metadata": {},
   "outputs": [],
   "source": [
    "pop_den[year] = pop_den[year].fillna(pop_den[year].mean())"
   ]
  },
  {
   "cell_type": "code",
   "execution_count": 108,
   "id": "2f11bb0e-1bf6-40b4-b348-6d63e30fb27d",
   "metadata": {},
   "outputs": [],
   "source": [
    "pop_den_long = pop_den.set_index('iso_o').stack().reset_index()"
   ]
  },
  {
   "cell_type": "code",
   "execution_count": 109,
   "id": "10a3fdb7-b7e4-4374-a542-2a8a58adb42d",
   "metadata": {},
   "outputs": [
    {
     "data": {
      "text/html": [
       "<div>\n",
       "<style scoped>\n",
       "    .dataframe tbody tr th:only-of-type {\n",
       "        vertical-align: middle;\n",
       "    }\n",
       "\n",
       "    .dataframe tbody tr th {\n",
       "        vertical-align: top;\n",
       "    }\n",
       "\n",
       "    .dataframe thead th {\n",
       "        text-align: right;\n",
       "    }\n",
       "</style>\n",
       "<table border=\"1\" class=\"dataframe\">\n",
       "  <thead>\n",
       "    <tr style=\"text-align: right;\">\n",
       "      <th></th>\n",
       "      <th>iso_o</th>\n",
       "      <th>level_1</th>\n",
       "      <th>0</th>\n",
       "    </tr>\n",
       "  </thead>\n",
       "  <tbody>\n",
       "    <tr>\n",
       "      <th>0</th>\n",
       "      <td>ARG</td>\n",
       "      <td>1999</td>\n",
       "      <td>13.44</td>\n",
       "    </tr>\n",
       "    <tr>\n",
       "      <th>1</th>\n",
       "      <td>ARG</td>\n",
       "      <td>2000</td>\n",
       "      <td>13.60</td>\n",
       "    </tr>\n",
       "    <tr>\n",
       "      <th>2</th>\n",
       "      <td>ARG</td>\n",
       "      <td>2001</td>\n",
       "      <td>13.75</td>\n",
       "    </tr>\n",
       "    <tr>\n",
       "      <th>3</th>\n",
       "      <td>ARG</td>\n",
       "      <td>2002</td>\n",
       "      <td>13.90</td>\n",
       "    </tr>\n",
       "    <tr>\n",
       "      <th>4</th>\n",
       "      <td>ARG</td>\n",
       "      <td>2003</td>\n",
       "      <td>14.04</td>\n",
       "    </tr>\n",
       "  </tbody>\n",
       "</table>\n",
       "</div>"
      ],
      "text/plain": [
       "  iso_o  level_1      0\n",
       "0   ARG     1999  13.44\n",
       "1   ARG     2000  13.60\n",
       "2   ARG     2001  13.75\n",
       "3   ARG     2002  13.90\n",
       "4   ARG     2003  14.04"
      ]
     },
     "execution_count": 109,
     "metadata": {},
     "output_type": "execute_result"
    }
   ],
   "source": [
    "pop_den_long.head()"
   ]
  },
  {
   "cell_type": "code",
   "execution_count": 110,
   "id": "b41faf33-f730-4828-85d8-da316768124d",
   "metadata": {},
   "outputs": [],
   "source": [
    "pop_den_long = pop_den_long.rename(columns= {'level_1': 'TIME_PERIOD'})\n",
    "pop_den_long = pop_den_long.rename(columns= {0: 'pop_den'})"
   ]
  },
  {
   "cell_type": "code",
   "execution_count": 111,
   "id": "e05fd7f4-54f9-4c5b-9f2c-b28df29a5aaf",
   "metadata": {},
   "outputs": [],
   "source": [
    "assert gdp_pct_long['iso_o'].nunique() == gdp_pct_long['iso_o'].nunique() == internet['iso_o'].nunique() == internet_long['iso_o'].nunique() == pop_den['iso_o'].nunique() == pop_den_long['iso_o'].nunique()"
   ]
  },
  {
   "cell_type": "markdown",
   "id": "2929f625-9baf-46bf-a584-0289de025f22",
   "metadata": {},
   "source": [
    "### CO2 emissions per capita"
   ]
  },
  {
   "cell_type": "code",
   "execution_count": 112,
   "id": "ea7683f2-8dc6-4e99-abdc-ee1289637dce",
   "metadata": {},
   "outputs": [],
   "source": [
    "co2 = pd.read_csv('../data/raw/b1accbee-a743-40b0-b105-526ca6c03a1c_Data.csv')"
   ]
  },
  {
   "cell_type": "code",
   "execution_count": 113,
   "id": "9e634d6d-e08c-4fa2-87a8-b3319fe9e318",
   "metadata": {},
   "outputs": [],
   "source": [
    "co2 = co2.iloc[:265, :]\n",
    "co2 = co2.rename(columns = {'Country Code': 'iso_o'})\n",
    "co2.columns = co2.columns.str.replace(r' \\[YR\\d+\\]', '', regex=True)\n",
    "co2.columns.values[4:] = pd.to_numeric(co2.columns[4:], errors='coerce').astype('Int64')\n",
    "co2 = co2.drop(columns= ['Country Name', 'Series Name', 'Series Code'])\n",
    "co2 = co2[co2['iso_o'].isin(countries)]\n",
    "co2 = co2.reset_index(drop = True)\n",
    "co2[year] = co2[year].replace('..', np.nan)\n",
    "co2[year] = co2[year].apply(lambda x: pd.to_numeric(x, errors='coerce')).round(2)"
   ]
  },
  {
   "cell_type": "code",
   "execution_count": 114,
   "id": "39100c09-d6d1-493f-b8ef-7ab09d90ec26",
   "metadata": {},
   "outputs": [
    {
     "data": {
      "text/plain": [
       "iso_o    0\n",
       "1999     0\n",
       "2000     0\n",
       "2001     0\n",
       "2002     0\n",
       "2003     0\n",
       "2004     0\n",
       "2005     0\n",
       "2006     0\n",
       "2007     0\n",
       "2008     0\n",
       "2009     0\n",
       "2010     0\n",
       "2011     0\n",
       "2012     0\n",
       "2013     0\n",
       "2014     0\n",
       "2015     0\n",
       "2016     0\n",
       "2017     0\n",
       "2018     0\n",
       "2019     0\n",
       "2020     0\n",
       "dtype: int64"
      ]
     },
     "execution_count": 114,
     "metadata": {},
     "output_type": "execute_result"
    }
   ],
   "source": [
    "co2.isna().sum()"
   ]
  },
  {
   "cell_type": "code",
   "execution_count": 115,
   "id": "a3248e8f-4bb3-48d9-8920-840d5aed63b0",
   "metadata": {},
   "outputs": [],
   "source": [
    "co2_long = co2.set_index('iso_o').stack().reset_index()"
   ]
  },
  {
   "cell_type": "code",
   "execution_count": 116,
   "id": "d62793e9-2141-451c-b004-b73862351b2b",
   "metadata": {},
   "outputs": [
    {
     "data": {
      "text/html": [
       "<div>\n",
       "<style scoped>\n",
       "    .dataframe tbody tr th:only-of-type {\n",
       "        vertical-align: middle;\n",
       "    }\n",
       "\n",
       "    .dataframe tbody tr th {\n",
       "        vertical-align: top;\n",
       "    }\n",
       "\n",
       "    .dataframe thead th {\n",
       "        text-align: right;\n",
       "    }\n",
       "</style>\n",
       "<table border=\"1\" class=\"dataframe\">\n",
       "  <thead>\n",
       "    <tr style=\"text-align: right;\">\n",
       "      <th></th>\n",
       "      <th>iso_o</th>\n",
       "      <th>level_1</th>\n",
       "      <th>0</th>\n",
       "    </tr>\n",
       "  </thead>\n",
       "  <tbody>\n",
       "    <tr>\n",
       "      <th>0</th>\n",
       "      <td>ARG</td>\n",
       "      <td>1999</td>\n",
       "      <td>3.80</td>\n",
       "    </tr>\n",
       "    <tr>\n",
       "      <th>1</th>\n",
       "      <td>ARG</td>\n",
       "      <td>2000</td>\n",
       "      <td>3.68</td>\n",
       "    </tr>\n",
       "  </tbody>\n",
       "</table>\n",
       "</div>"
      ],
      "text/plain": [
       "  iso_o  level_1     0\n",
       "0   ARG     1999  3.80\n",
       "1   ARG     2000  3.68"
      ]
     },
     "execution_count": 116,
     "metadata": {},
     "output_type": "execute_result"
    }
   ],
   "source": [
    "co2_long.head(2)"
   ]
  },
  {
   "cell_type": "code",
   "execution_count": 117,
   "id": "05f18466-83d6-4a84-846c-10fc2bbff8ff",
   "metadata": {},
   "outputs": [],
   "source": [
    "co2_long = co2_long.rename(columns= {'level_1': 'TIME_PERIOD'})\n",
    "co2_long = co2_long.rename(columns= {0: 'co2'})"
   ]
  },
  {
   "cell_type": "code",
   "execution_count": 118,
   "id": "d6975913-0aa2-4c71-863e-f84894294719",
   "metadata": {},
   "outputs": [],
   "source": [
    "assert gdp_pct_long['iso_o'].nunique() == gdp_pct_long['iso_o'].nunique() == internet['iso_o'].nunique() == internet_long['iso_o'].nunique() == pop_den['iso_o'].nunique() == pop_den_long['iso_o'].nunique() == co2['iso_o'].nunique() == co2_long['iso_o'].nunique()"
   ]
  },
  {
   "cell_type": "markdown",
   "id": "4c11f91b-7e52-4285-bb1a-de2ddb5df80e",
   "metadata": {},
   "source": [
    "### Energy use"
   ]
  },
  {
   "cell_type": "code",
   "execution_count": 119,
   "id": "1a260ea2-e491-4d18-a00d-69dc0adf3ad5",
   "metadata": {},
   "outputs": [],
   "source": [
    "energy = pd.read_csv(\"../data/raw/a2c15875-4f14-40eb-bf3f-f4755d164953_Data.csv\")"
   ]
  },
  {
   "cell_type": "code",
   "execution_count": 120,
   "id": "c8a49449-7ee5-4789-8ac2-7c7d4849e2e9",
   "metadata": {},
   "outputs": [],
   "source": [
    "energy = energy.iloc[:265, :]\n",
    "energy = energy.rename(columns = {'Country Code': 'iso_o'})\n",
    "energy.columns = energy.columns.str.replace(r' \\[YR\\d+\\]', '', regex=True)\n",
    "energy.columns.values[4:] = pd.to_numeric(energy.columns[4:], errors='coerce').astype('Int64')\n",
    "energy = energy.drop(columns= ['Country Name', 'Series Name', 'Series Code'])\n",
    "energy = energy[energy['iso_o'].isin(countries)]\n",
    "energy = energy.reset_index(drop = True)\n",
    "energy[year] = energy[year].replace('..', np.nan)\n",
    "energy[year] = energy[year].apply(lambda x: pd.to_numeric(x, errors='coerce')).round(2)"
   ]
  },
  {
   "cell_type": "code",
   "execution_count": 121,
   "id": "2cdba5d7-fc6a-41ff-8f6c-f193e0b37b06",
   "metadata": {},
   "outputs": [
    {
     "data": {
      "text/plain": [
       "iso_o    0\n",
       "1999     1\n",
       "2000     0\n",
       "2001     0\n",
       "2002     0\n",
       "2003     0\n",
       "2004     0\n",
       "2005     0\n",
       "2006     0\n",
       "2007     0\n",
       "2008     0\n",
       "2009     0\n",
       "2010     0\n",
       "2011     0\n",
       "2012     0\n",
       "2013     0\n",
       "2014     0\n",
       "2015     0\n",
       "2016     0\n",
       "2017     0\n",
       "2018     0\n",
       "2019     0\n",
       "2020     0\n",
       "dtype: int64"
      ]
     },
     "execution_count": 121,
     "metadata": {},
     "output_type": "execute_result"
    }
   ],
   "source": [
    "energy.isna().sum()"
   ]
  },
  {
   "cell_type": "code",
   "execution_count": 122,
   "id": "96e910f8-a430-4458-ab35-68f27a444896",
   "metadata": {},
   "outputs": [],
   "source": [
    "energy[year] = energy[year].fillna(energy[year].mean())"
   ]
  },
  {
   "cell_type": "code",
   "execution_count": 123,
   "id": "6ce426e0-ab8b-4e1d-a1b9-0f40942cee82",
   "metadata": {},
   "outputs": [],
   "source": [
    "energy_long = energy.set_index('iso_o').stack().reset_index()"
   ]
  },
  {
   "cell_type": "code",
   "execution_count": 124,
   "id": "264e8dfd-c2f3-4a5e-b98f-c4f05467bf80",
   "metadata": {},
   "outputs": [
    {
     "data": {
      "text/html": [
       "<div>\n",
       "<style scoped>\n",
       "    .dataframe tbody tr th:only-of-type {\n",
       "        vertical-align: middle;\n",
       "    }\n",
       "\n",
       "    .dataframe tbody tr th {\n",
       "        vertical-align: top;\n",
       "    }\n",
       "\n",
       "    .dataframe thead th {\n",
       "        text-align: right;\n",
       "    }\n",
       "</style>\n",
       "<table border=\"1\" class=\"dataframe\">\n",
       "  <thead>\n",
       "    <tr style=\"text-align: right;\">\n",
       "      <th></th>\n",
       "      <th>iso_o</th>\n",
       "      <th>level_1</th>\n",
       "      <th>0</th>\n",
       "    </tr>\n",
       "  </thead>\n",
       "  <tbody>\n",
       "    <tr>\n",
       "      <th>0</th>\n",
       "      <td>ARG</td>\n",
       "      <td>1999</td>\n",
       "      <td>1666.82</td>\n",
       "    </tr>\n",
       "    <tr>\n",
       "      <th>1</th>\n",
       "      <td>ARG</td>\n",
       "      <td>2000</td>\n",
       "      <td>1643.32</td>\n",
       "    </tr>\n",
       "    <tr>\n",
       "      <th>2</th>\n",
       "      <td>ARG</td>\n",
       "      <td>2001</td>\n",
       "      <td>1518.57</td>\n",
       "    </tr>\n",
       "  </tbody>\n",
       "</table>\n",
       "</div>"
      ],
      "text/plain": [
       "  iso_o  level_1        0\n",
       "0   ARG     1999  1666.82\n",
       "1   ARG     2000  1643.32\n",
       "2   ARG     2001  1518.57"
      ]
     },
     "execution_count": 124,
     "metadata": {},
     "output_type": "execute_result"
    }
   ],
   "source": [
    "energy_long.head(3)"
   ]
  },
  {
   "cell_type": "code",
   "execution_count": 125,
   "id": "3affb1c4-fe1d-4828-bedc-1a2b5e9a3b13",
   "metadata": {},
   "outputs": [],
   "source": [
    "energy_long = energy_long.rename(columns= {'level_1': 'TIME_PERIOD'})\n",
    "energy_long = energy_long.rename(columns= {0: 'energy'})"
   ]
  },
  {
   "cell_type": "code",
   "execution_count": 126,
   "id": "f71bf1fa-0f86-4a98-b23e-da8801cff2a5",
   "metadata": {},
   "outputs": [],
   "source": [
    "assert gdp_pct_long['iso_o'].nunique() == gdp_pct_long['iso_o'].nunique() == internet['iso_o'].nunique() == internet_long['iso_o'].nunique() == pop_den['iso_o'].nunique() == pop_den_long['iso_o'].nunique() == co2['iso_o'].nunique() == co2_long['iso_o'].nunique() == energy['iso_o'].nunique() == energy_long['iso_o'].nunique()"
   ]
  },
  {
   "cell_type": "markdown",
   "id": "69f572fb-878a-467c-b886-ad816fef6777",
   "metadata": {},
   "source": [
    "###  Trade Openness"
   ]
  },
  {
   "cell_type": "code",
   "execution_count": 127,
   "id": "5c5ece75-d606-4725-b436-3e2f27de706c",
   "metadata": {},
   "outputs": [],
   "source": [
    "trade_openness = pd.read_csv(\"../data/raw/35c7051d-c047-4d2a-b459-9b4e6ee01d98_Data.csv\")"
   ]
  },
  {
   "cell_type": "code",
   "execution_count": 128,
   "id": "0d042643-6921-4140-ba0d-b3e067b81f13",
   "metadata": {},
   "outputs": [],
   "source": [
    "trade_openness = trade_openness.iloc[:265, :]\n",
    "trade_openness = trade_openness.rename(columns = {'Country Code': 'iso_o'})\n",
    "trade_openness.columns = trade_openness.columns.str.replace(r' \\[YR\\d+\\]', '', regex=True)\n",
    "trade_openness.columns.values[4:] = pd.to_numeric(trade_openness.columns[4:], errors='coerce').astype('Int64')\n",
    "trade_openness = trade_openness.drop(columns= ['Country Name', 'Series Name', 'Series Code'])\n",
    "trade_openness = trade_openness[trade_openness['iso_o'].isin(countries)]\n",
    "trade_openness = trade_openness.reset_index(drop = True)\n",
    "trade_openness[year] = trade_openness[year].replace('..', np.nan)\n",
    "trade_openness[year] = trade_openness[year].apply(lambda x: pd.to_numeric(x, errors='coerce')).round(2)"
   ]
  },
  {
   "cell_type": "code",
   "execution_count": 129,
   "id": "d6831912-4b76-49d2-9660-94a864fb709e",
   "metadata": {},
   "outputs": [
    {
     "data": {
      "text/plain": [
       "iso_o    0\n",
       "1999     2\n",
       "2000     2\n",
       "2001     2\n",
       "2002     2\n",
       "2003     2\n",
       "2004     2\n",
       "2005     2\n",
       "2006     2\n",
       "2007     2\n",
       "2008     2\n",
       "2009     2\n",
       "2010     2\n",
       "2011     2\n",
       "2012     2\n",
       "2013     2\n",
       "2014     2\n",
       "2015     2\n",
       "2016     2\n",
       "2017     3\n",
       "2018     3\n",
       "2019     3\n",
       "2020     3\n",
       "dtype: int64"
      ]
     },
     "execution_count": 129,
     "metadata": {},
     "output_type": "execute_result"
    }
   ],
   "source": [
    "trade_openness.isna().sum()"
   ]
  },
  {
   "cell_type": "code",
   "execution_count": 130,
   "id": "4a1e293b-483a-4517-85e2-03a5007a1c8e",
   "metadata": {},
   "outputs": [],
   "source": [
    "trade_openness[year] = trade_openness[year].fillna(trade_openness[year].mean())"
   ]
  },
  {
   "cell_type": "code",
   "execution_count": 131,
   "id": "1e5e45b4-8c2e-4fc1-bb75-6acb03c7b997",
   "metadata": {},
   "outputs": [],
   "source": [
    "trade_openness_long = trade_openness.set_index('iso_o').stack().reset_index()"
   ]
  },
  {
   "cell_type": "code",
   "execution_count": 132,
   "id": "a7d2de37-9831-46b5-b729-ef1452f20aa3",
   "metadata": {},
   "outputs": [],
   "source": [
    "trade_openness_long = trade_openness_long.rename(columns= {'level_1': 'TIME_PERIOD'})\n",
    "trade_openness_long = trade_openness_long.rename(columns= {0: 'trade_openness'})"
   ]
  },
  {
   "cell_type": "code",
   "execution_count": 133,
   "id": "a1007bfe-4723-487f-b6a8-c2284299430c",
   "metadata": {},
   "outputs": [
    {
     "data": {
      "text/html": [
       "<div>\n",
       "<style scoped>\n",
       "    .dataframe tbody tr th:only-of-type {\n",
       "        vertical-align: middle;\n",
       "    }\n",
       "\n",
       "    .dataframe tbody tr th {\n",
       "        vertical-align: top;\n",
       "    }\n",
       "\n",
       "    .dataframe thead th {\n",
       "        text-align: right;\n",
       "    }\n",
       "</style>\n",
       "<table border=\"1\" class=\"dataframe\">\n",
       "  <thead>\n",
       "    <tr style=\"text-align: right;\">\n",
       "      <th></th>\n",
       "      <th>iso_o</th>\n",
       "      <th>TIME_PERIOD</th>\n",
       "      <th>trade_openness</th>\n",
       "    </tr>\n",
       "  </thead>\n",
       "  <tbody>\n",
       "    <tr>\n",
       "      <th>0</th>\n",
       "      <td>ARG</td>\n",
       "      <td>1999</td>\n",
       "      <td>21.38</td>\n",
       "    </tr>\n",
       "    <tr>\n",
       "      <th>1</th>\n",
       "      <td>ARG</td>\n",
       "      <td>2000</td>\n",
       "      <td>22.62</td>\n",
       "    </tr>\n",
       "    <tr>\n",
       "      <th>2</th>\n",
       "      <td>ARG</td>\n",
       "      <td>2001</td>\n",
       "      <td>21.85</td>\n",
       "    </tr>\n",
       "  </tbody>\n",
       "</table>\n",
       "</div>"
      ],
      "text/plain": [
       "  iso_o  TIME_PERIOD  trade_openness\n",
       "0   ARG         1999           21.38\n",
       "1   ARG         2000           22.62\n",
       "2   ARG         2001           21.85"
      ]
     },
     "execution_count": 133,
     "metadata": {},
     "output_type": "execute_result"
    }
   ],
   "source": [
    "trade_openness_long.head(3)"
   ]
  },
  {
   "cell_type": "code",
   "execution_count": 134,
   "id": "ffca4cff-7c5b-4a75-88f0-ad8932a1b2d6",
   "metadata": {},
   "outputs": [],
   "source": [
    "assert gdp_pct_long['iso_o'].nunique() == gdp_pct_long['iso_o'].nunique() == internet['iso_o'].nunique() == internet_long['iso_o'].nunique() == pop_den['iso_o'].nunique() == pop_den_long['iso_o'].nunique() == co2['iso_o'].nunique() == co2_long['iso_o'].nunique() == energy['iso_o'].nunique() == energy_long['iso_o'].nunique() == trade_openness['iso_o'].nunique() == trade_openness_long['iso_o'].nunique()"
   ]
  },
  {
   "cell_type": "markdown",
   "id": "a8c5fdfa-8e48-4104-99ed-e8f20fbfd35a",
   "metadata": {},
   "source": [
    "### Mean Year of Schooling "
   ]
  },
  {
   "cell_type": "code",
   "execution_count": 135,
   "id": "04f807ae-c916-49c8-bed4-21f82c000494",
   "metadata": {},
   "outputs": [],
   "source": [
    "schooling = pd.read_excel(\"../data/raw/hdr-data.xlsx\")"
   ]
  },
  {
   "cell_type": "code",
   "execution_count": 136,
   "id": "24d8d6de-2b78-4b32-9228-2a7c17e9cf3a",
   "metadata": {},
   "outputs": [
    {
     "data": {
      "text/html": [
       "<div>\n",
       "<style scoped>\n",
       "    .dataframe tbody tr th:only-of-type {\n",
       "        vertical-align: middle;\n",
       "    }\n",
       "\n",
       "    .dataframe tbody tr th {\n",
       "        vertical-align: top;\n",
       "    }\n",
       "\n",
       "    .dataframe thead th {\n",
       "        text-align: right;\n",
       "    }\n",
       "</style>\n",
       "<table border=\"1\" class=\"dataframe\">\n",
       "  <thead>\n",
       "    <tr style=\"text-align: right;\">\n",
       "      <th></th>\n",
       "      <th>countryIsoCode</th>\n",
       "      <th>country</th>\n",
       "      <th>indexCode</th>\n",
       "      <th>index</th>\n",
       "      <th>dimension</th>\n",
       "      <th>indicatorCode</th>\n",
       "      <th>indicator</th>\n",
       "      <th>year</th>\n",
       "      <th>value</th>\n",
       "      <th>note</th>\n",
       "    </tr>\n",
       "  </thead>\n",
       "  <tbody>\n",
       "    <tr>\n",
       "      <th>4179</th>\n",
       "      <td>ZWE</td>\n",
       "      <td>Zimbabwe</td>\n",
       "      <td>HDI</td>\n",
       "      <td>Human Development Index</td>\n",
       "      <td>NaN</td>\n",
       "      <td>eys</td>\n",
       "      <td>Expected Years of Schooling (years)</td>\n",
       "      <td>2016</td>\n",
       "      <td>10.899038</td>\n",
       "      <td>NaN</td>\n",
       "    </tr>\n",
       "    <tr>\n",
       "      <th>4180</th>\n",
       "      <td>ZWE</td>\n",
       "      <td>Zimbabwe</td>\n",
       "      <td>HDI</td>\n",
       "      <td>Human Development Index</td>\n",
       "      <td>NaN</td>\n",
       "      <td>eys</td>\n",
       "      <td>Expected Years of Schooling (years)</td>\n",
       "      <td>2017</td>\n",
       "      <td>10.930538</td>\n",
       "      <td>NaN</td>\n",
       "    </tr>\n",
       "    <tr>\n",
       "      <th>4181</th>\n",
       "      <td>ZWE</td>\n",
       "      <td>Zimbabwe</td>\n",
       "      <td>HDI</td>\n",
       "      <td>Human Development Index</td>\n",
       "      <td>NaN</td>\n",
       "      <td>eys</td>\n",
       "      <td>Expected Years of Schooling (years)</td>\n",
       "      <td>2018</td>\n",
       "      <td>10.962130</td>\n",
       "      <td>NaN</td>\n",
       "    </tr>\n",
       "    <tr>\n",
       "      <th>4182</th>\n",
       "      <td>ZWE</td>\n",
       "      <td>Zimbabwe</td>\n",
       "      <td>HDI</td>\n",
       "      <td>Human Development Index</td>\n",
       "      <td>NaN</td>\n",
       "      <td>eys</td>\n",
       "      <td>Expected Years of Schooling (years)</td>\n",
       "      <td>2019</td>\n",
       "      <td>10.993813</td>\n",
       "      <td>NaN</td>\n",
       "    </tr>\n",
       "    <tr>\n",
       "      <th>4183</th>\n",
       "      <td>ZWE</td>\n",
       "      <td>Zimbabwe</td>\n",
       "      <td>HDI</td>\n",
       "      <td>Human Development Index</td>\n",
       "      <td>NaN</td>\n",
       "      <td>eys</td>\n",
       "      <td>Expected Years of Schooling (years)</td>\n",
       "      <td>2020</td>\n",
       "      <td>11.025587</td>\n",
       "      <td>NaN</td>\n",
       "    </tr>\n",
       "  </tbody>\n",
       "</table>\n",
       "</div>"
      ],
      "text/plain": [
       "     countryIsoCode   country indexCode                    index  dimension  \\\n",
       "4179            ZWE  Zimbabwe       HDI  Human Development Index        NaN   \n",
       "4180            ZWE  Zimbabwe       HDI  Human Development Index        NaN   \n",
       "4181            ZWE  Zimbabwe       HDI  Human Development Index        NaN   \n",
       "4182            ZWE  Zimbabwe       HDI  Human Development Index        NaN   \n",
       "4183            ZWE  Zimbabwe       HDI  Human Development Index        NaN   \n",
       "\n",
       "     indicatorCode                            indicator  year      value  note  \n",
       "4179           eys  Expected Years of Schooling (years)  2016  10.899038   NaN  \n",
       "4180           eys  Expected Years of Schooling (years)  2017  10.930538   NaN  \n",
       "4181           eys  Expected Years of Schooling (years)  2018  10.962130   NaN  \n",
       "4182           eys  Expected Years of Schooling (years)  2019  10.993813   NaN  \n",
       "4183           eys  Expected Years of Schooling (years)  2020  11.025587   NaN  "
      ]
     },
     "execution_count": 136,
     "metadata": {},
     "output_type": "execute_result"
    }
   ],
   "source": [
    "schooling.tail()"
   ]
  },
  {
   "cell_type": "code",
   "execution_count": 137,
   "id": "30a39a00-1b9d-4165-8a8b-236bf78a4722",
   "metadata": {},
   "outputs": [],
   "source": [
    "schooling = schooling[['countryIsoCode', 'year', 'value']]"
   ]
  },
  {
   "cell_type": "code",
   "execution_count": 138,
   "id": "ceada9f8-048a-4ff0-a452-d493daf5d475",
   "metadata": {},
   "outputs": [],
   "source": [
    "schooling = schooling.rename(columns = {'countryIsoCode': 'iso_o'})"
   ]
  },
  {
   "cell_type": "code",
   "execution_count": 139,
   "id": "b0bb6d70-d2b8-4768-bfa2-5e33565d6774",
   "metadata": {},
   "outputs": [],
   "source": [
    "schooling = schooling.rename(columns = {'year': 'TIME_PERIOD'})"
   ]
  },
  {
   "cell_type": "code",
   "execution_count": 140,
   "id": "04e39ad2-de6b-4e65-bc41-83cc7a005967",
   "metadata": {},
   "outputs": [
    {
     "data": {
      "text/plain": [
       "iso_o           object\n",
       "TIME_PERIOD      int64\n",
       "value          float64\n",
       "dtype: object"
      ]
     },
     "execution_count": 140,
     "metadata": {},
     "output_type": "execute_result"
    }
   ],
   "source": [
    "schooling.dtypes"
   ]
  },
  {
   "cell_type": "code",
   "execution_count": 141,
   "id": "f6504343-415e-43f4-8583-4ef6095907b8",
   "metadata": {},
   "outputs": [
    {
     "data": {
      "text/plain": [
       "iso_o          0\n",
       "TIME_PERIOD    0\n",
       "value          0\n",
       "dtype: int64"
      ]
     },
     "execution_count": 141,
     "metadata": {},
     "output_type": "execute_result"
    }
   ],
   "source": [
    "schooling.isna().sum()"
   ]
  },
  {
   "cell_type": "code",
   "execution_count": 142,
   "id": "6106d28f-69d4-4d91-b1aa-5cd18a0c8f24",
   "metadata": {},
   "outputs": [],
   "source": [
    "#mean_schooling_1999 = schooling[schooling['TIME_PERIOD'] == 1999].mean()\n",
    "#schooling['value'] = schooling['value'].fillna(mean_schooling_1999)"
   ]
  },
  {
   "cell_type": "code",
   "execution_count": 143,
   "id": "ef03f08f-0e85-43bc-99e0-f4f0d518388c",
   "metadata": {},
   "outputs": [
    {
     "data": {
      "text/plain": [
       "194"
      ]
     },
     "execution_count": 143,
     "metadata": {},
     "output_type": "execute_result"
    }
   ],
   "source": [
    "schooling['iso_o'].nunique()"
   ]
  },
  {
   "cell_type": "code",
   "execution_count": 144,
   "id": "b7186b1b-c2d3-4220-800b-6cdf67a1771e",
   "metadata": {},
   "outputs": [
    {
     "name": "stdout",
     "output_type": "stream",
     "text": [
      "{'TWN', 'WXD'}\n"
     ]
    }
   ],
   "source": [
    "miss = countries - set(schooling['iso_o'])\n",
    "print(miss)"
   ]
  },
  {
   "cell_type": "code",
   "execution_count": 145,
   "id": "4e44ca18-0902-4eb5-a8e5-5433957f1d53",
   "metadata": {},
   "outputs": [],
   "source": [
    "schooling = schooling[schooling['iso_o'].isin(countries)].reset_index(drop= True)"
   ]
  },
  {
   "cell_type": "code",
   "execution_count": 146,
   "id": "c48977ee-90e4-44b4-8035-c1e2a159490c",
   "metadata": {},
   "outputs": [
    {
     "data": {
      "text/plain": [
       "(1650, 3)"
      ]
     },
     "execution_count": 146,
     "metadata": {},
     "output_type": "execute_result"
    }
   ],
   "source": [
    "schooling.shape"
   ]
  },
  {
   "cell_type": "code",
   "execution_count": 147,
   "id": "0f9a81d9-4e88-47bb-a11a-32111bb24929",
   "metadata": {},
   "outputs": [
    {
     "data": {
      "text/plain": [
       "75"
      ]
     },
     "execution_count": 147,
     "metadata": {},
     "output_type": "execute_result"
    }
   ],
   "source": [
    "schooling['iso_o'].nunique()"
   ]
  },
  {
   "cell_type": "code",
   "execution_count": 148,
   "id": "0f582c2b-b816-4c81-8666-4ba482606ffe",
   "metadata": {},
   "outputs": [
    {
     "data": {
      "text/plain": [
       "array([1999, 2000, 2001, 2002, 2003, 2004, 2005, 2006, 2007, 2008, 2009,\n",
       "       2010, 2011, 2012, 2013, 2014, 2015, 2016, 2017, 2018, 2019, 2020],\n",
       "      dtype=int64)"
      ]
     },
     "execution_count": 148,
     "metadata": {},
     "output_type": "execute_result"
    }
   ],
   "source": [
    "schooling['TIME_PERIOD'].unique()"
   ]
  },
  {
   "cell_type": "code",
   "execution_count": 149,
   "id": "a81bd792-b58b-48f8-aac9-8f918089affd",
   "metadata": {},
   "outputs": [
    {
     "data": {
      "text/html": [
       "<div>\n",
       "<style scoped>\n",
       "    .dataframe tbody tr th:only-of-type {\n",
       "        vertical-align: middle;\n",
       "    }\n",
       "\n",
       "    .dataframe tbody tr th {\n",
       "        vertical-align: top;\n",
       "    }\n",
       "\n",
       "    .dataframe thead th {\n",
       "        text-align: right;\n",
       "    }\n",
       "</style>\n",
       "<table border=\"1\" class=\"dataframe\">\n",
       "  <thead>\n",
       "    <tr style=\"text-align: right;\">\n",
       "      <th></th>\n",
       "      <th>iso_o</th>\n",
       "      <th>TIME_PERIOD</th>\n",
       "      <th>value</th>\n",
       "    </tr>\n",
       "  </thead>\n",
       "  <tbody>\n",
       "    <tr>\n",
       "      <th>0</th>\n",
       "      <td>ARG</td>\n",
       "      <td>1999</td>\n",
       "      <td>15.17326</td>\n",
       "    </tr>\n",
       "    <tr>\n",
       "      <th>1</th>\n",
       "      <td>ARG</td>\n",
       "      <td>2000</td>\n",
       "      <td>15.68757</td>\n",
       "    </tr>\n",
       "    <tr>\n",
       "      <th>2</th>\n",
       "      <td>ARG</td>\n",
       "      <td>2001</td>\n",
       "      <td>16.30578</td>\n",
       "    </tr>\n",
       "  </tbody>\n",
       "</table>\n",
       "</div>"
      ],
      "text/plain": [
       "  iso_o  TIME_PERIOD     value\n",
       "0   ARG         1999  15.17326\n",
       "1   ARG         2000  15.68757\n",
       "2   ARG         2001  16.30578"
      ]
     },
     "execution_count": 149,
     "metadata": {},
     "output_type": "execute_result"
    }
   ],
   "source": [
    "schooling.head(3)"
   ]
  },
  {
   "cell_type": "code",
   "execution_count": 150,
   "id": "7daf8bed-6914-45d2-9112-1a11c65caec6",
   "metadata": {},
   "outputs": [],
   "source": [
    "#print(type(next(iter(countries))))\n",
    "#print(schooling['iso_o'].apply(repr).head())"
   ]
  },
  {
   "cell_type": "code",
   "execution_count": 151,
   "id": "aadb64bc-8e63-4434-8c3b-4fba067bc12a",
   "metadata": {},
   "outputs": [],
   "source": [
    "schooling = schooling.rename(columns = {'value': 'schooling'})"
   ]
  },
  {
   "cell_type": "code",
   "execution_count": 152,
   "id": "2c797cd0-c9f1-4f33-b53d-f737a8e76e9e",
   "metadata": {},
   "outputs": [],
   "source": [
    "assert internet['iso_o'].nunique() == gdp_pct['iso_o'].nunique() == schooling['iso_o'].nunique()"
   ]
  },
  {
   "cell_type": "code",
   "execution_count": 153,
   "id": "0a4ba9b9-8013-4969-92d6-61682cce2a7a",
   "metadata": {},
   "outputs": [],
   "source": [
    "assert set(internet['iso_o'].unique()) == set(gdp_pct['iso_o'].unique()) == set(schooling['iso_o'].unique())"
   ]
  },
  {
   "cell_type": "markdown",
   "id": "b2c960d2-3ed4-4045-85de-60dce9bda1c3",
   "metadata": {},
   "source": [
    "#### Merging internet penetration, GDP per capita and Mean year of schooling"
   ]
  },
  {
   "cell_type": "code",
   "execution_count": 154,
   "id": "51545632-250f-46dc-8c9b-fa088fabf4d4",
   "metadata": {},
   "outputs": [
    {
     "data": {
      "text/plain": [
       "{'TWN', 'WXD'}"
      ]
     },
     "execution_count": 154,
     "metadata": {},
     "output_type": "execute_result"
    }
   ],
   "source": [
    "set(nx['iso_o'].unique()) - set(energy['iso_o'].unique())"
   ]
  },
  {
   "cell_type": "code",
   "execution_count": 155,
   "id": "6603c3d2-1649-4aa1-b001-2d0f647bfe7d",
   "metadata": {},
   "outputs": [],
   "source": [
    "nx = nx[(nx['iso_o'] != 'TWN') & (nx['iso_o'] != 'WXD')]"
   ]
  },
  {
   "cell_type": "code",
   "execution_count": 156,
   "id": "19e48c07-e6f0-49c5-83ab-46de2d8fb080",
   "metadata": {},
   "outputs": [
    {
     "data": {
      "text/plain": [
       "75"
      ]
     },
     "execution_count": 156,
     "metadata": {},
     "output_type": "execute_result"
    }
   ],
   "source": [
    "nx['iso_o'].nunique()"
   ]
  },
  {
   "cell_type": "code",
   "execution_count": 157,
   "id": "e7003f9e-9495-4355-a77b-549c2321b250",
   "metadata": {},
   "outputs": [],
   "source": [
    "merged = nx.merge(gdp_pct_long, on = ['iso_o','TIME_PERIOD'], how = 'left')\\\n",
    "           .merge(trade_openness_long, on = ['iso_o','TIME_PERIOD'], how = 'left')\\\n",
    "           .merge(schooling, on = ['iso_o','TIME_PERIOD'], how = 'left')\\\n",
    "           .merge(internet_long, on = ['iso_o','TIME_PERIOD'], how = 'left')\\\n",
    "           .merge(energy_long, on = ['iso_o','TIME_PERIOD'], how = 'left')\\\n",
    "           .merge(pop_den_long, on = ['iso_o','TIME_PERIOD'], how = 'left')\\\n",
    "           .merge(co2_long, on = ['iso_o','TIME_PERIOD'], how = 'left')"
   ]
  },
  {
   "cell_type": "code",
   "execution_count": 158,
   "id": "e5e624d1-f524-41ac-b402-22814b0516f2",
   "metadata": {},
   "outputs": [
    {
     "data": {
      "text/plain": [
       "75"
      ]
     },
     "execution_count": 158,
     "metadata": {},
     "output_type": "execute_result"
    }
   ],
   "source": [
    "merged['iso_o'].nunique()"
   ]
  },
  {
   "cell_type": "code",
   "execution_count": 159,
   "id": "c20ee5ec-781b-4e8c-837d-34c952c1156d",
   "metadata": {},
   "outputs": [
    {
     "data": {
      "text/plain": [
       "iso_o             0\n",
       "TIME_PERIOD       0\n",
       "export            0\n",
       "import            0\n",
       "net_imp           0\n",
       "gdp_pct           0\n",
       "trade_openness    0\n",
       "schooling         0\n",
       "internet          0\n",
       "energy            0\n",
       "pop_den           0\n",
       "co2               0\n",
       "dtype: int64"
      ]
     },
     "execution_count": 159,
     "metadata": {},
     "output_type": "execute_result"
    }
   ],
   "source": [
    "merged.isna().sum()"
   ]
  },
  {
   "cell_type": "code",
   "execution_count": 160,
   "id": "f412ea21-8c14-4a05-9b89-3a7962ce58a7",
   "metadata": {},
   "outputs": [
    {
     "data": {
      "text/html": [
       "<div>\n",
       "<style scoped>\n",
       "    .dataframe tbody tr th:only-of-type {\n",
       "        vertical-align: middle;\n",
       "    }\n",
       "\n",
       "    .dataframe tbody tr th {\n",
       "        vertical-align: top;\n",
       "    }\n",
       "\n",
       "    .dataframe thead th {\n",
       "        text-align: right;\n",
       "    }\n",
       "</style>\n",
       "<table border=\"1\" class=\"dataframe\">\n",
       "  <thead>\n",
       "    <tr style=\"text-align: right;\">\n",
       "      <th></th>\n",
       "      <th>iso_o</th>\n",
       "      <th>country</th>\n",
       "      <th>continent</th>\n",
       "      <th>category</th>\n",
       "      <th>development</th>\n",
       "    </tr>\n",
       "  </thead>\n",
       "  <tbody>\n",
       "    <tr>\n",
       "      <th>9</th>\n",
       "      <td>ARG</td>\n",
       "      <td>Argentina</td>\n",
       "      <td>America</td>\n",
       "      <td>Emerging and Developing Economies</td>\n",
       "      <td>0.0</td>\n",
       "    </tr>\n",
       "    <tr>\n",
       "      <th>10</th>\n",
       "      <td>AUT</td>\n",
       "      <td>Austria</td>\n",
       "      <td>Europe</td>\n",
       "      <td>Advanced Economies</td>\n",
       "      <td>1.0</td>\n",
       "    </tr>\n",
       "    <tr>\n",
       "      <th>11</th>\n",
       "      <td>AUS</td>\n",
       "      <td>Australia</td>\n",
       "      <td>Pacific</td>\n",
       "      <td>Advanced Economies</td>\n",
       "      <td>1.0</td>\n",
       "    </tr>\n",
       "    <tr>\n",
       "      <th>16</th>\n",
       "      <td>BGD</td>\n",
       "      <td>Bangladesh</td>\n",
       "      <td>Asia</td>\n",
       "      <td>Emerging and Developing Economies</td>\n",
       "      <td>0.0</td>\n",
       "    </tr>\n",
       "    <tr>\n",
       "      <th>17</th>\n",
       "      <td>BEL</td>\n",
       "      <td>Belgium</td>\n",
       "      <td>Europe</td>\n",
       "      <td>Advanced Economies</td>\n",
       "      <td>1.0</td>\n",
       "    </tr>\n",
       "    <tr>\n",
       "      <th>...</th>\n",
       "      <td>...</td>\n",
       "      <td>...</td>\n",
       "      <td>...</td>\n",
       "      <td>...</td>\n",
       "      <td>...</td>\n",
       "    </tr>\n",
       "    <tr>\n",
       "      <th>207</th>\n",
       "      <td>UKR</td>\n",
       "      <td>Ukraine</td>\n",
       "      <td>Europe</td>\n",
       "      <td>Emerging and Developing Economies</td>\n",
       "      <td>0.0</td>\n",
       "    </tr>\n",
       "    <tr>\n",
       "      <th>209</th>\n",
       "      <td>USA</td>\n",
       "      <td>United States</td>\n",
       "      <td>America</td>\n",
       "      <td>Advanced Economies</td>\n",
       "      <td>1.0</td>\n",
       "    </tr>\n",
       "    <tr>\n",
       "      <th>215</th>\n",
       "      <td>VNM</td>\n",
       "      <td>Vietnam</td>\n",
       "      <td>Asia</td>\n",
       "      <td>Emerging and Developing Economies</td>\n",
       "      <td>0.0</td>\n",
       "    </tr>\n",
       "    <tr>\n",
       "      <th>221</th>\n",
       "      <td>ZAF</td>\n",
       "      <td>South Africa</td>\n",
       "      <td>Africa</td>\n",
       "      <td>Emerging and Developing Economies</td>\n",
       "      <td>0.0</td>\n",
       "    </tr>\n",
       "    <tr>\n",
       "      <th>75</th>\n",
       "      <td>ROU</td>\n",
       "      <td>Romania</td>\n",
       "      <td>Europe</td>\n",
       "      <td>Emerging and Developing Economies</td>\n",
       "      <td>0.0</td>\n",
       "    </tr>\n",
       "  </tbody>\n",
       "</table>\n",
       "<p>76 rows × 5 columns</p>\n",
       "</div>"
      ],
      "text/plain": [
       "    iso_o        country continent                           category  \\\n",
       "9     ARG      Argentina   America  Emerging and Developing Economies   \n",
       "10    AUT        Austria    Europe                 Advanced Economies   \n",
       "11    AUS      Australia   Pacific                 Advanced Economies   \n",
       "16    BGD     Bangladesh      Asia  Emerging and Developing Economies   \n",
       "17    BEL        Belgium    Europe                 Advanced Economies   \n",
       "..    ...            ...       ...                                ...   \n",
       "207   UKR        Ukraine    Europe  Emerging and Developing Economies   \n",
       "209   USA  United States   America                 Advanced Economies   \n",
       "215   VNM        Vietnam      Asia  Emerging and Developing Economies   \n",
       "221   ZAF   South Africa    Africa  Emerging and Developing Economies   \n",
       "75    ROU        Romania    Europe  Emerging and Developing Economies   \n",
       "\n",
       "     development  \n",
       "9            0.0  \n",
       "10           1.0  \n",
       "11           1.0  \n",
       "16           0.0  \n",
       "17           1.0  \n",
       "..           ...  \n",
       "207          0.0  \n",
       "209          1.0  \n",
       "215          0.0  \n",
       "221          0.0  \n",
       "75           0.0  \n",
       "\n",
       "[76 rows x 5 columns]"
      ]
     },
     "execution_count": 160,
     "metadata": {},
     "output_type": "execute_result"
    }
   ],
   "source": [
    "nodeUnique_imf"
   ]
  },
  {
   "cell_type": "code",
   "execution_count": 161,
   "id": "eaf94d11-f90b-4cdc-9299-bd0d3e7c5f36",
   "metadata": {},
   "outputs": [],
   "source": [
    "merged_new = merged.merge(nodeUnique_imf, on = 'iso_o', how = 'left')"
   ]
  },
  {
   "cell_type": "code",
   "execution_count": 162,
   "id": "e4661a71-2240-4ae3-b8ef-b2960dd8b859",
   "metadata": {},
   "outputs": [
    {
     "data": {
      "text/html": [
       "<div>\n",
       "<style scoped>\n",
       "    .dataframe tbody tr th:only-of-type {\n",
       "        vertical-align: middle;\n",
       "    }\n",
       "\n",
       "    .dataframe tbody tr th {\n",
       "        vertical-align: top;\n",
       "    }\n",
       "\n",
       "    .dataframe thead th {\n",
       "        text-align: right;\n",
       "    }\n",
       "</style>\n",
       "<table border=\"1\" class=\"dataframe\">\n",
       "  <thead>\n",
       "    <tr style=\"text-align: right;\">\n",
       "      <th></th>\n",
       "      <th>iso_o</th>\n",
       "      <th>TIME_PERIOD</th>\n",
       "      <th>export</th>\n",
       "      <th>import</th>\n",
       "      <th>net_imp</th>\n",
       "      <th>gdp_pct</th>\n",
       "      <th>trade_openness</th>\n",
       "      <th>schooling</th>\n",
       "      <th>internet</th>\n",
       "      <th>energy</th>\n",
       "      <th>pop_den</th>\n",
       "      <th>co2</th>\n",
       "      <th>country</th>\n",
       "      <th>continent</th>\n",
       "      <th>category</th>\n",
       "      <th>development</th>\n",
       "    </tr>\n",
       "  </thead>\n",
       "  <tbody>\n",
       "    <tr>\n",
       "      <th>0</th>\n",
       "      <td>ARG</td>\n",
       "      <td>2000</td>\n",
       "      <td>48.636</td>\n",
       "      <td>44.666</td>\n",
       "      <td>-3.970</td>\n",
       "      <td>10631.65</td>\n",
       "      <td>22.62</td>\n",
       "      <td>15.687570</td>\n",
       "      <td>7.04</td>\n",
       "      <td>1643.32</td>\n",
       "      <td>13.60</td>\n",
       "      <td>3.68</td>\n",
       "      <td>Argentina</td>\n",
       "      <td>America</td>\n",
       "      <td>Emerging and Developing Economies</td>\n",
       "      <td>0.0</td>\n",
       "    </tr>\n",
       "    <tr>\n",
       "      <th>1</th>\n",
       "      <td>ARG</td>\n",
       "      <td>2001</td>\n",
       "      <td>50.728</td>\n",
       "      <td>38.006</td>\n",
       "      <td>-12.722</td>\n",
       "      <td>10051.94</td>\n",
       "      <td>21.85</td>\n",
       "      <td>16.305780</td>\n",
       "      <td>9.78</td>\n",
       "      <td>1518.57</td>\n",
       "      <td>13.75</td>\n",
       "      <td>3.49</td>\n",
       "      <td>Argentina</td>\n",
       "      <td>America</td>\n",
       "      <td>Emerging and Developing Economies</td>\n",
       "      <td>0.0</td>\n",
       "    </tr>\n",
       "    <tr>\n",
       "      <th>2</th>\n",
       "      <td>ARG</td>\n",
       "      <td>2002</td>\n",
       "      <td>87.260</td>\n",
       "      <td>17.889</td>\n",
       "      <td>-69.371</td>\n",
       "      <td>8861.56</td>\n",
       "      <td>41.75</td>\n",
       "      <td>16.392509</td>\n",
       "      <td>10.90</td>\n",
       "      <td>1484.26</td>\n",
       "      <td>13.90</td>\n",
       "      <td>3.26</td>\n",
       "      <td>Argentina</td>\n",
       "      <td>America</td>\n",
       "      <td>Emerging and Developing Economies</td>\n",
       "      <td>0.0</td>\n",
       "    </tr>\n",
       "    <tr>\n",
       "      <th>3</th>\n",
       "      <td>ARG</td>\n",
       "      <td>2003</td>\n",
       "      <td>81.623</td>\n",
       "      <td>23.903</td>\n",
       "      <td>-57.720</td>\n",
       "      <td>9545.53</td>\n",
       "      <td>40.64</td>\n",
       "      <td>16.266390</td>\n",
       "      <td>11.90</td>\n",
       "      <td>1590.62</td>\n",
       "      <td>14.04</td>\n",
       "      <td>3.52</td>\n",
       "      <td>Argentina</td>\n",
       "      <td>America</td>\n",
       "      <td>Emerging and Developing Economies</td>\n",
       "      <td>0.0</td>\n",
       "    </tr>\n",
       "  </tbody>\n",
       "</table>\n",
       "</div>"
      ],
      "text/plain": [
       "  iso_o  TIME_PERIOD  export  import  net_imp   gdp_pct  trade_openness  \\\n",
       "0   ARG         2000  48.636  44.666   -3.970  10631.65           22.62   \n",
       "1   ARG         2001  50.728  38.006  -12.722  10051.94           21.85   \n",
       "2   ARG         2002  87.260  17.889  -69.371   8861.56           41.75   \n",
       "3   ARG         2003  81.623  23.903  -57.720   9545.53           40.64   \n",
       "\n",
       "   schooling  internet   energy  pop_den   co2    country continent  \\\n",
       "0  15.687570      7.04  1643.32    13.60  3.68  Argentina   America   \n",
       "1  16.305780      9.78  1518.57    13.75  3.49  Argentina   America   \n",
       "2  16.392509     10.90  1484.26    13.90  3.26  Argentina   America   \n",
       "3  16.266390     11.90  1590.62    14.04  3.52  Argentina   America   \n",
       "\n",
       "                            category  development  \n",
       "0  Emerging and Developing Economies          0.0  \n",
       "1  Emerging and Developing Economies          0.0  \n",
       "2  Emerging and Developing Economies          0.0  \n",
       "3  Emerging and Developing Economies          0.0  "
      ]
     },
     "execution_count": 162,
     "metadata": {},
     "output_type": "execute_result"
    }
   ],
   "source": [
    "merged_new.head(4)"
   ]
  },
  {
   "cell_type": "markdown",
   "id": "73b5c00e-4a42-4949-98bc-222e43ab934e",
   "metadata": {},
   "source": [
    "### LTE"
   ]
  },
  {
   "cell_type": "code",
   "execution_count": 163,
   "id": "d492a8a1-c7a9-4912-944b-9f60653ded6c",
   "metadata": {},
   "outputs": [],
   "source": [
    "lte = pd.read_excel(\"../data/raw/LTE.xlsx\")"
   ]
  },
  {
   "cell_type": "code",
   "execution_count": 164,
   "id": "f0ed822c-d705-40aa-a1d7-04be47cec440",
   "metadata": {},
   "outputs": [
    {
     "data": {
      "text/html": [
       "<div>\n",
       "<style scoped>\n",
       "    .dataframe tbody tr th:only-of-type {\n",
       "        vertical-align: middle;\n",
       "    }\n",
       "\n",
       "    .dataframe tbody tr th {\n",
       "        vertical-align: top;\n",
       "    }\n",
       "\n",
       "    .dataframe thead th {\n",
       "        text-align: right;\n",
       "    }\n",
       "</style>\n",
       "<table border=\"1\" class=\"dataframe\">\n",
       "  <thead>\n",
       "    <tr style=\"text-align: right;\">\n",
       "      <th></th>\n",
       "      <th>country</th>\n",
       "      <th>2000</th>\n",
       "      <th>2001</th>\n",
       "      <th>2002</th>\n",
       "      <th>2003</th>\n",
       "      <th>2004</th>\n",
       "      <th>2005</th>\n",
       "      <th>2006</th>\n",
       "      <th>2007</th>\n",
       "      <th>2008</th>\n",
       "      <th>...</th>\n",
       "      <th>2011</th>\n",
       "      <th>2012</th>\n",
       "      <th>2013</th>\n",
       "      <th>2014</th>\n",
       "      <th>2015</th>\n",
       "      <th>2016</th>\n",
       "      <th>2017</th>\n",
       "      <th>2018</th>\n",
       "      <th>2019</th>\n",
       "      <th>2020</th>\n",
       "    </tr>\n",
       "  </thead>\n",
       "  <tbody>\n",
       "    <tr>\n",
       "      <th>0</th>\n",
       "      <td>Andorra</td>\n",
       "      <td>0</td>\n",
       "      <td>0</td>\n",
       "      <td>0</td>\n",
       "      <td>0</td>\n",
       "      <td>0</td>\n",
       "      <td>0</td>\n",
       "      <td>0</td>\n",
       "      <td>0</td>\n",
       "      <td>0</td>\n",
       "      <td>...</td>\n",
       "      <td>0.0</td>\n",
       "      <td>0.0</td>\n",
       "      <td>0.0</td>\n",
       "      <td>1.0</td>\n",
       "      <td>1.0</td>\n",
       "      <td>1.0</td>\n",
       "      <td>1.0</td>\n",
       "      <td>1.0</td>\n",
       "      <td>1.0</td>\n",
       "      <td>1.0</td>\n",
       "    </tr>\n",
       "    <tr>\n",
       "      <th>1</th>\n",
       "      <td>Australia</td>\n",
       "      <td>0</td>\n",
       "      <td>0</td>\n",
       "      <td>0</td>\n",
       "      <td>0</td>\n",
       "      <td>0</td>\n",
       "      <td>0</td>\n",
       "      <td>0</td>\n",
       "      <td>0</td>\n",
       "      <td>0</td>\n",
       "      <td>...</td>\n",
       "      <td>1.0</td>\n",
       "      <td>1.0</td>\n",
       "      <td>1.0</td>\n",
       "      <td>1.0</td>\n",
       "      <td>1.0</td>\n",
       "      <td>1.0</td>\n",
       "      <td>1.0</td>\n",
       "      <td>1.0</td>\n",
       "      <td>1.0</td>\n",
       "      <td>1.0</td>\n",
       "    </tr>\n",
       "  </tbody>\n",
       "</table>\n",
       "<p>2 rows × 22 columns</p>\n",
       "</div>"
      ],
      "text/plain": [
       "     country  2000  2001  2002  2003  2004  2005  2006  2007  2008  ...  2011  \\\n",
       "0    Andorra     0     0     0     0     0     0     0     0     0  ...   0.0   \n",
       "1  Australia     0     0     0     0     0     0     0     0     0  ...   1.0   \n",
       "\n",
       "   2012  2013  2014  2015  2016  2017  2018  2019  2020  \n",
       "0   0.0   0.0   1.0   1.0   1.0   1.0   1.0   1.0   1.0  \n",
       "1   1.0   1.0   1.0   1.0   1.0   1.0   1.0   1.0   1.0  \n",
       "\n",
       "[2 rows x 22 columns]"
      ]
     },
     "execution_count": 164,
     "metadata": {},
     "output_type": "execute_result"
    }
   ],
   "source": [
    "lte.head(2)"
   ]
  },
  {
   "cell_type": "code",
   "execution_count": 165,
   "id": "a3b9c76a-4786-41d6-afc6-5798a45584ef",
   "metadata": {},
   "outputs": [],
   "source": [
    "lte = lte.fillna(0)"
   ]
  },
  {
   "cell_type": "code",
   "execution_count": 166,
   "id": "7db14fd2-9b2e-44fb-a715-a7bb9720b5e5",
   "metadata": {},
   "outputs": [
    {
     "data": {
      "text/plain": [
       "country    0\n",
       "2000       0\n",
       "2001       0\n",
       "2002       0\n",
       "2003       0\n",
       "2004       0\n",
       "2005       0\n",
       "2006       0\n",
       "2007       0\n",
       "2008       0\n",
       "2009       0\n",
       "2010       0\n",
       "2011       0\n",
       "2012       0\n",
       "2013       0\n",
       "2014       0\n",
       "2015       0\n",
       "2016       0\n",
       "2017       0\n",
       "2018       0\n",
       "2019       0\n",
       "2020       0\n",
       "dtype: int64"
      ]
     },
     "execution_count": 166,
     "metadata": {},
     "output_type": "execute_result"
    }
   ],
   "source": [
    "lte.isna().sum()"
   ]
  },
  {
   "cell_type": "code",
   "execution_count": 167,
   "id": "4f563a8f-25dd-438d-8679-0035d5e6bd37",
   "metadata": {},
   "outputs": [],
   "source": [
    "lte_long = lte.set_index('country').stack().reset_index()"
   ]
  },
  {
   "cell_type": "code",
   "execution_count": 168,
   "id": "ece6be4e-a2de-4e7d-9e93-5bbdf599f040",
   "metadata": {},
   "outputs": [],
   "source": [
    "lte_long = lte_long.rename(columns= {'level_1': 'TIME_PERIOD'})\n",
    "lte_long = lte_long.rename(columns= {0: 'LTE_year'})"
   ]
  },
  {
   "cell_type": "code",
   "execution_count": 169,
   "id": "526c469a-3347-4295-b39e-501b70f45556",
   "metadata": {},
   "outputs": [],
   "source": [
    "m = list(set(merged_new['country'].unique()))"
   ]
  },
  {
   "cell_type": "code",
   "execution_count": 170,
   "id": "30a25965-8dfd-4bb3-b0ed-a77673314f37",
   "metadata": {},
   "outputs": [
    {
     "data": {
      "text/plain": [
       "75"
      ]
     },
     "execution_count": 170,
     "metadata": {},
     "output_type": "execute_result"
    }
   ],
   "source": [
    "len(m)"
   ]
  },
  {
   "cell_type": "code",
   "execution_count": 171,
   "id": "515f8db5-8fbf-42f0-8743-ea80db5ad203",
   "metadata": {},
   "outputs": [],
   "source": [
    "lte_long = lte_long[lte_long['country'].isin(m)]"
   ]
  },
  {
   "cell_type": "code",
   "execution_count": 172,
   "id": "94be84e4-9ce3-4e76-b9b8-46c5b28afdb7",
   "metadata": {},
   "outputs": [
    {
     "data": {
      "text/plain": [
       "75"
      ]
     },
     "execution_count": 172,
     "metadata": {},
     "output_type": "execute_result"
    }
   ],
   "source": [
    "lte_long['country'].nunique()"
   ]
  },
  {
   "cell_type": "code",
   "execution_count": 173,
   "id": "8cdc2982-51b7-4b26-8ff2-7507c5ae48f7",
   "metadata": {},
   "outputs": [],
   "source": [
    "# finding the minimum year for each country where LTE_year is 1\n",
    "treatment_year = lte_long[lte_long['LTE_year'] == 1].groupby('country')['TIME_PERIOD'].min()"
   ]
  },
  {
   "cell_type": "code",
   "execution_count": 174,
   "id": "c74b36ec-cfa6-4ab0-b7e1-07fb7bc2a672",
   "metadata": {},
   "outputs": [],
   "source": [
    "# mapping countries to their respective treatment year using a dictionary\n",
    "treatment_dict = treatment_year.to_dict()"
   ]
  },
  {
   "cell_type": "code",
   "execution_count": 175,
   "id": "6403d499-e562-4463-adc1-5159b9cd9da2",
   "metadata": {},
   "outputs": [],
   "source": [
    "lte_long['adoption_year'] = lte_long['country'].map(treatment_dict)"
   ]
  },
  {
   "cell_type": "code",
   "execution_count": 176,
   "id": "d7163aa4-21ea-4f0a-94a2-d94090798bbd",
   "metadata": {},
   "outputs": [],
   "source": [
    "# mapping the treatment years back to the dataframe\n",
    "#lte_long['adoption_year'] = lte_long.apply(lambda row: treatment_dict.get(row['country']) if row['LTE_year'] == 1.0 else row['LTE_year'], axis=1)"
   ]
  },
  {
   "cell_type": "code",
   "execution_count": 177,
   "id": "111f179d-b93b-4939-9684-4f25add4c42e",
   "metadata": {},
   "outputs": [],
   "source": [
    "# if any of the LTE_year column value is 1, the ever_adopted vector will have True for that entry\n",
    "ever_adopted = lte_long.groupby('country')['LTE_year'].transform(lambda x: (x == 1.0).any())"
   ]
  },
  {
   "cell_type": "code",
   "execution_count": 178,
   "id": "112908f9-56f9-4161-b9ee-1948f2051582",
   "metadata": {},
   "outputs": [],
   "source": [
    "# It changes the adopted column value to 1 if ever_adopted vector has True entry\n",
    "lte_long['adopted'] = ever_adopted.astype(int)"
   ]
  },
  {
   "cell_type": "code",
   "execution_count": 179,
   "id": "399b60bd-08f7-4eb4-812a-f9d0750f90dc",
   "metadata": {},
   "outputs": [],
   "source": [
    "lte_long = lte_long.reset_index(drop = True)"
   ]
  },
  {
   "cell_type": "code",
   "execution_count": 180,
   "id": "3b7169b6-bd39-4647-95d9-069227d7e36f",
   "metadata": {},
   "outputs": [],
   "source": [
    "# sanity check \n",
    "#lte_long[lte_long['country'] == 'Bangladesh']"
   ]
  },
  {
   "cell_type": "code",
   "execution_count": 181,
   "id": "aea81588-da63-4d3c-84e5-6cbd1b637dbf",
   "metadata": {},
   "outputs": [
    {
     "data": {
      "text/html": [
       "<div>\n",
       "<style scoped>\n",
       "    .dataframe tbody tr th:only-of-type {\n",
       "        vertical-align: middle;\n",
       "    }\n",
       "\n",
       "    .dataframe tbody tr th {\n",
       "        vertical-align: top;\n",
       "    }\n",
       "\n",
       "    .dataframe thead th {\n",
       "        text-align: right;\n",
       "    }\n",
       "</style>\n",
       "<table border=\"1\" class=\"dataframe\">\n",
       "  <thead>\n",
       "    <tr style=\"text-align: right;\">\n",
       "      <th></th>\n",
       "      <th>country</th>\n",
       "      <th>TIME_PERIOD</th>\n",
       "      <th>LTE_year</th>\n",
       "      <th>adoption_year</th>\n",
       "      <th>adopted</th>\n",
       "    </tr>\n",
       "  </thead>\n",
       "  <tbody>\n",
       "    <tr>\n",
       "      <th>0</th>\n",
       "      <td>Australia</td>\n",
       "      <td>2000</td>\n",
       "      <td>0.0</td>\n",
       "      <td>2011.0</td>\n",
       "      <td>1</td>\n",
       "    </tr>\n",
       "    <tr>\n",
       "      <th>1</th>\n",
       "      <td>Australia</td>\n",
       "      <td>2001</td>\n",
       "      <td>0.0</td>\n",
       "      <td>2011.0</td>\n",
       "      <td>1</td>\n",
       "    </tr>\n",
       "  </tbody>\n",
       "</table>\n",
       "</div>"
      ],
      "text/plain": [
       "     country  TIME_PERIOD  LTE_year  adoption_year  adopted\n",
       "0  Australia         2000       0.0         2011.0        1\n",
       "1  Australia         2001       0.0         2011.0        1"
      ]
     },
     "execution_count": 181,
     "metadata": {},
     "output_type": "execute_result"
    }
   ],
   "source": [
    "lte_long.head(2)"
   ]
  },
  {
   "cell_type": "code",
   "execution_count": 182,
   "id": "b3320d1c-fe4d-4216-ba61-642e1af428e3",
   "metadata": {},
   "outputs": [
    {
     "data": {
      "text/html": [
       "<div>\n",
       "<style scoped>\n",
       "    .dataframe tbody tr th:only-of-type {\n",
       "        vertical-align: middle;\n",
       "    }\n",
       "\n",
       "    .dataframe tbody tr th {\n",
       "        vertical-align: top;\n",
       "    }\n",
       "\n",
       "    .dataframe thead th {\n",
       "        text-align: right;\n",
       "    }\n",
       "</style>\n",
       "<table border=\"1\" class=\"dataframe\">\n",
       "  <thead>\n",
       "    <tr style=\"text-align: right;\">\n",
       "      <th></th>\n",
       "      <th>iso_o</th>\n",
       "      <th>TIME_PERIOD</th>\n",
       "      <th>export</th>\n",
       "      <th>import</th>\n",
       "      <th>net_imp</th>\n",
       "      <th>gdp_pct</th>\n",
       "      <th>trade_openness</th>\n",
       "      <th>schooling</th>\n",
       "      <th>internet</th>\n",
       "      <th>energy</th>\n",
       "      <th>pop_den</th>\n",
       "      <th>co2</th>\n",
       "      <th>country</th>\n",
       "      <th>continent</th>\n",
       "      <th>category</th>\n",
       "      <th>development</th>\n",
       "    </tr>\n",
       "  </thead>\n",
       "  <tbody>\n",
       "    <tr>\n",
       "      <th>0</th>\n",
       "      <td>ARG</td>\n",
       "      <td>2000</td>\n",
       "      <td>48.636</td>\n",
       "      <td>44.666</td>\n",
       "      <td>-3.970</td>\n",
       "      <td>10631.65</td>\n",
       "      <td>22.62</td>\n",
       "      <td>15.68757</td>\n",
       "      <td>7.04</td>\n",
       "      <td>1643.32</td>\n",
       "      <td>13.60</td>\n",
       "      <td>3.68</td>\n",
       "      <td>Argentina</td>\n",
       "      <td>America</td>\n",
       "      <td>Emerging and Developing Economies</td>\n",
       "      <td>0.0</td>\n",
       "    </tr>\n",
       "    <tr>\n",
       "      <th>1</th>\n",
       "      <td>ARG</td>\n",
       "      <td>2001</td>\n",
       "      <td>50.728</td>\n",
       "      <td>38.006</td>\n",
       "      <td>-12.722</td>\n",
       "      <td>10051.94</td>\n",
       "      <td>21.85</td>\n",
       "      <td>16.30578</td>\n",
       "      <td>9.78</td>\n",
       "      <td>1518.57</td>\n",
       "      <td>13.75</td>\n",
       "      <td>3.49</td>\n",
       "      <td>Argentina</td>\n",
       "      <td>America</td>\n",
       "      <td>Emerging and Developing Economies</td>\n",
       "      <td>0.0</td>\n",
       "    </tr>\n",
       "  </tbody>\n",
       "</table>\n",
       "</div>"
      ],
      "text/plain": [
       "  iso_o  TIME_PERIOD  export  import  net_imp   gdp_pct  trade_openness  \\\n",
       "0   ARG         2000  48.636  44.666   -3.970  10631.65           22.62   \n",
       "1   ARG         2001  50.728  38.006  -12.722  10051.94           21.85   \n",
       "\n",
       "   schooling  internet   energy  pop_den   co2    country continent  \\\n",
       "0   15.68757      7.04  1643.32    13.60  3.68  Argentina   America   \n",
       "1   16.30578      9.78  1518.57    13.75  3.49  Argentina   America   \n",
       "\n",
       "                            category  development  \n",
       "0  Emerging and Developing Economies          0.0  \n",
       "1  Emerging and Developing Economies          0.0  "
      ]
     },
     "execution_count": 182,
     "metadata": {},
     "output_type": "execute_result"
    }
   ],
   "source": [
    "merged_new.head(2)"
   ]
  },
  {
   "cell_type": "code",
   "execution_count": 183,
   "id": "4f306b39-a10b-46a9-b2e2-ff47a1a2f87b",
   "metadata": {},
   "outputs": [],
   "source": [
    "column = ['iso_o', 'iso_d', 'TIME_PERIOD']\n",
    "dupli = co2_T.duplicated(subset = column, keep = 'last')"
   ]
  },
  {
   "cell_type": "code",
   "execution_count": 184,
   "id": "b377db88-1fde-493b-90f3-5d3037846df0",
   "metadata": {},
   "outputs": [],
   "source": [
    "lte = merged_new.merge(lte_long, on = ['country', 'TIME_PERIOD'] , how = 'left')"
   ]
  },
  {
   "cell_type": "code",
   "execution_count": 185,
   "id": "35ba51df-a32f-4c31-b9ed-73cc5217d21c",
   "metadata": {},
   "outputs": [
    {
     "data": {
      "text/plain": [
       "(1575, 19)"
      ]
     },
     "execution_count": 185,
     "metadata": {},
     "output_type": "execute_result"
    }
   ],
   "source": [
    "lte.shape"
   ]
  },
  {
   "cell_type": "code",
   "execution_count": 186,
   "id": "e7e01eb5-d743-495f-8f8b-38c039d50401",
   "metadata": {},
   "outputs": [
    {
     "data": {
      "text/html": [
       "<div>\n",
       "<style scoped>\n",
       "    .dataframe tbody tr th:only-of-type {\n",
       "        vertical-align: middle;\n",
       "    }\n",
       "\n",
       "    .dataframe tbody tr th {\n",
       "        vertical-align: top;\n",
       "    }\n",
       "\n",
       "    .dataframe thead th {\n",
       "        text-align: right;\n",
       "    }\n",
       "</style>\n",
       "<table border=\"1\" class=\"dataframe\">\n",
       "  <thead>\n",
       "    <tr style=\"text-align: right;\">\n",
       "      <th></th>\n",
       "      <th>iso_o</th>\n",
       "      <th>TIME_PERIOD</th>\n",
       "      <th>export</th>\n",
       "      <th>import</th>\n",
       "      <th>net_imp</th>\n",
       "      <th>gdp_pct</th>\n",
       "      <th>trade_openness</th>\n",
       "      <th>schooling</th>\n",
       "      <th>internet</th>\n",
       "      <th>energy</th>\n",
       "      <th>pop_den</th>\n",
       "      <th>co2</th>\n",
       "      <th>country</th>\n",
       "      <th>continent</th>\n",
       "      <th>category</th>\n",
       "      <th>development</th>\n",
       "      <th>LTE_year</th>\n",
       "      <th>adoption_year</th>\n",
       "      <th>adopted</th>\n",
       "    </tr>\n",
       "  </thead>\n",
       "  <tbody>\n",
       "    <tr>\n",
       "      <th>0</th>\n",
       "      <td>ARG</td>\n",
       "      <td>2000</td>\n",
       "      <td>48.636</td>\n",
       "      <td>44.666</td>\n",
       "      <td>-3.970</td>\n",
       "      <td>10631.65</td>\n",
       "      <td>22.62</td>\n",
       "      <td>15.687570</td>\n",
       "      <td>7.04</td>\n",
       "      <td>1643.32</td>\n",
       "      <td>13.60</td>\n",
       "      <td>3.68</td>\n",
       "      <td>Argentina</td>\n",
       "      <td>America</td>\n",
       "      <td>Emerging and Developing Economies</td>\n",
       "      <td>0.0</td>\n",
       "      <td>0.0</td>\n",
       "      <td>2014.0</td>\n",
       "      <td>1</td>\n",
       "    </tr>\n",
       "    <tr>\n",
       "      <th>1</th>\n",
       "      <td>ARG</td>\n",
       "      <td>2001</td>\n",
       "      <td>50.728</td>\n",
       "      <td>38.006</td>\n",
       "      <td>-12.722</td>\n",
       "      <td>10051.94</td>\n",
       "      <td>21.85</td>\n",
       "      <td>16.305780</td>\n",
       "      <td>9.78</td>\n",
       "      <td>1518.57</td>\n",
       "      <td>13.75</td>\n",
       "      <td>3.49</td>\n",
       "      <td>Argentina</td>\n",
       "      <td>America</td>\n",
       "      <td>Emerging and Developing Economies</td>\n",
       "      <td>0.0</td>\n",
       "      <td>0.0</td>\n",
       "      <td>2014.0</td>\n",
       "      <td>1</td>\n",
       "    </tr>\n",
       "    <tr>\n",
       "      <th>2</th>\n",
       "      <td>ARG</td>\n",
       "      <td>2002</td>\n",
       "      <td>87.260</td>\n",
       "      <td>17.889</td>\n",
       "      <td>-69.371</td>\n",
       "      <td>8861.56</td>\n",
       "      <td>41.75</td>\n",
       "      <td>16.392509</td>\n",
       "      <td>10.90</td>\n",
       "      <td>1484.26</td>\n",
       "      <td>13.90</td>\n",
       "      <td>3.26</td>\n",
       "      <td>Argentina</td>\n",
       "      <td>America</td>\n",
       "      <td>Emerging and Developing Economies</td>\n",
       "      <td>0.0</td>\n",
       "      <td>0.0</td>\n",
       "      <td>2014.0</td>\n",
       "      <td>1</td>\n",
       "    </tr>\n",
       "  </tbody>\n",
       "</table>\n",
       "</div>"
      ],
      "text/plain": [
       "  iso_o  TIME_PERIOD  export  import  net_imp   gdp_pct  trade_openness  \\\n",
       "0   ARG         2000  48.636  44.666   -3.970  10631.65           22.62   \n",
       "1   ARG         2001  50.728  38.006  -12.722  10051.94           21.85   \n",
       "2   ARG         2002  87.260  17.889  -69.371   8861.56           41.75   \n",
       "\n",
       "   schooling  internet   energy  pop_den   co2    country continent  \\\n",
       "0  15.687570      7.04  1643.32    13.60  3.68  Argentina   America   \n",
       "1  16.305780      9.78  1518.57    13.75  3.49  Argentina   America   \n",
       "2  16.392509     10.90  1484.26    13.90  3.26  Argentina   America   \n",
       "\n",
       "                            category  development  LTE_year  adoption_year  \\\n",
       "0  Emerging and Developing Economies          0.0       0.0         2014.0   \n",
       "1  Emerging and Developing Economies          0.0       0.0         2014.0   \n",
       "2  Emerging and Developing Economies          0.0       0.0         2014.0   \n",
       "\n",
       "   adopted  \n",
       "0        1  \n",
       "1        1  \n",
       "2        1  "
      ]
     },
     "execution_count": 186,
     "metadata": {},
     "output_type": "execute_result"
    }
   ],
   "source": [
    "lte.head(3)"
   ]
  },
  {
   "cell_type": "code",
   "execution_count": 187,
   "id": "e9613801-8ac5-4cd1-a8a2-f7993b189a38",
   "metadata": {},
   "outputs": [
    {
     "data": {
      "text/plain": [
       "{'TWN', 'WXD'}"
      ]
     },
     "execution_count": 187,
     "metadata": {},
     "output_type": "execute_result"
    }
   ],
   "source": [
    "set(edgelist_co2['iso_o'].unique()) - set(lte['iso_o'].unique())"
   ]
  },
  {
   "cell_type": "code",
   "execution_count": 188,
   "id": "fb51e324-aa57-40b6-b0ef-855887aa9533",
   "metadata": {},
   "outputs": [],
   "source": [
    "c = list(set(lte['iso_o'].unique()))"
   ]
  },
  {
   "cell_type": "code",
   "execution_count": 189,
   "id": "d4476b96-547e-48b3-ac75-1aca484589bd",
   "metadata": {},
   "outputs": [
    {
     "data": {
      "text/plain": [
       "75"
      ]
     },
     "execution_count": 189,
     "metadata": {},
     "output_type": "execute_result"
    }
   ],
   "source": [
    "len(c)"
   ]
  },
  {
   "cell_type": "code",
   "execution_count": 190,
   "id": "d850723e-53a8-4188-9ac4-f855392c0769",
   "metadata": {},
   "outputs": [],
   "source": [
    "edgelist_co2 = edgelist_co2[edgelist_co2['iso_o'].isin(c)]\n",
    "edgelist_co2 = edgelist_co2[edgelist_co2['iso_d'].isin(c)]"
   ]
  },
  {
   "cell_type": "code",
   "execution_count": 191,
   "id": "c6dfc55d-713d-4f42-8ec4-c4c6c7d4b3cc",
   "metadata": {},
   "outputs": [
    {
     "name": "stdout",
     "output_type": "stream",
     "text": [
      "75\n",
      "75\n"
     ]
    }
   ],
   "source": [
    "print(edgelist_co2['iso_o'].nunique())\n",
    "print(edgelist_co2['iso_o'].nunique())"
   ]
  },
  {
   "cell_type": "code",
   "execution_count": 192,
   "id": "772437d4-8666-4792-a0e0-4f8379c4b3b6",
   "metadata": {},
   "outputs": [],
   "source": [
    "assert set(edgelist_co2['iso_o'].unique()) == set(lte['iso_o'].unique()) == set(edgelist_co2['iso_d'].unique())"
   ]
  },
  {
   "cell_type": "code",
   "execution_count": 193,
   "id": "379a74a1-461f-4792-93a6-0933096be820",
   "metadata": {},
   "outputs": [],
   "source": [
    "lte.to_csv(\"../data/cleaned/pollution_trade.csv\", encoding = 'utf-8', index = False)"
   ]
  },
  {
   "cell_type": "code",
   "execution_count": 194,
   "id": "38ec57bc-8249-4888-b59a-75dcd191ea0e",
   "metadata": {},
   "outputs": [],
   "source": [
    "edgelist_co2.to_csv(\"../data/cleaned/emission_trade_edgelist.csv\", encoding='utf-8', index=False)"
   ]
  },
  {
   "cell_type": "code",
   "execution_count": 195,
   "id": "eeeef04e-e8cc-4eeb-8af5-d59acc7032d8",
   "metadata": {},
   "outputs": [
    {
     "data": {
      "text/plain": [
       "LTE_year\n",
       "0.0    947\n",
       "1.0    628\n",
       "Name: count, dtype: int64"
      ]
     },
     "execution_count": 195,
     "metadata": {},
     "output_type": "execute_result"
    }
   ],
   "source": [
    "lte['LTE_year'].value_counts()"
   ]
  },
  {
   "cell_type": "code",
   "execution_count": 196,
   "id": "0b6734c7-2c23-4edc-8a72-b0caab24e3c8",
   "metadata": {},
   "outputs": [],
   "source": [
    "a2000 = lte[lte['TIME_PERIOD'] == 2000]\n",
    "a2001 = lte[lte['TIME_PERIOD'] == 2001]\n",
    "a2002 = lte[lte['TIME_PERIOD'] == 2002]\n",
    "a2003 = lte[lte['TIME_PERIOD'] == 2003]\n",
    "a2004 = lte[lte['TIME_PERIOD'] == 2004]\n",
    "a2005 = lte[lte['TIME_PERIOD'] == 2005]\n",
    "a2006 = lte[lte['TIME_PERIOD'] == 2006]\n",
    "a2007 = lte[lte['TIME_PERIOD'] == 2007]\n",
    "a2008 = lte[lte['TIME_PERIOD'] == 2008]\n",
    "a2009 = lte[lte['TIME_PERIOD'] == 2009]\n",
    "a2010 = lte[lte['TIME_PERIOD'] == 2010]\n",
    "a2011 = lte[lte['TIME_PERIOD'] == 2011]\n",
    "a2012 = lte[lte['TIME_PERIOD'] == 2012]\n",
    "a2013 = lte[lte['TIME_PERIOD'] == 2013]\n",
    "a2014 = lte[lte['TIME_PERIOD'] == 2014]\n",
    "a2015 = lte[lte['TIME_PERIOD'] == 2015]\n",
    "a2016 = lte[lte['TIME_PERIOD'] == 2016]\n",
    "a2017 = lte[lte['TIME_PERIOD'] == 2017]\n",
    "a2018 = lte[lte['TIME_PERIOD'] == 2018]\n",
    "a2019 = lte[lte['TIME_PERIOD'] == 2019]\n",
    "a2020 = lte[lte['TIME_PERIOD'] == 2020]"
   ]
  },
  {
   "cell_type": "code",
   "execution_count": 197,
   "id": "0fd46077-fdf3-4c45-8f56-1d7507aade16",
   "metadata": {},
   "outputs": [],
   "source": [
    "a2000.to_csv('../data/cleaned/attribute2000.csv', encoding='utf-8', index=False)\n",
    "a2001.to_csv('../data/cleaned/attribute2001.csv', encoding='utf-8', index=False)\n",
    "a2002.to_csv('../data/cleaned/attribute2002.csv', encoding='utf-8', index=False)\n",
    "a2003.to_csv('../data/cleaned/attribute2003.csv', encoding='utf-8', index=False)\n",
    "a2004.to_csv('../data/cleaned/attribute2004.csv', encoding='utf-8', index=False)\n",
    "a2005.to_csv('../data/cleaned/attribute2005.csv', encoding='utf-8', index=False)\n",
    "a2006.to_csv('../data/cleaned/attribute2006.csv', encoding='utf-8', index=False)\n",
    "a2007.to_csv('../data/cleaned/attribute2007.csv', encoding='utf-8', index=False)\n",
    "a2008.to_csv('../data/cleaned/attribute2008.csv', encoding='utf-8', index=False)\n",
    "a2009.to_csv('../data/cleaned/attribute2009.csv', encoding='utf-8', index=False)\n",
    "a2010.to_csv('../data/cleaned/attribute2010.csv', encoding='utf-8', index=False)\n",
    "a2011.to_csv('../data/cleaned/attribute2011.csv', encoding='utf-8', index=False)\n",
    "a2012.to_csv('../data/cleaned/attribute2012.csv', encoding='utf-8', index=False)\n",
    "a2013.to_csv('../data/cleaned/attribute2013.csv', encoding='utf-8', index=False)\n",
    "a2014.to_csv('../data/cleaned/attribute2014.csv', encoding='utf-8', index=False)\n",
    "a2015.to_csv('../data/cleaned/attribute2015.csv', encoding='utf-8', index=False)\n",
    "a2016.to_csv('../data/cleaned/attribute2016.csv', encoding='utf-8', index=False)\n",
    "a2017.to_csv('../data/cleaned/attribute2017.csv', encoding='utf-8', index=False)\n",
    "a2018.to_csv('../data/cleaned/attribute2018.csv', encoding='utf-8', index=False)\n",
    "a2019.to_csv('../data/cleaned/attribute2019.csv', encoding='utf-8', index=False)\n",
    "a2020.to_csv('../data/cleaned/attribute2020.csv', encoding='utf-8', index=False)"
   ]
  },
  {
   "cell_type": "code",
   "execution_count": null,
   "id": "908d3711-5cbb-4ea0-a924-3c4e72fcdc34",
   "metadata": {},
   "outputs": [],
   "source": []
  }
 ],
 "metadata": {
  "kernelspec": {
   "display_name": "Python 3 (ipykernel)",
   "language": "python",
   "name": "python3"
  },
  "language_info": {
   "codemirror_mode": {
    "name": "ipython",
    "version": 3
   },
   "file_extension": ".py",
   "mimetype": "text/x-python",
   "name": "python",
   "nbconvert_exporter": "python",
   "pygments_lexer": "ipython3",
   "version": "3.12.7"
  }
 },
 "nbformat": 4,
 "nbformat_minor": 5
}
