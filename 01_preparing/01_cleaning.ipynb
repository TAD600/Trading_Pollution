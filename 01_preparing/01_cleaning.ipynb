{
 "cells": [
  {
   "cell_type": "code",
   "execution_count": 1,
   "id": "faf397a6-f315-481d-9237-6ac35f145865",
   "metadata": {},
   "outputs": [],
   "source": [
    "import pandas as pd\n",
    "import numpy as np"
   ]
  },
  {
   "cell_type": "markdown",
   "id": "1a2f0ef5-c684-44d6-b477-3fa2cf2b3ad9",
   "metadata": {},
   "source": [
    "These notebook cleans data from the 'raw' subfolder and produces 20 csv files (13 dyad level and 7 node level)\n",
    "Data cleaning steps:\n",
    "   > - a. Renaming the exporter and importer columns\n",
    "   > - b. Removing self loops\n",
    "   > - c. Removing duplicate rows and keeping the first instance only\n",
    "   > - d. Keeping only the necessary columns\n",
    "   > - e. Keeping only the countries common in all datassets\n",
    "   > - f. Sorting values by country pair and time period\n",
    "   > - g. Reseting index\n",
    "   > - h. Saving the data in the cleanind folder"
   ]
  },
  {
   "cell_type": "markdown",
   "id": "cf4b7ffa-183b-42cf-ba1f-094d3567dc6a",
   "metadata": {},
   "source": [
    "### GHGFP: Emissions embodied in bilateral trade"
   ]
  },
  {
   "cell_type": "code",
   "execution_count": 2,
   "id": "f2562c4d-1d7a-4bf2-9a9d-144e629395dd",
   "metadata": {},
   "outputs": [],
   "source": [
    "co2 = pd.read_csv('../data/raw/DF_TRADE.csv')"
   ]
  },
  {
   "cell_type": "code",
   "execution_count": 3,
   "id": "46d62000-525b-4de1-876b-041972dc626f",
   "metadata": {},
   "outputs": [],
   "source": [
    "#co2.head(30)"
   ]
  },
  {
   "cell_type": "code",
   "execution_count": 4,
   "id": "27dbfc29-4101-4d69-9c07-3f26ae9e8a37",
   "metadata": {},
   "outputs": [],
   "source": [
    "co2 = co2[co2['EXPORTER'] != co2['IMPORTER']]"
   ]
  },
  {
   "cell_type": "code",
   "execution_count": 5,
   "id": "4fb52102-fe34-424b-9f2f-e8cff596e28c",
   "metadata": {},
   "outputs": [],
   "source": [
    "co2 = co2.rename(columns = {'EXPORTER': 'iso_o'})\n",
    "co2 = co2.rename(columns = {'IMPORTER': 'iso_d'})"
   ]
  },
  {
   "cell_type": "code",
   "execution_count": 6,
   "id": "b824cac0-6215-4d00-9371-9aa6faca6d0f",
   "metadata": {},
   "outputs": [
    {
     "data": {
      "text/plain": [
       "array(['A01_02', 'A03', 'B05_06', 'B07_08', 'B09', 'C10T12', 'C13T15',\n",
       "       'C16', 'C17_18', 'C19', 'C20', 'C21', 'C22', 'C23', 'C24', 'C25',\n",
       "       'C26', 'C27', 'C28', 'C29', 'C30', 'C31T33', 'D', 'E', 'F', 'G',\n",
       "       'H49', 'H50', 'H51', 'H52', 'H53', 'I', 'J58T60', 'J61', 'J62_63',\n",
       "       'K', 'L', 'M', 'N', 'O', 'P', 'Q', 'R', 'S', 'T', '_T', 'A', 'B',\n",
       "       'C', 'C16T18', 'C19T23', 'C20_21', 'C24_25', 'C26_27', 'C29_30',\n",
       "       'D_E', 'GTN', 'GTI', 'H', 'J', 'M_N', 'OTT', 'OTQ', 'RTT', 'R_S',\n",
       "       'BTE', 'GTT', 'JTN', 'FTT', 'INFO'], dtype=object)"
      ]
     },
     "execution_count": 6,
     "metadata": {},
     "output_type": "execute_result"
    }
   ],
   "source": [
    "co2['ACTIVITY'].unique()"
   ]
  },
  {
   "cell_type": "code",
   "execution_count": 7,
   "id": "84f4cde8-aaaa-4692-b405-165e993b80a2",
   "metadata": {},
   "outputs": [
    {
     "data": {
      "text/plain": [
       "array(['FNL', 'TTL'], dtype=object)"
      ]
     },
     "execution_count": 7,
     "metadata": {},
     "output_type": "execute_result"
    }
   ],
   "source": [
    "co2['PRODUCT_CATEGORY'].unique()"
   ]
  },
  {
   "cell_type": "code",
   "execution_count": 8,
   "id": "698b49c2-794d-45be-98b5-cb619a307191",
   "metadata": {},
   "outputs": [
    {
     "data": {
      "text/html": [
       "<div>\n",
       "<style scoped>\n",
       "    .dataframe tbody tr th:only-of-type {\n",
       "        vertical-align: middle;\n",
       "    }\n",
       "\n",
       "    .dataframe tbody tr th {\n",
       "        vertical-align: top;\n",
       "    }\n",
       "\n",
       "    .dataframe thead th {\n",
       "        text-align: right;\n",
       "    }\n",
       "</style>\n",
       "<table border=\"1\" class=\"dataframe\">\n",
       "  <thead>\n",
       "    <tr style=\"text-align: right;\">\n",
       "      <th></th>\n",
       "      <th>STRUCTURE</th>\n",
       "      <th>STRUCTURE_ID</th>\n",
       "      <th>ACTION</th>\n",
       "      <th>FREQ</th>\n",
       "      <th>TIME_PERIOD</th>\n",
       "      <th>MEASURE</th>\n",
       "      <th>iso_o</th>\n",
       "      <th>iso_d</th>\n",
       "      <th>ACTIVITY</th>\n",
       "      <th>PRODUCT_CATEGORY</th>\n",
       "      <th>UNIT_MEASURE</th>\n",
       "      <th>UNIT_MULT</th>\n",
       "      <th>OBS_VALUE</th>\n",
       "    </tr>\n",
       "  </thead>\n",
       "  <tbody>\n",
       "    <tr>\n",
       "      <th>18256160</th>\n",
       "      <td>DATAFLOW</td>\n",
       "      <td>OECD.STI.PIE:DSD_ICIO_GHG_TRADE@DF_ICIO_GHG_TR...</td>\n",
       "      <td>R</td>\n",
       "      <td>A</td>\n",
       "      <td>1995</td>\n",
       "      <td>TRADE_GHG</td>\n",
       "      <td>BGD</td>\n",
       "      <td>IND</td>\n",
       "      <td>_T</td>\n",
       "      <td>TTL</td>\n",
       "      <td>T_CO2E</td>\n",
       "      <td>6</td>\n",
       "      <td>0.152</td>\n",
       "    </tr>\n",
       "  </tbody>\n",
       "</table>\n",
       "</div>"
      ],
      "text/plain": [
       "         STRUCTURE                                       STRUCTURE_ID ACTION  \\\n",
       "18256160  DATAFLOW  OECD.STI.PIE:DSD_ICIO_GHG_TRADE@DF_ICIO_GHG_TR...      R   \n",
       "\n",
       "         FREQ  TIME_PERIOD    MEASURE iso_o iso_d ACTIVITY PRODUCT_CATEGORY  \\\n",
       "18256160    A         1995  TRADE_GHG   BGD   IND       _T              TTL   \n",
       "\n",
       "         UNIT_MEASURE  UNIT_MULT  OBS_VALUE  \n",
       "18256160       T_CO2E          6      0.152  "
      ]
     },
     "execution_count": 8,
     "metadata": {},
     "output_type": "execute_result"
    }
   ],
   "source": [
    "co2[(co2['iso_o'] == 'BGD') & (co2['iso_d'] == 'IND') & (co2['TIME_PERIOD'] == 1995) & (co2['ACTIVITY'] == '_T') & (co2['PRODUCT_CATEGORY'] == 'TTL')]"
   ]
  },
  {
   "cell_type": "markdown",
   "id": "66444a01-bef0-46c6-8c57-1817402ce1fd",
   "metadata": {},
   "source": [
    "Product category `TTL` contains both intermediate and final products. \n",
    "Activity `_T` is the sum of non-overlapping industry demand. I am keeping these two only."
   ]
  },
  {
   "cell_type": "code",
   "execution_count": 9,
   "id": "373f2f8e-9481-4f26-933e-4f4915a43377",
   "metadata": {},
   "outputs": [],
   "source": [
    "co2_T = co2[(co2['TIME_PERIOD'] >= 2000) & (co2['ACTIVITY'] == '_T') & (co2['PRODUCT_CATEGORY'] == 'TTL')]"
   ]
  },
  {
   "cell_type": "code",
   "execution_count": 10,
   "id": "b01a92ea-f873-4d70-a79f-77c4fea25d88",
   "metadata": {},
   "outputs": [
    {
     "data": {
      "text/plain": [
       "(21861840, 13)"
      ]
     },
     "execution_count": 10,
     "metadata": {},
     "output_type": "execute_result"
    }
   ],
   "source": [
    "co2.shape"
   ]
  },
  {
   "cell_type": "code",
   "execution_count": 11,
   "id": "6ac664f7-16e8-4308-8279-83ed9f9e3700",
   "metadata": {},
   "outputs": [
    {
     "data": {
      "text/plain": [
       "(126126, 13)"
      ]
     },
     "execution_count": 11,
     "metadata": {},
     "output_type": "execute_result"
    }
   ],
   "source": [
    "co2_T.shape"
   ]
  },
  {
   "cell_type": "code",
   "execution_count": 12,
   "id": "e7f91243-59e7-4775-aaaa-21a819dff006",
   "metadata": {},
   "outputs": [
    {
     "name": "stdout",
     "output_type": "stream",
     "text": [
      "78\n",
      "78\n",
      "1\n",
      "1\n",
      "21\n",
      "6006\n"
     ]
    }
   ],
   "source": [
    "print(co2_T['iso_o'].nunique())\n",
    "print(co2_T['iso_d'].nunique())\n",
    "print(co2_T['ACTIVITY'].nunique())\n",
    "print(co2_T['PRODUCT_CATEGORY'].nunique())\n",
    "print(co2_T['TIME_PERIOD'].nunique())\n",
    "print(co2_T.groupby(['iso_o', 'iso_d']).ngroups)"
   ]
  },
  {
   "cell_type": "code",
   "execution_count": 13,
   "id": "3f93807e-62ba-4e73-a369-9d9272ed9918",
   "metadata": {},
   "outputs": [
    {
     "data": {
      "text/plain": [
       "array([2000, 2001, 2002, 2003, 2004, 2005, 2006, 2007, 2008, 2009, 2010,\n",
       "       2011, 2012, 2013, 2014, 2015, 2016, 2017, 2018, 2019, 2020],\n",
       "      dtype=int64)"
      ]
     },
     "execution_count": 13,
     "metadata": {},
     "output_type": "execute_result"
    }
   ],
   "source": [
    "co2_T['TIME_PERIOD'].unique()"
   ]
  },
  {
   "cell_type": "code",
   "execution_count": 14,
   "id": "67e0c4bb-f058-43f1-a97f-f2e9e18aee73",
   "metadata": {},
   "outputs": [],
   "source": [
    "column = ['iso_o', 'iso_d', 'TIME_PERIOD']\n",
    "dupli = co2_T.duplicated(subset = column, keep = 'last')"
   ]
  },
  {
   "cell_type": "code",
   "execution_count": 15,
   "id": "a13d7502-361c-4bc7-8283-33799178bcb7",
   "metadata": {},
   "outputs": [],
   "source": [
    "co2_uni = co2_T[~dupli]"
   ]
  },
  {
   "cell_type": "code",
   "execution_count": 16,
   "id": "3a4871de-247b-4700-961b-a2ee1d76c08a",
   "metadata": {},
   "outputs": [
    {
     "data": {
      "text/plain": [
       "(126126, 13)"
      ]
     },
     "execution_count": 16,
     "metadata": {},
     "output_type": "execute_result"
    }
   ],
   "source": [
    "co2_uni.shape #There is no duplicate."
   ]
  },
  {
   "cell_type": "code",
   "execution_count": 17,
   "id": "68ce54ba-7a6b-4b72-8e65-530732cc79d4",
   "metadata": {},
   "outputs": [],
   "source": [
    "co2_uni = co2_uni[['iso_o', 'iso_d', 'TIME_PERIOD', 'OBS_VALUE']]"
   ]
  },
  {
   "cell_type": "code",
   "execution_count": 18,
   "id": "9d137c28-9ef4-4a52-9a08-199752f48ec0",
   "metadata": {},
   "outputs": [],
   "source": [
    "co2_uni = co2_uni.reset_index(drop = True)"
   ]
  },
  {
   "cell_type": "code",
   "execution_count": 19,
   "id": "c2c7610b-d7c1-4b86-970b-89b4b6900f7f",
   "metadata": {},
   "outputs": [],
   "source": [
    "co2_uni = co2_uni[co2_uni['iso_o'] != 'W']\n",
    "co2_uni = co2_uni[co2_uni['iso_d'] != 'W']"
   ]
  },
  {
   "cell_type": "code",
   "execution_count": 20,
   "id": "0ac01255-c5ca-4d88-a3b6-9adb8d78c9fd",
   "metadata": {},
   "outputs": [
    {
     "data": {
      "text/plain": [
       "(122892, 4)"
      ]
     },
     "execution_count": 20,
     "metadata": {},
     "output_type": "execute_result"
    }
   ],
   "source": [
    "co2_uni.shape"
   ]
  },
  {
   "cell_type": "code",
   "execution_count": 21,
   "id": "62725008-8ab4-4ced-970e-47eaa9359468",
   "metadata": {},
   "outputs": [
    {
     "name": "stdout",
     "output_type": "stream",
     "text": [
      "77\n",
      "77\n",
      "21\n",
      "5852\n"
     ]
    }
   ],
   "source": [
    "print(co2_uni['iso_o'].nunique())\n",
    "print(co2_uni['iso_d'].nunique())\n",
    "print(co2_uni['TIME_PERIOD'].nunique())\n",
    "print(co2_uni.groupby(['iso_o', 'iso_d']).ngroups)"
   ]
  },
  {
   "cell_type": "code",
   "execution_count": 22,
   "id": "4e160beb-8b79-4a21-8090-318e25324bd0",
   "metadata": {},
   "outputs": [],
   "source": [
    "assert set(co2_uni['iso_o'].unique()) == set(co2_uni['iso_d'].unique()) #Exporters and importers have same set of countries."
   ]
  },
  {
   "cell_type": "code",
   "execution_count": 23,
   "id": "59980694-74f9-4ed2-8bfa-c44a5ee91201",
   "metadata": {},
   "outputs": [],
   "source": [
    "countries = set(co2_uni['iso_o'].unique())"
   ]
  },
  {
   "cell_type": "code",
   "execution_count": 24,
   "id": "a186ecbf-bf39-41f5-8533-81d5bce20890",
   "metadata": {},
   "outputs": [],
   "source": [
    "edgelist_co2 = co2_uni.pivot_table(index = ['iso_o', 'iso_d'], columns = 'TIME_PERIOD', values = 'OBS_VALUE', fill_value = 0).reset_index()"
   ]
  },
  {
   "cell_type": "code",
   "execution_count": 25,
   "id": "da1cf7a9-4c87-4d6a-9a10-06cc3192e470",
   "metadata": {},
   "outputs": [],
   "source": [
    "assert co2_uni.groupby(['iso_o', 'iso_d']).ngroups == edgelist_co2 .shape[0] "
   ]
  },
  {
   "cell_type": "markdown",
   "id": "9917a577-5f3f-454c-942a-69d4ea62fb36",
   "metadata": {},
   "source": [
    "### Total Trade"
   ]
  },
  {
   "cell_type": "markdown",
   "id": "2135bd35-64b9-4d16-b87d-29b2f1b52d3f",
   "metadata": {},
   "source": [
    "#### From 2000 to 2004"
   ]
  },
  {
   "cell_type": "code",
   "execution_count": 26,
   "id": "26edff3c-2c0d-4d0a-b791-28f1947e47e5",
   "metadata": {},
   "outputs": [],
   "source": [
    "c00_04 = pd.read_csv('../data/raw/HS17_2D_DE_2000_To_2004.csv')"
   ]
  },
  {
   "cell_type": "code",
   "execution_count": 27,
   "id": "54e719a7-c8ab-41e8-b4f3-ee96aa4b357f",
   "metadata": {},
   "outputs": [],
   "source": [
    "c00_04 = c00_04[['REF_AREA', 'COUNTERPART_AREA', 'PRODUCT_HS', 'TIME_PERIOD', 'OBS_VALUE', 'ADJUSTMENT']]"
   ]
  },
  {
   "cell_type": "code",
   "execution_count": 28,
   "id": "f57b2e2e-8948-467b-946a-681075dfdef3",
   "metadata": {},
   "outputs": [],
   "source": [
    "c00_04 = c00_04[c00_04['COUNTERPART_AREA'] != 'W']\n",
    "c00_04 = c00_04[c00_04['REF_AREA'] != 'W']"
   ]
  },
  {
   "cell_type": "code",
   "execution_count": 29,
   "id": "0c1b607b-815b-4e9d-8eb2-16c8c798d4b3",
   "metadata": {},
   "outputs": [],
   "source": [
    "c00_04_total = c00_04[(c00_04['PRODUCT_HS'] == '_T') & (c00_04['ADJUSTMENT'] == 'B_ADJ_RX') ]"
   ]
  },
  {
   "cell_type": "code",
   "execution_count": 30,
   "id": "d50f9e33-9499-4a95-80ea-661e176ef730",
   "metadata": {},
   "outputs": [
    {
     "name": "stdout",
     "output_type": "stream",
     "text": [
      "197\n",
      "197\n",
      "1\n"
     ]
    }
   ],
   "source": [
    "print(c00_04_total['REF_AREA'].nunique())\n",
    "print(c00_04_total['COUNTERPART_AREA'].nunique())\n",
    "print(c00_04_total['PRODUCT_HS'].nunique())"
   ]
  },
  {
   "cell_type": "markdown",
   "id": "a2dac2a4-3af9-4b57-a414-ae2bc3813b96",
   "metadata": {},
   "source": [
    "#### From 2005 to 2009"
   ]
  },
  {
   "cell_type": "code",
   "execution_count": 31,
   "id": "c137839c-739b-4839-8cd7-9e439d709122",
   "metadata": {},
   "outputs": [],
   "source": [
    "c05_09 = pd.read_csv('../data/raw/HS17_2D_DE_2005_To_2009.csv')"
   ]
  },
  {
   "cell_type": "code",
   "execution_count": 32,
   "id": "37088a0a-2b5b-493b-b782-a4ead12bd8d7",
   "metadata": {},
   "outputs": [
    {
     "data": {
      "text/html": [
       "<div>\n",
       "<style scoped>\n",
       "    .dataframe tbody tr th:only-of-type {\n",
       "        vertical-align: middle;\n",
       "    }\n",
       "\n",
       "    .dataframe tbody tr th {\n",
       "        vertical-align: top;\n",
       "    }\n",
       "\n",
       "    .dataframe thead th {\n",
       "        text-align: right;\n",
       "    }\n",
       "</style>\n",
       "<table border=\"1\" class=\"dataframe\">\n",
       "  <thead>\n",
       "    <tr style=\"text-align: right;\">\n",
       "      <th></th>\n",
       "      <th>DATAFLOW</th>\n",
       "      <th>REF_AREA</th>\n",
       "      <th>COUNTERPART_AREA</th>\n",
       "      <th>TRADE_FLOW</th>\n",
       "      <th>PRODUCT_TYPE</th>\n",
       "      <th>PRODUCT_CPA</th>\n",
       "      <th>PRODUCT_HS</th>\n",
       "      <th>FREQ</th>\n",
       "      <th>TIME_PERIOD</th>\n",
       "      <th>OBS_VALUE</th>\n",
       "      <th>OBS_STATUS</th>\n",
       "      <th>METHODOLOGY_TYPE</th>\n",
       "      <th>UNIT_MULT</th>\n",
       "      <th>UNIT_MEASURE</th>\n",
       "      <th>ADJUSTMENT</th>\n",
       "      <th>DECIMALS</th>\n",
       "    </tr>\n",
       "  </thead>\n",
       "  <tbody>\n",
       "    <tr>\n",
       "      <th>0</th>\n",
       "      <td>OECD.SDD.TPS:DSD_BIMTS@DF_BIMTS_HS2017_2D(1.0)</td>\n",
       "      <td>HUN</td>\n",
       "      <td>MYS</td>\n",
       "      <td>X</td>\n",
       "      <td>C</td>\n",
       "      <td>_Z</td>\n",
       "      <td>HS17_90</td>\n",
       "      <td>A</td>\n",
       "      <td>2006</td>\n",
       "      <td>1.176961</td>\n",
       "      <td>E</td>\n",
       "      <td>AG</td>\n",
       "      <td>6</td>\n",
       "      <td>USD_EXC</td>\n",
       "      <td>B</td>\n",
       "      <td>2</td>\n",
       "    </tr>\n",
       "    <tr>\n",
       "      <th>1</th>\n",
       "      <td>OECD.SDD.TPS:DSD_BIMTS@DF_BIMTS_HS2017_2D(1.0)</td>\n",
       "      <td>HUN</td>\n",
       "      <td>MYS</td>\n",
       "      <td>X</td>\n",
       "      <td>C</td>\n",
       "      <td>_Z</td>\n",
       "      <td>HS17_90</td>\n",
       "      <td>A</td>\n",
       "      <td>2006</td>\n",
       "      <td>1.176961</td>\n",
       "      <td>E</td>\n",
       "      <td>AG</td>\n",
       "      <td>6</td>\n",
       "      <td>USD_EXC</td>\n",
       "      <td>B_ADJ_RX</td>\n",
       "      <td>2</td>\n",
       "    </tr>\n",
       "    <tr>\n",
       "      <th>2</th>\n",
       "      <td>OECD.SDD.TPS:DSD_BIMTS@DF_BIMTS_HS2017_2D(1.0)</td>\n",
       "      <td>USA</td>\n",
       "      <td>ROU</td>\n",
       "      <td>X</td>\n",
       "      <td>C</td>\n",
       "      <td>_Z</td>\n",
       "      <td>HS17_45</td>\n",
       "      <td>A</td>\n",
       "      <td>2006</td>\n",
       "      <td>0.004019</td>\n",
       "      <td>E</td>\n",
       "      <td>AG</td>\n",
       "      <td>6</td>\n",
       "      <td>USD_EXC</td>\n",
       "      <td>B</td>\n",
       "      <td>2</td>\n",
       "    </tr>\n",
       "  </tbody>\n",
       "</table>\n",
       "</div>"
      ],
      "text/plain": [
       "                                         DATAFLOW REF_AREA COUNTERPART_AREA  \\\n",
       "0  OECD.SDD.TPS:DSD_BIMTS@DF_BIMTS_HS2017_2D(1.0)      HUN              MYS   \n",
       "1  OECD.SDD.TPS:DSD_BIMTS@DF_BIMTS_HS2017_2D(1.0)      HUN              MYS   \n",
       "2  OECD.SDD.TPS:DSD_BIMTS@DF_BIMTS_HS2017_2D(1.0)      USA              ROU   \n",
       "\n",
       "  TRADE_FLOW PRODUCT_TYPE PRODUCT_CPA PRODUCT_HS FREQ  TIME_PERIOD  OBS_VALUE  \\\n",
       "0          X            C          _Z    HS17_90    A         2006   1.176961   \n",
       "1          X            C          _Z    HS17_90    A         2006   1.176961   \n",
       "2          X            C          _Z    HS17_45    A         2006   0.004019   \n",
       "\n",
       "  OBS_STATUS METHODOLOGY_TYPE  UNIT_MULT UNIT_MEASURE ADJUSTMENT  DECIMALS  \n",
       "0          E               AG          6      USD_EXC          B         2  \n",
       "1          E               AG          6      USD_EXC   B_ADJ_RX         2  \n",
       "2          E               AG          6      USD_EXC          B         2  "
      ]
     },
     "execution_count": 32,
     "metadata": {},
     "output_type": "execute_result"
    }
   ],
   "source": [
    "c05_09.head(3)"
   ]
  },
  {
   "cell_type": "code",
   "execution_count": 33,
   "id": "09559a7b-52f5-4b0e-8627-b248183511c7",
   "metadata": {},
   "outputs": [],
   "source": [
    "c05_09 = c05_09[['REF_AREA', 'COUNTERPART_AREA', 'PRODUCT_HS', 'TIME_PERIOD', 'OBS_VALUE','ADJUSTMENT']]"
   ]
  },
  {
   "cell_type": "code",
   "execution_count": 34,
   "id": "49e726b4-deab-4b83-9d1e-b647a0b534fc",
   "metadata": {},
   "outputs": [],
   "source": [
    "c05_09 = c05_09[c05_09['COUNTERPART_AREA'] != 'W']\n",
    "c05_09 = c05_09[c05_09['REF_AREA'] != 'W']"
   ]
  },
  {
   "cell_type": "code",
   "execution_count": 35,
   "id": "c6b586d0-4648-4ffc-a04a-074e573e3553",
   "metadata": {},
   "outputs": [],
   "source": [
    "c05_09_total = c05_09[(c05_09['PRODUCT_HS'] == '_T') & (c05_09['ADJUSTMENT'] == 'B_ADJ_RX') ]"
   ]
  },
  {
   "cell_type": "code",
   "execution_count": 36,
   "id": "d6bdfc19-6fb6-40a7-a4c5-d6c8ddba6d20",
   "metadata": {},
   "outputs": [
    {
     "name": "stdout",
     "output_type": "stream",
     "text": [
      "199\n",
      "199\n",
      "1\n"
     ]
    }
   ],
   "source": [
    "print(c05_09_total['REF_AREA'].nunique())\n",
    "print(c05_09_total['COUNTERPART_AREA'].nunique())\n",
    "print(c05_09_total['PRODUCT_HS'].nunique())"
   ]
  },
  {
   "cell_type": "markdown",
   "id": "0e96814b-bee7-4269-bcd7-a07cf95ab02b",
   "metadata": {},
   "source": [
    "#### From 2010 to 2014"
   ]
  },
  {
   "cell_type": "code",
   "execution_count": 37,
   "id": "c620b67e-9f2c-444e-91b0-82f6b3563f7b",
   "metadata": {},
   "outputs": [],
   "source": [
    "c10_14 = pd.read_csv('../data/raw/HS17_2D_DE_2010_To_2014.csv')"
   ]
  },
  {
   "cell_type": "code",
   "execution_count": 38,
   "id": "96ceac33-f199-4374-9996-9a20ace6d260",
   "metadata": {},
   "outputs": [],
   "source": [
    "c10_14 = c10_14[['REF_AREA', 'COUNTERPART_AREA', 'PRODUCT_HS', 'TIME_PERIOD', 'OBS_VALUE','ADJUSTMENT']]"
   ]
  },
  {
   "cell_type": "code",
   "execution_count": 39,
   "id": "dac64b22-ada8-4ec9-a211-776d4bd2d1e3",
   "metadata": {},
   "outputs": [],
   "source": [
    "c10_14 = c10_14[c10_14['COUNTERPART_AREA'] != 'W']\n",
    "c10_14 = c10_14[c10_14['REF_AREA'] != 'W']"
   ]
  },
  {
   "cell_type": "markdown",
   "id": "162c7a71-8716-44ea-b2c4-ee219813282b",
   "metadata": {},
   "source": [
    "Kosovo and Montenegro got independence from Serbia in 2008 and 2006 repentively. From 2005 to 2009 Montenegro was present bit not Kosovo. Also, SOuth Sudan has got independence from Sudan in 2011. I will check the availability of KOsovo and South Sudan here"
   ]
  },
  {
   "cell_type": "code",
   "execution_count": 40,
   "id": "35b0431f-4be5-47ae-a67d-3b1bb15de36a",
   "metadata": {},
   "outputs": [],
   "source": [
    "c10_14_total = c10_14[(c10_14['PRODUCT_HS'] == '_T') & (c10_14['ADJUSTMENT'] == 'B_ADJ_RX')]"
   ]
  },
  {
   "cell_type": "code",
   "execution_count": 41,
   "id": "fed5163d-0236-4d1e-96b3-a6d283194306",
   "metadata": {},
   "outputs": [
    {
     "name": "stdout",
     "output_type": "stream",
     "text": [
      "200\n",
      "200\n",
      "1\n"
     ]
    }
   ],
   "source": [
    "print(c10_14_total['REF_AREA'].nunique())\n",
    "print(c10_14_total['COUNTERPART_AREA'].nunique())\n",
    "print(c10_14_total['PRODUCT_HS'].nunique())"
   ]
  },
  {
   "cell_type": "markdown",
   "id": "9e493dcf-fecc-4a17-a0a9-4e4aca94097c",
   "metadata": {},
   "source": [
    "#### From 2015 to 2019"
   ]
  },
  {
   "cell_type": "code",
   "execution_count": 42,
   "id": "e5b84cd0-2bf1-46a4-93aa-049bfab592eb",
   "metadata": {},
   "outputs": [],
   "source": [
    "c15_19 = pd.read_csv('../data/raw/HS17_2D_DE_2015_To_2019.csv')"
   ]
  },
  {
   "cell_type": "code",
   "execution_count": 43,
   "id": "eaf23196-b65f-494f-a34f-c55b00b91a03",
   "metadata": {},
   "outputs": [],
   "source": [
    "c15_19 = c15_19[['REF_AREA', 'COUNTERPART_AREA', 'PRODUCT_HS', 'TIME_PERIOD', 'OBS_VALUE', 'ADJUSTMENT']]"
   ]
  },
  {
   "cell_type": "code",
   "execution_count": 44,
   "id": "d177a225-ddef-46c8-a0d3-3b16b8e8a4cf",
   "metadata": {},
   "outputs": [],
   "source": [
    "c15_19 = c15_19[c15_19['COUNTERPART_AREA'] != 'W']\n",
    "c15_19 = c15_19[c15_19['REF_AREA'] != 'W']"
   ]
  },
  {
   "cell_type": "code",
   "execution_count": 45,
   "id": "de93dd45-a01f-4c83-8a89-8a1ca2de57ca",
   "metadata": {},
   "outputs": [],
   "source": [
    "c15_19_total = c15_19[(c15_19['PRODUCT_HS'] == '_T') & (c15_19['ADJUSTMENT'] == 'B_ADJ_RX')]"
   ]
  },
  {
   "cell_type": "code",
   "execution_count": 46,
   "id": "08f07cd4-dd6a-4ca2-b7e9-893eb5d9de9b",
   "metadata": {},
   "outputs": [
    {
     "name": "stdout",
     "output_type": "stream",
     "text": [
      "200\n",
      "200\n",
      "1\n"
     ]
    }
   ],
   "source": [
    "print(c15_19_total['REF_AREA'].nunique())\n",
    "print(c15_19_total['COUNTERPART_AREA'].nunique())\n",
    "print(c15_19_total['PRODUCT_HS'].nunique())"
   ]
  },
  {
   "cell_type": "markdown",
   "id": "afa16d9e-06c7-4f71-a357-e07e4fc30589",
   "metadata": {},
   "source": [
    "#### From 2020 to 2023"
   ]
  },
  {
   "cell_type": "code",
   "execution_count": 47,
   "id": "949f095b-ab41-4157-b062-59b2a43d1636",
   "metadata": {},
   "outputs": [],
   "source": [
    "c020_23 = pd.read_csv('../data/raw/HS17_2D_DE_2020_To_2023.csv')"
   ]
  },
  {
   "cell_type": "code",
   "execution_count": 48,
   "id": "e782bb89-364f-4a91-95c6-d6c1c999fe31",
   "metadata": {},
   "outputs": [],
   "source": [
    "c020_23 = c020_23[['REF_AREA', 'COUNTERPART_AREA', 'PRODUCT_HS', 'TIME_PERIOD', 'OBS_VALUE', 'ADJUSTMENT']]"
   ]
  },
  {
   "cell_type": "code",
   "execution_count": 49,
   "id": "b81e2f53-05df-4b0d-a6e8-b1452f5868f7",
   "metadata": {},
   "outputs": [],
   "source": [
    "c020_23 = c020_23[c020_23['COUNTERPART_AREA'] != 'W']\n",
    "c020_23 = c020_23[c020_23['REF_AREA'] != 'W']"
   ]
  },
  {
   "cell_type": "code",
   "execution_count": 50,
   "id": "50363ae2-a5b3-4146-bc1b-8d7b4326db5d",
   "metadata": {},
   "outputs": [],
   "source": [
    "c020_23_total = c020_23[(c020_23['PRODUCT_HS'] == '_T') & (c020_23['ADJUSTMENT'] == 'B_ADJ_RX')]"
   ]
  },
  {
   "cell_type": "code",
   "execution_count": 51,
   "id": "b650e928-eb77-4042-8494-ec659a983a16",
   "metadata": {},
   "outputs": [
    {
     "name": "stdout",
     "output_type": "stream",
     "text": [
      "200\n",
      "200\n",
      "1\n"
     ]
    }
   ],
   "source": [
    "print(c020_23_total['REF_AREA'].nunique())\n",
    "print(c020_23_total['COUNTERPART_AREA'].nunique())\n",
    "print(c020_23_total['PRODUCT_HS'].nunique())"
   ]
  },
  {
   "cell_type": "markdown",
   "id": "32989a66-c315-415c-a4ad-6d8f0170113e",
   "metadata": {},
   "source": [
    "##### For all datasets I will do the following steps:\n",
    "1. Concateninating the 5 dataframes for each HS code category to make a time series from 2000 to 2023\n",
    "2. Renaming the exporter and importer columns\n",
    "3. Removing self loops\n",
    "4. Checking for duplicates and removing if there is any\n",
    "5. Sorting values by country pair and time period\n",
    "6. Reseting index\n",
    "7. Saving in the cleaned file in csv format "
   ]
  },
  {
   "cell_type": "markdown",
   "id": "a404b298-d5d2-4bbb-8d25-be146339e8f6",
   "metadata": {},
   "source": [
    "#### Appending"
   ]
  },
  {
   "cell_type": "code",
   "execution_count": 52,
   "id": "9aef8415-00de-4e9a-a044-aa79c45ebec9",
   "metadata": {},
   "outputs": [],
   "source": [
    "# appending the five dataframes for HS code 97\n",
    "total = pd.concat([c00_04_total, c05_09_total, c10_14_total, c15_19_total, c020_23_total], axis = 0)"
   ]
  },
  {
   "cell_type": "code",
   "execution_count": 53,
   "id": "4cca1061-c08a-43fb-b71c-9e1cec7679ce",
   "metadata": {},
   "outputs": [],
   "source": [
    "# renaming the exporter and importer column to match the fixed variable dataset\n",
    "total = total.rename(columns = {'REF_AREA': 'iso_o'})\n",
    "total = total.rename(columns = {'COUNTERPART_AREA': 'iso_d'})"
   ]
  },
  {
   "cell_type": "code",
   "execution_count": 54,
   "id": "a60ee13c-7dd0-46cf-95f3-f130616a87aa",
   "metadata": {},
   "outputs": [
    {
     "data": {
      "text/plain": [
       "(692462, 6)"
      ]
     },
     "execution_count": 54,
     "metadata": {},
     "output_type": "execute_result"
    }
   ],
   "source": [
    "total.shape"
   ]
  },
  {
   "cell_type": "code",
   "execution_count": 55,
   "id": "3ea3c1d6-f6b5-449f-875c-e334707de40e",
   "metadata": {},
   "outputs": [
    {
     "name": "stdout",
     "output_type": "stream",
     "text": [
      "24\n",
      "1\n"
     ]
    }
   ],
   "source": [
    "print(total['TIME_PERIOD'].nunique())\n",
    "print(total['ADJUSTMENT'].nunique())"
   ]
  },
  {
   "cell_type": "code",
   "execution_count": 56,
   "id": "0087ec34-befa-4ab0-ad3c-eb91b70ce2cf",
   "metadata": {},
   "outputs": [],
   "source": [
    "# removing self_loops\n",
    "total = total[total['iso_o'] != total['iso_d']]"
   ]
  },
  {
   "cell_type": "code",
   "execution_count": 57,
   "id": "0e9ae4fb-327e-4a83-9b43-21bae3a77369",
   "metadata": {},
   "outputs": [
    {
     "data": {
      "text/plain": [
       "(691591, 6)"
      ]
     },
     "execution_count": 57,
     "metadata": {},
     "output_type": "execute_result"
    }
   ],
   "source": [
    "total.shape"
   ]
  },
  {
   "cell_type": "code",
   "execution_count": 58,
   "id": "df84e9a4-168c-4fa8-860f-4a9fba0a9952",
   "metadata": {},
   "outputs": [
    {
     "data": {
      "text/html": [
       "<div>\n",
       "<style scoped>\n",
       "    .dataframe tbody tr th:only-of-type {\n",
       "        vertical-align: middle;\n",
       "    }\n",
       "\n",
       "    .dataframe tbody tr th {\n",
       "        vertical-align: top;\n",
       "    }\n",
       "\n",
       "    .dataframe thead th {\n",
       "        text-align: right;\n",
       "    }\n",
       "</style>\n",
       "<table border=\"1\" class=\"dataframe\">\n",
       "  <thead>\n",
       "    <tr style=\"text-align: right;\">\n",
       "      <th></th>\n",
       "      <th>iso_o</th>\n",
       "      <th>iso_d</th>\n",
       "      <th>PRODUCT_HS</th>\n",
       "      <th>TIME_PERIOD</th>\n",
       "      <th>OBS_VALUE</th>\n",
       "      <th>ADJUSTMENT</th>\n",
       "    </tr>\n",
       "  </thead>\n",
       "  <tbody>\n",
       "    <tr>\n",
       "      <th>21</th>\n",
       "      <td>SAU</td>\n",
       "      <td>ERI</td>\n",
       "      <td>_T</td>\n",
       "      <td>2004</td>\n",
       "      <td>35.604232</td>\n",
       "      <td>B_ADJ_RX</td>\n",
       "    </tr>\n",
       "    <tr>\n",
       "      <th>39</th>\n",
       "      <td>SAU</td>\n",
       "      <td>EST</td>\n",
       "      <td>_T</td>\n",
       "      <td>2004</td>\n",
       "      <td>0.968338</td>\n",
       "      <td>B_ADJ_RX</td>\n",
       "    </tr>\n",
       "    <tr>\n",
       "      <th>122</th>\n",
       "      <td>AFG</td>\n",
       "      <td>NZL</td>\n",
       "      <td>_T</td>\n",
       "      <td>2004</td>\n",
       "      <td>0.085430</td>\n",
       "      <td>B_ADJ_RX</td>\n",
       "    </tr>\n",
       "    <tr>\n",
       "      <th>245</th>\n",
       "      <td>AGO</td>\n",
       "      <td>SWE</td>\n",
       "      <td>_T</td>\n",
       "      <td>2004</td>\n",
       "      <td>0.092443</td>\n",
       "      <td>B_ADJ_RX</td>\n",
       "    </tr>\n",
       "    <tr>\n",
       "      <th>274</th>\n",
       "      <td>ALB</td>\n",
       "      <td>AUS</td>\n",
       "      <td>_T</td>\n",
       "      <td>2004</td>\n",
       "      <td>0.386606</td>\n",
       "      <td>B_ADJ_RX</td>\n",
       "    </tr>\n",
       "  </tbody>\n",
       "</table>\n",
       "</div>"
      ],
      "text/plain": [
       "    iso_o iso_d PRODUCT_HS  TIME_PERIOD  OBS_VALUE ADJUSTMENT\n",
       "21    SAU   ERI         _T         2004  35.604232   B_ADJ_RX\n",
       "39    SAU   EST         _T         2004   0.968338   B_ADJ_RX\n",
       "122   AFG   NZL         _T         2004   0.085430   B_ADJ_RX\n",
       "245   AGO   SWE         _T         2004   0.092443   B_ADJ_RX\n",
       "274   ALB   AUS         _T         2004   0.386606   B_ADJ_RX"
      ]
     },
     "execution_count": 58,
     "metadata": {},
     "output_type": "execute_result"
    }
   ],
   "source": [
    "total.head()"
   ]
  },
  {
   "cell_type": "code",
   "execution_count": 59,
   "id": "235ac95b-b452-45d8-8a50-fb229b512756",
   "metadata": {},
   "outputs": [],
   "source": [
    "column_subset = ['iso_o', 'iso_d', 'TIME_PERIOD', 'ADJUSTMENT']\n",
    "duplicate_trade = total.duplicated(subset = column_subset, keep = 'last')\n",
    "total_unique = total[~duplicate_trade]"
   ]
  },
  {
   "cell_type": "code",
   "execution_count": 60,
   "id": "3986ea42-d4a4-48df-993a-311f21292c5b",
   "metadata": {},
   "outputs": [
    {
     "data": {
      "text/plain": [
       "(691591, 6)"
      ]
     },
     "execution_count": 60,
     "metadata": {},
     "output_type": "execute_result"
    }
   ],
   "source": [
    "total_unique.shape #no duplicate"
   ]
  },
  {
   "cell_type": "code",
   "execution_count": 61,
   "id": "07e4cbb5-ae7c-4c4e-afb0-d554386824a3",
   "metadata": {},
   "outputs": [],
   "source": [
    "total_unique = total_unique.sort_values(['iso_o', 'iso_d', 'TIME_PERIOD'])"
   ]
  },
  {
   "cell_type": "code",
   "execution_count": 62,
   "id": "65c18809-a690-47f6-b8ad-215db10f7d64",
   "metadata": {},
   "outputs": [],
   "source": [
    "total_unique = total_unique.reset_index(drop= True)"
   ]
  },
  {
   "cell_type": "code",
   "execution_count": 63,
   "id": "7251555c-0d90-43f4-8e1b-42a17eaf8376",
   "metadata": {},
   "outputs": [
    {
     "data": {
      "text/html": [
       "<div>\n",
       "<style scoped>\n",
       "    .dataframe tbody tr th:only-of-type {\n",
       "        vertical-align: middle;\n",
       "    }\n",
       "\n",
       "    .dataframe tbody tr th {\n",
       "        vertical-align: top;\n",
       "    }\n",
       "\n",
       "    .dataframe thead th {\n",
       "        text-align: right;\n",
       "    }\n",
       "</style>\n",
       "<table border=\"1\" class=\"dataframe\">\n",
       "  <thead>\n",
       "    <tr style=\"text-align: right;\">\n",
       "      <th></th>\n",
       "      <th>iso_o</th>\n",
       "      <th>iso_d</th>\n",
       "      <th>PRODUCT_HS</th>\n",
       "      <th>TIME_PERIOD</th>\n",
       "      <th>OBS_VALUE</th>\n",
       "      <th>ADJUSTMENT</th>\n",
       "    </tr>\n",
       "  </thead>\n",
       "  <tbody>\n",
       "    <tr>\n",
       "      <th>691586</th>\n",
       "      <td>ZWE</td>\n",
       "      <td>ZMB</td>\n",
       "      <td>_T</td>\n",
       "      <td>2019</td>\n",
       "      <td>62.496404</td>\n",
       "      <td>B_ADJ_RX</td>\n",
       "    </tr>\n",
       "    <tr>\n",
       "      <th>691587</th>\n",
       "      <td>ZWE</td>\n",
       "      <td>ZMB</td>\n",
       "      <td>_T</td>\n",
       "      <td>2020</td>\n",
       "      <td>61.145436</td>\n",
       "      <td>B_ADJ_RX</td>\n",
       "    </tr>\n",
       "    <tr>\n",
       "      <th>691588</th>\n",
       "      <td>ZWE</td>\n",
       "      <td>ZMB</td>\n",
       "      <td>_T</td>\n",
       "      <td>2021</td>\n",
       "      <td>77.800731</td>\n",
       "      <td>B_ADJ_RX</td>\n",
       "    </tr>\n",
       "    <tr>\n",
       "      <th>691589</th>\n",
       "      <td>ZWE</td>\n",
       "      <td>ZMB</td>\n",
       "      <td>_T</td>\n",
       "      <td>2022</td>\n",
       "      <td>93.541923</td>\n",
       "      <td>B_ADJ_RX</td>\n",
       "    </tr>\n",
       "    <tr>\n",
       "      <th>691590</th>\n",
       "      <td>ZWE</td>\n",
       "      <td>ZMB</td>\n",
       "      <td>_T</td>\n",
       "      <td>2023</td>\n",
       "      <td>100.392036</td>\n",
       "      <td>B_ADJ_RX</td>\n",
       "    </tr>\n",
       "  </tbody>\n",
       "</table>\n",
       "</div>"
      ],
      "text/plain": [
       "       iso_o iso_d PRODUCT_HS  TIME_PERIOD   OBS_VALUE ADJUSTMENT\n",
       "691586   ZWE   ZMB         _T         2019   62.496404   B_ADJ_RX\n",
       "691587   ZWE   ZMB         _T         2020   61.145436   B_ADJ_RX\n",
       "691588   ZWE   ZMB         _T         2021   77.800731   B_ADJ_RX\n",
       "691589   ZWE   ZMB         _T         2022   93.541923   B_ADJ_RX\n",
       "691590   ZWE   ZMB         _T         2023  100.392036   B_ADJ_RX"
      ]
     },
     "execution_count": 63,
     "metadata": {},
     "output_type": "execute_result"
    }
   ],
   "source": [
    "total_unique.tail()"
   ]
  },
  {
   "cell_type": "code",
   "execution_count": 64,
   "id": "d1b8b212-43cc-4b0a-b185-0fab718244d9",
   "metadata": {},
   "outputs": [
    {
     "data": {
      "text/plain": [
       "24"
      ]
     },
     "execution_count": 64,
     "metadata": {},
     "output_type": "execute_result"
    }
   ],
   "source": [
    "total_unique['TIME_PERIOD'].nunique()"
   ]
  },
  {
   "cell_type": "code",
   "execution_count": 65,
   "id": "a1d72692-f519-4501-8443-719c1b213a62",
   "metadata": {},
   "outputs": [],
   "source": [
    "total_unique = total_unique[total_unique['TIME_PERIOD'] <= 2020]"
   ]
  },
  {
   "cell_type": "code",
   "execution_count": 66,
   "id": "0d95cbc5-2505-4a00-8c64-edcb95d20036",
   "metadata": {},
   "outputs": [],
   "source": [
    "total_unique = total_unique[total_unique['iso_o'].isin(countries)]\n",
    "total_unique = total_unique[total_unique['iso_d'].isin(countries)]"
   ]
  },
  {
   "cell_type": "code",
   "execution_count": 67,
   "id": "11202d9d-807e-404d-ba74-6b63af830ef1",
   "metadata": {},
   "outputs": [
    {
     "name": "stdout",
     "output_type": "stream",
     "text": [
      "77\n",
      "77\n",
      "5852\n",
      "21\n"
     ]
    }
   ],
   "source": [
    "print(total_unique['iso_o'].nunique())\n",
    "print(total_unique['iso_d'].nunique())\n",
    "print(total_unique.groupby(['iso_o','iso_d']).ngroups)\n",
    "print(total_unique['TIME_PERIOD'].nunique())"
   ]
  },
  {
   "cell_type": "code",
   "execution_count": 68,
   "id": "94341703-1cae-4089-9d25-602ff1a49a6e",
   "metadata": {},
   "outputs": [],
   "source": [
    "#total_unique[(total_unique['iso_o'] == 'BGD') & (total_unique['iso_d'] == 'IND')]"
   ]
  },
  {
   "cell_type": "code",
   "execution_count": 69,
   "id": "bf575b74-6081-442f-bcb4-9e24ca5ac547",
   "metadata": {},
   "outputs": [],
   "source": [
    "assert total_unique['iso_o'].nunique() == total_unique['iso_d'].nunique() == co2_uni['iso_o'].nunique() == co2_uni['iso_d'].nunique()"
   ]
  },
  {
   "cell_type": "code",
   "execution_count": 70,
   "id": "2a11868d-001f-43f2-be11-93b294fd55ab",
   "metadata": {},
   "outputs": [],
   "source": [
    "assert set(co2_uni['iso_o'].unique()) == set(co2_uni['iso_d'].unique()) == set(total_unique['iso_o'].unique()) == set(total_unique['iso_d'].unique()) "
   ]
  },
  {
   "cell_type": "code",
   "execution_count": 71,
   "id": "631d3f32-0b83-4c94-9333-748638c89baf",
   "metadata": {},
   "outputs": [],
   "source": [
    "assert total_unique['TIME_PERIOD'].nunique() == total_unique['TIME_PERIOD'].nunique() == co2_uni['TIME_PERIOD'].nunique() == co2_uni['TIME_PERIOD'].nunique()"
   ]
  },
  {
   "cell_type": "code",
   "execution_count": 72,
   "id": "bd456cfb-f51e-4c52-9c2a-801d00f1dd4f",
   "metadata": {},
   "outputs": [],
   "source": [
    "edgelist_trade = total_unique.pivot_table(index = ['iso_o', 'iso_d'], columns = 'TIME_PERIOD', values = 'OBS_VALUE', fill_value = 0).reset_index()"
   ]
  },
  {
   "cell_type": "code",
   "execution_count": 73,
   "id": "b8edd778-9e18-427a-8dcf-7611b2c2923a",
   "metadata": {},
   "outputs": [],
   "source": [
    "edgelist_trade_rounded = edgelist_trade.round(4)"
   ]
  },
  {
   "cell_type": "code",
   "execution_count": 74,
   "id": "fce9507f-afdc-49d7-ac4c-b15af65f011e",
   "metadata": {},
   "outputs": [],
   "source": [
    "assert total_unique.groupby(['iso_o', 'iso_d']).ngroups == edgelist_trade_rounded.shape[0] "
   ]
  },
  {
   "cell_type": "markdown",
   "id": "e886b7b2-17a3-41cf-8596-e43e54d53d06",
   "metadata": {},
   "source": [
    "##### Dyad-level fixed factors"
   ]
  },
  {
   "cell_type": "code",
   "execution_count": 75,
   "id": "5a7546c2-1316-4d44-856f-3e8c2e155c33",
   "metadata": {},
   "outputs": [],
   "source": [
    "dyad_fixed = pd.read_csv('../data/raw/dist_cepii.csv')"
   ]
  },
  {
   "cell_type": "code",
   "execution_count": 76,
   "id": "612c75d2-482d-4e28-be6c-74da7e1c715b",
   "metadata": {},
   "outputs": [],
   "source": [
    "# removing self_loops\n",
    "dyad_fixed = dyad_fixed[dyad_fixed['iso_o'] != dyad_fixed['iso_d']]"
   ]
  },
  {
   "cell_type": "code",
   "execution_count": 77,
   "id": "7ccc7f6e-581c-4dd1-84ab-8abc7d817e72",
   "metadata": {},
   "outputs": [],
   "source": [
    "dyad_fixed = dyad_fixed[['iso_o', 'iso_d', 'contig', 'comlang_off', 'colony', 'comcol', 'dist']]"
   ]
  },
  {
   "cell_type": "code",
   "execution_count": 78,
   "id": "3cc26382-4833-4a5a-bee5-6707b2e54abf",
   "metadata": {},
   "outputs": [],
   "source": [
    "dyad_fixed['log_dist'] = np.log(dyad_fixed['dist'])"
   ]
  },
  {
   "cell_type": "code",
   "execution_count": 79,
   "id": "03b1abec-2062-413b-8a13-bb2de9e104fc",
   "metadata": {},
   "outputs": [
    {
     "data": {
      "text/plain": [
       "(49952, 8)"
      ]
     },
     "execution_count": 79,
     "metadata": {},
     "output_type": "execute_result"
    }
   ],
   "source": [
    "dyad_fixed.shape"
   ]
  },
  {
   "cell_type": "code",
   "execution_count": 80,
   "id": "0ffa2526-a956-4a9e-9393-2c68d58f861e",
   "metadata": {},
   "outputs": [
    {
     "name": "stdout",
     "output_type": "stream",
     "text": [
      "(49952, 8)\n"
     ]
    }
   ],
   "source": [
    "# checking for duplicates\n",
    "dupli = dyad_fixed.duplicated(keep = 'last')\n",
    "#dyad_fixed[dupli].shape[0]\n",
    "dyad_fixed_unique = dyad_fixed[~dupli]\n",
    "print(dyad_fixed_unique.shape)\n",
    "# There is no duplicates present in this dist_cepii data"
   ]
  },
  {
   "cell_type": "code",
   "execution_count": 81,
   "id": "6c805a63-668c-4040-82e7-a8d25c591a77",
   "metadata": {},
   "outputs": [],
   "source": [
    "dyad_fixed_unique= dyad_fixed_unique[dyad_fixed_unique['iso_o'].isin(countries)]\n",
    "dyad_fixed_unique= dyad_fixed_unique[dyad_fixed_unique['iso_d'].isin(countries)]"
   ]
  },
  {
   "cell_type": "code",
   "execution_count": 82,
   "id": "2889c7d9-65b7-4ecc-bd89-7921d759a626",
   "metadata": {},
   "outputs": [
    {
     "name": "stdout",
     "output_type": "stream",
     "text": [
      "75\n",
      "75\n",
      "5550\n"
     ]
    }
   ],
   "source": [
    "print(dyad_fixed_unique['iso_o'].nunique())\n",
    "print(dyad_fixed_unique['iso_d'].nunique())\n",
    "print(dyad_fixed_unique.groupby(['iso_o', 'iso_d']).ngroups)"
   ]
  },
  {
   "cell_type": "code",
   "execution_count": 83,
   "id": "db09de54-013a-47d4-917d-fb14ccdadeb5",
   "metadata": {},
   "outputs": [
    {
     "data": {
      "text/plain": [
       "{'ROU', 'WXD'}"
      ]
     },
     "execution_count": 83,
     "metadata": {},
     "output_type": "execute_result"
    }
   ],
   "source": [
    "set(co2_uni['iso_o']) - set(dyad_fixed['iso_o'])"
   ]
  },
  {
   "cell_type": "markdown",
   "id": "0a3a0d03-67cd-47b9-9dbf-0a4eea04ecf3",
   "metadata": {},
   "source": [
    "##### Node level fixed factors"
   ]
  },
  {
   "cell_type": "code",
   "execution_count": 84,
   "id": "149663da-a86c-49ea-8ee4-cb393b6e571a",
   "metadata": {},
   "outputs": [],
   "source": [
    "node = pd.read_csv('../data/raw/geo_cepii.csv', encoding='latin1')"
   ]
  },
  {
   "cell_type": "code",
   "execution_count": 85,
   "id": "c2a03ad5-29c5-4a93-a6a1-a5b613c51c32",
   "metadata": {},
   "outputs": [
    {
     "data": {
      "text/plain": [
       "(238, 34)"
      ]
     },
     "execution_count": 85,
     "metadata": {},
     "output_type": "execute_result"
    }
   ],
   "source": [
    "node.shape"
   ]
  },
  {
   "cell_type": "code",
   "execution_count": 86,
   "id": "bcdaa1e2-6e3f-499f-a207-2c68e09e8b03",
   "metadata": {},
   "outputs": [],
   "source": [
    "# renaming the exporter column name to match it with the dyad level fixed variable data\n",
    "node = node.rename(columns = {'iso3': 'iso_o'})"
   ]
  },
  {
   "cell_type": "code",
   "execution_count": 87,
   "id": "193284de-e772-4360-89aa-398e41e6de23",
   "metadata": {},
   "outputs": [],
   "source": [
    "node = node[['iso_o', 'country', 'landlocked', 'continent', 'lat', 'lon', 'langoff_1','colonizer1']]"
   ]
  },
  {
   "cell_type": "code",
   "execution_count": 88,
   "id": "4a0b3951-a2a6-42bf-944b-c567631f9074",
   "metadata": {},
   "outputs": [
    {
     "name": "stdout",
     "output_type": "stream",
     "text": [
      "(13, 8)\n"
     ]
    }
   ],
   "source": [
    "# removing duplicates\n",
    "equivalent_columns = ['iso_o', 'country', 'landlocked', 'continent', 'langoff_1', 'colonizer1']\n",
    "duplicates = node.duplicated(subset = equivalent_columns, keep = 'last')\n",
    "print(node[duplicates].shape)\n",
    "#print(node[duplicates])"
   ]
  },
  {
   "cell_type": "code",
   "execution_count": 89,
   "id": "ef4dc724-0a38-42d9-bb58-89b8740999c7",
   "metadata": {},
   "outputs": [
    {
     "data": {
      "text/plain": [
       "(225, 8)"
      ]
     },
     "execution_count": 89,
     "metadata": {},
     "output_type": "execute_result"
    }
   ],
   "source": [
    "node_unique = node[~duplicates]\n",
    "node_unique.shape"
   ]
  },
  {
   "cell_type": "markdown",
   "id": "7e446e79-5e0b-469c-80d5-66f517140e3c",
   "metadata": {},
   "source": [
    "### IMF"
   ]
  },
  {
   "cell_type": "code",
   "execution_count": 90,
   "id": "32e51b67-5d60-4d20-a603-14cf883bc8ca",
   "metadata": {},
   "outputs": [],
   "source": [
    "imf = pd.read_excel(\"../data/raw/IMF_classification.xlsx\")"
   ]
  },
  {
   "cell_type": "code",
   "execution_count": 91,
   "id": "80655a9b-1530-44d1-963d-aa8cb0c55452",
   "metadata": {},
   "outputs": [],
   "source": [
    "imf[\"development\"] = 0"
   ]
  },
  {
   "cell_type": "code",
   "execution_count": 92,
   "id": "a4ccc291-ce42-4fb7-948f-2190909800d3",
   "metadata": {},
   "outputs": [],
   "source": [
    "imf.loc[imf['category'] == 'Advanced Economies', 'development'] = 1"
   ]
  },
  {
   "cell_type": "code",
   "execution_count": 93,
   "id": "f1ada3c9-fddb-41a3-867a-3227fa904641",
   "metadata": {},
   "outputs": [
    {
     "name": "stdout",
     "output_type": "stream",
     "text": [
      "category\n",
      "Emerging and Developing Economies    155\n",
      "Advanced Economies                    41\n",
      "Name: count, dtype: int64\n",
      "development\n",
      "0    155\n",
      "1     41\n",
      "Name: count, dtype: int64\n"
     ]
    }
   ],
   "source": [
    "print(imf['category'].value_counts())\n",
    "print(imf['development'].value_counts())"
   ]
  },
  {
   "cell_type": "code",
   "execution_count": 94,
   "id": "874463c2-b9b0-4fa6-9e21-80699479bf58",
   "metadata": {},
   "outputs": [],
   "source": [
    "q = set(imf['country'].unique()) - set(node_unique['country'].unique())"
   ]
  },
  {
   "cell_type": "code",
   "execution_count": 95,
   "id": "08d03760-4507-4f35-b3be-57972eaedc02",
   "metadata": {},
   "outputs": [
    {
     "data": {
      "text/plain": [
       "36"
      ]
     },
     "execution_count": 95,
     "metadata": {},
     "output_type": "execute_result"
    }
   ],
   "source": [
    "len(q)"
   ]
  },
  {
   "cell_type": "code",
   "execution_count": 96,
   "id": "55d1162f-7d53-40b6-bd39-51ffd7ac0381",
   "metadata": {},
   "outputs": [
    {
     "data": {
      "text/plain": [
       "{'Belgium',\n",
       " 'Cabo Verde',\n",
       " 'Democratic Republic of the Congo',\n",
       " 'Eswatini',\n",
       " 'Hong Kong SAR',\n",
       " 'Kazakhstan',\n",
       " 'Kosovo',\n",
       " 'Kyrgyz Republic',\n",
       " 'Lao P.D.R.',\n",
       " 'Libya',\n",
       " 'Macao SAR',\n",
       " 'Micronesia',\n",
       " 'Moldova',\n",
       " 'Montenegro',\n",
       " 'Myanmar',\n",
       " 'North Macedonia',\n",
       " 'Republic of Congo',\n",
       " 'Russia',\n",
       " 'Serbia',\n",
       " 'Slovak Republic',\n",
       " 'South Sudan',\n",
       " 'St. Kitts and Nevis',\n",
       " 'St. Lucia',\n",
       " 'St. Vincent and the Grenadines',\n",
       " 'Syria',\n",
       " 'São Tomé and Príncipe',\n",
       " 'Taiwan Province of China',\n",
       " 'Tanzania',\n",
       " 'The Bahamas',\n",
       " 'The Gambia',\n",
       " 'The Netherlands',\n",
       " 'Timor-Leste',\n",
       " 'Türkiye',\n",
       " 'United States',\n",
       " 'Vietnam',\n",
       " 'West Bank and Gaza'}"
      ]
     },
     "execution_count": 96,
     "metadata": {},
     "output_type": "execute_result"
    }
   ],
   "source": [
    "q"
   ]
  },
  {
   "cell_type": "code",
   "execution_count": 97,
   "id": "285b2599-5102-4d06-bac9-f7a310bd74da",
   "metadata": {},
   "outputs": [],
   "source": [
    "node_unique.loc[node_unique['country'] == 'Bahamas', 'country'] = 'The Bahamas'\n",
    "node_unique.loc[node_unique['country'] == 'Belgium and Luxembourg', 'country'] = 'Belgium'\n",
    "node_unique.loc[node_unique['country'] ==  'Burma', 'country'] = 'Myanmar'\n",
    "node_unique.loc[node_unique['country'] ==  'Cape Verde', 'country'] = 'Cabo Verde'\n",
    "node_unique.loc[node_unique['country'] ==  'East Timor', 'country'] =  'Timor-Leste'\n",
    "node_unique.loc[node_unique['country'] ==  'Gambia', 'country'] =  'The Gambia'\n",
    "node_unique.loc[node_unique['country'] == 'Hong Kong', 'country'] = 'Hong Kong SAR'\n",
    "node_unique.loc[node_unique['country'] == 'Kazakstan', 'country'] = 'Kazakhstan'\n",
    "node_unique.loc[node_unique['country'] == \"Korea, Dem. People's Rep. of\", 'country'] = \"Korea\"\n",
    "node_unique.loc[node_unique['country'] =='Kyrgyzstan', 'country'] = 'Kyrgyz Republic'\n",
    "node_unique.loc[node_unique['country'] == \"Lao People's Democratic Republic\", 'country'] =  'Lao P.D.R.'\n",
    "node_unique.loc[node_unique['country'] == 'Libyan Arab Jamahiriya', 'country'] = 'Libya'\n",
    "node_unique.loc[node_unique['country'] == 'Macau (Aomen)', 'country'] = 'Macao SAR'\n",
    "node_unique.loc[node_unique['country'] == 'Macedonia (the former Yugoslav Rep. of)', 'country'] = 'North Macedonia'\n",
    "node_unique.loc[node_unique['country'] == 'Micronesia (Federated States of)', 'country'] = 'Micronesia'\n",
    "node_unique.loc[node_unique['country'] == 'Moldova, Rep.of', 'country'] = 'Moldova'\n",
    "node_unique.loc[node_unique['country'] == 'Netherlands', 'country'] = 'The Netherlands'\n",
    "node_unique.loc[node_unique['country'] == 'Palestine', 'country'] = 'West Bank and Gaza'\n",
    "node_unique.loc[node_unique['country'] == 'Russian Federation', 'country'] = 'Russia'\n",
    "node_unique.loc[node_unique['country'] == 'Saint Kitts and Nevis', 'country'] = 'St. Kitts and Nevis'\n",
    "node_unique.loc[node_unique['country'] == 'Saint Lucia', 'country'] = 'St. Lucia'\n",
    "node_unique.loc[node_unique['country'] == 'Saint Vincent and the Grenadines', 'country'] = 'St. Vincent and the Grenadines'\n",
    "node_unique.loc[node_unique['country'] == 'Sao Tome and Principe', 'country'] = 'São Tomé and Príncipe'\n",
    "node_unique.loc[node_unique['country'] == 'Serbia and Montenegro', 'country'] = 'Serbia'\n",
    "node_unique.loc[node_unique['country'] == 'Slovakia', 'country'] = 'Slovak Republic'\n",
    "node_unique.loc[node_unique['country'] == 'Swaziland', 'country'] = 'Eswatini'\n",
    "node_unique.loc[node_unique['country'] == 'Syrian Arab Republic', 'country'] =  'Syria'\n",
    "node_unique.loc[node_unique['country'] ==  'Taiwan', 'country'] =   'Taiwan Province of China'\n",
    "node_unique.loc[node_unique['country'] ==  'Tanzania, United Rep. of ', 'country'] =  'Tanzania'\n",
    "node_unique.loc[node_unique['country'] ==  'Turkey', 'country'] =  'Türkiye'\n",
    "node_unique.loc[node_unique['country'] ==  'United States of America', 'country'] =  'United States'\n",
    "node_unique.loc[node_unique['country'] ==  'Viet Nam', 'country'] =  'Vietnam'\n",
    "node_unique.loc[node_unique['country'] ==  'Congo', 'country'] =  'Republic of Congo'\n",
    "node_unique.loc[node_unique['country'] ==  'Congo (Democratic Republic of the)', 'country'] =  'Democratic Republic of the Congo'"
   ]
  },
  {
   "cell_type": "code",
   "execution_count": 98,
   "id": "de2bcf63-d803-4353-b6e3-1fe286b7831b",
   "metadata": {},
   "outputs": [],
   "source": [
    "nodeUnique_imf = node_unique.merge(imf, on = 'country', how='left')"
   ]
  },
  {
   "cell_type": "code",
   "execution_count": 99,
   "id": "507bfb6f-3a9f-46be-9251-2a8b1607f08e",
   "metadata": {},
   "outputs": [],
   "source": [
    "nodeUnique_imf = nodeUnique_imf[nodeUnique_imf['iso_o'].isin(countries)]"
   ]
  },
  {
   "cell_type": "code",
   "execution_count": 100,
   "id": "6d9a76ce-54fa-4775-bb9c-9cbfd2d1f2ea",
   "metadata": {},
   "outputs": [
    {
     "name": "stdout",
     "output_type": "stream",
     "text": [
      "196\n",
      "224\n",
      "75\n"
     ]
    }
   ],
   "source": [
    "print(imf['country'].nunique())\n",
    "print(node_unique['country'].nunique())\n",
    "print(nodeUnique_imf['country'].nunique())"
   ]
  },
  {
   "cell_type": "code",
   "execution_count": 101,
   "id": "fd51f714-babc-4055-90bd-e2408c0f7c64",
   "metadata": {},
   "outputs": [
    {
     "data": {
      "text/plain": [
       "category\n",
       "Emerging and Developing Economies    38\n",
       "Advanced Economies                   37\n",
       "Name: count, dtype: int64"
      ]
     },
     "execution_count": 101,
     "metadata": {},
     "output_type": "execute_result"
    }
   ],
   "source": [
    "nodeUnique_imf['category'].value_counts()"
   ]
  },
  {
   "cell_type": "code",
   "execution_count": 102,
   "id": "daead1be-58ae-45ec-a735-b865006eb747",
   "metadata": {},
   "outputs": [
    {
     "data": {
      "text/plain": [
       "0"
      ]
     },
     "execution_count": 102,
     "metadata": {},
     "output_type": "execute_result"
    }
   ],
   "source": [
    "nodeUnique_imf['category'].isna().sum()"
   ]
  },
  {
   "cell_type": "code",
   "execution_count": 103,
   "id": "3b5cbae0-10b8-41bf-9689-461a29eb9948",
   "metadata": {},
   "outputs": [
    {
     "data": {
      "text/html": [
       "<div>\n",
       "<style scoped>\n",
       "    .dataframe tbody tr th:only-of-type {\n",
       "        vertical-align: middle;\n",
       "    }\n",
       "\n",
       "    .dataframe tbody tr th {\n",
       "        vertical-align: top;\n",
       "    }\n",
       "\n",
       "    .dataframe thead th {\n",
       "        text-align: right;\n",
       "    }\n",
       "</style>\n",
       "<table border=\"1\" class=\"dataframe\">\n",
       "  <thead>\n",
       "    <tr style=\"text-align: right;\">\n",
       "      <th></th>\n",
       "      <th>iso_o</th>\n",
       "      <th>country</th>\n",
       "      <th>landlocked</th>\n",
       "      <th>continent</th>\n",
       "      <th>lat</th>\n",
       "      <th>lon</th>\n",
       "      <th>langoff_1</th>\n",
       "      <th>colonizer1</th>\n",
       "      <th>category</th>\n",
       "      <th>development</th>\n",
       "    </tr>\n",
       "  </thead>\n",
       "  <tbody>\n",
       "  </tbody>\n",
       "</table>\n",
       "</div>"
      ],
      "text/plain": [
       "Empty DataFrame\n",
       "Columns: [iso_o, country, landlocked, continent, lat, lon, langoff_1, colonizer1, category, development]\n",
       "Index: []"
      ]
     },
     "execution_count": 103,
     "metadata": {},
     "output_type": "execute_result"
    }
   ],
   "source": [
    "nodeUnique_imf[nodeUnique_imf['category'].isna()]"
   ]
  },
  {
   "cell_type": "markdown",
   "id": "58660097-5a88-450a-bfb6-c6d9c9147278",
   "metadata": {},
   "source": [
    "##### Merging the two datasets with time invariant factors"
   ]
  },
  {
   "cell_type": "code",
   "execution_count": 104,
   "id": "3706b0c0-2a3b-434a-8602-ef27fb6527bc",
   "metadata": {},
   "outputs": [],
   "source": [
    "fixed = dyad_fixed_unique.merge(nodeUnique_imf, on = 'iso_o')"
   ]
  },
  {
   "cell_type": "code",
   "execution_count": 105,
   "id": "5e9bedff-f7b4-4985-a1ea-0498f42dcaf9",
   "metadata": {},
   "outputs": [
    {
     "name": "stdout",
     "output_type": "stream",
     "text": [
      "75\n",
      "75\n"
     ]
    }
   ],
   "source": [
    "print(fixed['iso_o'].nunique())\n",
    "print(fixed['iso_d'].nunique())"
   ]
  },
  {
   "cell_type": "code",
   "execution_count": 106,
   "id": "59ee3596-8ad4-4719-bea7-78eca9811624",
   "metadata": {},
   "outputs": [
    {
     "data": {
      "text/plain": [
       "False"
      ]
     },
     "execution_count": 106,
     "metadata": {},
     "output_type": "execute_result"
    }
   ],
   "source": [
    "dyad_fixed_unique['iso_o'].nunique() == fixed['iso_o'].nunique() == node_unique['iso_o'].nunique()"
   ]
  },
  {
   "cell_type": "code",
   "execution_count": 107,
   "id": "2a901365-6902-42e0-91b1-36c277e41f5a",
   "metadata": {},
   "outputs": [
    {
     "data": {
      "text/plain": [
       "(5550, 17)"
      ]
     },
     "execution_count": 107,
     "metadata": {},
     "output_type": "execute_result"
    }
   ],
   "source": [
    "fixed.shape"
   ]
  },
  {
   "cell_type": "code",
   "execution_count": 108,
   "id": "b544ab7d-dca1-4a62-ac57-15391b459b98",
   "metadata": {},
   "outputs": [
    {
     "data": {
      "text/html": [
       "<div>\n",
       "<style scoped>\n",
       "    .dataframe tbody tr th:only-of-type {\n",
       "        vertical-align: middle;\n",
       "    }\n",
       "\n",
       "    .dataframe tbody tr th {\n",
       "        vertical-align: top;\n",
       "    }\n",
       "\n",
       "    .dataframe thead th {\n",
       "        text-align: right;\n",
       "    }\n",
       "</style>\n",
       "<table border=\"1\" class=\"dataframe\">\n",
       "  <thead>\n",
       "    <tr style=\"text-align: right;\">\n",
       "      <th></th>\n",
       "      <th>iso_o</th>\n",
       "      <th>iso_d</th>\n",
       "      <th>contig</th>\n",
       "      <th>comlang_off</th>\n",
       "      <th>colony</th>\n",
       "      <th>comcol</th>\n",
       "      <th>dist</th>\n",
       "      <th>log_dist</th>\n",
       "      <th>country</th>\n",
       "      <th>landlocked</th>\n",
       "      <th>continent</th>\n",
       "      <th>lat</th>\n",
       "      <th>lon</th>\n",
       "      <th>langoff_1</th>\n",
       "      <th>colonizer1</th>\n",
       "      <th>category</th>\n",
       "      <th>development</th>\n",
       "    </tr>\n",
       "  </thead>\n",
       "  <tbody>\n",
       "    <tr>\n",
       "      <th>0</th>\n",
       "      <td>ARG</td>\n",
       "      <td>AUS</td>\n",
       "      <td>0</td>\n",
       "      <td>0</td>\n",
       "      <td>0</td>\n",
       "      <td>0</td>\n",
       "      <td>11801.36</td>\n",
       "      <td>9.375970</td>\n",
       "      <td>Argentina</td>\n",
       "      <td>0</td>\n",
       "      <td>America</td>\n",
       "      <td>-34.666668</td>\n",
       "      <td>-58.5</td>\n",
       "      <td>Spanish</td>\n",
       "      <td>ESP</td>\n",
       "      <td>Emerging and Developing Economies</td>\n",
       "      <td>0.0</td>\n",
       "    </tr>\n",
       "    <tr>\n",
       "      <th>1</th>\n",
       "      <td>ARG</td>\n",
       "      <td>AUT</td>\n",
       "      <td>0</td>\n",
       "      <td>0</td>\n",
       "      <td>0</td>\n",
       "      <td>0</td>\n",
       "      <td>11833.76</td>\n",
       "      <td>9.378712</td>\n",
       "      <td>Argentina</td>\n",
       "      <td>0</td>\n",
       "      <td>America</td>\n",
       "      <td>-34.666668</td>\n",
       "      <td>-58.5</td>\n",
       "      <td>Spanish</td>\n",
       "      <td>ESP</td>\n",
       "      <td>Emerging and Developing Economies</td>\n",
       "      <td>0.0</td>\n",
       "    </tr>\n",
       "  </tbody>\n",
       "</table>\n",
       "</div>"
      ],
      "text/plain": [
       "  iso_o iso_d  contig  comlang_off  colony  comcol      dist  log_dist  \\\n",
       "0   ARG   AUS       0            0       0       0  11801.36  9.375970   \n",
       "1   ARG   AUT       0            0       0       0  11833.76  9.378712   \n",
       "\n",
       "     country  landlocked continent        lat   lon langoff_1 colonizer1  \\\n",
       "0  Argentina           0   America -34.666668 -58.5   Spanish        ESP   \n",
       "1  Argentina           0   America -34.666668 -58.5   Spanish        ESP   \n",
       "\n",
       "                            category  development  \n",
       "0  Emerging and Developing Economies          0.0  \n",
       "1  Emerging and Developing Economies          0.0  "
      ]
     },
     "execution_count": 108,
     "metadata": {},
     "output_type": "execute_result"
    }
   ],
   "source": [
    "fixed.head(2)"
   ]
  },
  {
   "cell_type": "code",
   "execution_count": 109,
   "id": "35cbe9e5-638a-4255-b7e9-fe6f1523834c",
   "metadata": {},
   "outputs": [
    {
     "data": {
      "text/plain": [
       "True"
      ]
     },
     "execution_count": 109,
     "metadata": {},
     "output_type": "execute_result"
    }
   ],
   "source": [
    "set(fixed['iso_o'].unique()) == set(fixed['iso_d'].unique())"
   ]
  },
  {
   "cell_type": "markdown",
   "id": "3a8dc211-4d36-4206-93ac-accb6f1b56d4",
   "metadata": {},
   "source": [
    "#### contiguity edgelist"
   ]
  },
  {
   "cell_type": "code",
   "execution_count": 110,
   "id": "df0c0bf3-5340-4537-bcde-5bfd5a277a9d",
   "metadata": {},
   "outputs": [],
   "source": [
    "fixed_con = fixed[['iso_o', 'iso_d', 'contig']] "
   ]
  },
  {
   "cell_type": "code",
   "execution_count": 111,
   "id": "ff097a08-59d6-4fd6-bf4c-fd8be278df48",
   "metadata": {},
   "outputs": [
    {
     "name": "stdout",
     "output_type": "stream",
     "text": [
      "    iso_o iso_d  contig\n",
      "327   BGD   IND       1\n",
      "     iso_o iso_d  contig\n",
      "2372   IND   BGD       1\n"
     ]
    }
   ],
   "source": [
    "print(fixed_con[(fixed_con['iso_o'] == 'BGD') & (fixed_con['iso_d'] == 'IND')])\n",
    "print(fixed_con[(fixed_con['iso_o'] == 'IND') & (fixed_con['iso_d'] == 'BGD')])"
   ]
  },
  {
   "cell_type": "code",
   "execution_count": 112,
   "id": "ca73ecba-c505-476e-be8f-3d5479c9e050",
   "metadata": {},
   "outputs": [
    {
     "name": "stdout",
     "output_type": "stream",
     "text": [
      "75\n",
      "75\n",
      "5550\n"
     ]
    }
   ],
   "source": [
    "print(fixed_con['iso_o'].nunique())\n",
    "print(fixed_con['iso_o'].nunique())\n",
    "print(fixed_con.groupby(['iso_o', 'iso_d']).ngroups)"
   ]
  },
  {
   "cell_type": "markdown",
   "id": "feb8072f-4cd0-4907-8a2d-cc094bfb7701",
   "metadata": {},
   "source": [
    "#### Distance"
   ]
  },
  {
   "cell_type": "code",
   "execution_count": 113,
   "id": "8d9e7f94-d704-4c70-8cc4-df29345bcd6b",
   "metadata": {},
   "outputs": [],
   "source": [
    "distance = fixed[['iso_o', 'iso_d', 'log_dist']]"
   ]
  },
  {
   "cell_type": "code",
   "execution_count": 114,
   "id": "05a05f23-351d-406c-86d8-5a1c3ef13c93",
   "metadata": {},
   "outputs": [
    {
     "name": "stdout",
     "output_type": "stream",
     "text": [
      "    iso_o iso_d  log_dist\n",
      "327   BGD   IND  7.259776\n",
      "     iso_o iso_d  log_dist\n",
      "2372   IND   BGD  7.259776\n"
     ]
    }
   ],
   "source": [
    "print(distance[(distance['iso_o'] == 'BGD') & (distance['iso_d'] == 'IND')])\n",
    "print(distance[(distance['iso_o'] == 'IND') & (distance['iso_d'] == 'BGD')])"
   ]
  },
  {
   "cell_type": "code",
   "execution_count": 115,
   "id": "8d383396-5920-43b7-8fcf-2bddc2da9233",
   "metadata": {},
   "outputs": [
    {
     "name": "stdout",
     "output_type": "stream",
     "text": [
      "75\n",
      "75\n"
     ]
    }
   ],
   "source": [
    "print(distance['iso_o'].nunique())\n",
    "print(distance['iso_d'].nunique())"
   ]
  },
  {
   "cell_type": "code",
   "execution_count": 116,
   "id": "649617a9-efc3-46c8-b4a1-68f464223002",
   "metadata": {},
   "outputs": [
    {
     "data": {
      "text/html": [
       "<div>\n",
       "<style scoped>\n",
       "    .dataframe tbody tr th:only-of-type {\n",
       "        vertical-align: middle;\n",
       "    }\n",
       "\n",
       "    .dataframe tbody tr th {\n",
       "        vertical-align: top;\n",
       "    }\n",
       "\n",
       "    .dataframe thead th {\n",
       "        text-align: right;\n",
       "    }\n",
       "</style>\n",
       "<table border=\"1\" class=\"dataframe\">\n",
       "  <thead>\n",
       "    <tr style=\"text-align: right;\">\n",
       "      <th></th>\n",
       "      <th>iso_o</th>\n",
       "      <th>iso_d</th>\n",
       "      <th>log_dist</th>\n",
       "    </tr>\n",
       "  </thead>\n",
       "  <tbody>\n",
       "    <tr>\n",
       "      <th>0</th>\n",
       "      <td>ARG</td>\n",
       "      <td>AUS</td>\n",
       "      <td>9.375970</td>\n",
       "    </tr>\n",
       "    <tr>\n",
       "      <th>1</th>\n",
       "      <td>ARG</td>\n",
       "      <td>AUT</td>\n",
       "      <td>9.378712</td>\n",
       "    </tr>\n",
       "  </tbody>\n",
       "</table>\n",
       "</div>"
      ],
      "text/plain": [
       "  iso_o iso_d  log_dist\n",
       "0   ARG   AUS  9.375970\n",
       "1   ARG   AUT  9.378712"
      ]
     },
     "execution_count": 116,
     "metadata": {},
     "output_type": "execute_result"
    }
   ],
   "source": [
    "distance.head(2)"
   ]
  },
  {
   "cell_type": "markdown",
   "id": "b9133cac-3a85-478c-84a8-e6c78b9a4778",
   "metadata": {},
   "source": [
    "#### Common colonizer"
   ]
  },
  {
   "cell_type": "code",
   "execution_count": 117,
   "id": "6aed7e48-b188-4f21-84aa-3e0bb7a20ba0",
   "metadata": {},
   "outputs": [],
   "source": [
    "comcol = fixed[['iso_o', 'iso_d', 'comcol']]"
   ]
  },
  {
   "cell_type": "code",
   "execution_count": 118,
   "id": "bce1c8f8-aadc-4086-84ba-9d74d0042ad8",
   "metadata": {},
   "outputs": [
    {
     "name": "stdout",
     "output_type": "stream",
     "text": [
      "    iso_o iso_d  comcol\n",
      "327   BGD   IND       1\n",
      "     iso_o iso_d  comcol\n",
      "2372   IND   BGD       1\n"
     ]
    }
   ],
   "source": [
    "print(comcol[(comcol['iso_o'] == 'BGD') & (comcol['iso_d'] == 'IND')])\n",
    "print(comcol[(comcol['iso_o'] == 'IND') & (comcol['iso_d'] == 'BGD')])"
   ]
  },
  {
   "cell_type": "markdown",
   "id": "07084db2-8b3d-4c35-a321-e0b67a8529a6",
   "metadata": {},
   "source": [
    "#### Colony"
   ]
  },
  {
   "cell_type": "code",
   "execution_count": 119,
   "id": "9c704c26-3911-4d3f-998f-11e5a9bbf024",
   "metadata": {},
   "outputs": [],
   "source": [
    "col = fixed[['iso_o', 'iso_d', 'colony']]"
   ]
  },
  {
   "cell_type": "code",
   "execution_count": 120,
   "id": "5a454f64-7213-4263-baf7-888de89f3dbb",
   "metadata": {},
   "outputs": [
    {
     "name": "stdout",
     "output_type": "stream",
     "text": [
      "    iso_o iso_d  colony\n",
      "321   BGD   GBR       1\n",
      "     iso_o iso_d  colony\n",
      "2394   IND   GBR       1\n"
     ]
    }
   ],
   "source": [
    "print(col[(col['iso_o'] == 'BGD') & (col['iso_d'] == 'GBR')])\n",
    "print(col[(col['iso_o'] == 'IND') & (col['iso_d'] == 'GBR')])"
   ]
  },
  {
   "cell_type": "code",
   "execution_count": 121,
   "id": "2bc3dd22-387e-4e81-bc34-2c805989df0b",
   "metadata": {},
   "outputs": [
    {
     "name": "stdout",
     "output_type": "stream",
     "text": [
      "75\n",
      "75\n"
     ]
    }
   ],
   "source": [
    "print(col['iso_o'].nunique())\n",
    "print(col['iso_d'].nunique())"
   ]
  },
  {
   "cell_type": "markdown",
   "id": "8a0a55df-fb27-4e02-97ca-364acb672e0f",
   "metadata": {},
   "source": [
    "#### Common Language"
   ]
  },
  {
   "cell_type": "code",
   "execution_count": 122,
   "id": "8fcd404c-349c-4ec7-bacd-f953cdf187dd",
   "metadata": {},
   "outputs": [],
   "source": [
    "lang = fixed[['iso_o', 'iso_d', 'comlang_off']]"
   ]
  },
  {
   "cell_type": "code",
   "execution_count": 123,
   "id": "93b61eed-b917-4890-ba08-52005be5abdb",
   "metadata": {},
   "outputs": [
    {
     "name": "stdout",
     "output_type": "stream",
     "text": [
      "    iso_o iso_d  comlang_off\n",
      "327   BGD   IND            0\n",
      "     iso_o iso_d  comlang_off\n",
      "2372   IND   BGD            0\n"
     ]
    }
   ],
   "source": [
    "print(lang[(lang['iso_o'] == 'BGD') & (lang['iso_d'] == 'IND')])\n",
    "print(lang[(lang['iso_o'] == 'IND') & (lang['iso_d'] == 'BGD')])"
   ]
  },
  {
   "cell_type": "code",
   "execution_count": 124,
   "id": "25f43a8c-721b-4d4c-a1a7-ecb21b6312e1",
   "metadata": {},
   "outputs": [
    {
     "name": "stdout",
     "output_type": "stream",
     "text": [
      "75\n",
      "75\n"
     ]
    }
   ],
   "source": [
    "print(lang['iso_o'].nunique())\n",
    "print(lang['iso_d'].nunique())"
   ]
  },
  {
   "cell_type": "code",
   "execution_count": 125,
   "id": "36c84778-a6c1-4fc7-8ecc-9058970a99a7",
   "metadata": {},
   "outputs": [],
   "source": [
    "e = list(set(lang['iso_o'].unique()))"
   ]
  },
  {
   "cell_type": "code",
   "execution_count": 126,
   "id": "d12cc1c5-9edf-4dde-af62-7be76d59637a",
   "metadata": {},
   "outputs": [
    {
     "data": {
      "text/plain": [
       "75"
      ]
     },
     "execution_count": 126,
     "metadata": {},
     "output_type": "execute_result"
    }
   ],
   "source": [
    "len(e)"
   ]
  },
  {
   "cell_type": "code",
   "execution_count": 127,
   "id": "e51d45d3-c69c-4182-8af2-b9e3f282f447",
   "metadata": {},
   "outputs": [],
   "source": [
    "co2_uni = co2_uni[co2_uni['iso_o'].isin(e)]\n",
    "co2_uni = co2_uni[co2_uni['iso_d'].isin(e)]\n",
    "edgelist_co2 = edgelist_co2[edgelist_co2['iso_o'].isin(e)]\n",
    "edgelist_co2 = edgelist_co2[edgelist_co2['iso_d'].isin(e)]"
   ]
  },
  {
   "cell_type": "code",
   "execution_count": 128,
   "id": "88897361-d4e7-423f-9b79-d4ad0e841ba2",
   "metadata": {},
   "outputs": [
    {
     "name": "stdout",
     "output_type": "stream",
     "text": [
      "75\n",
      "75\n",
      "75\n",
      "75\n"
     ]
    }
   ],
   "source": [
    "print(co2_uni['iso_o'].nunique())\n",
    "print(co2_uni['iso_d'].nunique())\n",
    "print(edgelist_co2['iso_o'].nunique())\n",
    "print(edgelist_co2['iso_d'].nunique())"
   ]
  },
  {
   "cell_type": "code",
   "execution_count": 129,
   "id": "47b755fe-2571-449c-ad97-d5c32231aef6",
   "metadata": {},
   "outputs": [],
   "source": [
    "total_unique = total_unique[total_unique['iso_o'].isin(e)]\n",
    "total_unique = total_unique[total_unique['iso_d'].isin(e)]\n",
    "edgelist_trade_rounded = edgelist_trade_rounded[edgelist_trade_rounded['iso_o'].isin(e)]\n",
    "edgelist_trade_rounded = edgelist_trade_rounded[edgelist_trade_rounded['iso_d'].isin(e)]"
   ]
  },
  {
   "cell_type": "code",
   "execution_count": 130,
   "id": "6e2a1d8c-9770-4d71-8bc0-33a5982dd492",
   "metadata": {},
   "outputs": [
    {
     "name": "stdout",
     "output_type": "stream",
     "text": [
      "75\n",
      "75\n",
      "75\n",
      "75\n"
     ]
    }
   ],
   "source": [
    "print(total_unique['iso_o'].nunique())\n",
    "print(total_unique['iso_d'].nunique())\n",
    "print(edgelist_trade_rounded['iso_o'].nunique())\n",
    "print(edgelist_trade_rounded['iso_d'].nunique())"
   ]
  },
  {
   "cell_type": "markdown",
   "id": "c6fa0364-f91f-4ef3-8670-4091d97149ee",
   "metadata": {},
   "source": [
    "# Time Varying Data"
   ]
  },
  {
   "cell_type": "markdown",
   "id": "a11d6f80-44dd-465a-91eb-76dd50eb9195",
   "metadata": {},
   "source": [
    "### RTA"
   ]
  },
  {
   "cell_type": "code",
   "execution_count": 131,
   "id": "487a23b3-5c0d-4892-a365-adf73279c48c",
   "metadata": {},
   "outputs": [],
   "source": [
    "rta = pd.read_csv(\"../data/raw/rta_20241028.csv\")"
   ]
  },
  {
   "cell_type": "code",
   "execution_count": 132,
   "id": "0510e166-4d24-4c8a-8907-e4c7c713798a",
   "metadata": {},
   "outputs": [],
   "source": [
    "rta  = rta.rename(columns = {'exporter': 'iso_o'})\n",
    "rta  = rta.rename(columns = {'importer': 'iso_d'})\n",
    "rta  = rta.rename(columns = {'year': 'TIME_PERIOD'})"
   ]
  },
  {
   "cell_type": "code",
   "execution_count": 133,
   "id": "7c22dc1a-eca9-454f-9f4f-f5ea01a5ba27",
   "metadata": {},
   "outputs": [],
   "source": [
    "rta = rta[rta['iso_o'] != rta['iso_d']]"
   ]
  },
  {
   "cell_type": "code",
   "execution_count": 134,
   "id": "71f329af-472c-4427-814c-1a629df85a86",
   "metadata": {},
   "outputs": [],
   "source": [
    "rta = rta[rta['iso_o'].isin(countries)].reset_index(drop= True)"
   ]
  },
  {
   "cell_type": "code",
   "execution_count": 135,
   "id": "6f11a1e4-66c8-489b-86ce-6d6fe47cba27",
   "metadata": {},
   "outputs": [
    {
     "name": "stdout",
     "output_type": "stream",
     "text": [
      "21204\n"
     ]
    }
   ],
   "source": [
    "print(rta.groupby(['iso_o', 'iso_d']).ngroups)"
   ]
  },
  {
   "cell_type": "code",
   "execution_count": 136,
   "id": "9ec55fcd-ea04-4e76-903d-0acc29209d66",
   "metadata": {},
   "outputs": [],
   "source": [
    "rta = rta[(rta['TIME_PERIOD'] >= 2000) & (rta['TIME_PERIOD'] <= 2020)]"
   ]
  },
  {
   "cell_type": "code",
   "execution_count": 137,
   "id": "1f3a19ee-505f-4390-bbbf-c856e7e4c86d",
   "metadata": {},
   "outputs": [
    {
     "data": {
      "text/plain": [
       "array([2000, 2001, 2002, 2003, 2004, 2005, 2006, 2007, 2008, 2009, 2010,\n",
       "       2011, 2012, 2013, 2014, 2015, 2016, 2017, 2018, 2019, 2020],\n",
       "      dtype=int64)"
      ]
     },
     "execution_count": 137,
     "metadata": {},
     "output_type": "execute_result"
    }
   ],
   "source": [
    "rta['TIME_PERIOD'].unique()"
   ]
  },
  {
   "cell_type": "code",
   "execution_count": 138,
   "id": "7db8a870-6e76-43fd-ac54-31d21f1a0c2a",
   "metadata": {},
   "outputs": [],
   "source": [
    "rta = rta[['iso_o', 'iso_d', 'TIME_PERIOD', 'rta']].reset_index(drop = True)"
   ]
  },
  {
   "cell_type": "code",
   "execution_count": 139,
   "id": "15cd24f8-7553-4b5c-90b8-05d0f97ffd0a",
   "metadata": {},
   "outputs": [
    {
     "data": {
      "text/plain": [
       "76"
      ]
     },
     "execution_count": 139,
     "metadata": {},
     "output_type": "execute_result"
    }
   ],
   "source": [
    "rta['iso_o'].nunique()"
   ]
  },
  {
   "cell_type": "code",
   "execution_count": 140,
   "id": "0753960a-8faa-4138-903e-eb07aab3b34e",
   "metadata": {},
   "outputs": [
    {
     "data": {
      "text/html": [
       "<div>\n",
       "<style scoped>\n",
       "    .dataframe tbody tr th:only-of-type {\n",
       "        vertical-align: middle;\n",
       "    }\n",
       "\n",
       "    .dataframe tbody tr th {\n",
       "        vertical-align: top;\n",
       "    }\n",
       "\n",
       "    .dataframe thead th {\n",
       "        text-align: right;\n",
       "    }\n",
       "</style>\n",
       "<table border=\"1\" class=\"dataframe\">\n",
       "  <thead>\n",
       "    <tr style=\"text-align: right;\">\n",
       "      <th></th>\n",
       "      <th>iso_o</th>\n",
       "      <th>iso_d</th>\n",
       "      <th>TIME_PERIOD</th>\n",
       "      <th>rta</th>\n",
       "    </tr>\n",
       "  </thead>\n",
       "  <tbody>\n",
       "    <tr>\n",
       "      <th>0</th>\n",
       "      <td>ARG</td>\n",
       "      <td>ABW</td>\n",
       "      <td>2000</td>\n",
       "      <td>0</td>\n",
       "    </tr>\n",
       "    <tr>\n",
       "      <th>1</th>\n",
       "      <td>ARG</td>\n",
       "      <td>ABW</td>\n",
       "      <td>2001</td>\n",
       "      <td>0</td>\n",
       "    </tr>\n",
       "    <tr>\n",
       "      <th>2</th>\n",
       "      <td>ARG</td>\n",
       "      <td>ABW</td>\n",
       "      <td>2002</td>\n",
       "      <td>0</td>\n",
       "    </tr>\n",
       "    <tr>\n",
       "      <th>3</th>\n",
       "      <td>ARG</td>\n",
       "      <td>ABW</td>\n",
       "      <td>2003</td>\n",
       "      <td>0</td>\n",
       "    </tr>\n",
       "    <tr>\n",
       "      <th>4</th>\n",
       "      <td>ARG</td>\n",
       "      <td>ABW</td>\n",
       "      <td>2004</td>\n",
       "      <td>0</td>\n",
       "    </tr>\n",
       "    <tr>\n",
       "      <th>...</th>\n",
       "      <td>...</td>\n",
       "      <td>...</td>\n",
       "      <td>...</td>\n",
       "      <td>...</td>\n",
       "    </tr>\n",
       "    <tr>\n",
       "      <th>445279</th>\n",
       "      <td>ZAF</td>\n",
       "      <td>ZWE</td>\n",
       "      <td>2016</td>\n",
       "      <td>1</td>\n",
       "    </tr>\n",
       "    <tr>\n",
       "      <th>445280</th>\n",
       "      <td>ZAF</td>\n",
       "      <td>ZWE</td>\n",
       "      <td>2017</td>\n",
       "      <td>1</td>\n",
       "    </tr>\n",
       "    <tr>\n",
       "      <th>445281</th>\n",
       "      <td>ZAF</td>\n",
       "      <td>ZWE</td>\n",
       "      <td>2018</td>\n",
       "      <td>1</td>\n",
       "    </tr>\n",
       "    <tr>\n",
       "      <th>445282</th>\n",
       "      <td>ZAF</td>\n",
       "      <td>ZWE</td>\n",
       "      <td>2019</td>\n",
       "      <td>1</td>\n",
       "    </tr>\n",
       "    <tr>\n",
       "      <th>445283</th>\n",
       "      <td>ZAF</td>\n",
       "      <td>ZWE</td>\n",
       "      <td>2020</td>\n",
       "      <td>1</td>\n",
       "    </tr>\n",
       "  </tbody>\n",
       "</table>\n",
       "<p>445284 rows × 4 columns</p>\n",
       "</div>"
      ],
      "text/plain": [
       "       iso_o iso_d  TIME_PERIOD  rta\n",
       "0        ARG   ABW         2000    0\n",
       "1        ARG   ABW         2001    0\n",
       "2        ARG   ABW         2002    0\n",
       "3        ARG   ABW         2003    0\n",
       "4        ARG   ABW         2004    0\n",
       "...      ...   ...          ...  ...\n",
       "445279   ZAF   ZWE         2016    1\n",
       "445280   ZAF   ZWE         2017    1\n",
       "445281   ZAF   ZWE         2018    1\n",
       "445282   ZAF   ZWE         2019    1\n",
       "445283   ZAF   ZWE         2020    1\n",
       "\n",
       "[445284 rows x 4 columns]"
      ]
     },
     "execution_count": 140,
     "metadata": {},
     "output_type": "execute_result"
    }
   ],
   "source": [
    "rta"
   ]
  },
  {
   "cell_type": "code",
   "execution_count": 141,
   "id": "42610f75-83e8-494f-bacb-957048159513",
   "metadata": {},
   "outputs": [],
   "source": [
    "rta_edgelist = rta.pivot_table(values = 'rta', index = ['iso_o', 'iso_d'], columns = 'TIME_PERIOD').reset_index()"
   ]
  },
  {
   "cell_type": "code",
   "execution_count": 142,
   "id": "2124ba64-0fc7-41c8-ad9e-cf8c08e6cc98",
   "metadata": {},
   "outputs": [
    {
     "data": {
      "text/html": [
       "<div>\n",
       "<style scoped>\n",
       "    .dataframe tbody tr th:only-of-type {\n",
       "        vertical-align: middle;\n",
       "    }\n",
       "\n",
       "    .dataframe tbody tr th {\n",
       "        vertical-align: top;\n",
       "    }\n",
       "\n",
       "    .dataframe thead th {\n",
       "        text-align: right;\n",
       "    }\n",
       "</style>\n",
       "<table border=\"1\" class=\"dataframe\">\n",
       "  <thead>\n",
       "    <tr style=\"text-align: right;\">\n",
       "      <th>TIME_PERIOD</th>\n",
       "      <th>iso_o</th>\n",
       "      <th>iso_d</th>\n",
       "      <th>2000</th>\n",
       "      <th>2001</th>\n",
       "      <th>2002</th>\n",
       "      <th>2003</th>\n",
       "      <th>2004</th>\n",
       "      <th>2005</th>\n",
       "      <th>2006</th>\n",
       "      <th>2007</th>\n",
       "      <th>...</th>\n",
       "      <th>2011</th>\n",
       "      <th>2012</th>\n",
       "      <th>2013</th>\n",
       "      <th>2014</th>\n",
       "      <th>2015</th>\n",
       "      <th>2016</th>\n",
       "      <th>2017</th>\n",
       "      <th>2018</th>\n",
       "      <th>2019</th>\n",
       "      <th>2020</th>\n",
       "    </tr>\n",
       "  </thead>\n",
       "  <tbody>\n",
       "    <tr>\n",
       "      <th>1232</th>\n",
       "      <td>BGD</td>\n",
       "      <td>IND</td>\n",
       "      <td>1.0</td>\n",
       "      <td>1.0</td>\n",
       "      <td>1.0</td>\n",
       "      <td>1.0</td>\n",
       "      <td>1.0</td>\n",
       "      <td>1.0</td>\n",
       "      <td>1.0</td>\n",
       "      <td>1.0</td>\n",
       "      <td>...</td>\n",
       "      <td>1.0</td>\n",
       "      <td>1.0</td>\n",
       "      <td>1.0</td>\n",
       "      <td>1.0</td>\n",
       "      <td>1.0</td>\n",
       "      <td>1.0</td>\n",
       "      <td>1.0</td>\n",
       "      <td>1.0</td>\n",
       "      <td>1.0</td>\n",
       "      <td>1.0</td>\n",
       "    </tr>\n",
       "  </tbody>\n",
       "</table>\n",
       "<p>1 rows × 23 columns</p>\n",
       "</div>"
      ],
      "text/plain": [
       "TIME_PERIOD iso_o iso_d  2000  2001  2002  2003  2004  2005  2006  2007  ...  \\\n",
       "1232          BGD   IND   1.0   1.0   1.0   1.0   1.0   1.0   1.0   1.0  ...   \n",
       "\n",
       "TIME_PERIOD  2011  2012  2013  2014  2015  2016  2017  2018  2019  2020  \n",
       "1232          1.0   1.0   1.0   1.0   1.0   1.0   1.0   1.0   1.0   1.0  \n",
       "\n",
       "[1 rows x 23 columns]"
      ]
     },
     "execution_count": 142,
     "metadata": {},
     "output_type": "execute_result"
    }
   ],
   "source": [
    "rta_edgelist[(rta_edgelist['iso_o'] == 'BGD') & (rta_edgelist['iso_d'] == 'IND')]"
   ]
  },
  {
   "cell_type": "markdown",
   "id": "37e49a8f-19a9-466f-b016-da71c3190380",
   "metadata": {},
   "source": [
    "### Internet Penetration"
   ]
  },
  {
   "cell_type": "code",
   "execution_count": 143,
   "id": "55bf3ac7-25c5-4abc-8fe9-972e3c0ef551",
   "metadata": {},
   "outputs": [],
   "source": [
    "internet = pd.read_csv('../data/raw/702e5907-a97c-4e0a-9f8f-511ea9b80ab0_Data.csv')"
   ]
  },
  {
   "cell_type": "code",
   "execution_count": 144,
   "id": "dc8beb1a-bbfe-4db4-88da-79be8ffc895d",
   "metadata": {},
   "outputs": [],
   "source": [
    "internet = internet.iloc[:265, :]\n",
    "internet = internet.rename(columns = {'Country Code': 'iso_o'})\n",
    "internet = internet.rename(columns = {'1999 [YR1999]': 1999})\n",
    "internet = internet.rename(columns = {'2000 [YR2000]': 2000})\n",
    "internet = internet.rename(columns = {'2001 [YR2001]': 2001})\n",
    "internet = internet.rename(columns = {'2002 [YR2002]': 2002})\n",
    "internet = internet.rename(columns = {'2003 [YR2003]': 2003})\n",
    "internet = internet.rename(columns = {'2004 [YR2004]': 2004})\n",
    "internet = internet.rename(columns = {'2005 [YR2005]': 2005})\n",
    "internet = internet.rename(columns = {'2006 [YR2006]': 2006})\n",
    "internet = internet.rename(columns = {'2007 [YR2007]': 2007})\n",
    "internet = internet.rename(columns = {'2008 [YR2008]': 2008})\n",
    "internet = internet.rename(columns = {'2009 [YR2009]': 2009})\n",
    "internet = internet.rename(columns = {'2010 [YR2010]': 2010})\n",
    "internet = internet.rename(columns = {'2011 [YR2011]': 2011})\n",
    "internet = internet.rename(columns = {'2012 [YR2012]': 2012})\n",
    "internet = internet.rename(columns = {'2013 [YR2013]': 2013})\n",
    "internet = internet.rename(columns = {'2014 [YR2014]': 2014})\n",
    "internet = internet.rename(columns = {'2015 [YR2015]': 2015})\n",
    "internet = internet.rename(columns = {'2016 [YR2016]': 2016})\n",
    "internet = internet.rename(columns = {'2017 [YR2017]': 2017})\n",
    "internet = internet.rename(columns = {'2018 [YR2018]': 2018})\n",
    "internet = internet.rename(columns = {'2019 [YR2019]': 2019})\n",
    "internet = internet.rename(columns = {'2020 [YR2020]': 2020})\n",
    "internet = internet.drop(columns= ['Country Name', 'Series Name', 'Series Code'])"
   ]
  },
  {
   "cell_type": "code",
   "execution_count": 145,
   "id": "553aea4c-cba8-4aee-ad0a-6904b76bf1b5",
   "metadata": {},
   "outputs": [],
   "source": [
    "internet = internet[internet['iso_o'].isin(countries)]\n",
    "internet = internet.reset_index(drop = True)"
   ]
  },
  {
   "cell_type": "code",
   "execution_count": 146,
   "id": "728cb4be-e4de-47ec-a7fa-d99f52bb6126",
   "metadata": {},
   "outputs": [
    {
     "name": "stdout",
     "output_type": "stream",
     "text": [
      "75\n"
     ]
    }
   ],
   "source": [
    "print(internet['iso_o'].nunique())"
   ]
  },
  {
   "cell_type": "code",
   "execution_count": 147,
   "id": "14744c9a-f89e-47e0-aa19-3d06636006cd",
   "metadata": {},
   "outputs": [],
   "source": [
    "year = [1999, 2000, 2001, 2002, 2003, 2004, 2005, 2006, 2007, 2008, 2009, 2010, 2011, 2012, 2013, 2014, 2015, 2016, 2017, 2018, 2019, 2020]\n",
    "internet[year] = internet[year].replace('..', np.nan)\n",
    "internet[year] = internet[year].apply(lambda x: pd.to_numeric(x, errors='coerce')).round(2)"
   ]
  },
  {
   "cell_type": "code",
   "execution_count": 148,
   "id": "5442b981-bf17-43c4-8536-1ef8f6902da7",
   "metadata": {},
   "outputs": [
    {
     "data": {
      "text/plain": [
       "iso_o    0\n",
       "1999     0\n",
       "2000     2\n",
       "2001     0\n",
       "2002     1\n",
       "2003     2\n",
       "2004     2\n",
       "2005     1\n",
       "2006     0\n",
       "2007     0\n",
       "2008     0\n",
       "2009     0\n",
       "2010     0\n",
       "2011     0\n",
       "2012     0\n",
       "2013     0\n",
       "2014     0\n",
       "2015     0\n",
       "2016     0\n",
       "2017     0\n",
       "2018     1\n",
       "2019     0\n",
       "2020     0\n",
       "dtype: int64"
      ]
     },
     "execution_count": 148,
     "metadata": {},
     "output_type": "execute_result"
    }
   ],
   "source": [
    "missing = internet.isna().sum()\n",
    "missing"
   ]
  },
  {
   "cell_type": "code",
   "execution_count": 149,
   "id": "cf2a3e43-3de9-4ab6-ad40-34ddb58167b6",
   "metadata": {},
   "outputs": [],
   "source": [
    "mean_internet_2000 = internet[2000].mean()\n",
    "internet[2000] = internet[2000].fillna(mean_internet_2000)\n",
    "#internet['log_GDP'] = np.log(at2002_ordered['GDP'])\n",
    "mean_internet_2002 = internet[2002].mean()\n",
    "internet[2002] = internet[2002].fillna(mean_internet_2002)\n",
    "mean_internet_2003 = internet[2003].mean()\n",
    "internet[2003] = internet[2003].fillna(mean_internet_2003)\n",
    "mean_internet_2004 = internet[2004].mean()\n",
    "internet[2004] = internet[2004].fillna(mean_internet_2004)\n",
    "mean_internet_2005 = internet[2005].mean()\n",
    "internet[2005] = internet[2005].fillna(mean_internet_2005)\n",
    "mean_internet_2018 = internet[2018].mean()\n",
    "internet[2018] = internet[2018].fillna(mean_internet_2018)"
   ]
  },
  {
   "cell_type": "code",
   "execution_count": 150,
   "id": "c41b3750-5bf8-41a2-939b-018c528cabe3",
   "metadata": {},
   "outputs": [
    {
     "data": {
      "text/html": [
       "<div>\n",
       "<style scoped>\n",
       "    .dataframe tbody tr th:only-of-type {\n",
       "        vertical-align: middle;\n",
       "    }\n",
       "\n",
       "    .dataframe tbody tr th {\n",
       "        vertical-align: top;\n",
       "    }\n",
       "\n",
       "    .dataframe thead th {\n",
       "        text-align: right;\n",
       "    }\n",
       "</style>\n",
       "<table border=\"1\" class=\"dataframe\">\n",
       "  <thead>\n",
       "    <tr style=\"text-align: right;\">\n",
       "      <th></th>\n",
       "      <th>iso_o</th>\n",
       "      <th>1999</th>\n",
       "      <th>2000</th>\n",
       "      <th>2001</th>\n",
       "      <th>2002</th>\n",
       "      <th>2003</th>\n",
       "      <th>2004</th>\n",
       "      <th>2005</th>\n",
       "      <th>2006</th>\n",
       "      <th>2007</th>\n",
       "      <th>...</th>\n",
       "      <th>2011</th>\n",
       "      <th>2012</th>\n",
       "      <th>2013</th>\n",
       "      <th>2014</th>\n",
       "      <th>2015</th>\n",
       "      <th>2016</th>\n",
       "      <th>2017</th>\n",
       "      <th>2018</th>\n",
       "      <th>2019</th>\n",
       "      <th>2020</th>\n",
       "    </tr>\n",
       "  </thead>\n",
       "  <tbody>\n",
       "    <tr>\n",
       "      <th>0</th>\n",
       "      <td>ARG</td>\n",
       "      <td>3.28</td>\n",
       "      <td>7.04</td>\n",
       "      <td>9.78</td>\n",
       "      <td>10.900000</td>\n",
       "      <td>11.900000</td>\n",
       "      <td>16.000000</td>\n",
       "      <td>17.700000</td>\n",
       "      <td>20.9</td>\n",
       "      <td>25.9</td>\n",
       "      <td>...</td>\n",
       "      <td>51.0</td>\n",
       "      <td>55.8</td>\n",
       "      <td>59.90</td>\n",
       "      <td>64.7</td>\n",
       "      <td>68.0</td>\n",
       "      <td>71.0</td>\n",
       "      <td>74.3</td>\n",
       "      <td>77.7</td>\n",
       "      <td>79.9</td>\n",
       "      <td>85.5</td>\n",
       "    </tr>\n",
       "    <tr>\n",
       "      <th>1</th>\n",
       "      <td>AUS</td>\n",
       "      <td>40.80</td>\n",
       "      <td>46.80</td>\n",
       "      <td>52.70</td>\n",
       "      <td>23.694054</td>\n",
       "      <td>27.593699</td>\n",
       "      <td>31.496301</td>\n",
       "      <td>63.000000</td>\n",
       "      <td>66.0</td>\n",
       "      <td>69.5</td>\n",
       "      <td>...</td>\n",
       "      <td>79.5</td>\n",
       "      <td>79.0</td>\n",
       "      <td>83.50</td>\n",
       "      <td>84.0</td>\n",
       "      <td>84.6</td>\n",
       "      <td>86.5</td>\n",
       "      <td>86.5</td>\n",
       "      <td>90.0</td>\n",
       "      <td>93.6</td>\n",
       "      <td>94.7</td>\n",
       "    </tr>\n",
       "    <tr>\n",
       "      <th>2</th>\n",
       "      <td>AUT</td>\n",
       "      <td>23.00</td>\n",
       "      <td>33.70</td>\n",
       "      <td>39.20</td>\n",
       "      <td>36.600000</td>\n",
       "      <td>42.700000</td>\n",
       "      <td>54.300000</td>\n",
       "      <td>58.000000</td>\n",
       "      <td>63.6</td>\n",
       "      <td>69.4</td>\n",
       "      <td>...</td>\n",
       "      <td>78.7</td>\n",
       "      <td>80.0</td>\n",
       "      <td>80.60</td>\n",
       "      <td>81.0</td>\n",
       "      <td>83.9</td>\n",
       "      <td>84.3</td>\n",
       "      <td>87.9</td>\n",
       "      <td>87.5</td>\n",
       "      <td>87.8</td>\n",
       "      <td>87.5</td>\n",
       "    </tr>\n",
       "    <tr>\n",
       "      <th>3</th>\n",
       "      <td>BGD</td>\n",
       "      <td>0.04</td>\n",
       "      <td>0.07</td>\n",
       "      <td>0.13</td>\n",
       "      <td>0.140000</td>\n",
       "      <td>0.160000</td>\n",
       "      <td>0.200000</td>\n",
       "      <td>0.240000</td>\n",
       "      <td>1.0</td>\n",
       "      <td>1.8</td>\n",
       "      <td>...</td>\n",
       "      <td>4.5</td>\n",
       "      <td>5.0</td>\n",
       "      <td>6.63</td>\n",
       "      <td>11.9</td>\n",
       "      <td>12.9</td>\n",
       "      <td>18.1</td>\n",
       "      <td>21.5</td>\n",
       "      <td>25.6</td>\n",
       "      <td>30.4</td>\n",
       "      <td>36.1</td>\n",
       "    </tr>\n",
       "    <tr>\n",
       "      <th>4</th>\n",
       "      <td>BLR</td>\n",
       "      <td>0.50</td>\n",
       "      <td>1.86</td>\n",
       "      <td>4.30</td>\n",
       "      <td>8.950000</td>\n",
       "      <td>27.593699</td>\n",
       "      <td>31.496301</td>\n",
       "      <td>34.648108</td>\n",
       "      <td>16.2</td>\n",
       "      <td>19.7</td>\n",
       "      <td>...</td>\n",
       "      <td>39.6</td>\n",
       "      <td>46.9</td>\n",
       "      <td>54.20</td>\n",
       "      <td>59.0</td>\n",
       "      <td>62.2</td>\n",
       "      <td>71.1</td>\n",
       "      <td>74.4</td>\n",
       "      <td>79.1</td>\n",
       "      <td>82.8</td>\n",
       "      <td>85.1</td>\n",
       "    </tr>\n",
       "  </tbody>\n",
       "</table>\n",
       "<p>5 rows × 23 columns</p>\n",
       "</div>"
      ],
      "text/plain": [
       "  iso_o   1999   2000   2001       2002       2003       2004       2005  \\\n",
       "0   ARG   3.28   7.04   9.78  10.900000  11.900000  16.000000  17.700000   \n",
       "1   AUS  40.80  46.80  52.70  23.694054  27.593699  31.496301  63.000000   \n",
       "2   AUT  23.00  33.70  39.20  36.600000  42.700000  54.300000  58.000000   \n",
       "3   BGD   0.04   0.07   0.13   0.140000   0.160000   0.200000   0.240000   \n",
       "4   BLR   0.50   1.86   4.30   8.950000  27.593699  31.496301  34.648108   \n",
       "\n",
       "   2006  2007  ...  2011  2012   2013  2014  2015  2016  2017  2018  2019  \\\n",
       "0  20.9  25.9  ...  51.0  55.8  59.90  64.7  68.0  71.0  74.3  77.7  79.9   \n",
       "1  66.0  69.5  ...  79.5  79.0  83.50  84.0  84.6  86.5  86.5  90.0  93.6   \n",
       "2  63.6  69.4  ...  78.7  80.0  80.60  81.0  83.9  84.3  87.9  87.5  87.8   \n",
       "3   1.0   1.8  ...   4.5   5.0   6.63  11.9  12.9  18.1  21.5  25.6  30.4   \n",
       "4  16.2  19.7  ...  39.6  46.9  54.20  59.0  62.2  71.1  74.4  79.1  82.8   \n",
       "\n",
       "   2020  \n",
       "0  85.5  \n",
       "1  94.7  \n",
       "2  87.5  \n",
       "3  36.1  \n",
       "4  85.1  \n",
       "\n",
       "[5 rows x 23 columns]"
      ]
     },
     "execution_count": 150,
     "metadata": {},
     "output_type": "execute_result"
    }
   ],
   "source": [
    "internet.head()"
   ]
  },
  {
   "cell_type": "code",
   "execution_count": 151,
   "id": "f5534634-c27d-47cf-8ee7-e7d6b7073cb8",
   "metadata": {},
   "outputs": [],
   "source": [
    "internet_long = internet.set_index('iso_o').stack().reset_index()"
   ]
  },
  {
   "cell_type": "code",
   "execution_count": 152,
   "id": "3934acc6-2566-4e6a-9f97-aacf0f4a521c",
   "metadata": {},
   "outputs": [
    {
     "data": {
      "text/html": [
       "<div>\n",
       "<style scoped>\n",
       "    .dataframe tbody tr th:only-of-type {\n",
       "        vertical-align: middle;\n",
       "    }\n",
       "\n",
       "    .dataframe tbody tr th {\n",
       "        vertical-align: top;\n",
       "    }\n",
       "\n",
       "    .dataframe thead th {\n",
       "        text-align: right;\n",
       "    }\n",
       "</style>\n",
       "<table border=\"1\" class=\"dataframe\">\n",
       "  <thead>\n",
       "    <tr style=\"text-align: right;\">\n",
       "      <th></th>\n",
       "      <th>iso_o</th>\n",
       "      <th>level_1</th>\n",
       "      <th>0</th>\n",
       "    </tr>\n",
       "  </thead>\n",
       "  <tbody>\n",
       "    <tr>\n",
       "      <th>0</th>\n",
       "      <td>ARG</td>\n",
       "      <td>1999</td>\n",
       "      <td>3.28</td>\n",
       "    </tr>\n",
       "    <tr>\n",
       "      <th>1</th>\n",
       "      <td>ARG</td>\n",
       "      <td>2000</td>\n",
       "      <td>7.04</td>\n",
       "    </tr>\n",
       "  </tbody>\n",
       "</table>\n",
       "</div>"
      ],
      "text/plain": [
       "  iso_o  level_1     0\n",
       "0   ARG     1999  3.28\n",
       "1   ARG     2000  7.04"
      ]
     },
     "execution_count": 152,
     "metadata": {},
     "output_type": "execute_result"
    }
   ],
   "source": [
    "internet_long.head(2)"
   ]
  },
  {
   "cell_type": "code",
   "execution_count": 153,
   "id": "9ad8d8c7-f7b6-4a2c-88ea-43e10e8fd32c",
   "metadata": {},
   "outputs": [],
   "source": [
    "internet_long = internet_long.rename(columns= {'level_1': 'TIME_PERIOD'})\n",
    "internet_long = internet_long.rename(columns= {0: 'internet'})"
   ]
  },
  {
   "cell_type": "code",
   "execution_count": 154,
   "id": "bfb923fb-57c4-480b-9d1b-b3c81a3edc64",
   "metadata": {},
   "outputs": [],
   "source": [
    "assert internet_long['iso_o'].nunique() == internet['iso_o'].nunique()"
   ]
  },
  {
   "cell_type": "markdown",
   "id": "e9e4a46a-ced4-4d6f-9c12-62d2a1851922",
   "metadata": {},
   "source": [
    "### GDP per capita"
   ]
  },
  {
   "cell_type": "code",
   "execution_count": 155,
   "id": "41688138-bbaf-4954-a22e-7deb3141c2a0",
   "metadata": {},
   "outputs": [],
   "source": [
    "gdp_pct = pd.read_csv('../data/raw/ad57150c-c77e-4bee-bb87-4174bb32e6a0_Data.csv')"
   ]
  },
  {
   "cell_type": "code",
   "execution_count": 156,
   "id": "2ce4efaa-e9e3-4f6c-8a83-2c23f6a60ec2",
   "metadata": {},
   "outputs": [],
   "source": [
    "gdp_pct = gdp_pct.iloc[:265, :]\n",
    "gdp_pct = gdp_pct.rename(columns = {'Country Code': 'iso_o'})\n",
    "gdp_pct = gdp_pct.rename(columns = {'1999 [YR1999]': 1999})\n",
    "gdp_pct = gdp_pct.rename(columns = {'2000 [YR2000]': 2000})\n",
    "gdp_pct = gdp_pct.rename(columns = {'2001 [YR2001]': 2001})\n",
    "gdp_pct = gdp_pct.rename(columns = {'2002 [YR2002]': 2002})\n",
    "gdp_pct = gdp_pct.rename(columns = {'2003 [YR2003]': 2003})\n",
    "gdp_pct = gdp_pct.rename(columns = {'2004 [YR2004]': 2004})\n",
    "gdp_pct = gdp_pct.rename(columns = {'2005 [YR2005]': 2005})\n",
    "gdp_pct = gdp_pct.rename(columns = {'2006 [YR2006]': 2006})\n",
    "gdp_pct = gdp_pct.rename(columns = {'2007 [YR2007]': 2007})\n",
    "gdp_pct = gdp_pct.rename(columns = {'2008 [YR2008]': 2008})\n",
    "gdp_pct = gdp_pct.rename(columns = {'2009 [YR2009]': 2009})\n",
    "gdp_pct = gdp_pct.rename(columns = {'2010 [YR2010]': 2010})\n",
    "gdp_pct = gdp_pct.rename(columns = {'2011 [YR2011]': 2011})\n",
    "gdp_pct = gdp_pct.rename(columns = {'2012 [YR2012]': 2012})\n",
    "gdp_pct = gdp_pct.rename(columns = {'2013 [YR2013]': 2013})\n",
    "gdp_pct = gdp_pct.rename(columns = {'2014 [YR2014]': 2014})\n",
    "gdp_pct = gdp_pct.rename(columns = {'2015 [YR2015]': 2015})\n",
    "gdp_pct = gdp_pct.rename(columns = {'2016 [YR2016]': 2016})\n",
    "gdp_pct = gdp_pct.rename(columns = {'2017 [YR2017]': 2017})\n",
    "gdp_pct = gdp_pct.rename(columns = {'2018 [YR2018]': 2018})\n",
    "gdp_pct = gdp_pct.rename(columns = {'2019 [YR2019]': 2019})\n",
    "gdp_pct = gdp_pct.rename(columns = {'2020 [YR2020]': 2020})\n",
    "gdp_pct = gdp_pct.drop(columns= ['Country Name', 'Series Name', 'Series Code'])"
   ]
  },
  {
   "cell_type": "code",
   "execution_count": 157,
   "id": "0ea03db4-117c-4510-8966-41ef922771c0",
   "metadata": {},
   "outputs": [],
   "source": [
    "gdp_pct = gdp_pct[gdp_pct['iso_o'].isin(countries)]\n",
    "gdp_pct = gdp_pct.reset_index(drop = True)"
   ]
  },
  {
   "cell_type": "code",
   "execution_count": 158,
   "id": "bc3104de-6845-40aa-a553-89d2e83c0dee",
   "metadata": {},
   "outputs": [],
   "source": [
    "gdp_pct[year] = gdp_pct[year].replace('..', np.nan)\n",
    "gdp_pct[year] = gdp_pct[year].apply(lambda x: pd.to_numeric(x, errors='coerce')).round(2)"
   ]
  },
  {
   "cell_type": "code",
   "execution_count": 159,
   "id": "31415eba-3499-4873-a6ff-5d36f2d13771",
   "metadata": {},
   "outputs": [
    {
     "data": {
      "text/plain": [
       "iso_o    0\n",
       "1999     0\n",
       "2000     0\n",
       "2001     0\n",
       "2002     0\n",
       "2003     0\n",
       "2004     0\n",
       "2005     0\n",
       "2006     0\n",
       "2007     0\n",
       "2008     0\n",
       "2009     0\n",
       "2010     0\n",
       "2011     0\n",
       "2012     0\n",
       "2013     0\n",
       "2014     0\n",
       "2015     0\n",
       "2016     0\n",
       "2017     0\n",
       "2018     0\n",
       "2019     0\n",
       "2020     0\n",
       "dtype: int64"
      ]
     },
     "execution_count": 159,
     "metadata": {},
     "output_type": "execute_result"
    }
   ],
   "source": [
    "missing1 = gdp_pct.isna().sum()\n",
    "missing1"
   ]
  },
  {
   "cell_type": "code",
   "execution_count": 160,
   "id": "5d9648bd-4380-44b6-b3db-8ea6bb217047",
   "metadata": {},
   "outputs": [
    {
     "data": {
      "text/plain": [
       "75"
      ]
     },
     "execution_count": 160,
     "metadata": {},
     "output_type": "execute_result"
    }
   ],
   "source": [
    "gdp_pct['iso_o'].nunique()"
   ]
  },
  {
   "cell_type": "code",
   "execution_count": 161,
   "id": "1c4fd25d-712d-4624-8e0d-4b965a86b620",
   "metadata": {},
   "outputs": [
    {
     "data": {
      "text/html": [
       "<div>\n",
       "<style scoped>\n",
       "    .dataframe tbody tr th:only-of-type {\n",
       "        vertical-align: middle;\n",
       "    }\n",
       "\n",
       "    .dataframe tbody tr th {\n",
       "        vertical-align: top;\n",
       "    }\n",
       "\n",
       "    .dataframe thead th {\n",
       "        text-align: right;\n",
       "    }\n",
       "</style>\n",
       "<table border=\"1\" class=\"dataframe\">\n",
       "  <thead>\n",
       "    <tr style=\"text-align: right;\">\n",
       "      <th></th>\n",
       "      <th>iso_o</th>\n",
       "      <th>1999</th>\n",
       "      <th>2000</th>\n",
       "      <th>2001</th>\n",
       "      <th>2002</th>\n",
       "      <th>2003</th>\n",
       "      <th>2004</th>\n",
       "      <th>2005</th>\n",
       "      <th>2006</th>\n",
       "      <th>2007</th>\n",
       "      <th>...</th>\n",
       "      <th>2011</th>\n",
       "      <th>2012</th>\n",
       "      <th>2013</th>\n",
       "      <th>2014</th>\n",
       "      <th>2015</th>\n",
       "      <th>2016</th>\n",
       "      <th>2017</th>\n",
       "      <th>2018</th>\n",
       "      <th>2019</th>\n",
       "      <th>2020</th>\n",
       "    </tr>\n",
       "  </thead>\n",
       "  <tbody>\n",
       "    <tr>\n",
       "      <th>0</th>\n",
       "      <td>ARG</td>\n",
       "      <td>10838.32</td>\n",
       "      <td>10631.65</td>\n",
       "      <td>10051.94</td>\n",
       "      <td>8861.56</td>\n",
       "      <td>9545.53</td>\n",
       "      <td>10302.45</td>\n",
       "      <td>11099.75</td>\n",
       "      <td>11870.28</td>\n",
       "      <td>12811.90</td>\n",
       "      <td>...</td>\n",
       "      <td>14040.62</td>\n",
       "      <td>13754.43</td>\n",
       "      <td>13946.10</td>\n",
       "      <td>13456.13</td>\n",
       "      <td>13679.63</td>\n",
       "      <td>13265.89</td>\n",
       "      <td>13520.11</td>\n",
       "      <td>13058.33</td>\n",
       "      <td>12706.40</td>\n",
       "      <td>11393.05</td>\n",
       "    </tr>\n",
       "    <tr>\n",
       "      <th>1</th>\n",
       "      <td>AUS</td>\n",
       "      <td>44636.94</td>\n",
       "      <td>45859.52</td>\n",
       "      <td>46191.31</td>\n",
       "      <td>47486.28</td>\n",
       "      <td>48394.13</td>\n",
       "      <td>49902.02</td>\n",
       "      <td>50853.20</td>\n",
       "      <td>51553.97</td>\n",
       "      <td>52531.76</td>\n",
       "      <td>...</td>\n",
       "      <td>54111.36</td>\n",
       "      <td>55257.57</td>\n",
       "      <td>55728.02</td>\n",
       "      <td>56327.85</td>\n",
       "      <td>56739.03</td>\n",
       "      <td>57401.07</td>\n",
       "      <td>57750.65</td>\n",
       "      <td>58530.78</td>\n",
       "      <td>58924.73</td>\n",
       "      <td>58132.80</td>\n",
       "    </tr>\n",
       "    <tr>\n",
       "      <th>2</th>\n",
       "      <td>AUT</td>\n",
       "      <td>37468.87</td>\n",
       "      <td>38571.09</td>\n",
       "      <td>38929.75</td>\n",
       "      <td>39313.72</td>\n",
       "      <td>39569.29</td>\n",
       "      <td>40333.33</td>\n",
       "      <td>40989.01</td>\n",
       "      <td>42120.16</td>\n",
       "      <td>43568.83</td>\n",
       "      <td>...</td>\n",
       "      <td>44146.20</td>\n",
       "      <td>44221.46</td>\n",
       "      <td>43851.37</td>\n",
       "      <td>43838.83</td>\n",
       "      <td>43915.23</td>\n",
       "      <td>44362.67</td>\n",
       "      <td>45056.64</td>\n",
       "      <td>45951.58</td>\n",
       "      <td>46550.56</td>\n",
       "      <td>43428.70</td>\n",
       "    </tr>\n",
       "  </tbody>\n",
       "</table>\n",
       "<p>3 rows × 23 columns</p>\n",
       "</div>"
      ],
      "text/plain": [
       "  iso_o      1999      2000      2001      2002      2003      2004      2005  \\\n",
       "0   ARG  10838.32  10631.65  10051.94   8861.56   9545.53  10302.45  11099.75   \n",
       "1   AUS  44636.94  45859.52  46191.31  47486.28  48394.13  49902.02  50853.20   \n",
       "2   AUT  37468.87  38571.09  38929.75  39313.72  39569.29  40333.33  40989.01   \n",
       "\n",
       "       2006      2007  ...      2011      2012      2013      2014      2015  \\\n",
       "0  11870.28  12811.90  ...  14040.62  13754.43  13946.10  13456.13  13679.63   \n",
       "1  51553.97  52531.76  ...  54111.36  55257.57  55728.02  56327.85  56739.03   \n",
       "2  42120.16  43568.83  ...  44146.20  44221.46  43851.37  43838.83  43915.23   \n",
       "\n",
       "       2016      2017      2018      2019      2020  \n",
       "0  13265.89  13520.11  13058.33  12706.40  11393.05  \n",
       "1  57401.07  57750.65  58530.78  58924.73  58132.80  \n",
       "2  44362.67  45056.64  45951.58  46550.56  43428.70  \n",
       "\n",
       "[3 rows x 23 columns]"
      ]
     },
     "execution_count": 161,
     "metadata": {},
     "output_type": "execute_result"
    }
   ],
   "source": [
    "gdp_pct.head(3)"
   ]
  },
  {
   "cell_type": "code",
   "execution_count": 162,
   "id": "927dbf7e-ec34-41f9-aeb8-278fbfb690e6",
   "metadata": {},
   "outputs": [],
   "source": [
    "gdp_pct_long = gdp_pct.set_index('iso_o').stack().reset_index()"
   ]
  },
  {
   "cell_type": "code",
   "execution_count": 163,
   "id": "6f5635c0-bb40-4354-8278-bbfca65ab456",
   "metadata": {},
   "outputs": [
    {
     "data": {
      "text/html": [
       "<div>\n",
       "<style scoped>\n",
       "    .dataframe tbody tr th:only-of-type {\n",
       "        vertical-align: middle;\n",
       "    }\n",
       "\n",
       "    .dataframe tbody tr th {\n",
       "        vertical-align: top;\n",
       "    }\n",
       "\n",
       "    .dataframe thead th {\n",
       "        text-align: right;\n",
       "    }\n",
       "</style>\n",
       "<table border=\"1\" class=\"dataframe\">\n",
       "  <thead>\n",
       "    <tr style=\"text-align: right;\">\n",
       "      <th></th>\n",
       "      <th>iso_o</th>\n",
       "      <th>level_1</th>\n",
       "      <th>0</th>\n",
       "    </tr>\n",
       "  </thead>\n",
       "  <tbody>\n",
       "    <tr>\n",
       "      <th>0</th>\n",
       "      <td>ARG</td>\n",
       "      <td>1999</td>\n",
       "      <td>10838.32</td>\n",
       "    </tr>\n",
       "    <tr>\n",
       "      <th>1</th>\n",
       "      <td>ARG</td>\n",
       "      <td>2000</td>\n",
       "      <td>10631.65</td>\n",
       "    </tr>\n",
       "    <tr>\n",
       "      <th>2</th>\n",
       "      <td>ARG</td>\n",
       "      <td>2001</td>\n",
       "      <td>10051.94</td>\n",
       "    </tr>\n",
       "  </tbody>\n",
       "</table>\n",
       "</div>"
      ],
      "text/plain": [
       "  iso_o  level_1         0\n",
       "0   ARG     1999  10838.32\n",
       "1   ARG     2000  10631.65\n",
       "2   ARG     2001  10051.94"
      ]
     },
     "execution_count": 163,
     "metadata": {},
     "output_type": "execute_result"
    }
   ],
   "source": [
    "gdp_pct_long.head(3)"
   ]
  },
  {
   "cell_type": "code",
   "execution_count": 164,
   "id": "e05bc10f-5714-4076-855c-da2230f8757f",
   "metadata": {},
   "outputs": [],
   "source": [
    "gdp_pct_long = gdp_pct_long.rename(columns= {'level_1': 'TIME_PERIOD'})\n",
    "gdp_pct_long = gdp_pct_long.rename(columns= {0: 'gdp_pct'})"
   ]
  },
  {
   "cell_type": "code",
   "execution_count": 165,
   "id": "bf434b07-4532-4679-b5ca-fbbd5697520d",
   "metadata": {},
   "outputs": [],
   "source": [
    "assert gdp_pct_long['iso_o'].nunique() == gdp_pct_long['iso_o'].nunique()"
   ]
  },
  {
   "cell_type": "code",
   "execution_count": 166,
   "id": "064cb175-a037-4d42-8570-2433da757822",
   "metadata": {},
   "outputs": [],
   "source": [
    "assert gdp_pct_long['iso_o'].nunique() == gdp_pct_long['iso_o'].nunique() == internet['iso_o'].nunique() == internet_long['iso_o'].nunique()"
   ]
  },
  {
   "cell_type": "markdown",
   "id": "a8c5fdfa-8e48-4104-99ed-e8f20fbfd35a",
   "metadata": {},
   "source": [
    "### Mean Year of Schooling "
   ]
  },
  {
   "cell_type": "code",
   "execution_count": 167,
   "id": "04f807ae-c916-49c8-bed4-21f82c000494",
   "metadata": {},
   "outputs": [],
   "source": [
    "schooling = pd.read_excel(\"../data/raw/hdr-data.xlsx\")"
   ]
  },
  {
   "cell_type": "code",
   "execution_count": 168,
   "id": "24d8d6de-2b78-4b32-9228-2a7c17e9cf3a",
   "metadata": {},
   "outputs": [
    {
     "data": {
      "text/html": [
       "<div>\n",
       "<style scoped>\n",
       "    .dataframe tbody tr th:only-of-type {\n",
       "        vertical-align: middle;\n",
       "    }\n",
       "\n",
       "    .dataframe tbody tr th {\n",
       "        vertical-align: top;\n",
       "    }\n",
       "\n",
       "    .dataframe thead th {\n",
       "        text-align: right;\n",
       "    }\n",
       "</style>\n",
       "<table border=\"1\" class=\"dataframe\">\n",
       "  <thead>\n",
       "    <tr style=\"text-align: right;\">\n",
       "      <th></th>\n",
       "      <th>countryIsoCode</th>\n",
       "      <th>country</th>\n",
       "      <th>indexCode</th>\n",
       "      <th>index</th>\n",
       "      <th>dimension</th>\n",
       "      <th>indicatorCode</th>\n",
       "      <th>indicator</th>\n",
       "      <th>year</th>\n",
       "      <th>value</th>\n",
       "      <th>note</th>\n",
       "    </tr>\n",
       "  </thead>\n",
       "  <tbody>\n",
       "    <tr>\n",
       "      <th>4179</th>\n",
       "      <td>ZWE</td>\n",
       "      <td>Zimbabwe</td>\n",
       "      <td>HDI</td>\n",
       "      <td>Human Development Index</td>\n",
       "      <td>NaN</td>\n",
       "      <td>eys</td>\n",
       "      <td>Expected Years of Schooling (years)</td>\n",
       "      <td>2016</td>\n",
       "      <td>10.899038</td>\n",
       "      <td>NaN</td>\n",
       "    </tr>\n",
       "    <tr>\n",
       "      <th>4180</th>\n",
       "      <td>ZWE</td>\n",
       "      <td>Zimbabwe</td>\n",
       "      <td>HDI</td>\n",
       "      <td>Human Development Index</td>\n",
       "      <td>NaN</td>\n",
       "      <td>eys</td>\n",
       "      <td>Expected Years of Schooling (years)</td>\n",
       "      <td>2017</td>\n",
       "      <td>10.930538</td>\n",
       "      <td>NaN</td>\n",
       "    </tr>\n",
       "    <tr>\n",
       "      <th>4181</th>\n",
       "      <td>ZWE</td>\n",
       "      <td>Zimbabwe</td>\n",
       "      <td>HDI</td>\n",
       "      <td>Human Development Index</td>\n",
       "      <td>NaN</td>\n",
       "      <td>eys</td>\n",
       "      <td>Expected Years of Schooling (years)</td>\n",
       "      <td>2018</td>\n",
       "      <td>10.962130</td>\n",
       "      <td>NaN</td>\n",
       "    </tr>\n",
       "    <tr>\n",
       "      <th>4182</th>\n",
       "      <td>ZWE</td>\n",
       "      <td>Zimbabwe</td>\n",
       "      <td>HDI</td>\n",
       "      <td>Human Development Index</td>\n",
       "      <td>NaN</td>\n",
       "      <td>eys</td>\n",
       "      <td>Expected Years of Schooling (years)</td>\n",
       "      <td>2019</td>\n",
       "      <td>10.993813</td>\n",
       "      <td>NaN</td>\n",
       "    </tr>\n",
       "    <tr>\n",
       "      <th>4183</th>\n",
       "      <td>ZWE</td>\n",
       "      <td>Zimbabwe</td>\n",
       "      <td>HDI</td>\n",
       "      <td>Human Development Index</td>\n",
       "      <td>NaN</td>\n",
       "      <td>eys</td>\n",
       "      <td>Expected Years of Schooling (years)</td>\n",
       "      <td>2020</td>\n",
       "      <td>11.025587</td>\n",
       "      <td>NaN</td>\n",
       "    </tr>\n",
       "  </tbody>\n",
       "</table>\n",
       "</div>"
      ],
      "text/plain": [
       "     countryIsoCode   country indexCode                    index  dimension  \\\n",
       "4179            ZWE  Zimbabwe       HDI  Human Development Index        NaN   \n",
       "4180            ZWE  Zimbabwe       HDI  Human Development Index        NaN   \n",
       "4181            ZWE  Zimbabwe       HDI  Human Development Index        NaN   \n",
       "4182            ZWE  Zimbabwe       HDI  Human Development Index        NaN   \n",
       "4183            ZWE  Zimbabwe       HDI  Human Development Index        NaN   \n",
       "\n",
       "     indicatorCode                            indicator  year      value  note  \n",
       "4179           eys  Expected Years of Schooling (years)  2016  10.899038   NaN  \n",
       "4180           eys  Expected Years of Schooling (years)  2017  10.930538   NaN  \n",
       "4181           eys  Expected Years of Schooling (years)  2018  10.962130   NaN  \n",
       "4182           eys  Expected Years of Schooling (years)  2019  10.993813   NaN  \n",
       "4183           eys  Expected Years of Schooling (years)  2020  11.025587   NaN  "
      ]
     },
     "execution_count": 168,
     "metadata": {},
     "output_type": "execute_result"
    }
   ],
   "source": [
    "schooling.tail()"
   ]
  },
  {
   "cell_type": "code",
   "execution_count": 169,
   "id": "30a39a00-1b9d-4165-8a8b-236bf78a4722",
   "metadata": {},
   "outputs": [],
   "source": [
    "schooling = schooling[['countryIsoCode', 'year', 'value']]"
   ]
  },
  {
   "cell_type": "code",
   "execution_count": 170,
   "id": "ceada9f8-048a-4ff0-a452-d493daf5d475",
   "metadata": {},
   "outputs": [],
   "source": [
    "schooling = schooling.rename(columns = {'countryIsoCode': 'iso_o'})"
   ]
  },
  {
   "cell_type": "code",
   "execution_count": 171,
   "id": "b0bb6d70-d2b8-4768-bfa2-5e33565d6774",
   "metadata": {},
   "outputs": [],
   "source": [
    "schooling = schooling.rename(columns = {'year': 'TIME_PERIOD'})"
   ]
  },
  {
   "cell_type": "code",
   "execution_count": 172,
   "id": "04e39ad2-de6b-4e65-bc41-83cc7a005967",
   "metadata": {},
   "outputs": [
    {
     "data": {
      "text/plain": [
       "iso_o           object\n",
       "TIME_PERIOD      int64\n",
       "value          float64\n",
       "dtype: object"
      ]
     },
     "execution_count": 172,
     "metadata": {},
     "output_type": "execute_result"
    }
   ],
   "source": [
    "schooling.dtypes"
   ]
  },
  {
   "cell_type": "code",
   "execution_count": 173,
   "id": "9d7d7e14-9115-4fff-8979-3629f2078863",
   "metadata": {},
   "outputs": [
    {
     "data": {
      "text/html": [
       "<div>\n",
       "<style scoped>\n",
       "    .dataframe tbody tr th:only-of-type {\n",
       "        vertical-align: middle;\n",
       "    }\n",
       "\n",
       "    .dataframe tbody tr th {\n",
       "        vertical-align: top;\n",
       "    }\n",
       "\n",
       "    .dataframe thead th {\n",
       "        text-align: right;\n",
       "    }\n",
       "</style>\n",
       "<table border=\"1\" class=\"dataframe\">\n",
       "  <thead>\n",
       "    <tr style=\"text-align: right;\">\n",
       "      <th></th>\n",
       "      <th>iso_o</th>\n",
       "      <th>TIME_PERIOD</th>\n",
       "      <th>value</th>\n",
       "    </tr>\n",
       "  </thead>\n",
       "  <tbody>\n",
       "    <tr>\n",
       "      <th>0</th>\n",
       "      <td>AFG</td>\n",
       "      <td>1999</td>\n",
       "      <td>5.564425</td>\n",
       "    </tr>\n",
       "    <tr>\n",
       "      <th>1</th>\n",
       "      <td>AFG</td>\n",
       "      <td>2000</td>\n",
       "      <td>5.856422</td>\n",
       "    </tr>\n",
       "    <tr>\n",
       "      <th>2</th>\n",
       "      <td>AFG</td>\n",
       "      <td>2001</td>\n",
       "      <td>6.148418</td>\n",
       "    </tr>\n",
       "    <tr>\n",
       "      <th>3</th>\n",
       "      <td>AFG</td>\n",
       "      <td>2002</td>\n",
       "      <td>6.440414</td>\n",
       "    </tr>\n",
       "    <tr>\n",
       "      <th>4</th>\n",
       "      <td>AFG</td>\n",
       "      <td>2003</td>\n",
       "      <td>6.732410</td>\n",
       "    </tr>\n",
       "    <tr>\n",
       "      <th>...</th>\n",
       "      <td>...</td>\n",
       "      <td>...</td>\n",
       "      <td>...</td>\n",
       "    </tr>\n",
       "    <tr>\n",
       "      <th>4179</th>\n",
       "      <td>ZWE</td>\n",
       "      <td>2016</td>\n",
       "      <td>10.899038</td>\n",
       "    </tr>\n",
       "    <tr>\n",
       "      <th>4180</th>\n",
       "      <td>ZWE</td>\n",
       "      <td>2017</td>\n",
       "      <td>10.930538</td>\n",
       "    </tr>\n",
       "    <tr>\n",
       "      <th>4181</th>\n",
       "      <td>ZWE</td>\n",
       "      <td>2018</td>\n",
       "      <td>10.962130</td>\n",
       "    </tr>\n",
       "    <tr>\n",
       "      <th>4182</th>\n",
       "      <td>ZWE</td>\n",
       "      <td>2019</td>\n",
       "      <td>10.993813</td>\n",
       "    </tr>\n",
       "    <tr>\n",
       "      <th>4183</th>\n",
       "      <td>ZWE</td>\n",
       "      <td>2020</td>\n",
       "      <td>11.025587</td>\n",
       "    </tr>\n",
       "  </tbody>\n",
       "</table>\n",
       "<p>4184 rows × 3 columns</p>\n",
       "</div>"
      ],
      "text/plain": [
       "     iso_o  TIME_PERIOD      value\n",
       "0      AFG         1999   5.564425\n",
       "1      AFG         2000   5.856422\n",
       "2      AFG         2001   6.148418\n",
       "3      AFG         2002   6.440414\n",
       "4      AFG         2003   6.732410\n",
       "...    ...          ...        ...\n",
       "4179   ZWE         2016  10.899038\n",
       "4180   ZWE         2017  10.930538\n",
       "4181   ZWE         2018  10.962130\n",
       "4182   ZWE         2019  10.993813\n",
       "4183   ZWE         2020  11.025587\n",
       "\n",
       "[4184 rows x 3 columns]"
      ]
     },
     "execution_count": 173,
     "metadata": {},
     "output_type": "execute_result"
    }
   ],
   "source": [
    "schooling"
   ]
  },
  {
   "cell_type": "code",
   "execution_count": 174,
   "id": "f6504343-415e-43f4-8583-4ef6095907b8",
   "metadata": {},
   "outputs": [
    {
     "data": {
      "text/plain": [
       "iso_o          0\n",
       "TIME_PERIOD    0\n",
       "value          0\n",
       "dtype: int64"
      ]
     },
     "execution_count": 174,
     "metadata": {},
     "output_type": "execute_result"
    }
   ],
   "source": [
    "missing2 = schooling.isna().sum()\n",
    "missing2"
   ]
  },
  {
   "cell_type": "code",
   "execution_count": 176,
   "id": "6106d28f-69d4-4d91-b1aa-5cd18a0c8f24",
   "metadata": {},
   "outputs": [],
   "source": [
    "#mean_schooling_1999 = schooling[schooling['TIME_PERIOD'] == 1999].mean()\n",
    "#schooling['value'] = schooling['value'].fillna(mean_schooling_1999)"
   ]
  },
  {
   "cell_type": "code",
   "execution_count": 177,
   "id": "ef03f08f-0e85-43bc-99e0-f4f0d518388c",
   "metadata": {},
   "outputs": [
    {
     "data": {
      "text/plain": [
       "194"
      ]
     },
     "execution_count": 177,
     "metadata": {},
     "output_type": "execute_result"
    }
   ],
   "source": [
    "schooling['iso_o'].nunique()"
   ]
  },
  {
   "cell_type": "code",
   "execution_count": 178,
   "id": "b7186b1b-c2d3-4220-800b-6cdf67a1771e",
   "metadata": {},
   "outputs": [
    {
     "name": "stdout",
     "output_type": "stream",
     "text": [
      "{'WXD', 'TWN'}\n"
     ]
    }
   ],
   "source": [
    "miss = countries - set(schooling['iso_o'])\n",
    "print(miss)"
   ]
  },
  {
   "cell_type": "code",
   "execution_count": 179,
   "id": "4e44ca18-0902-4eb5-a8e5-5433957f1d53",
   "metadata": {},
   "outputs": [],
   "source": [
    "schooling = schooling[schooling['iso_o'].isin(countries)].reset_index(drop= True)"
   ]
  },
  {
   "cell_type": "code",
   "execution_count": 180,
   "id": "c48977ee-90e4-44b4-8035-c1e2a159490c",
   "metadata": {},
   "outputs": [
    {
     "data": {
      "text/plain": [
       "(1650, 3)"
      ]
     },
     "execution_count": 180,
     "metadata": {},
     "output_type": "execute_result"
    }
   ],
   "source": [
    "schooling.shape"
   ]
  },
  {
   "cell_type": "code",
   "execution_count": 181,
   "id": "0f9a81d9-4e88-47bb-a11a-32111bb24929",
   "metadata": {},
   "outputs": [
    {
     "data": {
      "text/plain": [
       "75"
      ]
     },
     "execution_count": 181,
     "metadata": {},
     "output_type": "execute_result"
    }
   ],
   "source": [
    "schooling['iso_o'].nunique()"
   ]
  },
  {
   "cell_type": "code",
   "execution_count": 182,
   "id": "0f582c2b-b816-4c81-8666-4ba482606ffe",
   "metadata": {},
   "outputs": [
    {
     "data": {
      "text/plain": [
       "array([1999, 2000, 2001, 2002, 2003, 2004, 2005, 2006, 2007, 2008, 2009,\n",
       "       2010, 2011, 2012, 2013, 2014, 2015, 2016, 2017, 2018, 2019, 2020],\n",
       "      dtype=int64)"
      ]
     },
     "execution_count": 182,
     "metadata": {},
     "output_type": "execute_result"
    }
   ],
   "source": [
    "schooling['TIME_PERIOD'].unique()"
   ]
  },
  {
   "cell_type": "code",
   "execution_count": 183,
   "id": "a81bd792-b58b-48f8-aac9-8f918089affd",
   "metadata": {},
   "outputs": [
    {
     "data": {
      "text/html": [
       "<div>\n",
       "<style scoped>\n",
       "    .dataframe tbody tr th:only-of-type {\n",
       "        vertical-align: middle;\n",
       "    }\n",
       "\n",
       "    .dataframe tbody tr th {\n",
       "        vertical-align: top;\n",
       "    }\n",
       "\n",
       "    .dataframe thead th {\n",
       "        text-align: right;\n",
       "    }\n",
       "</style>\n",
       "<table border=\"1\" class=\"dataframe\">\n",
       "  <thead>\n",
       "    <tr style=\"text-align: right;\">\n",
       "      <th></th>\n",
       "      <th>iso_o</th>\n",
       "      <th>TIME_PERIOD</th>\n",
       "      <th>value</th>\n",
       "    </tr>\n",
       "  </thead>\n",
       "  <tbody>\n",
       "    <tr>\n",
       "      <th>0</th>\n",
       "      <td>ARG</td>\n",
       "      <td>1999</td>\n",
       "      <td>15.17326</td>\n",
       "    </tr>\n",
       "    <tr>\n",
       "      <th>1</th>\n",
       "      <td>ARG</td>\n",
       "      <td>2000</td>\n",
       "      <td>15.68757</td>\n",
       "    </tr>\n",
       "    <tr>\n",
       "      <th>2</th>\n",
       "      <td>ARG</td>\n",
       "      <td>2001</td>\n",
       "      <td>16.30578</td>\n",
       "    </tr>\n",
       "  </tbody>\n",
       "</table>\n",
       "</div>"
      ],
      "text/plain": [
       "  iso_o  TIME_PERIOD     value\n",
       "0   ARG         1999  15.17326\n",
       "1   ARG         2000  15.68757\n",
       "2   ARG         2001  16.30578"
      ]
     },
     "execution_count": 183,
     "metadata": {},
     "output_type": "execute_result"
    }
   ],
   "source": [
    "schooling.head(3)"
   ]
  },
  {
   "cell_type": "code",
   "execution_count": 184,
   "id": "7daf8bed-6914-45d2-9112-1a11c65caec6",
   "metadata": {},
   "outputs": [],
   "source": [
    "#print(type(next(iter(countries))))\n",
    "#print(schooling['iso_o'].apply(repr).head())"
   ]
  },
  {
   "cell_type": "code",
   "execution_count": 185,
   "id": "aadb64bc-8e63-4434-8c3b-4fba067bc12a",
   "metadata": {},
   "outputs": [],
   "source": [
    "schooling = schooling.rename(columns = {'value': 'schooling'})"
   ]
  },
  {
   "cell_type": "code",
   "execution_count": 186,
   "id": "2c797cd0-c9f1-4f33-b53d-f737a8e76e9e",
   "metadata": {},
   "outputs": [],
   "source": [
    "assert internet['iso_o'].nunique() == gdp_pct['iso_o'].nunique() == schooling['iso_o'].nunique()"
   ]
  },
  {
   "cell_type": "code",
   "execution_count": 187,
   "id": "0a4ba9b9-8013-4969-92d6-61682cce2a7a",
   "metadata": {},
   "outputs": [],
   "source": [
    "assert set(internet['iso_o'].unique()) == set(gdp_pct['iso_o'].unique()) == set(schooling['iso_o'].unique())"
   ]
  },
  {
   "cell_type": "markdown",
   "id": "b2c960d2-3ed4-4045-85de-60dce9bda1c3",
   "metadata": {},
   "source": [
    "#### Merging internet penetration, GDP per capita and Mean year of schooling"
   ]
  },
  {
   "cell_type": "code",
   "execution_count": 188,
   "id": "e7003f9e-9495-4355-a77b-549c2321b250",
   "metadata": {},
   "outputs": [],
   "source": [
    "merged = internet_long.merge(gdp_pct_long, on = ['iso_o','TIME_PERIOD'], how = 'left').merge(schooling, on = ['iso_o','TIME_PERIOD'], how = 'left')"
   ]
  },
  {
   "cell_type": "code",
   "execution_count": 189,
   "id": "1feec7e2-b2a2-4c78-9f08-0609b12f08ae",
   "metadata": {},
   "outputs": [
    {
     "data": {
      "text/html": [
       "<div>\n",
       "<style scoped>\n",
       "    .dataframe tbody tr th:only-of-type {\n",
       "        vertical-align: middle;\n",
       "    }\n",
       "\n",
       "    .dataframe tbody tr th {\n",
       "        vertical-align: top;\n",
       "    }\n",
       "\n",
       "    .dataframe thead th {\n",
       "        text-align: right;\n",
       "    }\n",
       "</style>\n",
       "<table border=\"1\" class=\"dataframe\">\n",
       "  <thead>\n",
       "    <tr style=\"text-align: right;\">\n",
       "      <th></th>\n",
       "      <th>iso_o</th>\n",
       "      <th>TIME_PERIOD</th>\n",
       "      <th>internet</th>\n",
       "      <th>gdp_pct</th>\n",
       "      <th>schooling</th>\n",
       "    </tr>\n",
       "  </thead>\n",
       "  <tbody>\n",
       "    <tr>\n",
       "      <th>0</th>\n",
       "      <td>ARG</td>\n",
       "      <td>1999</td>\n",
       "      <td>3.28</td>\n",
       "      <td>10838.32</td>\n",
       "      <td>15.173260</td>\n",
       "    </tr>\n",
       "    <tr>\n",
       "      <th>1</th>\n",
       "      <td>ARG</td>\n",
       "      <td>2000</td>\n",
       "      <td>7.04</td>\n",
       "      <td>10631.65</td>\n",
       "      <td>15.687570</td>\n",
       "    </tr>\n",
       "    <tr>\n",
       "      <th>2</th>\n",
       "      <td>ARG</td>\n",
       "      <td>2001</td>\n",
       "      <td>9.78</td>\n",
       "      <td>10051.94</td>\n",
       "      <td>16.305780</td>\n",
       "    </tr>\n",
       "    <tr>\n",
       "      <th>3</th>\n",
       "      <td>ARG</td>\n",
       "      <td>2002</td>\n",
       "      <td>10.90</td>\n",
       "      <td>8861.56</td>\n",
       "      <td>16.392509</td>\n",
       "    </tr>\n",
       "    <tr>\n",
       "      <th>4</th>\n",
       "      <td>ARG</td>\n",
       "      <td>2003</td>\n",
       "      <td>11.90</td>\n",
       "      <td>9545.53</td>\n",
       "      <td>16.266390</td>\n",
       "    </tr>\n",
       "  </tbody>\n",
       "</table>\n",
       "</div>"
      ],
      "text/plain": [
       "  iso_o  TIME_PERIOD  internet   gdp_pct  schooling\n",
       "0   ARG         1999      3.28  10838.32  15.173260\n",
       "1   ARG         2000      7.04  10631.65  15.687570\n",
       "2   ARG         2001      9.78  10051.94  16.305780\n",
       "3   ARG         2002     10.90   8861.56  16.392509\n",
       "4   ARG         2003     11.90   9545.53  16.266390"
      ]
     },
     "execution_count": 189,
     "metadata": {},
     "output_type": "execute_result"
    }
   ],
   "source": [
    "merged.head()"
   ]
  },
  {
   "cell_type": "markdown",
   "id": "ebebf636-764c-482b-8862-2a35768d9e59",
   "metadata": {},
   "source": [
    "### Pruning data to solve country list mismatch"
   ]
  },
  {
   "cell_type": "markdown",
   "id": "52ed922d-d2c0-4a3b-93c7-9e53b46a3c7c",
   "metadata": {},
   "source": [
    "OECD datasets have 77 countries.\n",
    "RTA dataset has 76, while all geo-cepii, dist-cepii extracted datasets have 75 countries each, WDI and UNDP datasets have 75 countries as well. Hence, I will retain the 75 countries ubiquitous over all datasets."
   ]
  },
  {
   "cell_type": "code",
   "execution_count": 190,
   "id": "ca32ed7a-a26e-4ec5-9fe7-87b79f0a0ecc",
   "metadata": {},
   "outputs": [],
   "source": [
    "common = list(set(merged['iso_o'].unique()))"
   ]
  },
  {
   "cell_type": "code",
   "execution_count": 191,
   "id": "16a649f5-61b5-4e26-93cd-aeafb8c1e324",
   "metadata": {},
   "outputs": [
    {
     "data": {
      "text/plain": [
       "{'TWN'}"
      ]
     },
     "execution_count": 191,
     "metadata": {},
     "output_type": "execute_result"
    }
   ],
   "source": [
    "set(fixed['iso_o'].unique()) - set(merged['iso_o'].unique())"
   ]
  },
  {
   "cell_type": "code",
   "execution_count": 192,
   "id": "714fe9c0-7ebf-42d6-8552-09e2e4073348",
   "metadata": {},
   "outputs": [
    {
     "data": {
      "text/plain": [
       "{'TWN'}"
      ]
     },
     "execution_count": 192,
     "metadata": {},
     "output_type": "execute_result"
    }
   ],
   "source": [
    "set(nodeUnique_imf['iso_o'].unique()) - set(merged['iso_o'].unique())"
   ]
  },
  {
   "cell_type": "code",
   "execution_count": 193,
   "id": "0a63f102-d69c-4456-b251-9d24d4cfcc7d",
   "metadata": {},
   "outputs": [
    {
     "data": {
      "text/plain": [
       "{'ROU'}"
      ]
     },
     "execution_count": 193,
     "metadata": {},
     "output_type": "execute_result"
    }
   ],
   "source": [
    "set(merged['iso_o'].unique()) - set(nodeUnique_imf['iso_o'].unique())"
   ]
  },
  {
   "cell_type": "code",
   "execution_count": 194,
   "id": "2b6a68e7-56cb-45ef-ac30-d6a007518f28",
   "metadata": {},
   "outputs": [],
   "source": [
    "com = set(merged['iso_o'].unique()) & set(fixed['iso_o'].unique()) & set(fixed['iso_o'].unique())\\\n",
    "& set(dyad_fixed_unique['iso_o'].unique()) & set(dyad_fixed_unique['iso_o'].unique()) & set(rta_edgelist['iso_o'].unique())\\\n",
    "& set(nodeUnique_imf['iso_o'].unique()) & set(fixed_con['iso_o'].unique()) & set(fixed_con['iso_o'].unique())\\\n",
    "& set(distance['iso_o'].unique()) & set(distance['iso_o'].unique()) & set(comcol['iso_o'].unique())\\\n",
    "& set(comcol['iso_o'].unique()) & set(col['iso_o'].unique()) & set(col['iso_o'].unique())\\\n",
    "& set(lang['iso_o'].unique()) & set(lang['iso_o'].unique()) & set(co2_uni['iso_o'].unique())\\\n",
    "& set(edgelist_co2['iso_o'].unique()) & set(total_unique['iso_o'].unique()) & set(edgelist_trade_rounded['iso_o'].unique())\\\n",
    "& set(internet['iso_o'].unique()) & set(internet_long['iso_o'].unique()) & set(gdp_pct['iso_o'].unique()) & set(gdp_pct_long['iso_o'].unique()) & set(schooling['iso_o'].unique()) & set(rta['iso_o'].unique()) & set(gdp_pct_long['iso_o'].unique()) & set(schooling['iso_o'].unique()) & set(rta['iso_o'].unique())"
   ]
  },
  {
   "cell_type": "code",
   "execution_count": 195,
   "id": "532e5ed7-2eba-45c3-a3c7-34b45569d865",
   "metadata": {},
   "outputs": [
    {
     "data": {
      "text/plain": [
       "74"
      ]
     },
     "execution_count": 195,
     "metadata": {},
     "output_type": "execute_result"
    }
   ],
   "source": [
    "len(com)"
   ]
  },
  {
   "cell_type": "code",
   "execution_count": 196,
   "id": "6911d6dd-4fb1-4230-b8e8-bb8d6da03904",
   "metadata": {},
   "outputs": [],
   "source": [
    "fixed = fixed[fixed['iso_o'].isin(com)]\n",
    "fixed = fixed[fixed['iso_d'].isin(com)]"
   ]
  },
  {
   "cell_type": "code",
   "execution_count": 197,
   "id": "5dffcbad-784a-406f-b171-3730df22d624",
   "metadata": {},
   "outputs": [],
   "source": [
    "dyad_fixed_unique = dyad_fixed_unique[dyad_fixed_unique['iso_o'].isin(com)]\n",
    "dyad_fixed_unique = dyad_fixed_unique[dyad_fixed_unique['iso_d'].isin(com)]"
   ]
  },
  {
   "cell_type": "code",
   "execution_count": 198,
   "id": "7a7b986c-c881-40d4-b133-3de5ae260d47",
   "metadata": {},
   "outputs": [],
   "source": [
    "nodeUnique_imf = nodeUnique_imf[nodeUnique_imf['iso_o'].isin(com)]"
   ]
  },
  {
   "cell_type": "code",
   "execution_count": 199,
   "id": "64fabf74-bb83-437b-876a-1b4bd353dde9",
   "metadata": {},
   "outputs": [],
   "source": [
    "fixed_con = fixed_con[fixed_con['iso_o'].isin(com)]\n",
    "fixed_con = fixed_con[fixed_con['iso_d'].isin(com)]"
   ]
  },
  {
   "cell_type": "code",
   "execution_count": 200,
   "id": "01222a53-6c57-49f6-89e5-4bbee1a8e9d0",
   "metadata": {},
   "outputs": [],
   "source": [
    "distance = distance[distance['iso_o'].isin(com)]\n",
    "distance = distance[distance['iso_d'].isin(com)]"
   ]
  },
  {
   "cell_type": "code",
   "execution_count": 201,
   "id": "c279f4e9-7920-422c-93fe-d9efd5585e99",
   "metadata": {},
   "outputs": [],
   "source": [
    "comcol = comcol[comcol['iso_o'].isin(com)]\n",
    "comcol = comcol[comcol['iso_d'].isin(com)]"
   ]
  },
  {
   "cell_type": "code",
   "execution_count": 202,
   "id": "094eea83-bb0d-4a37-b3cd-31ff95c26448",
   "metadata": {},
   "outputs": [],
   "source": [
    "col = col[col['iso_o'].isin(com)]\n",
    "col = col[col['iso_d'].isin(com)]"
   ]
  },
  {
   "cell_type": "code",
   "execution_count": 203,
   "id": "da16e9a5-547e-44e0-a3b8-b921cd020491",
   "metadata": {},
   "outputs": [],
   "source": [
    "lang = lang[lang['iso_o'].isin(com)]\n",
    "lang = lang[lang['iso_d'].isin(com)]"
   ]
  },
  {
   "cell_type": "code",
   "execution_count": 204,
   "id": "df87197b-974b-4f35-81de-fd94f5b8077f",
   "metadata": {},
   "outputs": [],
   "source": [
    "co2_uni = co2_uni[co2_uni['iso_o'].isin(com)]\n",
    "co2_uni = co2_uni[co2_uni['iso_d'].isin(com)]"
   ]
  },
  {
   "cell_type": "code",
   "execution_count": 205,
   "id": "0cb4219c-a9a3-4db1-9990-c8a3763986ee",
   "metadata": {},
   "outputs": [],
   "source": [
    "edgelist_co2 = edgelist_co2[edgelist_co2['iso_o'].isin(com)]\n",
    "edgelist_co2 = edgelist_co2[edgelist_co2['iso_d'].isin(com)]"
   ]
  },
  {
   "cell_type": "code",
   "execution_count": 206,
   "id": "42661f20-0edb-47ed-a5a8-c2fb936e654e",
   "metadata": {},
   "outputs": [],
   "source": [
    "total_unique = total_unique[total_unique['iso_o'].isin(com)]\n",
    "total_unique = total_unique[total_unique['iso_d'].isin(com)]"
   ]
  },
  {
   "cell_type": "code",
   "execution_count": 207,
   "id": "59133211-e3c6-48d1-9aa4-69bc5278372e",
   "metadata": {},
   "outputs": [],
   "source": [
    "edgelist_trade_rounded = edgelist_trade_rounded[edgelist_trade_rounded['iso_o'].isin(com)]\n",
    "edgelist_trade_rounded = edgelist_trade_rounded[edgelist_trade_rounded['iso_d'].isin(com)]"
   ]
  },
  {
   "cell_type": "code",
   "execution_count": 208,
   "id": "14ebab40-05df-4684-94ab-f4b3dff4f97a",
   "metadata": {},
   "outputs": [],
   "source": [
    "internet = internet[internet['iso_o'].isin(com)]\n",
    "internet_long = internet_long[internet_long['iso_o'].isin(com)]"
   ]
  },
  {
   "cell_type": "code",
   "execution_count": 209,
   "id": "7346c6e0-219e-4d78-bc55-5279b863c9e7",
   "metadata": {},
   "outputs": [],
   "source": [
    "gdp_pct = gdp_pct[gdp_pct['iso_o'].isin(com)]\n",
    "gdp_pct_long = gdp_pct_long[gdp_pct_long['iso_o'].isin(com)]"
   ]
  },
  {
   "cell_type": "code",
   "execution_count": 210,
   "id": "3cdde4a6-587a-4848-9dce-ed276a6e303a",
   "metadata": {},
   "outputs": [],
   "source": [
    "schooling = schooling[schooling['iso_o'].isin(com)]\n",
    "merged = merged[merged['iso_o'].isin(com)]"
   ]
  },
  {
   "cell_type": "code",
   "execution_count": 211,
   "id": "b60fa2fa-23ee-47bd-8d20-238857cd20fa",
   "metadata": {},
   "outputs": [],
   "source": [
    "rta = rta[rta['iso_o'].isin(com)]\n",
    "rta = rta[rta['iso_d'].isin(com)]"
   ]
  },
  {
   "cell_type": "code",
   "execution_count": 212,
   "id": "d84db783-339d-426c-835e-72e8c282e45b",
   "metadata": {},
   "outputs": [],
   "source": [
    "rta_edgelist = rta_edgelist[rta_edgelist['iso_o'].isin(com)]\n",
    "rta_edgelist = rta_edgelist[rta_edgelist['iso_d'].isin(com)]"
   ]
  },
  {
   "cell_type": "code",
   "execution_count": 213,
   "id": "a281f974-9324-4c94-a205-aa8805e471b8",
   "metadata": {},
   "outputs": [
    {
     "name": "stdout",
     "output_type": "stream",
     "text": [
      "74\n",
      "74\n",
      "74\n",
      "74\n",
      "74\n",
      "74\n",
      "74\n",
      "74\n",
      "74\n",
      "74\n",
      "74\n",
      "74\n",
      "74\n",
      "74\n",
      "74\n",
      "74\n",
      "74\n",
      "74\n",
      "74\n",
      "74\n",
      "74\n",
      "74\n",
      "74\n",
      "74\n",
      "74\n",
      "74\n"
     ]
    }
   ],
   "source": [
    "# 1\n",
    "print(fixed['iso_o'].nunique())\n",
    "print(fixed['iso_d'].nunique())\n",
    "# 2\n",
    "print(dyad_fixed_unique['iso_o'].nunique())\n",
    "print(dyad_fixed_unique['iso_d'].nunique())\n",
    "# 3\n",
    "print(fixed_con['iso_o'].nunique())\n",
    "print(fixed_con['iso_d'].nunique())\n",
    "# 4\n",
    "print(distance['iso_o'].nunique())\n",
    "print(distance['iso_d'].nunique())\n",
    "# 5\n",
    "print(comcol['iso_o'].nunique())\n",
    "print(comcol['iso_d'].nunique())\n",
    "# 6\n",
    "print(col['iso_o'].nunique())\n",
    "print(col['iso_d'].nunique())\n",
    "# 7\n",
    "print(lang['iso_o'].nunique())\n",
    "print(lang['iso_d'].nunique())\n",
    "# 8\n",
    "print(co2_uni['iso_o'].nunique())\n",
    "print(co2_uni['iso_d'].nunique())\n",
    "# 9\n",
    "print(edgelist_co2['iso_o'].nunique())\n",
    "print(edgelist_co2['iso_d'].nunique())\n",
    "# 10\n",
    "print(total_unique['iso_o'].nunique())\n",
    "print(total_unique['iso_d'].nunique())\n",
    "# 11\n",
    "print(edgelist_trade_rounded['iso_o'].nunique())\n",
    "print(edgelist_trade_rounded['iso_d'].nunique())\n",
    "# 12\n",
    "print(rta['iso_o'].nunique())\n",
    "print(rta['iso_d'].nunique())\n",
    "# 13\n",
    "print(rta_edgelist['iso_o'].nunique())\n",
    "print(rta_edgelist['iso_d'].nunique())"
   ]
  },
  {
   "cell_type": "code",
   "execution_count": 214,
   "id": "0329c72c-510d-4ded-8f54-9e9364b2230d",
   "metadata": {},
   "outputs": [
    {
     "name": "stdout",
     "output_type": "stream",
     "text": [
      "74\n",
      "74\n",
      "74\n",
      "74\n",
      "74\n",
      "74\n",
      "74\n"
     ]
    }
   ],
   "source": [
    "# 1\n",
    "print(nodeUnique_imf['iso_o'].nunique())\n",
    "# 2\n",
    "print(internet['iso_o'].nunique())\n",
    "# 3\n",
    "print(internet_long['iso_o'].nunique())\n",
    "# 4\n",
    "print(gdp_pct['iso_o'].nunique())\n",
    "# 5\n",
    "print(gdp_pct_long['iso_o'].nunique())\n",
    "# 6\n",
    "print(schooling['iso_o'].nunique())\n",
    "# 7\n",
    "print(merged['iso_o'].nunique())"
   ]
  },
  {
   "cell_type": "code",
   "execution_count": 215,
   "id": "5f757af3-a8d3-4288-bdbf-1a9ee5a450c9",
   "metadata": {},
   "outputs": [],
   "source": [
    "fixed.to_csv(\"../data/cleaned/fixed.csv\", encoding='utf-8', index=False)"
   ]
  },
  {
   "cell_type": "code",
   "execution_count": 216,
   "id": "40c39b77-befb-42e7-a2c3-fbeffb5a8d83",
   "metadata": {},
   "outputs": [],
   "source": [
    "dyad_fixed_unique.to_csv(\"../data/cleaned/dyads_fixed.csv\", encoding='utf-8', index=False)"
   ]
  },
  {
   "cell_type": "code",
   "execution_count": 217,
   "id": "4c0b7394-cb82-4e2c-9610-2a49158a1349",
   "metadata": {},
   "outputs": [],
   "source": [
    "nodeUnique_imf.to_csv(\"../data/cleaned/nodal_fixed.csv\", encoding='utf-8', index=False)"
   ]
  },
  {
   "cell_type": "code",
   "execution_count": 218,
   "id": "e48fe8f5-d671-4f2b-8784-ec26f65e5b55",
   "metadata": {},
   "outputs": [],
   "source": [
    "fixed_con.to_csv('../data/cleaned/contiguity_edgelist.csv', encoding = 'utf-8', index = False) "
   ]
  },
  {
   "cell_type": "code",
   "execution_count": 219,
   "id": "2c7a1f0b-7f2f-49fe-bf1e-198da46cbf6e",
   "metadata": {},
   "outputs": [],
   "source": [
    "distance.to_csv('../data/cleaned/distance_edgelist.csv', encoding = 'utf-8', index = False) "
   ]
  },
  {
   "cell_type": "code",
   "execution_count": 220,
   "id": "8530babf-1ca8-4834-b41a-08fb3e260533",
   "metadata": {},
   "outputs": [],
   "source": [
    "comcol.to_csv('../data/cleaned/comcol_edgelist.csv', encoding = 'utf-8', index = False)"
   ]
  },
  {
   "cell_type": "code",
   "execution_count": 221,
   "id": "f1e06638-d377-4efa-ae7b-91e294fa8a73",
   "metadata": {},
   "outputs": [],
   "source": [
    "col.to_csv('../data/cleaned/colonizer_edgelist.csv', encoding = 'utf-8', index = False)"
   ]
  },
  {
   "cell_type": "code",
   "execution_count": 222,
   "id": "a8cb4c3d-d72b-4e54-b35c-ef5bfa09257b",
   "metadata": {},
   "outputs": [],
   "source": [
    "lang.to_csv('../data/cleaned/language_edgelist.csv', encoding = 'utf-8', index = False)"
   ]
  },
  {
   "cell_type": "code",
   "execution_count": 223,
   "id": "7905751d-4cfb-4223-a07e-7eb140db9cbb",
   "metadata": {},
   "outputs": [],
   "source": [
    "co2_uni.to_csv(\"../data/cleaned/emission_trade2000_2020.csv\", encoding='utf-8', index=False)"
   ]
  },
  {
   "cell_type": "code",
   "execution_count": 224,
   "id": "3f74fb10-9f67-4d3f-9392-be891dcc459f",
   "metadata": {},
   "outputs": [],
   "source": [
    "edgelist_co2.to_csv(\"../data/cleaned/emission_trade_edgelist.csv\", encoding='utf-8', index=False)"
   ]
  },
  {
   "cell_type": "code",
   "execution_count": 225,
   "id": "77e47204-0874-4a2c-b58a-f753b0bee943",
   "metadata": {},
   "outputs": [],
   "source": [
    "total_unique.to_csv(\"../data/cleaned/trade2000_2020.csv\", encoding='utf-8', index=False)"
   ]
  },
  {
   "cell_type": "code",
   "execution_count": 226,
   "id": "c6a1435b-5d17-44f4-a10c-76074c28f699",
   "metadata": {},
   "outputs": [],
   "source": [
    "edgelist_trade_rounded.to_csv(\"../data/cleaned/trade_edgelist.csv\", encoding='utf-8', index=False)"
   ]
  },
  {
   "cell_type": "code",
   "execution_count": 227,
   "id": "9b847612-537d-417a-9dfa-b905d451a724",
   "metadata": {},
   "outputs": [],
   "source": [
    "internet.to_csv(\"../data/cleaned/internet.csv\", encoding = 'utf-8', index = False)\n",
    "internet_long.to_csv(\"../data/cleaned/internet_long.csv\", encoding = 'utf-8', index = False)              "
   ]
  },
  {
   "cell_type": "code",
   "execution_count": 228,
   "id": "ea34add6-f793-47ab-a194-7ae31060414f",
   "metadata": {},
   "outputs": [],
   "source": [
    "gdp_pct.to_csv(\"../data/cleaned/gdp_pct.csv\", encoding = 'utf-8', index = False)\n",
    "gdp_pct_long.to_csv(\"../data/cleaned/gdp_pct_long.csv\", encoding = 'utf-8', index = False)  "
   ]
  },
  {
   "cell_type": "code",
   "execution_count": 229,
   "id": "dfc34418-f559-4310-b482-e046c79cad3e",
   "metadata": {},
   "outputs": [],
   "source": [
    "schooling.to_csv(\"../data/cleaned/schooling.csv\", encoding = 'utf-8', index = False)\n",
    "merged.to_csv(\"../data/cleaned/nodal_time_series.csv\", encoding = 'utf-8', index = False)  "
   ]
  },
  {
   "cell_type": "code",
   "execution_count": 230,
   "id": "cc91b680-0418-4236-abe1-6eff6d5d7907",
   "metadata": {},
   "outputs": [],
   "source": [
    "rta.to_csv(\"../data/cleaned/rta_long.csv\", encoding = 'utf-8', index = False)"
   ]
  },
  {
   "cell_type": "code",
   "execution_count": 231,
   "id": "e171be4f-f5b3-49b4-98ca-3368f723ae0c",
   "metadata": {},
   "outputs": [],
   "source": [
    "rta_edgelist.to_csv(\"../data/cleaned/rta_edgelist.csv\", encoding = 'utf-8', index = False)"
   ]
  }
 ],
 "metadata": {
  "kernelspec": {
   "display_name": "Python 3 (ipykernel)",
   "language": "python",
   "name": "python3"
  },
  "language_info": {
   "codemirror_mode": {
    "name": "ipython",
    "version": 3
   },
   "file_extension": ".py",
   "mimetype": "text/x-python",
   "name": "python",
   "nbconvert_exporter": "python",
   "pygments_lexer": "ipython3",
   "version": "3.12.7"
  }
 },
 "nbformat": 4,
 "nbformat_minor": 5
}
