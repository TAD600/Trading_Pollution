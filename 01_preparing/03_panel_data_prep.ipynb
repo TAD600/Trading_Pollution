{
 "cells": [
  {
   "cell_type": "code",
   "execution_count": 1,
   "id": "78f8114d-1955-4889-b77e-82843a7bcec8",
   "metadata": {},
   "outputs": [],
   "source": [
    "import pandas as pd"
   ]
  },
  {
   "cell_type": "code",
   "execution_count": 2,
   "id": "f8042564-2d91-4c51-9370-285c14846170",
   "metadata": {},
   "outputs": [],
   "source": [
    "at2000 = pd.read_csv('../data/cleaned/attribute2000.csv')\n",
    "at2001 = pd.read_csv('../data/cleaned/attribute2001.csv')\n",
    "at2002 = pd.read_csv('../data/cleaned/attribute2002.csv')\n",
    "at2003 = pd.read_csv('../data/cleaned/attribute2003.csv')\n",
    "at2004 = pd.read_csv('../data/cleaned/attribute2004.csv')\n",
    "at2005 = pd.read_csv('../data/cleaned/attribute2005.csv')\n",
    "at2006 = pd.read_csv('../data/cleaned/attribute2006.csv')\n",
    "at2007 = pd.read_csv('../data/cleaned/attribute2007.csv')\n",
    "at2008 = pd.read_csv('../data/cleaned/attribute2008.csv')\n",
    "at2009 = pd.read_csv('../data/cleaned/attribute2009.csv')\n",
    "at2010 = pd.read_csv('../data/cleaned/attribute2010.csv')\n",
    "at2011 = pd.read_csv('../data/cleaned/attribute2011.csv')\n",
    "at2012 = pd.read_csv('../data/cleaned/attribute2012.csv')\n",
    "at2013 = pd.read_csv('../data/cleaned/attribute2013.csv')\n",
    "at2014 = pd.read_csv('../data/cleaned/attribute2014.csv')\n",
    "at2015 = pd.read_csv('../data/cleaned/attribute2015.csv')\n",
    "at2016 = pd.read_csv('../data/cleaned/attribute2016.csv')\n",
    "at2017 = pd.read_csv('../data/cleaned/attribute2017.csv')\n",
    "at2018 = pd.read_csv('../data/cleaned/attribute2018.csv')\n",
    "at2019 = pd.read_csv('../data/cleaned/attribute2019.csv')\n",
    "at2020 = pd.read_csv('../data/cleaned/attribute2020.csv')"
   ]
  },
  {
   "cell_type": "code",
   "execution_count": 3,
   "id": "a2f71e0b-085f-4dd3-894e-09420cbcf646",
   "metadata": {},
   "outputs": [
    {
     "data": {
      "text/plain": [
       "Index(['Unnamed: 0', 'iso_o', 'indegree', 'outdegree', 'between', 'close',\n",
       "       'eigen', 'TIME_PERIOD', 'export', 'import', 'net_imp', 'gdp_pct',\n",
       "       'trade_openness', 'schooling', 'internet', 'energy', 'pop_den', 'co2',\n",
       "       'country', 'continent', 'category', 'development', 'LTE_year',\n",
       "       'adoption_year', 'adopted'],\n",
       "      dtype='object')"
      ]
     },
     "execution_count": 3,
     "metadata": {},
     "output_type": "execute_result"
    }
   ],
   "source": [
    "at2020.columns"
   ]
  },
  {
   "cell_type": "code",
   "execution_count": 4,
   "id": "fb90f722-a344-4fdc-9393-734bbb003671",
   "metadata": {},
   "outputs": [],
   "source": [
    "panel = pd.concat([at2000, at2001, at2002, at2003, at2004, at2005, at2006, at2007, at2008, at2009, at2010, at2011, at2012, at2013, at2014, at2015, at2016, at2017, at2018, at2019, at2020], axis = 0) "
   ]
  },
  {
   "cell_type": "code",
   "execution_count": 5,
   "id": "7a79cc21-958c-4e75-b5ff-3f60176da963",
   "metadata": {},
   "outputs": [],
   "source": [
    "panel = panel.drop(columns = ['Unnamed: 0'])"
   ]
  },
  {
   "cell_type": "code",
   "execution_count": 6,
   "id": "341ab176-46b3-4fc8-b59f-40df5b658047",
   "metadata": {},
   "outputs": [
    {
     "data": {
      "text/plain": [
       "Index(['iso_o', 'indegree', 'outdegree', 'between', 'close', 'eigen',\n",
       "       'TIME_PERIOD', 'export', 'import', 'net_imp', 'gdp_pct',\n",
       "       'trade_openness', 'schooling', 'internet', 'energy', 'pop_den', 'co2',\n",
       "       'country', 'continent', 'category', 'development', 'LTE_year',\n",
       "       'adoption_year', 'adopted'],\n",
       "      dtype='object')"
      ]
     },
     "execution_count": 6,
     "metadata": {},
     "output_type": "execute_result"
    }
   ],
   "source": [
    "panel.columns"
   ]
  },
  {
   "cell_type": "code",
   "execution_count": 7,
   "id": "a788d56d-54b7-4d21-9c7d-767c6cc593e0",
   "metadata": {},
   "outputs": [
    {
     "name": "stdout",
     "output_type": "stream",
     "text": [
      "75\n",
      "21\n",
      "[2000 2001 2002 2003 2004 2005 2006 2007 2008 2009 2010 2011 2012 2013\n",
      " 2014 2015 2016 2017 2018 2019 2020]\n"
     ]
    }
   ],
   "source": [
    "print(panel['iso_o'].nunique())\n",
    "print(panel['TIME_PERIOD'].nunique())\n",
    "print(panel['TIME_PERIOD'].unique())"
   ]
  },
  {
   "cell_type": "code",
   "execution_count": 8,
   "id": "825a4a0d-84d6-41a8-9a57-3638a957559e",
   "metadata": {},
   "outputs": [],
   "source": [
    "panel = panel.sort_values(by = ['iso_o', 'TIME_PERIOD']).reset_index(drop = True)"
   ]
  },
  {
   "cell_type": "code",
   "execution_count": 9,
   "id": "4bab3aad-979f-4e61-98d9-11ae1daee2f6",
   "metadata": {},
   "outputs": [],
   "source": [
    "#panel.head(25)"
   ]
  },
  {
   "cell_type": "code",
   "execution_count": 10,
   "id": "3bba897f-79d4-43bf-b513-52442bb7fa87",
   "metadata": {},
   "outputs": [],
   "source": [
    "panel.to_csv(\"../data/cleaned/pollution_trade.csv\", encoding = 'utf-8', index = False)"
   ]
  },
  {
   "cell_type": "code",
   "execution_count": null,
   "id": "1bbd8f56-0936-4589-ad2b-c95338ed6e2d",
   "metadata": {},
   "outputs": [],
   "source": []
  }
 ],
 "metadata": {
  "kernelspec": {
   "display_name": "Python 3 (ipykernel)",
   "language": "python",
   "name": "python3"
  },
  "language_info": {
   "codemirror_mode": {
    "name": "ipython",
    "version": 3
   },
   "file_extension": ".py",
   "mimetype": "text/x-python",
   "name": "python",
   "nbconvert_exporter": "python",
   "pygments_lexer": "ipython3",
   "version": "3.12.7"
  }
 },
 "nbformat": 4,
 "nbformat_minor": 5
}
