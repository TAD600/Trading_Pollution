{
 "cells": [
  {
   "cell_type": "code",
   "execution_count": 3,
   "id": "5a438334-c80a-441e-b085-f6ed6b4b0f05",
   "metadata": {},
   "outputs": [],
   "source": [
    "import pandas as pd"
   ]
  },
  {
   "cell_type": "code",
   "execution_count": 4,
   "id": "c5af698f-90ad-4c71-ab18-146860d5af7e",
   "metadata": {},
   "outputs": [],
   "source": [
    "at2000 = pd.read_csv(\"../data/cleaned/attribute2000.csv\")\n",
    "at2001 = pd.read_csv(\"../data/cleaned/attribute2001.csv\")\n",
    "at2002 = pd.read_csv(\"../data/cleaned/attribute2002.csv\")\n",
    "at2003 = pd.read_csv(\"../data/cleaned/attribute2003.csv\")\n",
    "at2004 = pd.read_csv(\"../data/cleaned/attribute2004.csv\")\n",
    "at2005 = pd.read_csv(\"../data/cleaned/attribute2005.csv\")\n",
    "at2006 = pd.read_csv(\"../data/cleaned/attribute2006.csv\")\n",
    "at2007 = pd.read_csv(\"../data/cleaned/attribute2007.csv\")\n",
    "at2008 = pd.read_csv(\"../data/cleaned/attribute2008.csv\")\n",
    "at2009 = pd.read_csv(\"../data/cleaned/attribute2009.csv\")\n",
    "at2010 = pd.read_csv(\"../data/cleaned/attribute2010.csv\")\n",
    "at2011 = pd.read_csv(\"../data/cleaned/attribute2011.csv\")\n",
    "at2012 = pd.read_csv(\"../data/cleaned/attribute2012.csv\")\n",
    "at2013 = pd.read_csv(\"../data/cleaned/attribute2013.csv\")\n",
    "at2014 = pd.read_csv(\"../data/cleaned/attribute2014.csv\")\n",
    "at2015 = pd.read_csv(\"../data/cleaned/attribute2015.csv\")\n",
    "at2016 = pd.read_csv(\"../data/cleaned/attribute2016.csv\")\n",
    "at2017 = pd.read_csv(\"../data/cleaned/attribute2017.csv\")\n",
    "at2018 = pd.read_csv(\"../data/cleaned/attribute2018.csv\")\n",
    "at2019 = pd.read_csv(\"../data/cleaned/attribute2019.csv\")\n",
    "at2020 = pd.read_csv(\"../data/cleaned/attribute2020.csv\")\n",
    "node_fix = pd.read_csv(\"../data/cleaned/nodal_fixed.csv\")"
   ]
  },
  {
   "cell_type": "code",
   "execution_count": 5,
   "id": "0c42f16a-a3db-42b2-b248-6c3cca7514a4",
   "metadata": {},
   "outputs": [],
   "source": [
    "long = pd.concat([at2000, at2001, at2002, at2003, at2004, at2005, at2006, at2007, at2008,at2009, at2010, at2011, at2012, at2013, at2014, at2015, at2016, at2017, at2018, at2019, at2020], axis = 0) "
   ]
  },
  {
   "cell_type": "code",
   "execution_count": 6,
   "id": "4a9d297c-6476-4a3a-ad44-73bfe588117b",
   "metadata": {},
   "outputs": [
    {
     "data": {
      "text/html": [
       "<div>\n",
       "<style scoped>\n",
       "    .dataframe tbody tr th:only-of-type {\n",
       "        vertical-align: middle;\n",
       "    }\n",
       "\n",
       "    .dataframe tbody tr th {\n",
       "        vertical-align: top;\n",
       "    }\n",
       "\n",
       "    .dataframe thead th {\n",
       "        text-align: right;\n",
       "    }\n",
       "</style>\n",
       "<table border=\"1\" class=\"dataframe\">\n",
       "  <thead>\n",
       "    <tr style=\"text-align: right;\">\n",
       "      <th></th>\n",
       "      <th>Unnamed: 0</th>\n",
       "      <th>iso_o</th>\n",
       "      <th>sigma_cp</th>\n",
       "      <th>rank_cp</th>\n",
       "      <th>cp</th>\n",
       "      <th>country</th>\n",
       "      <th>TIME_PERIOD</th>\n",
       "      <th>LTE</th>\n",
       "      <th>internet</th>\n",
       "      <th>gdp_pct</th>\n",
       "      <th>...</th>\n",
       "      <th>D_log_gdp_pct</th>\n",
       "      <th>D_internet</th>\n",
       "      <th>landlocked</th>\n",
       "      <th>continent</th>\n",
       "      <th>lat</th>\n",
       "      <th>lon</th>\n",
       "      <th>langoff_1</th>\n",
       "      <th>colonizer1</th>\n",
       "      <th>category</th>\n",
       "      <th>development</th>\n",
       "    </tr>\n",
       "  </thead>\n",
       "  <tbody>\n",
       "    <tr>\n",
       "      <th>0</th>\n",
       "      <td>1</td>\n",
       "      <td>ARG</td>\n",
       "      <td>394899959</td>\n",
       "      <td>40</td>\n",
       "      <td>0</td>\n",
       "      <td>Argentina</td>\n",
       "      <td>2000</td>\n",
       "      <td>0</td>\n",
       "      <td>7.040000</td>\n",
       "      <td>10631.65</td>\n",
       "      <td>...</td>\n",
       "      <td>-0.019252</td>\n",
       "      <td>3.76</td>\n",
       "      <td>0</td>\n",
       "      <td>America</td>\n",
       "      <td>-34.666668</td>\n",
       "      <td>-58.500</td>\n",
       "      <td>Spanish</td>\n",
       "      <td>ESP</td>\n",
       "      <td>Emerging and Developing Economies</td>\n",
       "      <td>0</td>\n",
       "    </tr>\n",
       "    <tr>\n",
       "      <th>1</th>\n",
       "      <td>2</td>\n",
       "      <td>AUS</td>\n",
       "      <td>982626724</td>\n",
       "      <td>24</td>\n",
       "      <td>0</td>\n",
       "      <td>Australia</td>\n",
       "      <td>2000</td>\n",
       "      <td>0</td>\n",
       "      <td>46.799999</td>\n",
       "      <td>45859.52</td>\n",
       "      <td>...</td>\n",
       "      <td>0.027021</td>\n",
       "      <td>6.00</td>\n",
       "      <td>0</td>\n",
       "      <td>Pacific</td>\n",
       "      <td>-35.299999</td>\n",
       "      <td>149.133</td>\n",
       "      <td>English</td>\n",
       "      <td>GBR</td>\n",
       "      <td>Advanced Economies</td>\n",
       "      <td>1</td>\n",
       "    </tr>\n",
       "  </tbody>\n",
       "</table>\n",
       "<p>2 rows × 22 columns</p>\n",
       "</div>"
      ],
      "text/plain": [
       "   Unnamed: 0 iso_o   sigma_cp  rank_cp  cp    country  TIME_PERIOD  LTE  \\\n",
       "0           1   ARG  394899959       40   0  Argentina         2000    0   \n",
       "1           2   AUS  982626724       24   0  Australia         2000    0   \n",
       "\n",
       "    internet   gdp_pct  ...  D_log_gdp_pct  D_internet  landlocked  continent  \\\n",
       "0   7.040000  10631.65  ...      -0.019252        3.76           0    America   \n",
       "1  46.799999  45859.52  ...       0.027021        6.00           0    Pacific   \n",
       "\n",
       "         lat      lon  langoff_1  colonizer1  \\\n",
       "0 -34.666668  -58.500    Spanish         ESP   \n",
       "1 -35.299999  149.133    English         GBR   \n",
       "\n",
       "                            category development  \n",
       "0  Emerging and Developing Economies           0  \n",
       "1                 Advanced Economies           1  \n",
       "\n",
       "[2 rows x 22 columns]"
      ]
     },
     "execution_count": 6,
     "metadata": {},
     "output_type": "execute_result"
    }
   ],
   "source": [
    "long.head(2)"
   ]
  },
  {
   "cell_type": "code",
   "execution_count": 7,
   "id": "24558e58-62c6-44d1-8915-d0a7e029e43a",
   "metadata": {},
   "outputs": [
    {
     "name": "stdout",
     "output_type": "stream",
     "text": [
      "74\n",
      "21\n",
      "[2000 2001 2002 2003 2004 2005 2006 2007 2008 2009 2010 2011 2012 2013\n",
      " 2014 2015 2016 2017 2018 2019 2020]\n"
     ]
    }
   ],
   "source": [
    "print(long['iso_o'].nunique())\n",
    "print(long['TIME_PERIOD'].nunique())\n",
    "print(long['TIME_PERIOD'].unique())"
   ]
  },
  {
   "cell_type": "code",
   "execution_count": 8,
   "id": "982830fe-4863-40e5-9d6f-0b43790fe126",
   "metadata": {},
   "outputs": [
    {
     "data": {
      "text/plain": [
       "Unnamed: 0         0\n",
       "iso_o              0\n",
       "sigma_cp           0\n",
       "rank_cp            0\n",
       "cp                 0\n",
       "country            0\n",
       "TIME_PERIOD        0\n",
       "LTE                0\n",
       "internet           0\n",
       "gdp_pct            0\n",
       "schooling          0\n",
       "log_gdp_pct        0\n",
       "D_log_gdp_pct      0\n",
       "D_internet         0\n",
       "landlocked         0\n",
       "continent          0\n",
       "lat                0\n",
       "lon                0\n",
       "langoff_1          0\n",
       "colonizer1       420\n",
       "category           0\n",
       "development        0\n",
       "dtype: int64"
      ]
     },
     "execution_count": 8,
     "metadata": {},
     "output_type": "execute_result"
    }
   ],
   "source": [
    "missing = long.isna().sum()\n",
    "missing"
   ]
  },
  {
   "cell_type": "code",
   "execution_count": 9,
   "id": "5840095c-565c-4c8b-b3d5-f15108002471",
   "metadata": {},
   "outputs": [],
   "source": [
    "long = long.drop(columns = ['colonizer1', 'langoff_1'])"
   ]
  },
  {
   "cell_type": "code",
   "execution_count": 10,
   "id": "95437fb7-9636-47c9-8a7a-b314f930c51e",
   "metadata": {},
   "outputs": [],
   "source": [
    "long_sorted = long.sort_values(['iso_o', 'country', 'TIME_PERIOD']).reset_index(drop= True)"
   ]
  },
  {
   "cell_type": "code",
   "execution_count": 16,
   "id": "c5ed178a-2be9-41da-9877-d8fe9e6b5f28",
   "metadata": {},
   "outputs": [],
   "source": [
    "long_sorted.to_csv(\"../data/cleaned/nodal_time_series.csv\")"
   ]
  },
  {
   "cell_type": "markdown",
   "id": "a32c67cc-ee46-476f-9e13-d2dfee2bfbf1",
   "metadata": {},
   "source": [
    "### RTA"
   ]
  },
  {
   "cell_type": "code",
   "execution_count": null,
   "id": "b96984f5-b564-47c4-a54d-e05c802d274c",
   "metadata": {},
   "outputs": [],
   "source": [
    "rta = pd.read_csv(\"../data/cleaned/rta_long.csv\")"
   ]
  },
  {
   "cell_type": "code",
   "execution_count": null,
   "id": "5a4e8554-94fb-4f9f-9c72-e2f762eff412",
   "metadata": {},
   "outputs": [],
   "source": [
    "rta"
   ]
  },
  {
   "cell_type": "code",
   "execution_count": null,
   "id": "230e4110-d2f5-46bf-8e5e-3aaa4c632674",
   "metadata": {},
   "outputs": [],
   "source": [
    "print(rta['iso_o'].nunique())\n",
    "print(rta['iso_d'].nunique())"
   ]
  },
  {
   "cell_type": "code",
   "execution_count": null,
   "id": "0a1f9232-67a7-414d-98ff-99331f68fa31",
   "metadata": {},
   "outputs": [],
   "source": [
    "co2 = pd.read_csv(\"../data/cleaned/emission_trade2000_2020.csv\")"
   ]
  },
  {
   "cell_type": "code",
   "execution_count": null,
   "id": "a181a8ca-c25b-4a85-bf97-e62e0070f06d",
   "metadata": {},
   "outputs": [],
   "source": [
    "co2.head(3)"
   ]
  },
  {
   "cell_type": "markdown",
   "id": "cc8edae0-b9d9-4c65-bea4-c4fe6e506373",
   "metadata": {},
   "source": [
    "# merging RTA and co2"
   ]
  },
  {
   "cell_type": "code",
   "execution_count": null,
   "id": "99e8916a-f68f-438d-8908-3c2cb006be47",
   "metadata": {},
   "outputs": [],
   "source": [
    "co2 = co2.merge(rta, on = ['iso_o', 'iso_d', 'TIME_PERIOD'], how = 'left')"
   ]
  },
  {
   "cell_type": "code",
   "execution_count": null,
   "id": "58e927f3-5151-449c-890d-b86d9ead0a46",
   "metadata": {},
   "outputs": [],
   "source": [
    "co2 = co2.rename(columns = {'OBS_VALUE': 'co2'})"
   ]
  },
  {
   "cell_type": "code",
   "execution_count": null,
   "id": "153199be-19bc-4431-b3c6-575748fcc9eb",
   "metadata": {},
   "outputs": [],
   "source": [
    "assert set(co2['iso_o'].unique()) == set(long_sorted['iso_o'].unique())"
   ]
  },
  {
   "cell_type": "code",
   "execution_count": null,
   "id": "dd92f908-7d94-4e95-9b42-ac8114b02c83",
   "metadata": {},
   "outputs": [],
   "source": [
    "assert set(co2['TIME_PERIOD'].unique()) == set(long_sorted['TIME_PERIOD'].unique())"
   ]
  },
  {
   "cell_type": "code",
   "execution_count": null,
   "id": "2d8ab460-428c-4909-9ac1-1580237d0c99",
   "metadata": {},
   "outputs": [],
   "source": [
    "long_sorted.shape"
   ]
  },
  {
   "cell_type": "code",
   "execution_count": null,
   "id": "f2f7d73d-9e89-4895-8dc3-7fa5d328b209",
   "metadata": {},
   "outputs": [],
   "source": [
    "co2.shape"
   ]
  },
  {
   "cell_type": "code",
   "execution_count": null,
   "id": "7d6401f0-7227-4932-b670-45e38768bb85",
   "metadata": {},
   "outputs": [],
   "source": [
    "co2 = co2.reset_index(drop = True)"
   ]
  },
  {
   "cell_type": "code",
   "execution_count": null,
   "id": "9af8b3c7-b7bd-422c-beb9-de1d9db31561",
   "metadata": {},
   "outputs": [],
   "source": [
    "(74*74-74)*21"
   ]
  },
  {
   "cell_type": "code",
   "execution_count": null,
   "id": "ed2ce101-fb9e-4a4a-8d93-59affb2dd64c",
   "metadata": {},
   "outputs": [],
   "source": [
    "merged = co2.merge(long_sorted, on = ['iso_o', 'TIME_PERIOD'], how = 'left')"
   ]
  },
  {
   "cell_type": "code",
   "execution_count": null,
   "id": "4e2fd42e-d63e-4eda-a94c-14ea033f6d13",
   "metadata": {},
   "outputs": [],
   "source": [
    "merged.columns"
   ]
  },
  {
   "cell_type": "code",
   "execution_count": null,
   "id": "9043b1cb-d966-440a-8b82-c7edae86c36b",
   "metadata": {},
   "outputs": [],
   "source": [
    "merged = merged.drop(columns= 'Unnamed: 0')"
   ]
  },
  {
   "cell_type": "code",
   "execution_count": null,
   "id": "594f99f1-30e4-4065-a807-b28ef5daee76",
   "metadata": {},
   "outputs": [],
   "source": [
    "merged = merged.drop(columns= ['category', 'lat', 'lon'])"
   ]
  },
  {
   "cell_type": "code",
   "execution_count": null,
   "id": "640f24a7-30ea-4207-85f2-8faa0ab23a27",
   "metadata": {},
   "outputs": [],
   "source": [
    "merged.head()"
   ]
  },
  {
   "cell_type": "code",
   "execution_count": null,
   "id": "143887d1-b71d-4269-914b-a566a44f2637",
   "metadata": {},
   "outputs": [],
   "source": [
    "country_list = co2['iso_o'].unique()\n",
    "print(len(country_list))\n",
    "years = list(range(2000, 2021))\n",
    "panel_df = pd.MultiIndex.from_product([country_list, country_list, years], names=['iso_o', 'iso_d', 'TIME_PERIOD'])\n",
    "panel_df_blank = panel_df.to_frame(index=False)"
   ]
  },
  {
   "cell_type": "code",
   "execution_count": null,
   "id": "d98a214b-c44c-4fbb-a6e4-febfef8b975a",
   "metadata": {},
   "outputs": [],
   "source": [
    "panel_df_blank = panel_df_blank[panel_df_blank['iso_o'] != panel_df_blank['iso_d']]"
   ]
  },
  {
   "cell_type": "code",
   "execution_count": null,
   "id": "28a955e0-c1d0-4230-88bd-dccefbb61c2b",
   "metadata": {},
   "outputs": [],
   "source": [
    "print(panel_df_blank['iso_o'].nunique())\n",
    "print(panel_df_blank['iso_d'].nunique())\n",
    "print(panel_df_blank['TIME_PERIOD'].nunique())\n",
    "print(panel_df_blank.groupby(['iso_o','iso_d']).ngroups)"
   ]
  },
  {
   "cell_type": "code",
   "execution_count": null,
   "id": "03597a2f-bf27-4c74-ae89-d98ef76478d2",
   "metadata": {},
   "outputs": [],
   "source": [
    "(74*74-74)*21"
   ]
  },
  {
   "cell_type": "code",
   "execution_count": null,
   "id": "0c0f0088-808c-4f03-a72f-1fd7e8e6ecdc",
   "metadata": {},
   "outputs": [],
   "source": [
    "panel_df_blank.shape[0]"
   ]
  },
  {
   "cell_type": "code",
   "execution_count": null,
   "id": "aec42cbf-bfff-43d7-a10c-8ae86ec0f482",
   "metadata": {},
   "outputs": [],
   "source": [
    "co2_panel = panel_df_blank.merge(merged, on = ['iso_o', 'iso_d', 'TIME_PERIOD'], how = 'left')"
   ]
  },
  {
   "cell_type": "code",
   "execution_count": null,
   "id": "2d658cd1-872a-4e3e-a952-7b93ab109c31",
   "metadata": {},
   "outputs": [],
   "source": [
    "print(co2_panel['iso_o'].nunique())\n",
    "print(co2_panel['iso_d'].nunique())\n",
    "print(co2_panel['TIME_PERIOD'].nunique())\n",
    "print(co2_panel.groupby(['iso_o','iso_d']).ngroups)"
   ]
  },
  {
   "cell_type": "code",
   "execution_count": null,
   "id": "908993fd-3863-4d53-ab60-28409cf4b95c",
   "metadata": {},
   "outputs": [],
   "source": [
    "co2_panel.head()"
   ]
  },
  {
   "cell_type": "code",
   "execution_count": null,
   "id": "de3ecdc6-5d34-4f12-8f5d-c843c2657346",
   "metadata": {},
   "outputs": [],
   "source": [
    "partner_attributes = co2_panel.copy()"
   ]
  },
  {
   "cell_type": "code",
   "execution_count": null,
   "id": "7b965480-2a17-458e-96e5-8ee6b510066c",
   "metadata": {},
   "outputs": [],
   "source": [
    "partner_attributes"
   ]
  },
  {
   "cell_type": "code",
   "execution_count": null,
   "id": "ab8a30a7-91ed-4115-b47e-ad3e7e2d00d6",
   "metadata": {},
   "outputs": [],
   "source": [
    "partner_attributes = partner_attributes.drop(columns = ['iso_d', 'co2', 'rta'])"
   ]
  },
  {
   "cell_type": "code",
   "execution_count": null,
   "id": "c43a8f39-8eff-48ae-bbec-debc51a03cd6",
   "metadata": {},
   "outputs": [],
   "source": [
    "partner_attributes = partner_attributes.rename(columns = {'iso_o': 'iso_d'})\n",
    "partner_attributes = partner_attributes.rename(columns = {'country': 'country_d'})\n",
    "partner_attributes = partner_attributes.rename(columns = {'gdp_pct': 'gdp_pct_d'})\n",
    "partner_attributes = partner_attributes.rename(columns = {'log_gdp_pct': 'log_gdp_pct_d'})\n",
    "partner_attributes = partner_attributes.rename(columns = {'D_log_gdp_pct': 'D_log_gdp_pct_d'})\n",
    "partner_attributes = partner_attributes.rename(columns = {'internet': 'internet_d'})\n",
    "partner_attributes = partner_attributes.rename(columns = {'D_internet': 'D_internet_d'})\n",
    "partner_attributes = partner_attributes.rename(columns = {'schooling': 'schooling_d'})\n",
    "partner_attributes = partner_attributes.rename(columns = {'LTE': 'LTE_d'})\n",
    "partner_attributes = partner_attributes.rename(columns = {'sigma_cp': 'sigma_cp_d'})\n",
    "partner_attributes = partner_attributes.rename(columns = {'rank_cp': 'rank_cp_d'})\n",
    "partner_attributes = partner_attributes.rename(columns = {'cp': 'cp_d'})\n",
    "partner_attributes = partner_attributes.rename(columns = {'landlocked': 'landlocked_d'})\n",
    "partner_attributes = partner_attributes.rename(columns = {'continent': 'continent_d'})\n",
    "partner_attributes = partner_attributes.rename(columns = {'development': 'development_d'})"
   ]
  },
  {
   "cell_type": "code",
   "execution_count": null,
   "id": "9590c576-7388-49b4-b07a-eb41c5dc60ec",
   "metadata": {},
   "outputs": [],
   "source": [
    "search_duplicate_row = ['iso_d', 'TIME_PERIOD']\n",
    "partner_attributes_duplicate = partner_attributes.drop_duplicates(subset = search_duplicate_row,  keep = 'last')"
   ]
  },
  {
   "cell_type": "code",
   "execution_count": null,
   "id": "b2cfbe4f-d9bc-4121-b2c6-b71a3109ecab",
   "metadata": {},
   "outputs": [],
   "source": [
    "partner_attributes_duplicate"
   ]
  },
  {
   "cell_type": "code",
   "execution_count": null,
   "id": "bc23b37f-21f1-4f51-b2f5-c1b1f28bc4d4",
   "metadata": {},
   "outputs": [],
   "source": [
    "panel = co2_panel.merge(partner_attributes_duplicate, on = ['iso_d', 'TIME_PERIOD'], how = 'left')"
   ]
  },
  {
   "cell_type": "code",
   "execution_count": null,
   "id": "dd984b94-09e2-4d6b-b3da-814344a3d8d8",
   "metadata": {},
   "outputs": [],
   "source": [
    "panel.columns"
   ]
  },
  {
   "cell_type": "code",
   "execution_count": null,
   "id": "8ada0054-f051-4cb5-86fd-65bc91a3b141",
   "metadata": {},
   "outputs": [],
   "source": [
    "panel= panel.reset_index(drop=True)"
   ]
  },
  {
   "cell_type": "code",
   "execution_count": null,
   "id": "02368b58-e117-4772-b45c-4995f8555ccd",
   "metadata": {},
   "outputs": [],
   "source": [
    "panel.shape"
   ]
  },
  {
   "cell_type": "code",
   "execution_count": null,
   "id": "48027171-280a-4f82-a68b-054e4ab804a3",
   "metadata": {},
   "outputs": [],
   "source": [
    "panel.head(10)"
   ]
  },
  {
   "cell_type": "code",
   "execution_count": null,
   "id": "35a1a232-79da-405e-a27b-6741ff29f5ca",
   "metadata": {},
   "outputs": [],
   "source": [
    "panel.to_csv(\"../data/cleaned/panel.csv\", encoding = 'utf-8', index = False)"
   ]
  }
 ],
 "metadata": {
  "kernelspec": {
   "display_name": "Python 3 (ipykernel)",
   "language": "python",
   "name": "python3"
  },
  "language_info": {
   "codemirror_mode": {
    "name": "ipython",
    "version": 3
   },
   "file_extension": ".py",
   "mimetype": "text/x-python",
   "name": "python",
   "nbconvert_exporter": "python",
   "pygments_lexer": "ipython3",
   "version": "3.12.7"
  }
 },
 "nbformat": 4,
 "nbformat_minor": 5
}
