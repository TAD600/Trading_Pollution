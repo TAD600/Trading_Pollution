{
 "cells": [
  {
   "cell_type": "code",
   "execution_count": 1,
   "id": "6cb16dff-c9b3-473a-b051-ccd3c760a2ae",
   "metadata": {},
   "outputs": [],
   "source": [
    "import pandas as pd"
   ]
  },
  {
   "cell_type": "code",
   "execution_count": null,
   "id": "7f4e198c-1d7b-4273-b584-99c7b7906ebe",
   "metadata": {},
   "outputs": [],
   "source": []
  },
  {
   "cell_type": "code",
   "execution_count": null,
   "id": "8d34c9d5-bb6f-4c5c-954e-81b97837e218",
   "metadata": {},
   "outputs": [],
   "source": []
  },
  {
   "cell_type": "code",
   "execution_count": null,
   "id": "a807d8b4-ba73-4a17-8f23-1511ed4be8d9",
   "metadata": {},
   "outputs": [],
   "source": [
    "time_series = pd.read_csv("
   ]
  },
  {
   "cell_type": "code",
   "execution_count": null,
   "id": "13126de3-739a-4546-8c6f-1982ea59250e",
   "metadata": {},
   "outputs": [],
   "source": []
  },
  {
   "cell_type": "code",
   "execution_count": null,
   "id": "3e61793b-8667-4c1b-84eb-45fcacb6dda9",
   "metadata": {},
   "outputs": [],
   "source": []
  }
 ],
 "metadata": {
  "kernelspec": {
   "display_name": "Python 3 (ipykernel)",
   "language": "python",
   "name": "python3"
  },
  "language_info": {
   "codemirror_mode": {
    "name": "ipython",
    "version": 3
   },
   "file_extension": ".py",
   "mimetype": "text/x-python",
   "name": "python",
   "nbconvert_exporter": "python",
   "pygments_lexer": "ipython3",
   "version": "3.12.7"
  }
 },
 "nbformat": 4,
 "nbformat_minor": 5
}
