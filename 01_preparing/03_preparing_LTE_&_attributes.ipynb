{
 "cells": [
  {
   "cell_type": "code",
   "execution_count": 1,
   "id": "6cb16dff-c9b3-473a-b051-ccd3c760a2ae",
   "metadata": {},
   "outputs": [],
   "source": [
    "import pandas as pd"
   ]
  },
  {
   "cell_type": "markdown",
   "id": "651ac69b-b392-4100-b091-244895e417d2",
   "metadata": {},
   "source": [
    "This notebook,\n",
    "> 1. prepares LTE adoptation data in both edgelist and long format\n",
    "\n",
    "> Steps :\n",
    "    * LTE.xlsx file does not have country codes. This notebook meregd one WDI and LTE datasets to retains ISO_ALPHA codes.\n",
    "    * Reads `nodal_time_series.csv` file and retains the same 74 countries in the LTE data\n",
    "    * Stacks the year columns and makes the LTE data long format\n",
    "\n",
    "> 2. prepares country level attribute datasets\n",
    "\n",
    "> Steps:\n",
    "    * Merges the node level time series data with the LTE long format one and then splits it on the TIME_PERIOD column to make 21 attribute dataframes\n",
    "    * Merges country level fixed attribute data with the all of the attributeYEAR dataframes   "
   ]
  },
  {
   "cell_type": "code",
   "execution_count": 2,
   "id": "bcd8db4f-e855-4803-aeec-01797ecb5d87",
   "metadata": {},
   "outputs": [],
   "source": [
    "wdi = pd.read_csv(\"../data/raw/702e5907-a97c-4e0a-9f8f-511ea9b80ab0_Data.csv\")"
   ]
  },
  {
   "cell_type": "code",
   "execution_count": 3,
   "id": "7bf956d7-ddeb-46b6-a1c0-7e639c51ad6f",
   "metadata": {},
   "outputs": [],
   "source": [
    "wdi = wdi.rename(columns = {'Country Name': 'country'})\n",
    "wdi = wdi.rename(columns = {'Country Code': 'iso_o'})"
   ]
  },
  {
   "cell_type": "code",
   "execution_count": 4,
   "id": "acaa422d-73a1-43e7-ad9d-0c41c9f2c1ca",
   "metadata": {},
   "outputs": [],
   "source": [
    "wdi = wdi[['country', 'iso_o']]"
   ]
  },
  {
   "cell_type": "code",
   "execution_count": 42,
   "id": "872dfb72-f0f9-4361-980e-dbf6f65158df",
   "metadata": {},
   "outputs": [
    {
     "data": {
      "text/html": [
       "<div>\n",
       "<style scoped>\n",
       "    .dataframe tbody tr th:only-of-type {\n",
       "        vertical-align: middle;\n",
       "    }\n",
       "\n",
       "    .dataframe tbody tr th {\n",
       "        vertical-align: top;\n",
       "    }\n",
       "\n",
       "    .dataframe thead th {\n",
       "        text-align: right;\n",
       "    }\n",
       "</style>\n",
       "<table border=\"1\" class=\"dataframe\">\n",
       "  <thead>\n",
       "    <tr style=\"text-align: right;\">\n",
       "      <th></th>\n",
       "      <th>country</th>\n",
       "      <th>iso_o</th>\n",
       "    </tr>\n",
       "  </thead>\n",
       "  <tbody>\n",
       "    <tr>\n",
       "      <th>0</th>\n",
       "      <td>Afghanistan</td>\n",
       "      <td>AFG</td>\n",
       "    </tr>\n",
       "    <tr>\n",
       "      <th>1</th>\n",
       "      <td>Albania</td>\n",
       "      <td>ALB</td>\n",
       "    </tr>\n",
       "  </tbody>\n",
       "</table>\n",
       "</div>"
      ],
      "text/plain": [
       "       country iso_o\n",
       "0  Afghanistan   AFG\n",
       "1      Albania   ALB"
      ]
     },
     "execution_count": 42,
     "metadata": {},
     "output_type": "execute_result"
    }
   ],
   "source": [
    "wdi.head(2)"
   ]
  },
  {
   "cell_type": "code",
   "execution_count": 6,
   "id": "7f4e198c-1d7b-4273-b584-99c7b7906ebe",
   "metadata": {},
   "outputs": [],
   "source": [
    "lte = pd.read_excel(\"../data/raw/LTE.xlsx\")"
   ]
  },
  {
   "cell_type": "code",
   "execution_count": 7,
   "id": "8d34c9d5-bb6f-4c5c-954e-81b97837e218",
   "metadata": {},
   "outputs": [],
   "source": [
    "lte = lte.fillna(0)"
   ]
  },
  {
   "cell_type": "code",
   "execution_count": 8,
   "id": "5e6923fa-f47b-4e67-8917-1c478b5b3961",
   "metadata": {},
   "outputs": [
    {
     "data": {
      "text/plain": [
       "Index(['country',      2000,      2001,      2002,      2003,      2004,\n",
       "            2005,      2006,      2007,      2008,      2009,      2010,\n",
       "            2011,      2012,      2013,      2014,      2015,      2016,\n",
       "            2017,      2018,      2019,      2020],\n",
       "      dtype='object')"
      ]
     },
     "execution_count": 8,
     "metadata": {},
     "output_type": "execute_result"
    }
   ],
   "source": [
    "lte.columns"
   ]
  },
  {
   "cell_type": "code",
   "execution_count": 9,
   "id": "3ea9f37d-2c33-4e4d-b726-1fae61a995c8",
   "metadata": {},
   "outputs": [],
   "source": [
    "lte_iso = wdi.merge(lte, on = 'country', how = 'left')"
   ]
  },
  {
   "cell_type": "code",
   "execution_count": 10,
   "id": "8ec3efdd-d4f9-4b57-a179-8cb186e2a957",
   "metadata": {},
   "outputs": [],
   "source": [
    "#lte_iso.tail(10)"
   ]
  },
  {
   "cell_type": "code",
   "execution_count": 11,
   "id": "c21c2a66-4be7-44df-ae3b-0be72a5a3755",
   "metadata": {},
   "outputs": [
    {
     "data": {
      "text/html": [
       "<div>\n",
       "<style scoped>\n",
       "    .dataframe tbody tr th:only-of-type {\n",
       "        vertical-align: middle;\n",
       "    }\n",
       "\n",
       "    .dataframe tbody tr th {\n",
       "        vertical-align: top;\n",
       "    }\n",
       "\n",
       "    .dataframe thead th {\n",
       "        text-align: right;\n",
       "    }\n",
       "</style>\n",
       "<table border=\"1\" class=\"dataframe\">\n",
       "  <thead>\n",
       "    <tr style=\"text-align: right;\">\n",
       "      <th></th>\n",
       "      <th>country</th>\n",
       "      <th>iso_o</th>\n",
       "      <th>2000</th>\n",
       "      <th>2001</th>\n",
       "      <th>2002</th>\n",
       "      <th>2003</th>\n",
       "      <th>2004</th>\n",
       "      <th>2005</th>\n",
       "      <th>2006</th>\n",
       "      <th>2007</th>\n",
       "      <th>...</th>\n",
       "      <th>2011</th>\n",
       "      <th>2012</th>\n",
       "      <th>2013</th>\n",
       "      <th>2014</th>\n",
       "      <th>2015</th>\n",
       "      <th>2016</th>\n",
       "      <th>2017</th>\n",
       "      <th>2018</th>\n",
       "      <th>2019</th>\n",
       "      <th>2020</th>\n",
       "    </tr>\n",
       "  </thead>\n",
       "  <tbody>\n",
       "    <tr>\n",
       "      <th>89</th>\n",
       "      <td>India</td>\n",
       "      <td>IND</td>\n",
       "      <td>0.0</td>\n",
       "      <td>0.0</td>\n",
       "      <td>0.0</td>\n",
       "      <td>0.0</td>\n",
       "      <td>0.0</td>\n",
       "      <td>0.0</td>\n",
       "      <td>0.0</td>\n",
       "      <td>0.0</td>\n",
       "      <td>...</td>\n",
       "      <td>0.0</td>\n",
       "      <td>1.0</td>\n",
       "      <td>1.0</td>\n",
       "      <td>1.0</td>\n",
       "      <td>1.0</td>\n",
       "      <td>1.0</td>\n",
       "      <td>1.0</td>\n",
       "      <td>1.0</td>\n",
       "      <td>1.0</td>\n",
       "      <td>1.0</td>\n",
       "    </tr>\n",
       "  </tbody>\n",
       "</table>\n",
       "<p>1 rows × 23 columns</p>\n",
       "</div>"
      ],
      "text/plain": [
       "   country iso_o  2000  2001  2002  2003  2004  2005  2006  2007  ...  2011  \\\n",
       "89   India   IND   0.0   0.0   0.0   0.0   0.0   0.0   0.0   0.0  ...   0.0   \n",
       "\n",
       "    2012  2013  2014  2015  2016  2017  2018  2019  2020  \n",
       "89   1.0   1.0   1.0   1.0   1.0   1.0   1.0   1.0   1.0  \n",
       "\n",
       "[1 rows x 23 columns]"
      ]
     },
     "execution_count": 11,
     "metadata": {},
     "output_type": "execute_result"
    }
   ],
   "source": [
    "lte_iso[lte_iso['iso_o'] == 'IND']"
   ]
  },
  {
   "cell_type": "code",
   "execution_count": 12,
   "id": "fe0c014b-c90b-45bf-871c-66bb532114cb",
   "metadata": {},
   "outputs": [],
   "source": [
    "lte_iso = lte_iso.iloc[:265, :]"
   ]
  },
  {
   "cell_type": "code",
   "execution_count": 40,
   "id": "60a13c08-673f-46d3-bb71-72cf8bcccb23",
   "metadata": {},
   "outputs": [],
   "source": [
    "missing1 = lte_iso.isna().sum()\n",
    "#missing1"
   ]
  },
  {
   "cell_type": "code",
   "execution_count": 14,
   "id": "a807d8b4-ba73-4a17-8f23-1511ed4be8d9",
   "metadata": {},
   "outputs": [],
   "source": [
    "time_series = pd.read_csv(\"../data/cleaned/nodal_time_series.csv\")"
   ]
  },
  {
   "cell_type": "code",
   "execution_count": 15,
   "id": "59a13158-4939-417a-b9f0-e607388c604b",
   "metadata": {},
   "outputs": [],
   "source": [
    "countries = list(set(time_series['iso_o'].unique()))"
   ]
  },
  {
   "cell_type": "code",
   "execution_count": 16,
   "id": "85f154cc-ca0a-497b-b88a-22a5e3749a7d",
   "metadata": {},
   "outputs": [
    {
     "data": {
      "text/plain": [
       "74"
      ]
     },
     "execution_count": 16,
     "metadata": {},
     "output_type": "execute_result"
    }
   ],
   "source": [
    "len(countries)"
   ]
  },
  {
   "cell_type": "code",
   "execution_count": 17,
   "id": "e10aa11f-bcff-4987-a95d-31e9329c1ced",
   "metadata": {},
   "outputs": [],
   "source": [
    "lte_iso = lte_iso[lte_iso['iso_o'].isin(countries)]"
   ]
  },
  {
   "cell_type": "code",
   "execution_count": 18,
   "id": "798194ee-685d-4a0a-b5d3-10d51461704c",
   "metadata": {},
   "outputs": [
    {
     "data": {
      "text/plain": [
       "74"
      ]
     },
     "execution_count": 18,
     "metadata": {},
     "output_type": "execute_result"
    }
   ],
   "source": [
    "lte_iso['iso_o'].nunique()"
   ]
  },
  {
   "cell_type": "code",
   "execution_count": 32,
   "id": "dba8abf4-e292-4358-8980-90f234052cbb",
   "metadata": {},
   "outputs": [],
   "source": [
    "lte_iso = lte_iso.fillna(0)"
   ]
  },
  {
   "cell_type": "code",
   "execution_count": 33,
   "id": "083e6fd2-0b84-44f8-a145-3221244af48e",
   "metadata": {},
   "outputs": [],
   "source": [
    "lte_iso_long = lte_iso.set_index(['iso_o', 'country']).stack().reset_index()"
   ]
  },
  {
   "cell_type": "code",
   "execution_count": 51,
   "id": "4a8d5532-8133-4325-a4ad-dcdd04a51204",
   "metadata": {},
   "outputs": [
    {
     "data": {
      "text/html": [
       "<div>\n",
       "<style scoped>\n",
       "    .dataframe tbody tr th:only-of-type {\n",
       "        vertical-align: middle;\n",
       "    }\n",
       "\n",
       "    .dataframe tbody tr th {\n",
       "        vertical-align: top;\n",
       "    }\n",
       "\n",
       "    .dataframe thead th {\n",
       "        text-align: right;\n",
       "    }\n",
       "</style>\n",
       "<table border=\"1\" class=\"dataframe\">\n",
       "  <thead>\n",
       "    <tr style=\"text-align: right;\">\n",
       "      <th></th>\n",
       "      <th>iso_o</th>\n",
       "      <th>country</th>\n",
       "      <th>TIME_PERIOD</th>\n",
       "      <th>LTE</th>\n",
       "    </tr>\n",
       "  </thead>\n",
       "  <tbody>\n",
       "    <tr>\n",
       "      <th>0</th>\n",
       "      <td>ARG</td>\n",
       "      <td>Argentina</td>\n",
       "      <td>2000</td>\n",
       "      <td>0.0</td>\n",
       "    </tr>\n",
       "    <tr>\n",
       "      <th>1</th>\n",
       "      <td>ARG</td>\n",
       "      <td>Argentina</td>\n",
       "      <td>2001</td>\n",
       "      <td>0.0</td>\n",
       "    </tr>\n",
       "  </tbody>\n",
       "</table>\n",
       "</div>"
      ],
      "text/plain": [
       "  iso_o    country  TIME_PERIOD  LTE\n",
       "0   ARG  Argentina         2000  0.0\n",
       "1   ARG  Argentina         2001  0.0"
      ]
     },
     "execution_count": 51,
     "metadata": {},
     "output_type": "execute_result"
    }
   ],
   "source": [
    "lte_iso_long.head(2)"
   ]
  },
  {
   "cell_type": "code",
   "execution_count": 35,
   "id": "3f371dbe-fae6-4d57-a239-1ead1eb33fed",
   "metadata": {},
   "outputs": [],
   "source": [
    "lte_iso_long = lte_iso_long.rename(columns = {'level_2': 'TIME_PERIOD'})\n",
    "lte_iso_long = lte_iso_long.rename(columns = {0: 'LTE'})"
   ]
  },
  {
   "cell_type": "code",
   "execution_count": 36,
   "id": "4b44e1ae-43a1-4b1d-96c4-4111ec1af70c",
   "metadata": {},
   "outputs": [
    {
     "name": "stdout",
     "output_type": "stream",
     "text": [
      "74\n",
      "74\n",
      "21\n"
     ]
    }
   ],
   "source": [
    "print(lte_iso['iso_o'].nunique())\n",
    "print(lte_iso_long['iso_o'].nunique())\n",
    "print(lte_iso_long['TIME_PERIOD'].nunique())"
   ]
  },
  {
   "cell_type": "code",
   "execution_count": 39,
   "id": "b470fdac-a14c-4e2f-a897-a0a1951751d2",
   "metadata": {},
   "outputs": [],
   "source": [
    "# sanity check\n",
    "#lte_iso[lte_iso['iso_o'] == 'CIV']"
   ]
  },
  {
   "cell_type": "code",
   "execution_count": 49,
   "id": "00c51051-e27e-40bb-ba83-6fc492f10495",
   "metadata": {},
   "outputs": [
    {
     "data": {
      "text/html": [
       "<div>\n",
       "<style scoped>\n",
       "    .dataframe tbody tr th:only-of-type {\n",
       "        vertical-align: middle;\n",
       "    }\n",
       "\n",
       "    .dataframe tbody tr th {\n",
       "        vertical-align: top;\n",
       "    }\n",
       "\n",
       "    .dataframe thead th {\n",
       "        text-align: right;\n",
       "    }\n",
       "</style>\n",
       "<table border=\"1\" class=\"dataframe\">\n",
       "  <thead>\n",
       "    <tr style=\"text-align: right;\">\n",
       "      <th></th>\n",
       "      <th>iso_o</th>\n",
       "      <th>time_period</th>\n",
       "      <th>internet</th>\n",
       "      <th>gdp_pct</th>\n",
       "      <th>schooling</th>\n",
       "      <th>log_gdp_pct</th>\n",
       "      <th>country_id</th>\n",
       "      <th>D_log_gdp_pct</th>\n",
       "      <th>D_internet</th>\n",
       "    </tr>\n",
       "  </thead>\n",
       "  <tbody>\n",
       "    <tr>\n",
       "      <th>1</th>\n",
       "      <td>ARG</td>\n",
       "      <td>2000</td>\n",
       "      <td>7.04</td>\n",
       "      <td>10631.65</td>\n",
       "      <td>15.68757</td>\n",
       "      <td>9.271591</td>\n",
       "      <td>ARG</td>\n",
       "      <td>-0.019252</td>\n",
       "      <td>3.76</td>\n",
       "    </tr>\n",
       "    <tr>\n",
       "      <th>2</th>\n",
       "      <td>ARG</td>\n",
       "      <td>2001</td>\n",
       "      <td>9.78</td>\n",
       "      <td>10051.94</td>\n",
       "      <td>16.30578</td>\n",
       "      <td>9.215521</td>\n",
       "      <td>ARG</td>\n",
       "      <td>-0.056070</td>\n",
       "      <td>2.74</td>\n",
       "    </tr>\n",
       "  </tbody>\n",
       "</table>\n",
       "</div>"
      ],
      "text/plain": [
       "  iso_o  time_period  internet   gdp_pct  schooling  log_gdp_pct country_id  \\\n",
       "1   ARG         2000      7.04  10631.65   15.68757     9.271591        ARG   \n",
       "2   ARG         2001      9.78  10051.94   16.30578     9.215521        ARG   \n",
       "\n",
       "   D_log_gdp_pct  D_internet  \n",
       "1      -0.019252        3.76  \n",
       "2      -0.056070        2.74  "
      ]
     },
     "execution_count": 49,
     "metadata": {},
     "output_type": "execute_result"
    }
   ],
   "source": [
    "time_series.head(2)"
   ]
  },
  {
   "cell_type": "code",
   "execution_count": 48,
   "id": "088418f9-5202-4163-bc8b-6893c8faf934",
   "metadata": {},
   "outputs": [],
   "source": [
    "# removing 1999 from time_series dataframe\n",
    "time_series = time_series[time_series['time_period'] != 1999]"
   ]
  },
  {
   "cell_type": "code",
   "execution_count": 50,
   "id": "0034d282-db6f-48de-95de-ca1da3e303b6",
   "metadata": {},
   "outputs": [],
   "source": [
    "time_series= time_series.rename(columns = {'time_period': 'TIME_PERIOD'})\n",
    "time_series= time_series.drop(columns = 'country_id')"
   ]
  },
  {
   "cell_type": "code",
   "execution_count": 53,
   "id": "08bcfa62-98f8-4056-b454-de33aca06da5",
   "metadata": {},
   "outputs": [],
   "source": [
    "merged1 = lte_iso_long.merge(time_series, on = ['iso_o', 'TIME_PERIOD'], how = 'left')"
   ]
  },
  {
   "cell_type": "code",
   "execution_count": 56,
   "id": "ed33786d-a885-44f4-9869-fdd37bd4fb5c",
   "metadata": {},
   "outputs": [
    {
     "data": {
      "text/html": [
       "<div>\n",
       "<style scoped>\n",
       "    .dataframe tbody tr th:only-of-type {\n",
       "        vertical-align: middle;\n",
       "    }\n",
       "\n",
       "    .dataframe tbody tr th {\n",
       "        vertical-align: top;\n",
       "    }\n",
       "\n",
       "    .dataframe thead th {\n",
       "        text-align: right;\n",
       "    }\n",
       "</style>\n",
       "<table border=\"1\" class=\"dataframe\">\n",
       "  <thead>\n",
       "    <tr style=\"text-align: right;\">\n",
       "      <th></th>\n",
       "      <th>iso_o</th>\n",
       "      <th>country</th>\n",
       "      <th>TIME_PERIOD</th>\n",
       "      <th>LTE</th>\n",
       "      <th>internet</th>\n",
       "      <th>gdp_pct</th>\n",
       "      <th>schooling</th>\n",
       "      <th>log_gdp_pct</th>\n",
       "      <th>D_log_gdp_pct</th>\n",
       "      <th>D_internet</th>\n",
       "    </tr>\n",
       "  </thead>\n",
       "  <tbody>\n",
       "    <tr>\n",
       "      <th>0</th>\n",
       "      <td>ARG</td>\n",
       "      <td>Argentina</td>\n",
       "      <td>2000</td>\n",
       "      <td>0.0</td>\n",
       "      <td>7.04</td>\n",
       "      <td>10631.6500</td>\n",
       "      <td>15.687570</td>\n",
       "      <td>9.271591</td>\n",
       "      <td>-0.019252</td>\n",
       "      <td>3.76</td>\n",
       "    </tr>\n",
       "    <tr>\n",
       "      <th>1</th>\n",
       "      <td>ARG</td>\n",
       "      <td>Argentina</td>\n",
       "      <td>2001</td>\n",
       "      <td>0.0</td>\n",
       "      <td>9.78</td>\n",
       "      <td>10051.9400</td>\n",
       "      <td>16.305780</td>\n",
       "      <td>9.215521</td>\n",
       "      <td>-0.056070</td>\n",
       "      <td>2.74</td>\n",
       "    </tr>\n",
       "    <tr>\n",
       "      <th>2</th>\n",
       "      <td>ARG</td>\n",
       "      <td>Argentina</td>\n",
       "      <td>2002</td>\n",
       "      <td>0.0</td>\n",
       "      <td>10.90</td>\n",
       "      <td>8861.5596</td>\n",
       "      <td>16.392509</td>\n",
       "      <td>9.089479</td>\n",
       "      <td>-0.126042</td>\n",
       "      <td>1.12</td>\n",
       "    </tr>\n",
       "  </tbody>\n",
       "</table>\n",
       "</div>"
      ],
      "text/plain": [
       "  iso_o    country  TIME_PERIOD  LTE  internet     gdp_pct  schooling  \\\n",
       "0   ARG  Argentina         2000  0.0      7.04  10631.6500  15.687570   \n",
       "1   ARG  Argentina         2001  0.0      9.78  10051.9400  16.305780   \n",
       "2   ARG  Argentina         2002  0.0     10.90   8861.5596  16.392509   \n",
       "\n",
       "   log_gdp_pct  D_log_gdp_pct  D_internet  \n",
       "0     9.271591      -0.019252        3.76  \n",
       "1     9.215521      -0.056070        2.74  \n",
       "2     9.089479      -0.126042        1.12  "
      ]
     },
     "execution_count": 56,
     "metadata": {},
     "output_type": "execute_result"
    }
   ],
   "source": [
    "merged1.head(3)"
   ]
  },
  {
   "cell_type": "code",
   "execution_count": 57,
   "id": "3b0aabfc-f2a5-4aa7-9fee-d25cc8599f54",
   "metadata": {},
   "outputs": [],
   "source": [
    "merged1.to_csv(\"../data/cleaned/nodal_time_series.csv\", encoding = 'utf-8', index = False)\n",
    "lte_iso.to_csv(\"../data/cleaned/LTE.csv\", encoding = 'utf-8', index = False)\n",
    "lte_iso_long.to_csv(\"../data/cleaned/LTE_long.csv\", encoding = 'utf-8', index = False)"
   ]
  },
  {
   "cell_type": "markdown",
   "id": "84bcd4ee-1615-419e-b49c-4ddd5987ef61",
   "metadata": {},
   "source": [
    "#### Country level attribute data"
   ]
  },
  {
   "cell_type": "code",
   "execution_count": 58,
   "id": "afc99822-7ab6-49ce-a4eb-46871db4e7b2",
   "metadata": {},
   "outputs": [],
   "source": [
    "merged1 = merged1.sort_values('TIME_PERIOD')"
   ]
  },
  {
   "cell_type": "code",
   "execution_count": 60,
   "id": "3e61793b-8667-4c1b-84eb-45fcacb6dda9",
   "metadata": {},
   "outputs": [
    {
     "data": {
      "text/html": [
       "<div>\n",
       "<style scoped>\n",
       "    .dataframe tbody tr th:only-of-type {\n",
       "        vertical-align: middle;\n",
       "    }\n",
       "\n",
       "    .dataframe tbody tr th {\n",
       "        vertical-align: top;\n",
       "    }\n",
       "\n",
       "    .dataframe thead th {\n",
       "        text-align: right;\n",
       "    }\n",
       "</style>\n",
       "<table border=\"1\" class=\"dataframe\">\n",
       "  <thead>\n",
       "    <tr style=\"text-align: right;\">\n",
       "      <th></th>\n",
       "      <th>iso_o</th>\n",
       "      <th>country</th>\n",
       "      <th>TIME_PERIOD</th>\n",
       "      <th>LTE</th>\n",
       "      <th>internet</th>\n",
       "      <th>gdp_pct</th>\n",
       "      <th>schooling</th>\n",
       "      <th>log_gdp_pct</th>\n",
       "      <th>D_log_gdp_pct</th>\n",
       "      <th>D_internet</th>\n",
       "    </tr>\n",
       "  </thead>\n",
       "  <tbody>\n",
       "    <tr>\n",
       "      <th>76</th>\n",
       "      <td>BGD</td>\n",
       "      <td>Bangladesh</td>\n",
       "      <td>2013</td>\n",
       "      <td>1.0</td>\n",
       "      <td>6.63</td>\n",
       "      <td>1103.16</td>\n",
       "      <td>10.348932</td>\n",
       "      <td>7.005934</td>\n",
       "      <td>0.049017</td>\n",
       "      <td>1.63</td>\n",
       "    </tr>\n",
       "  </tbody>\n",
       "</table>\n",
       "</div>"
      ],
      "text/plain": [
       "   iso_o     country  TIME_PERIOD  LTE  internet  gdp_pct  schooling  \\\n",
       "76   BGD  Bangladesh         2013  1.0      6.63  1103.16  10.348932   \n",
       "\n",
       "    log_gdp_pct  D_log_gdp_pct  D_internet  \n",
       "76     7.005934       0.049017        1.63  "
      ]
     },
     "execution_count": 60,
     "metadata": {},
     "output_type": "execute_result"
    }
   ],
   "source": [
    "merged1[(merged1['TIME_PERIOD'] == 2013) & (merged1['iso_o'] == 'BGD')]"
   ]
  },
  {
   "cell_type": "code",
   "execution_count": 62,
   "id": "0471db85-d89c-4a1a-89fd-8d0eea1a2692",
   "metadata": {},
   "outputs": [],
   "source": [
    "attribute2000 = merged1[merged1['TIME_PERIOD'] == 2000].sort_values('iso_o').reset_index(drop = True)"
   ]
  },
  {
   "cell_type": "code",
   "execution_count": 63,
   "id": "3b8e11d3-da49-4c02-976e-6c1c7c7a77f2",
   "metadata": {},
   "outputs": [
    {
     "data": {
      "text/html": [
       "<div>\n",
       "<style scoped>\n",
       "    .dataframe tbody tr th:only-of-type {\n",
       "        vertical-align: middle;\n",
       "    }\n",
       "\n",
       "    .dataframe tbody tr th {\n",
       "        vertical-align: top;\n",
       "    }\n",
       "\n",
       "    .dataframe thead th {\n",
       "        text-align: right;\n",
       "    }\n",
       "</style>\n",
       "<table border=\"1\" class=\"dataframe\">\n",
       "  <thead>\n",
       "    <tr style=\"text-align: right;\">\n",
       "      <th></th>\n",
       "      <th>iso_o</th>\n",
       "      <th>country</th>\n",
       "      <th>TIME_PERIOD</th>\n",
       "      <th>LTE</th>\n",
       "      <th>internet</th>\n",
       "      <th>gdp_pct</th>\n",
       "      <th>schooling</th>\n",
       "      <th>log_gdp_pct</th>\n",
       "      <th>D_log_gdp_pct</th>\n",
       "      <th>D_internet</th>\n",
       "    </tr>\n",
       "  </thead>\n",
       "  <tbody>\n",
       "    <tr>\n",
       "      <th>4</th>\n",
       "      <td>BGD</td>\n",
       "      <td>Bangladesh</td>\n",
       "      <td>2000</td>\n",
       "      <td>0.0</td>\n",
       "      <td>0.07</td>\n",
       "      <td>620.56</td>\n",
       "      <td>7.566327</td>\n",
       "      <td>6.430622</td>\n",
       "      <td>0.033309</td>\n",
       "      <td>0.03</td>\n",
       "    </tr>\n",
       "  </tbody>\n",
       "</table>\n",
       "</div>"
      ],
      "text/plain": [
       "  iso_o     country  TIME_PERIOD  LTE  internet  gdp_pct  schooling  \\\n",
       "4   BGD  Bangladesh         2000  0.0      0.07   620.56   7.566327   \n",
       "\n",
       "   log_gdp_pct  D_log_gdp_pct  D_internet  \n",
       "4     6.430622       0.033309        0.03  "
      ]
     },
     "execution_count": 63,
     "metadata": {},
     "output_type": "execute_result"
    }
   ],
   "source": [
    "# sanity check\n",
    "attribute2000[attribute2000['iso_o'] == 'BGD']"
   ]
  },
  {
   "cell_type": "code",
   "execution_count": 64,
   "id": "fe41ccf1-a896-4361-8806-81d0d57e7528",
   "metadata": {},
   "outputs": [
    {
     "data": {
      "text/plain": [
       "74"
      ]
     },
     "execution_count": 64,
     "metadata": {},
     "output_type": "execute_result"
    }
   ],
   "source": [
    "attribute2000['iso_o'].nunique()"
   ]
  },
  {
   "cell_type": "code",
   "execution_count": null,
   "id": "76740ffd-06ff-4f02-9b20-7a01640ac7e5",
   "metadata": {},
   "outputs": [],
   "source": [
    "# sanity check\n",
    "time_series[(time_series['TIME_PERIOD'] == 2000) & (time_series['iso_o'] == 'BGD')]"
   ]
  },
  {
   "cell_type": "code",
   "execution_count": 65,
   "id": "f210bb07-eb4b-4c2b-bf7d-53b2c5a5749d",
   "metadata": {},
   "outputs": [],
   "source": [
    "attribute2001 = merged1[merged1['TIME_PERIOD'] == 2001].sort_values('iso_o').reset_index(drop = True)\n",
    "attribute2002 = merged1[merged1['TIME_PERIOD'] == 2002].sort_values('iso_o').reset_index(drop = True)\n",
    "attribute2003 = merged1[merged1['TIME_PERIOD'] == 2003].sort_values('iso_o').reset_index(drop = True)\n",
    "attribute2004 = merged1[merged1['TIME_PERIOD'] == 2004].sort_values('iso_o').reset_index(drop = True)\n",
    "attribute2005 = merged1[merged1['TIME_PERIOD'] == 2005].sort_values('iso_o').reset_index(drop = True)\n",
    "attribute2006 = merged1[merged1['TIME_PERIOD'] == 2006].sort_values('iso_o').reset_index(drop = True)\n",
    "attribute2007 = merged1[merged1['TIME_PERIOD'] == 2007].sort_values('iso_o').reset_index(drop = True)\n",
    "attribute2008 = merged1[merged1['TIME_PERIOD'] == 2008].sort_values('iso_o').reset_index(drop = True)\n",
    "attribute2009 = merged1[merged1['TIME_PERIOD'] == 2009].sort_values('iso_o').reset_index(drop = True)\n",
    "attribute2010 = merged1[merged1['TIME_PERIOD'] == 2010].sort_values('iso_o').reset_index(drop = True)\n",
    "attribute2011 = merged1[merged1['TIME_PERIOD'] == 2011].sort_values('iso_o').reset_index(drop = True)\n",
    "attribute2012 = merged1[merged1['TIME_PERIOD'] == 2012].sort_values('iso_o').reset_index(drop = True)\n",
    "attribute2013 = merged1[merged1['TIME_PERIOD'] == 2013].sort_values('iso_o').reset_index(drop = True)\n",
    "attribute2014 = merged1[merged1['TIME_PERIOD'] == 2014].sort_values('iso_o').reset_index(drop = True)\n",
    "attribute2015 = merged1[merged1['TIME_PERIOD'] == 2015].sort_values('iso_o').reset_index(drop = True)\n",
    "attribute2016 = merged1[merged1['TIME_PERIOD'] == 2016].sort_values('iso_o').reset_index(drop = True)\n",
    "attribute2017 = merged1[merged1['TIME_PERIOD'] == 2017].sort_values('iso_o').reset_index(drop = True)\n",
    "attribute2018 = merged1[merged1['TIME_PERIOD'] == 2018].sort_values('iso_o').reset_index(drop = True)\n",
    "attribute2019 = merged1[merged1['TIME_PERIOD'] == 2019].sort_values('iso_o').reset_index(drop = True)\n",
    "attribute2020 = merged1[merged1['TIME_PERIOD'] == 2020].sort_values('iso_o').reset_index(drop = True)"
   ]
  },
  {
   "cell_type": "code",
   "execution_count": 66,
   "id": "b6eb4018-2f9f-4c29-a95d-489b5bff02bc",
   "metadata": {},
   "outputs": [
    {
     "data": {
      "text/plain": [
       "(74, 10)"
      ]
     },
     "execution_count": 66,
     "metadata": {},
     "output_type": "execute_result"
    }
   ],
   "source": [
    "attribute2020.shape"
   ]
  },
  {
   "cell_type": "code",
   "execution_count": 67,
   "id": "258fb0a8-63b9-48e9-bd97-2f3704b43904",
   "metadata": {},
   "outputs": [
    {
     "data": {
      "text/plain": [
       "(74, 10)"
      ]
     },
     "execution_count": 67,
     "metadata": {},
     "output_type": "execute_result"
    }
   ],
   "source": [
    "attribute2020.shape"
   ]
  },
  {
   "cell_type": "code",
   "execution_count": 70,
   "id": "e30ee4ee-5311-4c14-94e5-1a6d2876ce7b",
   "metadata": {},
   "outputs": [],
   "source": [
    "node_fix = pd.read_csv(\"../data/cleaned/nodal_fixed.csv\")"
   ]
  },
  {
   "cell_type": "code",
   "execution_count": 73,
   "id": "275f88f4-74d0-4065-bc99-20734defa7f0",
   "metadata": {},
   "outputs": [
    {
     "data": {
      "text/html": [
       "<div>\n",
       "<style scoped>\n",
       "    .dataframe tbody tr th:only-of-type {\n",
       "        vertical-align: middle;\n",
       "    }\n",
       "\n",
       "    .dataframe tbody tr th {\n",
       "        vertical-align: top;\n",
       "    }\n",
       "\n",
       "    .dataframe thead th {\n",
       "        text-align: right;\n",
       "    }\n",
       "</style>\n",
       "<table border=\"1\" class=\"dataframe\">\n",
       "  <thead>\n",
       "    <tr style=\"text-align: right;\">\n",
       "      <th></th>\n",
       "      <th>iso_o</th>\n",
       "      <th>country</th>\n",
       "      <th>landlocked</th>\n",
       "      <th>continent</th>\n",
       "      <th>lat</th>\n",
       "      <th>lon</th>\n",
       "      <th>langoff_1</th>\n",
       "      <th>colonizer1</th>\n",
       "      <th>category</th>\n",
       "      <th>development</th>\n",
       "    </tr>\n",
       "  </thead>\n",
       "  <tbody>\n",
       "    <tr>\n",
       "      <th>0</th>\n",
       "      <td>ARG</td>\n",
       "      <td>Argentina</td>\n",
       "      <td>0</td>\n",
       "      <td>America</td>\n",
       "      <td>-34.666668</td>\n",
       "      <td>-58.500000</td>\n",
       "      <td>Spanish</td>\n",
       "      <td>ESP</td>\n",
       "      <td>Emerging and Developing Economies</td>\n",
       "      <td>0.0</td>\n",
       "    </tr>\n",
       "    <tr>\n",
       "      <th>1</th>\n",
       "      <td>AUT</td>\n",
       "      <td>Austria</td>\n",
       "      <td>1</td>\n",
       "      <td>Europe</td>\n",
       "      <td>48.216667</td>\n",
       "      <td>16.366667</td>\n",
       "      <td>German</td>\n",
       "      <td>NaN</td>\n",
       "      <td>Advanced Economies</td>\n",
       "      <td>1.0</td>\n",
       "    </tr>\n",
       "  </tbody>\n",
       "</table>\n",
       "</div>"
      ],
      "text/plain": [
       "  iso_o    country  landlocked continent        lat        lon langoff_1  \\\n",
       "0   ARG  Argentina           0   America -34.666668 -58.500000   Spanish   \n",
       "1   AUT    Austria           1    Europe  48.216667  16.366667    German   \n",
       "\n",
       "  colonizer1                           category  development  \n",
       "0        ESP  Emerging and Developing Economies          0.0  \n",
       "1        NaN                 Advanced Economies          1.0  "
      ]
     },
     "execution_count": 73,
     "metadata": {},
     "output_type": "execute_result"
    }
   ],
   "source": [
    "node_fix.head(2)"
   ]
  },
  {
   "cell_type": "code",
   "execution_count": 72,
   "id": "06226a59-dc08-43b8-a180-f8c0bb2a8b3b",
   "metadata": {},
   "outputs": [],
   "source": [
    "at2000_fix = attribute2000.merge(node_fix, on = ['iso_o'], how = 'left')\n",
    "at2001_fix = attribute2001.merge(node_fix, on = ['iso_o'], how = 'left')\n",
    "at2002_fix = attribute2002.merge(node_fix, on = ['iso_o'], how = 'left')\n",
    "at2003_fix = attribute2003.merge(node_fix, on = ['iso_o'], how = 'left')\n",
    "at2004_fix = attribute2004.merge(node_fix, on = ['iso_o'], how = 'left')\n",
    "at2005_fix = attribute2005.merge(node_fix, on = ['iso_o'], how = 'left')\n",
    "at2006_fix = attribute2006.merge(node_fix, on = ['iso_o'], how = 'left')\n",
    "at2007_fix = attribute2007.merge(node_fix, on = ['iso_o'], how = 'left')\n",
    "at2008_fix = attribute2008.merge(node_fix, on = ['iso_o'], how = 'left')\n",
    "at2009_fix = attribute2009.merge(node_fix, on = ['iso_o'], how = 'left')\n",
    "at2010_fix = attribute2010.merge(node_fix, on = ['iso_o'], how = 'left')\n",
    "at2011_fix = attribute2011.merge(node_fix, on = ['iso_o'], how = 'left')\n",
    "at2012_fix = attribute2012.merge(node_fix, on = ['iso_o'], how = 'left')\n",
    "at2013_fix = attribute2013.merge(node_fix, on = ['iso_o'], how = 'left')\n",
    "at2014_fix = attribute2014.merge(node_fix, on = ['iso_o'], how = 'left')\n",
    "at2015_fix = attribute2015.merge(node_fix, on = ['iso_o'], how = 'left')\n",
    "at2016_fix = attribute2016.merge(node_fix, on = ['iso_o'], how = 'left')\n",
    "at2017_fix = attribute2017.merge(node_fix, on = ['iso_o'], how = 'left')\n",
    "at2018_fix = attribute2018.merge(node_fix, on = ['iso_o'], how = 'left')\n",
    "at2019_fix = attribute2019.merge(node_fix, on = ['iso_o'], how = 'left')\n",
    "at2020_fix = attribute2020.merge(node_fix, on = ['iso_o'], how = 'left')"
   ]
  },
  {
   "cell_type": "code",
   "execution_count": 74,
   "id": "e2007eaf-593a-4794-8acb-2a7371eec827",
   "metadata": {},
   "outputs": [
    {
     "data": {
      "text/plain": [
       "(74, 19)"
      ]
     },
     "execution_count": 74,
     "metadata": {},
     "output_type": "execute_result"
    }
   ],
   "source": [
    "at2020_fix.shape"
   ]
  },
  {
   "cell_type": "code",
   "execution_count": 75,
   "id": "262e04ff-5e7a-47a8-a90f-d4f2895f82d1",
   "metadata": {},
   "outputs": [
    {
     "data": {
      "text/html": [
       "<div>\n",
       "<style scoped>\n",
       "    .dataframe tbody tr th:only-of-type {\n",
       "        vertical-align: middle;\n",
       "    }\n",
       "\n",
       "    .dataframe tbody tr th {\n",
       "        vertical-align: top;\n",
       "    }\n",
       "\n",
       "    .dataframe thead th {\n",
       "        text-align: right;\n",
       "    }\n",
       "</style>\n",
       "<table border=\"1\" class=\"dataframe\">\n",
       "  <thead>\n",
       "    <tr style=\"text-align: right;\">\n",
       "      <th></th>\n",
       "      <th>iso_o</th>\n",
       "      <th>country_x</th>\n",
       "      <th>TIME_PERIOD</th>\n",
       "      <th>LTE</th>\n",
       "      <th>internet</th>\n",
       "      <th>gdp_pct</th>\n",
       "      <th>schooling</th>\n",
       "      <th>log_gdp_pct</th>\n",
       "      <th>D_log_gdp_pct</th>\n",
       "      <th>D_internet</th>\n",
       "      <th>country_y</th>\n",
       "      <th>landlocked</th>\n",
       "      <th>continent</th>\n",
       "      <th>lat</th>\n",
       "      <th>lon</th>\n",
       "      <th>langoff_1</th>\n",
       "      <th>colonizer1</th>\n",
       "      <th>category</th>\n",
       "      <th>development</th>\n",
       "    </tr>\n",
       "  </thead>\n",
       "  <tbody>\n",
       "    <tr>\n",
       "      <th>0</th>\n",
       "      <td>ARG</td>\n",
       "      <td>Argentina</td>\n",
       "      <td>2020</td>\n",
       "      <td>1.0</td>\n",
       "      <td>85.500000</td>\n",
       "      <td>11393.050</td>\n",
       "      <td>18.36116</td>\n",
       "      <td>9.340758</td>\n",
       "      <td>-0.109103</td>\n",
       "      <td>5.599998</td>\n",
       "      <td>Argentina</td>\n",
       "      <td>0</td>\n",
       "      <td>America</td>\n",
       "      <td>-34.666668</td>\n",
       "      <td>-58.500</td>\n",
       "      <td>Spanish</td>\n",
       "      <td>ESP</td>\n",
       "      <td>Emerging and Developing Economies</td>\n",
       "      <td>0.0</td>\n",
       "    </tr>\n",
       "    <tr>\n",
       "      <th>1</th>\n",
       "      <td>AUS</td>\n",
       "      <td>Australia</td>\n",
       "      <td>2020</td>\n",
       "      <td>1.0</td>\n",
       "      <td>94.699997</td>\n",
       "      <td>58132.801</td>\n",
       "      <td>20.93944</td>\n",
       "      <td>10.970486</td>\n",
       "      <td>-0.013531</td>\n",
       "      <td>1.099999</td>\n",
       "      <td>Australia</td>\n",
       "      <td>0</td>\n",
       "      <td>Pacific</td>\n",
       "      <td>-35.299999</td>\n",
       "      <td>149.133</td>\n",
       "      <td>English</td>\n",
       "      <td>GBR</td>\n",
       "      <td>Advanced Economies</td>\n",
       "      <td>1.0</td>\n",
       "    </tr>\n",
       "  </tbody>\n",
       "</table>\n",
       "</div>"
      ],
      "text/plain": [
       "  iso_o  country_x  TIME_PERIOD  LTE   internet    gdp_pct  schooling  \\\n",
       "0   ARG  Argentina         2020  1.0  85.500000  11393.050   18.36116   \n",
       "1   AUS  Australia         2020  1.0  94.699997  58132.801   20.93944   \n",
       "\n",
       "   log_gdp_pct  D_log_gdp_pct  D_internet  country_y  landlocked continent  \\\n",
       "0     9.340758      -0.109103    5.599998  Argentina           0   America   \n",
       "1    10.970486      -0.013531    1.099999  Australia           0   Pacific   \n",
       "\n",
       "         lat      lon langoff_1 colonizer1                           category  \\\n",
       "0 -34.666668  -58.500   Spanish        ESP  Emerging and Developing Economies   \n",
       "1 -35.299999  149.133   English        GBR                 Advanced Economies   \n",
       "\n",
       "   development  \n",
       "0          0.0  \n",
       "1          1.0  "
      ]
     },
     "execution_count": 75,
     "metadata": {},
     "output_type": "execute_result"
    }
   ],
   "source": [
    "at2020_fix.head(2)"
   ]
  },
  {
   "cell_type": "code",
   "execution_count": 76,
   "id": "f5fd0d76-1e26-4793-bd70-7df8784b17ad",
   "metadata": {},
   "outputs": [],
   "source": [
    "at2000_fix.to_csv(\"../data/cleaned/attribute2000.csv\", encoding = 'utf-8', index = False)\n",
    "at2001_fix.to_csv(\"../data/cleaned/attribute2001.csv\", encoding = 'utf-8', index = False)\n",
    "at2002_fix.to_csv(\"../data/cleaned/attribute2002.csv\", encoding = 'utf-8', index = False)\n",
    "at2003_fix.to_csv(\"../data/cleaned/attribute2003.csv\", encoding = 'utf-8', index = False)\n",
    "at2004_fix.to_csv(\"../data/cleaned/attribute2004.csv\", encoding = 'utf-8', index = False)\n",
    "at2005_fix.to_csv(\"../data/cleaned/attribute2005.csv\", encoding = 'utf-8', index = False)\n",
    "at2006_fix.to_csv(\"../data/cleaned/attribute2006.csv\", encoding = 'utf-8', index = False)\n",
    "at2007_fix.to_csv(\"../data/cleaned/attribute2007.csv\", encoding = 'utf-8', index = False)\n",
    "at2008_fix.to_csv(\"../data/cleaned/attribute2008.csv\", encoding = 'utf-8', index = False)\n",
    "at2009_fix.to_csv(\"../data/cleaned/attribute2009.csv\", encoding = 'utf-8', index = False)\n",
    "at2010_fix.to_csv(\"../data/cleaned/attribute2010.csv\", encoding = 'utf-8', index = False)\n",
    "at2011_fix.to_csv(\"../data/cleaned/attribute2011.csv\", encoding = 'utf-8', index = False)\n",
    "at2012_fix.to_csv(\"../data/cleaned/attribute2012.csv\", encoding = 'utf-8', index = False)\n",
    "at2013_fix.to_csv(\"../data/cleaned/attribute2013.csv\", encoding = 'utf-8', index = False)\n",
    "at2014_fix.to_csv(\"../data/cleaned/attribute2014.csv\", encoding = 'utf-8', index = False)\n",
    "at2015_fix.to_csv(\"../data/cleaned/attribute2015.csv\", encoding = 'utf-8', index = False)\n",
    "at2016_fix.to_csv(\"../data/cleaned/attribute2016.csv\", encoding = 'utf-8', index = False)\n",
    "at2017_fix.to_csv(\"../data/cleaned/attribute2017.csv\", encoding = 'utf-8', index = False)\n",
    "at2018_fix.to_csv(\"../data/cleaned/attribute2018.csv\", encoding = 'utf-8', index = False)\n",
    "at2019_fix.to_csv(\"../data/cleaned/attribute2019.csv\", encoding = 'utf-8', index = False)\n",
    "at2020_fix.to_csv(\"../data/cleaned/attribute2020.csv\", encoding = 'utf-8', index = False)"
   ]
  },
  {
   "cell_type": "code",
   "execution_count": null,
   "id": "feda1d29-cbe8-4fb3-949b-35ba31505c1c",
   "metadata": {},
   "outputs": [],
   "source": []
  }
 ],
 "metadata": {
  "kernelspec": {
   "display_name": "Python 3 (ipykernel)",
   "language": "python",
   "name": "python3"
  },
  "language_info": {
   "codemirror_mode": {
    "name": "ipython",
    "version": 3
   },
   "file_extension": ".py",
   "mimetype": "text/x-python",
   "name": "python",
   "nbconvert_exporter": "python",
   "pygments_lexer": "ipython3",
   "version": "3.12.7"
  }
 },
 "nbformat": 4,
 "nbformat_minor": 5
}
